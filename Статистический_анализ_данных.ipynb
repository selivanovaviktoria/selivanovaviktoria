{
  "cells": [
    {
      "cell_type": "markdown",
      "id": "e239749d",
      "metadata": {
        "id": "e239749d"
      },
      "source": [
        "# Статистический анализ данных сервиса аренды самокатов"
      ]
    },
    {
      "cell_type": "markdown",
      "id": "cd389efe",
      "metadata": {
        "id": "cd389efe"
      },
      "source": [
        "GoFast - популярный сервис для аренды самокатов, в нашем распоряжении данные о пользователях сервиса и их поездах.  \n",
        "Совершать поездки можно с помощью мобильного приложения с подпиской ultra или без неё (от этого зависит принцип расчёта стоимости поездки).  \n",
        "Необходимо проанализировать:  \n",
        "- Частоту встречаемости городов (пользователи из каких городов и в каком соотнощении представлены в наборе данных);  \n",
        "- Соотношение количества пользователей с подпиской и без;  \n",
        "- Распределение пользователей по возрасту;  \n",
        "- Расстояние, которое пользователи преодолевают в течение одной поездки;  \n",
        "- Длительность поездки.  \n",
        "\n",
        "Посредством проверки статистических гипотез необходимо выяснить:  \n",
        "- Тратят ли пользователи с подпиской больше времени на поездки?  \n",
        "- Можно ли сказать, что расстояние, которое проезжают пользователи с подпиской за одну поездку, не превышает 3130 метров?  \n",
        "- Будет ли помесячная выручка от пользователей с подпиской по месяцам выше, чем выручка от пользователей без подписки?\n",
        "\n",
        "Данные о пользователях содержатся в датасете users:\n",
        "- `user_id` — идентификатор пользователя;\n",
        "- `name` — имя;  \n",
        "- `age` — возраст;  \n",
        "- `city` — город;\n",
        "- `subscription_type` — тип подписки;\n",
        "\n",
        "Информация о поездках отражена в rides:  \n",
        "- `user_id` — идентификатор пользователя;  \n",
        "- `distance` — расстояние, которое пользователь проехал в течение одной сессии (м.);  \n",
        "- `duration` — продолжительность поездки (мин.);  \n",
        "- `date` — дата совершения поездки;  \n",
        "\n",
        "Тарифы подписок представлены в subscriptions:\n",
        "- `subscription_type` — тип подписки;  \n",
        "- `minute_price` — стоимость одной минуты поездки;  \n",
        "- `start_ride_price` — стоимость начала поездки;  \n",
        "- `subscription_fee` — стоимость ежемесячного платежа;"
      ]
    },
    {
      "cell_type": "code",
      "execution_count": null,
      "id": "72576667",
      "metadata": {
        "id": "72576667"
      },
      "outputs": [],
      "source": [
        "import pandas as pd\n",
        "import numpy as np\n",
        "import matplotlib.pyplot as plt\n",
        "from scipy import stats as st"
      ]
    },
    {
      "cell_type": "markdown",
      "id": "c42cbe00",
      "metadata": {
        "id": "c42cbe00"
      },
      "source": [
        "#### Шаг 1. Загрузка данных"
      ]
    },
    {
      "cell_type": "code",
      "execution_count": null,
      "id": "eff9f206",
      "metadata": {
        "id": "eff9f206"
      },
      "outputs": [],
      "source": [
        "try:\n",
        "    users = pd.read_csv('/datasets/users_go.csv')\n",
        "    rides = pd.read_csv('/datasets/rides_go.csv')\n",
        "    subscriptions = pd.read_csv('/datasets/subscriptions_go.csv')\n",
        "except:\n",
        "    users = pd.read_csv('users.csv')\n",
        "    rides = pd.read_csv('rides_go.csv')\n",
        "    subscriptions = pd.read_csv('subscriptions_go.csv')"
      ]
    },
    {
      "cell_type": "code",
      "execution_count": null,
      "id": "621f5673",
      "metadata": {
        "id": "621f5673"
      },
      "outputs": [],
      "source": [
        "# Определим функцию для вывода основной информации о датасете\n",
        "def data_info(df):\n",
        "    display(df.head(20))\n",
        "    print()\n",
        "    display(df.describe())\n",
        "    print()\n",
        "    print(df.info())"
      ]
    },
    {
      "cell_type": "code",
      "execution_count": null,
      "id": "fefb985e",
      "metadata": {
        "id": "fefb985e",
        "outputId": "9ea86e3e-ff21-4caf-fea6-44c3a722db68"
      },
      "outputs": [
        {
          "data": {
            "text/html": [
              "<div>\n",
              "<style scoped>\n",
              "    .dataframe tbody tr th:only-of-type {\n",
              "        vertical-align: middle;\n",
              "    }\n",
              "\n",
              "    .dataframe tbody tr th {\n",
              "        vertical-align: top;\n",
              "    }\n",
              "\n",
              "    .dataframe thead th {\n",
              "        text-align: right;\n",
              "    }\n",
              "</style>\n",
              "<table border=\"1\" class=\"dataframe\">\n",
              "  <thead>\n",
              "    <tr style=\"text-align: right;\">\n",
              "      <th></th>\n",
              "      <th>user_id</th>\n",
              "      <th>name</th>\n",
              "      <th>age</th>\n",
              "      <th>city</th>\n",
              "      <th>subscription_type</th>\n",
              "    </tr>\n",
              "  </thead>\n",
              "  <tbody>\n",
              "    <tr>\n",
              "      <th>0</th>\n",
              "      <td>1</td>\n",
              "      <td>Кира</td>\n",
              "      <td>22</td>\n",
              "      <td>Тюмень</td>\n",
              "      <td>ultra</td>\n",
              "    </tr>\n",
              "    <tr>\n",
              "      <th>1</th>\n",
              "      <td>2</td>\n",
              "      <td>Станислав</td>\n",
              "      <td>31</td>\n",
              "      <td>Омск</td>\n",
              "      <td>ultra</td>\n",
              "    </tr>\n",
              "    <tr>\n",
              "      <th>2</th>\n",
              "      <td>3</td>\n",
              "      <td>Алексей</td>\n",
              "      <td>20</td>\n",
              "      <td>Москва</td>\n",
              "      <td>ultra</td>\n",
              "    </tr>\n",
              "    <tr>\n",
              "      <th>3</th>\n",
              "      <td>4</td>\n",
              "      <td>Константин</td>\n",
              "      <td>26</td>\n",
              "      <td>Ростов-на-Дону</td>\n",
              "      <td>ultra</td>\n",
              "    </tr>\n",
              "    <tr>\n",
              "      <th>4</th>\n",
              "      <td>5</td>\n",
              "      <td>Адель</td>\n",
              "      <td>28</td>\n",
              "      <td>Омск</td>\n",
              "      <td>ultra</td>\n",
              "    </tr>\n",
              "    <tr>\n",
              "      <th>5</th>\n",
              "      <td>6</td>\n",
              "      <td>Регина</td>\n",
              "      <td>25</td>\n",
              "      <td>Краснодар</td>\n",
              "      <td>ultra</td>\n",
              "    </tr>\n",
              "    <tr>\n",
              "      <th>6</th>\n",
              "      <td>7</td>\n",
              "      <td>Игорь</td>\n",
              "      <td>23</td>\n",
              "      <td>Омск</td>\n",
              "      <td>ultra</td>\n",
              "    </tr>\n",
              "    <tr>\n",
              "      <th>7</th>\n",
              "      <td>8</td>\n",
              "      <td>Юрий</td>\n",
              "      <td>23</td>\n",
              "      <td>Краснодар</td>\n",
              "      <td>ultra</td>\n",
              "    </tr>\n",
              "    <tr>\n",
              "      <th>8</th>\n",
              "      <td>9</td>\n",
              "      <td>Ян</td>\n",
              "      <td>21</td>\n",
              "      <td>Пятигорск</td>\n",
              "      <td>ultra</td>\n",
              "    </tr>\n",
              "    <tr>\n",
              "      <th>9</th>\n",
              "      <td>10</td>\n",
              "      <td>Валерий</td>\n",
              "      <td>18</td>\n",
              "      <td>Екатеринбург</td>\n",
              "      <td>ultra</td>\n",
              "    </tr>\n",
              "    <tr>\n",
              "      <th>10</th>\n",
              "      <td>11</td>\n",
              "      <td>Агата</td>\n",
              "      <td>31</td>\n",
              "      <td>Краснодар</td>\n",
              "      <td>ultra</td>\n",
              "    </tr>\n",
              "    <tr>\n",
              "      <th>11</th>\n",
              "      <td>12</td>\n",
              "      <td>Марк</td>\n",
              "      <td>27</td>\n",
              "      <td>Тюмень</td>\n",
              "      <td>ultra</td>\n",
              "    </tr>\n",
              "    <tr>\n",
              "      <th>12</th>\n",
              "      <td>13</td>\n",
              "      <td>Ева</td>\n",
              "      <td>24</td>\n",
              "      <td>Краснодар</td>\n",
              "      <td>ultra</td>\n",
              "    </tr>\n",
              "    <tr>\n",
              "      <th>13</th>\n",
              "      <td>14</td>\n",
              "      <td>Антонина</td>\n",
              "      <td>18</td>\n",
              "      <td>Пятигорск</td>\n",
              "      <td>ultra</td>\n",
              "    </tr>\n",
              "    <tr>\n",
              "      <th>14</th>\n",
              "      <td>15</td>\n",
              "      <td>Валерия</td>\n",
              "      <td>24</td>\n",
              "      <td>Тюмень</td>\n",
              "      <td>ultra</td>\n",
              "    </tr>\n",
              "    <tr>\n",
              "      <th>15</th>\n",
              "      <td>16</td>\n",
              "      <td>Амалия</td>\n",
              "      <td>27</td>\n",
              "      <td>Краснодар</td>\n",
              "      <td>ultra</td>\n",
              "    </tr>\n",
              "    <tr>\n",
              "      <th>16</th>\n",
              "      <td>17</td>\n",
              "      <td>Даниил</td>\n",
              "      <td>29</td>\n",
              "      <td>Москва</td>\n",
              "      <td>ultra</td>\n",
              "    </tr>\n",
              "    <tr>\n",
              "      <th>17</th>\n",
              "      <td>18</td>\n",
              "      <td>Аделина</td>\n",
              "      <td>24</td>\n",
              "      <td>Сочи</td>\n",
              "      <td>ultra</td>\n",
              "    </tr>\n",
              "    <tr>\n",
              "      <th>18</th>\n",
              "      <td>19</td>\n",
              "      <td>Регина</td>\n",
              "      <td>32</td>\n",
              "      <td>Тюмень</td>\n",
              "      <td>ultra</td>\n",
              "    </tr>\n",
              "    <tr>\n",
              "      <th>19</th>\n",
              "      <td>20</td>\n",
              "      <td>Игорь</td>\n",
              "      <td>23</td>\n",
              "      <td>Омск</td>\n",
              "      <td>ultra</td>\n",
              "    </tr>\n",
              "  </tbody>\n",
              "</table>\n",
              "</div>"
            ],
            "text/plain": [
              "    user_id        name  age            city subscription_type\n",
              "0         1        Кира   22          Тюмень             ultra\n",
              "1         2   Станислав   31            Омск             ultra\n",
              "2         3     Алексей   20          Москва             ultra\n",
              "3         4  Константин   26  Ростов-на-Дону             ultra\n",
              "4         5       Адель   28            Омск             ultra\n",
              "5         6      Регина   25       Краснодар             ultra\n",
              "6         7       Игорь   23            Омск             ultra\n",
              "7         8        Юрий   23       Краснодар             ultra\n",
              "8         9          Ян   21       Пятигорск             ultra\n",
              "9        10     Валерий   18    Екатеринбург             ultra\n",
              "10       11       Агата   31       Краснодар             ultra\n",
              "11       12        Марк   27          Тюмень             ultra\n",
              "12       13         Ева   24       Краснодар             ultra\n",
              "13       14    Антонина   18       Пятигорск             ultra\n",
              "14       15     Валерия   24          Тюмень             ultra\n",
              "15       16      Амалия   27       Краснодар             ultra\n",
              "16       17      Даниил   29          Москва             ultra\n",
              "17       18     Аделина   24            Сочи             ultra\n",
              "18       19      Регина   32          Тюмень             ultra\n",
              "19       20       Игорь   23            Омск             ultra"
            ]
          },
          "metadata": {},
          "output_type": "display_data"
        },
        {
          "name": "stdout",
          "output_type": "stream",
          "text": [
            "\n"
          ]
        },
        {
          "data": {
            "text/html": [
              "<div>\n",
              "<style scoped>\n",
              "    .dataframe tbody tr th:only-of-type {\n",
              "        vertical-align: middle;\n",
              "    }\n",
              "\n",
              "    .dataframe tbody tr th {\n",
              "        vertical-align: top;\n",
              "    }\n",
              "\n",
              "    .dataframe thead th {\n",
              "        text-align: right;\n",
              "    }\n",
              "</style>\n",
              "<table border=\"1\" class=\"dataframe\">\n",
              "  <thead>\n",
              "    <tr style=\"text-align: right;\">\n",
              "      <th></th>\n",
              "      <th>user_id</th>\n",
              "      <th>age</th>\n",
              "    </tr>\n",
              "  </thead>\n",
              "  <tbody>\n",
              "    <tr>\n",
              "      <th>count</th>\n",
              "      <td>1565.000000</td>\n",
              "      <td>1565.000000</td>\n",
              "    </tr>\n",
              "    <tr>\n",
              "      <th>mean</th>\n",
              "      <td>762.633866</td>\n",
              "      <td>24.922045</td>\n",
              "    </tr>\n",
              "    <tr>\n",
              "      <th>std</th>\n",
              "      <td>443.260155</td>\n",
              "      <td>4.553496</td>\n",
              "    </tr>\n",
              "    <tr>\n",
              "      <th>min</th>\n",
              "      <td>1.000000</td>\n",
              "      <td>12.000000</td>\n",
              "    </tr>\n",
              "    <tr>\n",
              "      <th>25%</th>\n",
              "      <td>378.000000</td>\n",
              "      <td>22.000000</td>\n",
              "    </tr>\n",
              "    <tr>\n",
              "      <th>50%</th>\n",
              "      <td>762.000000</td>\n",
              "      <td>25.000000</td>\n",
              "    </tr>\n",
              "    <tr>\n",
              "      <th>75%</th>\n",
              "      <td>1146.000000</td>\n",
              "      <td>28.000000</td>\n",
              "    </tr>\n",
              "    <tr>\n",
              "      <th>max</th>\n",
              "      <td>1534.000000</td>\n",
              "      <td>43.000000</td>\n",
              "    </tr>\n",
              "  </tbody>\n",
              "</table>\n",
              "</div>"
            ],
            "text/plain": [
              "           user_id          age\n",
              "count  1565.000000  1565.000000\n",
              "mean    762.633866    24.922045\n",
              "std     443.260155     4.553496\n",
              "min       1.000000    12.000000\n",
              "25%     378.000000    22.000000\n",
              "50%     762.000000    25.000000\n",
              "75%    1146.000000    28.000000\n",
              "max    1534.000000    43.000000"
            ]
          },
          "metadata": {},
          "output_type": "display_data"
        },
        {
          "name": "stdout",
          "output_type": "stream",
          "text": [
            "\n",
            "<class 'pandas.core.frame.DataFrame'>\n",
            "RangeIndex: 1565 entries, 0 to 1564\n",
            "Data columns (total 5 columns):\n",
            " #   Column             Non-Null Count  Dtype \n",
            "---  ------             --------------  ----- \n",
            " 0   user_id            1565 non-null   int64 \n",
            " 1   name               1565 non-null   object\n",
            " 2   age                1565 non-null   int64 \n",
            " 3   city               1565 non-null   object\n",
            " 4   subscription_type  1565 non-null   object\n",
            "dtypes: int64(2), object(3)\n",
            "memory usage: 61.3+ KB\n",
            "None\n"
          ]
        }
      ],
      "source": [
        "data_info(users)"
      ]
    },
    {
      "cell_type": "code",
      "execution_count": null,
      "id": "ce7e3a40",
      "metadata": {
        "id": "ce7e3a40",
        "outputId": "46496b49-2d11-4d04-8fe8-1d5b1277403f"
      },
      "outputs": [
        {
          "data": {
            "text/html": [
              "<div>\n",
              "<style scoped>\n",
              "    .dataframe tbody tr th:only-of-type {\n",
              "        vertical-align: middle;\n",
              "    }\n",
              "\n",
              "    .dataframe tbody tr th {\n",
              "        vertical-align: top;\n",
              "    }\n",
              "\n",
              "    .dataframe thead th {\n",
              "        text-align: right;\n",
              "    }\n",
              "</style>\n",
              "<table border=\"1\" class=\"dataframe\">\n",
              "  <thead>\n",
              "    <tr style=\"text-align: right;\">\n",
              "      <th></th>\n",
              "      <th>user_id</th>\n",
              "      <th>distance</th>\n",
              "      <th>duration</th>\n",
              "      <th>date</th>\n",
              "    </tr>\n",
              "  </thead>\n",
              "  <tbody>\n",
              "    <tr>\n",
              "      <th>0</th>\n",
              "      <td>1</td>\n",
              "      <td>4409.919140</td>\n",
              "      <td>25.599769</td>\n",
              "      <td>2021-01-01</td>\n",
              "    </tr>\n",
              "    <tr>\n",
              "      <th>1</th>\n",
              "      <td>1</td>\n",
              "      <td>2617.592153</td>\n",
              "      <td>15.816871</td>\n",
              "      <td>2021-01-18</td>\n",
              "    </tr>\n",
              "    <tr>\n",
              "      <th>2</th>\n",
              "      <td>1</td>\n",
              "      <td>754.159807</td>\n",
              "      <td>6.232113</td>\n",
              "      <td>2021-04-20</td>\n",
              "    </tr>\n",
              "    <tr>\n",
              "      <th>3</th>\n",
              "      <td>1</td>\n",
              "      <td>2694.783254</td>\n",
              "      <td>18.511000</td>\n",
              "      <td>2021-08-11</td>\n",
              "    </tr>\n",
              "    <tr>\n",
              "      <th>4</th>\n",
              "      <td>1</td>\n",
              "      <td>4028.687306</td>\n",
              "      <td>26.265803</td>\n",
              "      <td>2021-08-28</td>\n",
              "    </tr>\n",
              "    <tr>\n",
              "      <th>5</th>\n",
              "      <td>1</td>\n",
              "      <td>2770.890808</td>\n",
              "      <td>16.650138</td>\n",
              "      <td>2021-10-09</td>\n",
              "    </tr>\n",
              "    <tr>\n",
              "      <th>6</th>\n",
              "      <td>1</td>\n",
              "      <td>3039.020292</td>\n",
              "      <td>14.927879</td>\n",
              "      <td>2021-10-19</td>\n",
              "    </tr>\n",
              "    <tr>\n",
              "      <th>7</th>\n",
              "      <td>1</td>\n",
              "      <td>2842.118050</td>\n",
              "      <td>23.117468</td>\n",
              "      <td>2021-11-06</td>\n",
              "    </tr>\n",
              "    <tr>\n",
              "      <th>8</th>\n",
              "      <td>1</td>\n",
              "      <td>3412.690668</td>\n",
              "      <td>15.238072</td>\n",
              "      <td>2021-11-14</td>\n",
              "    </tr>\n",
              "    <tr>\n",
              "      <th>9</th>\n",
              "      <td>1</td>\n",
              "      <td>748.690645</td>\n",
              "      <td>15.041884</td>\n",
              "      <td>2021-11-22</td>\n",
              "    </tr>\n",
              "    <tr>\n",
              "      <th>10</th>\n",
              "      <td>1</td>\n",
              "      <td>4031.020195</td>\n",
              "      <td>17.674448</td>\n",
              "      <td>2021-12-14</td>\n",
              "    </tr>\n",
              "    <tr>\n",
              "      <th>11</th>\n",
              "      <td>1</td>\n",
              "      <td>2720.609748</td>\n",
              "      <td>9.529463</td>\n",
              "      <td>2021-12-22</td>\n",
              "    </tr>\n",
              "    <tr>\n",
              "      <th>12</th>\n",
              "      <td>2</td>\n",
              "      <td>3105.086678</td>\n",
              "      <td>24.307514</td>\n",
              "      <td>2021-03-15</td>\n",
              "    </tr>\n",
              "    <tr>\n",
              "      <th>13</th>\n",
              "      <td>2</td>\n",
              "      <td>3053.519401</td>\n",
              "      <td>11.543256</td>\n",
              "      <td>2021-03-18</td>\n",
              "    </tr>\n",
              "    <tr>\n",
              "      <th>14</th>\n",
              "      <td>2</td>\n",
              "      <td>4029.116927</td>\n",
              "      <td>25.109188</td>\n",
              "      <td>2021-03-23</td>\n",
              "    </tr>\n",
              "    <tr>\n",
              "      <th>15</th>\n",
              "      <td>2</td>\n",
              "      <td>2805.786329</td>\n",
              "      <td>20.652145</td>\n",
              "      <td>2021-04-08</td>\n",
              "    </tr>\n",
              "    <tr>\n",
              "      <th>16</th>\n",
              "      <td>2</td>\n",
              "      <td>3358.595495</td>\n",
              "      <td>18.396489</td>\n",
              "      <td>2021-04-13</td>\n",
              "    </tr>\n",
              "    <tr>\n",
              "      <th>17</th>\n",
              "      <td>2</td>\n",
              "      <td>3255.338202</td>\n",
              "      <td>13.851127</td>\n",
              "      <td>2021-06-20</td>\n",
              "    </tr>\n",
              "    <tr>\n",
              "      <th>18</th>\n",
              "      <td>2</td>\n",
              "      <td>3942.817648</td>\n",
              "      <td>20.142725</td>\n",
              "      <td>2021-07-02</td>\n",
              "    </tr>\n",
              "    <tr>\n",
              "      <th>19</th>\n",
              "      <td>2</td>\n",
              "      <td>2837.905316</td>\n",
              "      <td>26.027432</td>\n",
              "      <td>2021-07-18</td>\n",
              "    </tr>\n",
              "  </tbody>\n",
              "</table>\n",
              "</div>"
            ],
            "text/plain": [
              "    user_id     distance   duration        date\n",
              "0         1  4409.919140  25.599769  2021-01-01\n",
              "1         1  2617.592153  15.816871  2021-01-18\n",
              "2         1   754.159807   6.232113  2021-04-20\n",
              "3         1  2694.783254  18.511000  2021-08-11\n",
              "4         1  4028.687306  26.265803  2021-08-28\n",
              "5         1  2770.890808  16.650138  2021-10-09\n",
              "6         1  3039.020292  14.927879  2021-10-19\n",
              "7         1  2842.118050  23.117468  2021-11-06\n",
              "8         1  3412.690668  15.238072  2021-11-14\n",
              "9         1   748.690645  15.041884  2021-11-22\n",
              "10        1  4031.020195  17.674448  2021-12-14\n",
              "11        1  2720.609748   9.529463  2021-12-22\n",
              "12        2  3105.086678  24.307514  2021-03-15\n",
              "13        2  3053.519401  11.543256  2021-03-18\n",
              "14        2  4029.116927  25.109188  2021-03-23\n",
              "15        2  2805.786329  20.652145  2021-04-08\n",
              "16        2  3358.595495  18.396489  2021-04-13\n",
              "17        2  3255.338202  13.851127  2021-06-20\n",
              "18        2  3942.817648  20.142725  2021-07-02\n",
              "19        2  2837.905316  26.027432  2021-07-18"
            ]
          },
          "metadata": {},
          "output_type": "display_data"
        },
        {
          "name": "stdout",
          "output_type": "stream",
          "text": [
            "\n"
          ]
        },
        {
          "data": {
            "text/html": [
              "<div>\n",
              "<style scoped>\n",
              "    .dataframe tbody tr th:only-of-type {\n",
              "        vertical-align: middle;\n",
              "    }\n",
              "\n",
              "    .dataframe tbody tr th {\n",
              "        vertical-align: top;\n",
              "    }\n",
              "\n",
              "    .dataframe thead th {\n",
              "        text-align: right;\n",
              "    }\n",
              "</style>\n",
              "<table border=\"1\" class=\"dataframe\">\n",
              "  <thead>\n",
              "    <tr style=\"text-align: right;\">\n",
              "      <th></th>\n",
              "      <th>user_id</th>\n",
              "      <th>distance</th>\n",
              "      <th>duration</th>\n",
              "    </tr>\n",
              "  </thead>\n",
              "  <tbody>\n",
              "    <tr>\n",
              "      <th>count</th>\n",
              "      <td>18068.000000</td>\n",
              "      <td>18068.000000</td>\n",
              "      <td>18068.000000</td>\n",
              "    </tr>\n",
              "    <tr>\n",
              "      <th>mean</th>\n",
              "      <td>842.869936</td>\n",
              "      <td>3070.659976</td>\n",
              "      <td>17.805011</td>\n",
              "    </tr>\n",
              "    <tr>\n",
              "      <th>std</th>\n",
              "      <td>434.734317</td>\n",
              "      <td>1116.831209</td>\n",
              "      <td>6.091051</td>\n",
              "    </tr>\n",
              "    <tr>\n",
              "      <th>min</th>\n",
              "      <td>1.000000</td>\n",
              "      <td>0.855683</td>\n",
              "      <td>0.500000</td>\n",
              "    </tr>\n",
              "    <tr>\n",
              "      <th>25%</th>\n",
              "      <td>487.000000</td>\n",
              "      <td>2543.226360</td>\n",
              "      <td>13.597563</td>\n",
              "    </tr>\n",
              "    <tr>\n",
              "      <th>50%</th>\n",
              "      <td>889.000000</td>\n",
              "      <td>3133.609994</td>\n",
              "      <td>17.678395</td>\n",
              "    </tr>\n",
              "    <tr>\n",
              "      <th>75%</th>\n",
              "      <td>1213.250000</td>\n",
              "      <td>3776.222735</td>\n",
              "      <td>21.724800</td>\n",
              "    </tr>\n",
              "    <tr>\n",
              "      <th>max</th>\n",
              "      <td>1534.000000</td>\n",
              "      <td>7211.007745</td>\n",
              "      <td>40.823963</td>\n",
              "    </tr>\n",
              "  </tbody>\n",
              "</table>\n",
              "</div>"
            ],
            "text/plain": [
              "            user_id      distance      duration\n",
              "count  18068.000000  18068.000000  18068.000000\n",
              "mean     842.869936   3070.659976     17.805011\n",
              "std      434.734317   1116.831209      6.091051\n",
              "min        1.000000      0.855683      0.500000\n",
              "25%      487.000000   2543.226360     13.597563\n",
              "50%      889.000000   3133.609994     17.678395\n",
              "75%     1213.250000   3776.222735     21.724800\n",
              "max     1534.000000   7211.007745     40.823963"
            ]
          },
          "metadata": {},
          "output_type": "display_data"
        },
        {
          "name": "stdout",
          "output_type": "stream",
          "text": [
            "\n",
            "<class 'pandas.core.frame.DataFrame'>\n",
            "RangeIndex: 18068 entries, 0 to 18067\n",
            "Data columns (total 4 columns):\n",
            " #   Column    Non-Null Count  Dtype  \n",
            "---  ------    --------------  -----  \n",
            " 0   user_id   18068 non-null  int64  \n",
            " 1   distance  18068 non-null  float64\n",
            " 2   duration  18068 non-null  float64\n",
            " 3   date      18068 non-null  object \n",
            "dtypes: float64(2), int64(1), object(1)\n",
            "memory usage: 564.8+ KB\n",
            "None\n"
          ]
        }
      ],
      "source": [
        "data_info(rides)"
      ]
    },
    {
      "cell_type": "code",
      "execution_count": null,
      "id": "93b05499",
      "metadata": {
        "id": "93b05499",
        "outputId": "c2d0513d-8b5c-4ba0-f739-0dbb30c02eac"
      },
      "outputs": [
        {
          "data": {
            "text/html": [
              "<div>\n",
              "<style scoped>\n",
              "    .dataframe tbody tr th:only-of-type {\n",
              "        vertical-align: middle;\n",
              "    }\n",
              "\n",
              "    .dataframe tbody tr th {\n",
              "        vertical-align: top;\n",
              "    }\n",
              "\n",
              "    .dataframe thead th {\n",
              "        text-align: right;\n",
              "    }\n",
              "</style>\n",
              "<table border=\"1\" class=\"dataframe\">\n",
              "  <thead>\n",
              "    <tr style=\"text-align: right;\">\n",
              "      <th></th>\n",
              "      <th>subscription_type</th>\n",
              "      <th>minute_price</th>\n",
              "      <th>start_ride_price</th>\n",
              "      <th>subscription_fee</th>\n",
              "    </tr>\n",
              "  </thead>\n",
              "  <tbody>\n",
              "    <tr>\n",
              "      <th>0</th>\n",
              "      <td>free</td>\n",
              "      <td>8</td>\n",
              "      <td>50</td>\n",
              "      <td>0</td>\n",
              "    </tr>\n",
              "    <tr>\n",
              "      <th>1</th>\n",
              "      <td>ultra</td>\n",
              "      <td>6</td>\n",
              "      <td>0</td>\n",
              "      <td>199</td>\n",
              "    </tr>\n",
              "  </tbody>\n",
              "</table>\n",
              "</div>"
            ],
            "text/plain": [
              "  subscription_type  minute_price  start_ride_price  subscription_fee\n",
              "0              free             8                50                 0\n",
              "1             ultra             6                 0               199"
            ]
          },
          "execution_count": 6,
          "metadata": {},
          "output_type": "execute_result"
        }
      ],
      "source": [
        "subscriptions"
      ]
    },
    {
      "cell_type": "markdown",
      "id": "64acb79d",
      "metadata": {
        "id": "64acb79d"
      },
      "source": [
        "В наборе данных `users`, содержащем информацию о пользователях, типы данных указаны корректно, пропущенных значений нет.  \n",
        "В датасете `rides` также нет пропусков, однако требуется преобразовать дату из типа object в datetime.  \n",
        "В subscriptions представлены характеристики соответсвующих типов подписки."
      ]
    },
    {
      "cell_type": "markdown",
      "id": "e95ebca7",
      "metadata": {
        "id": "e95ebca7"
      },
      "source": [
        "#### Шаг 2. Предобработка данных"
      ]
    },
    {
      "cell_type": "code",
      "execution_count": null,
      "id": "af6d202c",
      "metadata": {
        "id": "af6d202c"
      },
      "outputs": [],
      "source": [
        "# Преобразуем переменную date к типу DateTime\n",
        "rides['date'] = pd.to_datetime(rides['date'], format='%Y-%m-%d')"
      ]
    },
    {
      "cell_type": "code",
      "execution_count": null,
      "id": "5c6091b7",
      "metadata": {
        "id": "5c6091b7",
        "outputId": "738eb315-af8d-4a28-bcaf-1db90bc32200"
      },
      "outputs": [
        {
          "data": {
            "text/plain": [
              "array([2021])"
            ]
          },
          "execution_count": 8,
          "metadata": {},
          "output_type": "execute_result"
        }
      ],
      "source": [
        "# Проверим, данные за сколько лет содержатся в датасете\n",
        "rides['date'].dt.year.unique()"
      ]
    },
    {
      "cell_type": "code",
      "execution_count": null,
      "id": "6b6e76f5",
      "metadata": {
        "id": "6b6e76f5"
      },
      "outputs": [],
      "source": [
        "# Выделим номера месяца в отдельную переменную\n",
        "rides['month'] = rides['date'].dt.month"
      ]
    },
    {
      "cell_type": "code",
      "execution_count": null,
      "id": "039b7187",
      "metadata": {
        "id": "039b7187",
        "outputId": "577c8a0a-35e9-4197-fbb6-e64e944e24f8"
      },
      "outputs": [
        {
          "name": "stdout",
          "output_type": "stream",
          "text": [
            "Количество дубликатов в users: 31\n",
            "Количество дубликатов в rides: 0\n"
          ]
        }
      ],
      "source": [
        "# Проверим наличие дубликатов\n",
        "print(f'Количество дубликатов в users: {users.duplicated().sum()}')\n",
        "print(f'Количество дубликатов в rides: {rides.duplicated().sum()}')"
      ]
    },
    {
      "cell_type": "code",
      "execution_count": null,
      "id": "65cb1e1a",
      "metadata": {
        "scrolled": true,
        "id": "65cb1e1a",
        "outputId": "c119bcb1-730f-43e0-ea2f-cf1faaeaaadf"
      },
      "outputs": [
        {
          "data": {
            "text/html": [
              "<div>\n",
              "<style scoped>\n",
              "    .dataframe tbody tr th:only-of-type {\n",
              "        vertical-align: middle;\n",
              "    }\n",
              "\n",
              "    .dataframe tbody tr th {\n",
              "        vertical-align: top;\n",
              "    }\n",
              "\n",
              "    .dataframe thead th {\n",
              "        text-align: right;\n",
              "    }\n",
              "</style>\n",
              "<table border=\"1\" class=\"dataframe\">\n",
              "  <thead>\n",
              "    <tr style=\"text-align: right;\">\n",
              "      <th></th>\n",
              "      <th>user_id</th>\n",
              "      <th>name</th>\n",
              "      <th>age</th>\n",
              "      <th>city</th>\n",
              "      <th>subscription_type</th>\n",
              "    </tr>\n",
              "  </thead>\n",
              "  <tbody>\n",
              "    <tr>\n",
              "      <th>292</th>\n",
              "      <td>293</td>\n",
              "      <td>Агата</td>\n",
              "      <td>26</td>\n",
              "      <td>Краснодар</td>\n",
              "      <td>ultra</td>\n",
              "    </tr>\n",
              "    <tr>\n",
              "      <th>1534</th>\n",
              "      <td>293</td>\n",
              "      <td>Агата</td>\n",
              "      <td>26</td>\n",
              "      <td>Краснодар</td>\n",
              "      <td>ultra</td>\n",
              "    </tr>\n",
              "  </tbody>\n",
              "</table>\n",
              "</div>"
            ],
            "text/plain": [
              "      user_id   name  age       city subscription_type\n",
              "292       293  Агата   26  Краснодар             ultra\n",
              "1534      293  Агата   26  Краснодар             ultra"
            ]
          },
          "metadata": {},
          "output_type": "display_data"
        },
        {
          "data": {
            "text/html": [
              "<div>\n",
              "<style scoped>\n",
              "    .dataframe tbody tr th:only-of-type {\n",
              "        vertical-align: middle;\n",
              "    }\n",
              "\n",
              "    .dataframe tbody tr th {\n",
              "        vertical-align: top;\n",
              "    }\n",
              "\n",
              "    .dataframe thead th {\n",
              "        text-align: right;\n",
              "    }\n",
              "</style>\n",
              "<table border=\"1\" class=\"dataframe\">\n",
              "  <thead>\n",
              "    <tr style=\"text-align: right;\">\n",
              "      <th></th>\n",
              "      <th>user_id</th>\n",
              "      <th>name</th>\n",
              "      <th>age</th>\n",
              "      <th>city</th>\n",
              "      <th>subscription_type</th>\n",
              "    </tr>\n",
              "  </thead>\n",
              "  <tbody>\n",
              "    <tr>\n",
              "      <th>15</th>\n",
              "      <td>16</td>\n",
              "      <td>Амалия</td>\n",
              "      <td>27</td>\n",
              "      <td>Краснодар</td>\n",
              "      <td>ultra</td>\n",
              "    </tr>\n",
              "    <tr>\n",
              "      <th>1535</th>\n",
              "      <td>16</td>\n",
              "      <td>Амалия</td>\n",
              "      <td>27</td>\n",
              "      <td>Краснодар</td>\n",
              "      <td>ultra</td>\n",
              "    </tr>\n",
              "  </tbody>\n",
              "</table>\n",
              "</div>"
            ],
            "text/plain": [
              "      user_id    name  age       city subscription_type\n",
              "15         16  Амалия   27  Краснодар             ultra\n",
              "1535       16  Амалия   27  Краснодар             ultra"
            ]
          },
          "metadata": {},
          "output_type": "display_data"
        },
        {
          "data": {
            "text/html": [
              "<div>\n",
              "<style scoped>\n",
              "    .dataframe tbody tr th:only-of-type {\n",
              "        vertical-align: middle;\n",
              "    }\n",
              "\n",
              "    .dataframe tbody tr th {\n",
              "        vertical-align: top;\n",
              "    }\n",
              "\n",
              "    .dataframe thead th {\n",
              "        text-align: right;\n",
              "    }\n",
              "</style>\n",
              "<table border=\"1\" class=\"dataframe\">\n",
              "  <thead>\n",
              "    <tr style=\"text-align: right;\">\n",
              "      <th></th>\n",
              "      <th>user_id</th>\n",
              "      <th>name</th>\n",
              "      <th>age</th>\n",
              "      <th>city</th>\n",
              "      <th>subscription_type</th>\n",
              "    </tr>\n",
              "  </thead>\n",
              "  <tbody>\n",
              "    <tr>\n",
              "      <th>908</th>\n",
              "      <td>909</td>\n",
              "      <td>Константин</td>\n",
              "      <td>20</td>\n",
              "      <td>Екатеринбург</td>\n",
              "      <td>free</td>\n",
              "    </tr>\n",
              "    <tr>\n",
              "      <th>1536</th>\n",
              "      <td>909</td>\n",
              "      <td>Константин</td>\n",
              "      <td>20</td>\n",
              "      <td>Екатеринбург</td>\n",
              "      <td>free</td>\n",
              "    </tr>\n",
              "  </tbody>\n",
              "</table>\n",
              "</div>"
            ],
            "text/plain": [
              "      user_id        name  age          city subscription_type\n",
              "908       909  Константин   20  Екатеринбург              free\n",
              "1536      909  Константин   20  Екатеринбург              free"
            ]
          },
          "metadata": {},
          "output_type": "display_data"
        },
        {
          "data": {
            "text/html": [
              "<div>\n",
              "<style scoped>\n",
              "    .dataframe tbody tr th:only-of-type {\n",
              "        vertical-align: middle;\n",
              "    }\n",
              "\n",
              "    .dataframe tbody tr th {\n",
              "        vertical-align: top;\n",
              "    }\n",
              "\n",
              "    .dataframe thead th {\n",
              "        text-align: right;\n",
              "    }\n",
              "</style>\n",
              "<table border=\"1\" class=\"dataframe\">\n",
              "  <thead>\n",
              "    <tr style=\"text-align: right;\">\n",
              "      <th></th>\n",
              "      <th>user_id</th>\n",
              "      <th>name</th>\n",
              "      <th>age</th>\n",
              "      <th>city</th>\n",
              "      <th>subscription_type</th>\n",
              "    </tr>\n",
              "  </thead>\n",
              "  <tbody>\n",
              "    <tr>\n",
              "      <th>402</th>\n",
              "      <td>403</td>\n",
              "      <td>Полина</td>\n",
              "      <td>19</td>\n",
              "      <td>Сочи</td>\n",
              "      <td>ultra</td>\n",
              "    </tr>\n",
              "    <tr>\n",
              "      <th>1537</th>\n",
              "      <td>403</td>\n",
              "      <td>Полина</td>\n",
              "      <td>19</td>\n",
              "      <td>Сочи</td>\n",
              "      <td>ultra</td>\n",
              "    </tr>\n",
              "  </tbody>\n",
              "</table>\n",
              "</div>"
            ],
            "text/plain": [
              "      user_id    name  age  city subscription_type\n",
              "402       403  Полина   19  Сочи             ultra\n",
              "1537      403  Полина   19  Сочи             ultra"
            ]
          },
          "metadata": {},
          "output_type": "display_data"
        },
        {
          "data": {
            "text/html": [
              "<div>\n",
              "<style scoped>\n",
              "    .dataframe tbody tr th:only-of-type {\n",
              "        vertical-align: middle;\n",
              "    }\n",
              "\n",
              "    .dataframe tbody tr th {\n",
              "        vertical-align: top;\n",
              "    }\n",
              "\n",
              "    .dataframe thead th {\n",
              "        text-align: right;\n",
              "    }\n",
              "</style>\n",
              "<table border=\"1\" class=\"dataframe\">\n",
              "  <thead>\n",
              "    <tr style=\"text-align: right;\">\n",
              "      <th></th>\n",
              "      <th>user_id</th>\n",
              "      <th>name</th>\n",
              "      <th>age</th>\n",
              "      <th>city</th>\n",
              "      <th>subscription_type</th>\n",
              "    </tr>\n",
              "  </thead>\n",
              "  <tbody>\n",
              "    <tr>\n",
              "      <th>907</th>\n",
              "      <td>908</td>\n",
              "      <td>Рустам</td>\n",
              "      <td>30</td>\n",
              "      <td>Тюмень</td>\n",
              "      <td>free</td>\n",
              "    </tr>\n",
              "    <tr>\n",
              "      <th>1538</th>\n",
              "      <td>908</td>\n",
              "      <td>Рустам</td>\n",
              "      <td>30</td>\n",
              "      <td>Тюмень</td>\n",
              "      <td>free</td>\n",
              "    </tr>\n",
              "  </tbody>\n",
              "</table>\n",
              "</div>"
            ],
            "text/plain": [
              "      user_id    name  age    city subscription_type\n",
              "907       908  Рустам   30  Тюмень              free\n",
              "1538      908  Рустам   30  Тюмень              free"
            ]
          },
          "metadata": {},
          "output_type": "display_data"
        },
        {
          "data": {
            "text/html": [
              "<div>\n",
              "<style scoped>\n",
              "    .dataframe tbody tr th:only-of-type {\n",
              "        vertical-align: middle;\n",
              "    }\n",
              "\n",
              "    .dataframe tbody tr th {\n",
              "        vertical-align: top;\n",
              "    }\n",
              "\n",
              "    .dataframe thead th {\n",
              "        text-align: right;\n",
              "    }\n",
              "</style>\n",
              "<table border=\"1\" class=\"dataframe\">\n",
              "  <thead>\n",
              "    <tr style=\"text-align: right;\">\n",
              "      <th></th>\n",
              "      <th>user_id</th>\n",
              "      <th>name</th>\n",
              "      <th>age</th>\n",
              "      <th>city</th>\n",
              "      <th>subscription_type</th>\n",
              "    </tr>\n",
              "  </thead>\n",
              "  <tbody>\n",
              "    <tr>\n",
              "      <th>42</th>\n",
              "      <td>43</td>\n",
              "      <td>Стефания</td>\n",
              "      <td>22</td>\n",
              "      <td>Омск</td>\n",
              "      <td>ultra</td>\n",
              "    </tr>\n",
              "    <tr>\n",
              "      <th>1539</th>\n",
              "      <td>43</td>\n",
              "      <td>Стефания</td>\n",
              "      <td>22</td>\n",
              "      <td>Омск</td>\n",
              "      <td>ultra</td>\n",
              "    </tr>\n",
              "  </tbody>\n",
              "</table>\n",
              "</div>"
            ],
            "text/plain": [
              "      user_id      name  age  city subscription_type\n",
              "42         43  Стефания   22  Омск             ultra\n",
              "1539       43  Стефания   22  Омск             ultra"
            ]
          },
          "metadata": {},
          "output_type": "display_data"
        },
        {
          "data": {
            "text/html": [
              "<div>\n",
              "<style scoped>\n",
              "    .dataframe tbody tr th:only-of-type {\n",
              "        vertical-align: middle;\n",
              "    }\n",
              "\n",
              "    .dataframe tbody tr th {\n",
              "        vertical-align: top;\n",
              "    }\n",
              "\n",
              "    .dataframe thead th {\n",
              "        text-align: right;\n",
              "    }\n",
              "</style>\n",
              "<table border=\"1\" class=\"dataframe\">\n",
              "  <thead>\n",
              "    <tr style=\"text-align: right;\">\n",
              "      <th></th>\n",
              "      <th>user_id</th>\n",
              "      <th>name</th>\n",
              "      <th>age</th>\n",
              "      <th>city</th>\n",
              "      <th>subscription_type</th>\n",
              "    </tr>\n",
              "  </thead>\n",
              "  <tbody>\n",
              "    <tr>\n",
              "      <th>126</th>\n",
              "      <td>127</td>\n",
              "      <td>Павел</td>\n",
              "      <td>25</td>\n",
              "      <td>Пятигорск</td>\n",
              "      <td>ultra</td>\n",
              "    </tr>\n",
              "    <tr>\n",
              "      <th>1540</th>\n",
              "      <td>127</td>\n",
              "      <td>Павел</td>\n",
              "      <td>25</td>\n",
              "      <td>Пятигорск</td>\n",
              "      <td>ultra</td>\n",
              "    </tr>\n",
              "  </tbody>\n",
              "</table>\n",
              "</div>"
            ],
            "text/plain": [
              "      user_id   name  age       city subscription_type\n",
              "126       127  Павел   25  Пятигорск             ultra\n",
              "1540      127  Павел   25  Пятигорск             ultra"
            ]
          },
          "metadata": {},
          "output_type": "display_data"
        },
        {
          "data": {
            "text/html": [
              "<div>\n",
              "<style scoped>\n",
              "    .dataframe tbody tr th:only-of-type {\n",
              "        vertical-align: middle;\n",
              "    }\n",
              "\n",
              "    .dataframe tbody tr th {\n",
              "        vertical-align: top;\n",
              "    }\n",
              "\n",
              "    .dataframe thead th {\n",
              "        text-align: right;\n",
              "    }\n",
              "</style>\n",
              "<table border=\"1\" class=\"dataframe\">\n",
              "  <thead>\n",
              "    <tr style=\"text-align: right;\">\n",
              "      <th></th>\n",
              "      <th>user_id</th>\n",
              "      <th>name</th>\n",
              "      <th>age</th>\n",
              "      <th>city</th>\n",
              "      <th>subscription_type</th>\n",
              "    </tr>\n",
              "  </thead>\n",
              "  <tbody>\n",
              "    <tr>\n",
              "      <th>658</th>\n",
              "      <td>659</td>\n",
              "      <td>Злата</td>\n",
              "      <td>27</td>\n",
              "      <td>Ростов-на-Дону</td>\n",
              "      <td>ultra</td>\n",
              "    </tr>\n",
              "    <tr>\n",
              "      <th>1541</th>\n",
              "      <td>659</td>\n",
              "      <td>Злата</td>\n",
              "      <td>27</td>\n",
              "      <td>Ростов-на-Дону</td>\n",
              "      <td>ultra</td>\n",
              "    </tr>\n",
              "  </tbody>\n",
              "</table>\n",
              "</div>"
            ],
            "text/plain": [
              "      user_id   name  age            city subscription_type\n",
              "658       659  Злата   27  Ростов-на-Дону             ultra\n",
              "1541      659  Злата   27  Ростов-на-Дону             ultra"
            ]
          },
          "metadata": {},
          "output_type": "display_data"
        },
        {
          "data": {
            "text/html": [
              "<div>\n",
              "<style scoped>\n",
              "    .dataframe tbody tr th:only-of-type {\n",
              "        vertical-align: middle;\n",
              "    }\n",
              "\n",
              "    .dataframe tbody tr th {\n",
              "        vertical-align: top;\n",
              "    }\n",
              "\n",
              "    .dataframe thead th {\n",
              "        text-align: right;\n",
              "    }\n",
              "</style>\n",
              "<table border=\"1\" class=\"dataframe\">\n",
              "  <thead>\n",
              "    <tr style=\"text-align: right;\">\n",
              "      <th></th>\n",
              "      <th>user_id</th>\n",
              "      <th>name</th>\n",
              "      <th>age</th>\n",
              "      <th>city</th>\n",
              "      <th>subscription_type</th>\n",
              "    </tr>\n",
              "  </thead>\n",
              "  <tbody>\n",
              "    <tr>\n",
              "      <th>203</th>\n",
              "      <td>204</td>\n",
              "      <td>Руслан</td>\n",
              "      <td>30</td>\n",
              "      <td>Пятигорск</td>\n",
              "      <td>ultra</td>\n",
              "    </tr>\n",
              "    <tr>\n",
              "      <th>1542</th>\n",
              "      <td>204</td>\n",
              "      <td>Руслан</td>\n",
              "      <td>30</td>\n",
              "      <td>Пятигорск</td>\n",
              "      <td>ultra</td>\n",
              "    </tr>\n",
              "  </tbody>\n",
              "</table>\n",
              "</div>"
            ],
            "text/plain": [
              "      user_id    name  age       city subscription_type\n",
              "203       204  Руслан   30  Пятигорск             ultra\n",
              "1542      204  Руслан   30  Пятигорск             ultra"
            ]
          },
          "metadata": {},
          "output_type": "display_data"
        },
        {
          "data": {
            "text/html": [
              "<div>\n",
              "<style scoped>\n",
              "    .dataframe tbody tr th:only-of-type {\n",
              "        vertical-align: middle;\n",
              "    }\n",
              "\n",
              "    .dataframe tbody tr th {\n",
              "        vertical-align: top;\n",
              "    }\n",
              "\n",
              "    .dataframe thead th {\n",
              "        text-align: right;\n",
              "    }\n",
              "</style>\n",
              "<table border=\"1\" class=\"dataframe\">\n",
              "  <thead>\n",
              "    <tr style=\"text-align: right;\">\n",
              "      <th></th>\n",
              "      <th>user_id</th>\n",
              "      <th>name</th>\n",
              "      <th>age</th>\n",
              "      <th>city</th>\n",
              "      <th>subscription_type</th>\n",
              "    </tr>\n",
              "  </thead>\n",
              "  <tbody>\n",
              "    <tr>\n",
              "      <th>152</th>\n",
              "      <td>153</td>\n",
              "      <td>Герман</td>\n",
              "      <td>23</td>\n",
              "      <td>Москва</td>\n",
              "      <td>ultra</td>\n",
              "    </tr>\n",
              "    <tr>\n",
              "      <th>1543</th>\n",
              "      <td>153</td>\n",
              "      <td>Герман</td>\n",
              "      <td>23</td>\n",
              "      <td>Москва</td>\n",
              "      <td>ultra</td>\n",
              "    </tr>\n",
              "  </tbody>\n",
              "</table>\n",
              "</div>"
            ],
            "text/plain": [
              "      user_id    name  age    city subscription_type\n",
              "152       153  Герман   23  Москва             ultra\n",
              "1543      153  Герман   23  Москва             ultra"
            ]
          },
          "metadata": {},
          "output_type": "display_data"
        },
        {
          "data": {
            "text/html": [
              "<div>\n",
              "<style scoped>\n",
              "    .dataframe tbody tr th:only-of-type {\n",
              "        vertical-align: middle;\n",
              "    }\n",
              "\n",
              "    .dataframe tbody tr th {\n",
              "        vertical-align: top;\n",
              "    }\n",
              "\n",
              "    .dataframe thead th {\n",
              "        text-align: right;\n",
              "    }\n",
              "</style>\n",
              "<table border=\"1\" class=\"dataframe\">\n",
              "  <thead>\n",
              "    <tr style=\"text-align: right;\">\n",
              "      <th></th>\n",
              "      <th>user_id</th>\n",
              "      <th>name</th>\n",
              "      <th>age</th>\n",
              "      <th>city</th>\n",
              "      <th>subscription_type</th>\n",
              "    </tr>\n",
              "  </thead>\n",
              "  <tbody>\n",
              "    <tr>\n",
              "      <th>1244</th>\n",
              "      <td>1245</td>\n",
              "      <td>Регина</td>\n",
              "      <td>27</td>\n",
              "      <td>Пятигорск</td>\n",
              "      <td>free</td>\n",
              "    </tr>\n",
              "    <tr>\n",
              "      <th>1544</th>\n",
              "      <td>1245</td>\n",
              "      <td>Регина</td>\n",
              "      <td>27</td>\n",
              "      <td>Пятигорск</td>\n",
              "      <td>free</td>\n",
              "    </tr>\n",
              "  </tbody>\n",
              "</table>\n",
              "</div>"
            ],
            "text/plain": [
              "      user_id    name  age       city subscription_type\n",
              "1244     1245  Регина   27  Пятигорск              free\n",
              "1544     1245  Регина   27  Пятигорск              free"
            ]
          },
          "metadata": {},
          "output_type": "display_data"
        },
        {
          "data": {
            "text/html": [
              "<div>\n",
              "<style scoped>\n",
              "    .dataframe tbody tr th:only-of-type {\n",
              "        vertical-align: middle;\n",
              "    }\n",
              "\n",
              "    .dataframe tbody tr th {\n",
              "        vertical-align: top;\n",
              "    }\n",
              "\n",
              "    .dataframe thead th {\n",
              "        text-align: right;\n",
              "    }\n",
              "</style>\n",
              "<table border=\"1\" class=\"dataframe\">\n",
              "  <thead>\n",
              "    <tr style=\"text-align: right;\">\n",
              "      <th></th>\n",
              "      <th>user_id</th>\n",
              "      <th>name</th>\n",
              "      <th>age</th>\n",
              "      <th>city</th>\n",
              "      <th>subscription_type</th>\n",
              "    </tr>\n",
              "  </thead>\n",
              "  <tbody>\n",
              "    <tr>\n",
              "      <th>806</th>\n",
              "      <td>807</td>\n",
              "      <td>Александр</td>\n",
              "      <td>28</td>\n",
              "      <td>Екатеринбург</td>\n",
              "      <td>free</td>\n",
              "    </tr>\n",
              "    <tr>\n",
              "      <th>1545</th>\n",
              "      <td>807</td>\n",
              "      <td>Александр</td>\n",
              "      <td>28</td>\n",
              "      <td>Екатеринбург</td>\n",
              "      <td>free</td>\n",
              "    </tr>\n",
              "  </tbody>\n",
              "</table>\n",
              "</div>"
            ],
            "text/plain": [
              "      user_id       name  age          city subscription_type\n",
              "806       807  Александр   28  Екатеринбург              free\n",
              "1545      807  Александр   28  Екатеринбург              free"
            ]
          },
          "metadata": {},
          "output_type": "display_data"
        },
        {
          "data": {
            "text/html": [
              "<div>\n",
              "<style scoped>\n",
              "    .dataframe tbody tr th:only-of-type {\n",
              "        vertical-align: middle;\n",
              "    }\n",
              "\n",
              "    .dataframe tbody tr th {\n",
              "        vertical-align: top;\n",
              "    }\n",
              "\n",
              "    .dataframe thead th {\n",
              "        text-align: right;\n",
              "    }\n",
              "</style>\n",
              "<table border=\"1\" class=\"dataframe\">\n",
              "  <thead>\n",
              "    <tr style=\"text-align: right;\">\n",
              "      <th></th>\n",
              "      <th>user_id</th>\n",
              "      <th>name</th>\n",
              "      <th>age</th>\n",
              "      <th>city</th>\n",
              "      <th>subscription_type</th>\n",
              "    </tr>\n",
              "  </thead>\n",
              "  <tbody>\n",
              "    <tr>\n",
              "      <th>923</th>\n",
              "      <td>924</td>\n",
              "      <td>Мария</td>\n",
              "      <td>23</td>\n",
              "      <td>Пятигорск</td>\n",
              "      <td>free</td>\n",
              "    </tr>\n",
              "    <tr>\n",
              "      <th>1546</th>\n",
              "      <td>924</td>\n",
              "      <td>Мария</td>\n",
              "      <td>23</td>\n",
              "      <td>Пятигорск</td>\n",
              "      <td>free</td>\n",
              "    </tr>\n",
              "  </tbody>\n",
              "</table>\n",
              "</div>"
            ],
            "text/plain": [
              "      user_id   name  age       city subscription_type\n",
              "923       924  Мария   23  Пятигорск              free\n",
              "1546      924  Мария   23  Пятигорск              free"
            ]
          },
          "metadata": {},
          "output_type": "display_data"
        },
        {
          "data": {
            "text/html": [
              "<div>\n",
              "<style scoped>\n",
              "    .dataframe tbody tr th:only-of-type {\n",
              "        vertical-align: middle;\n",
              "    }\n",
              "\n",
              "    .dataframe tbody tr th {\n",
              "        vertical-align: top;\n",
              "    }\n",
              "\n",
              "    .dataframe thead th {\n",
              "        text-align: right;\n",
              "    }\n",
              "</style>\n",
              "<table border=\"1\" class=\"dataframe\">\n",
              "  <thead>\n",
              "    <tr style=\"text-align: right;\">\n",
              "      <th></th>\n",
              "      <th>user_id</th>\n",
              "      <th>name</th>\n",
              "      <th>age</th>\n",
              "      <th>city</th>\n",
              "      <th>subscription_type</th>\n",
              "    </tr>\n",
              "  </thead>\n",
              "  <tbody>\n",
              "    <tr>\n",
              "      <th>634</th>\n",
              "      <td>635</td>\n",
              "      <td>Герман</td>\n",
              "      <td>21</td>\n",
              "      <td>Москва</td>\n",
              "      <td>ultra</td>\n",
              "    </tr>\n",
              "    <tr>\n",
              "      <th>1547</th>\n",
              "      <td>635</td>\n",
              "      <td>Герман</td>\n",
              "      <td>21</td>\n",
              "      <td>Москва</td>\n",
              "      <td>ultra</td>\n",
              "    </tr>\n",
              "  </tbody>\n",
              "</table>\n",
              "</div>"
            ],
            "text/plain": [
              "      user_id    name  age    city subscription_type\n",
              "634       635  Герман   21  Москва             ultra\n",
              "1547      635  Герман   21  Москва             ultra"
            ]
          },
          "metadata": {},
          "output_type": "display_data"
        },
        {
          "data": {
            "text/html": [
              "<div>\n",
              "<style scoped>\n",
              "    .dataframe tbody tr th:only-of-type {\n",
              "        vertical-align: middle;\n",
              "    }\n",
              "\n",
              "    .dataframe tbody tr th {\n",
              "        vertical-align: top;\n",
              "    }\n",
              "\n",
              "    .dataframe thead th {\n",
              "        text-align: right;\n",
              "    }\n",
              "</style>\n",
              "<table border=\"1\" class=\"dataframe\">\n",
              "  <thead>\n",
              "    <tr style=\"text-align: right;\">\n",
              "      <th></th>\n",
              "      <th>user_id</th>\n",
              "      <th>name</th>\n",
              "      <th>age</th>\n",
              "      <th>city</th>\n",
              "      <th>subscription_type</th>\n",
              "    </tr>\n",
              "  </thead>\n",
              "  <tbody>\n",
              "    <tr>\n",
              "      <th>135</th>\n",
              "      <td>136</td>\n",
              "      <td>Марсель</td>\n",
              "      <td>25</td>\n",
              "      <td>Тюмень</td>\n",
              "      <td>ultra</td>\n",
              "    </tr>\n",
              "    <tr>\n",
              "      <th>1548</th>\n",
              "      <td>136</td>\n",
              "      <td>Марсель</td>\n",
              "      <td>25</td>\n",
              "      <td>Тюмень</td>\n",
              "      <td>ultra</td>\n",
              "    </tr>\n",
              "  </tbody>\n",
              "</table>\n",
              "</div>"
            ],
            "text/plain": [
              "      user_id     name  age    city subscription_type\n",
              "135       136  Марсель   25  Тюмень             ultra\n",
              "1548      136  Марсель   25  Тюмень             ultra"
            ]
          },
          "metadata": {},
          "output_type": "display_data"
        },
        {
          "data": {
            "text/html": [
              "<div>\n",
              "<style scoped>\n",
              "    .dataframe tbody tr th:only-of-type {\n",
              "        vertical-align: middle;\n",
              "    }\n",
              "\n",
              "    .dataframe tbody tr th {\n",
              "        vertical-align: top;\n",
              "    }\n",
              "\n",
              "    .dataframe thead th {\n",
              "        text-align: right;\n",
              "    }\n",
              "</style>\n",
              "<table border=\"1\" class=\"dataframe\">\n",
              "  <thead>\n",
              "    <tr style=\"text-align: right;\">\n",
              "      <th></th>\n",
              "      <th>user_id</th>\n",
              "      <th>name</th>\n",
              "      <th>age</th>\n",
              "      <th>city</th>\n",
              "      <th>subscription_type</th>\n",
              "    </tr>\n",
              "  </thead>\n",
              "  <tbody>\n",
              "    <tr>\n",
              "      <th>107</th>\n",
              "      <td>108</td>\n",
              "      <td>Влада</td>\n",
              "      <td>29</td>\n",
              "      <td>Тюмень</td>\n",
              "      <td>ultra</td>\n",
              "    </tr>\n",
              "    <tr>\n",
              "      <th>1549</th>\n",
              "      <td>108</td>\n",
              "      <td>Влада</td>\n",
              "      <td>29</td>\n",
              "      <td>Тюмень</td>\n",
              "      <td>ultra</td>\n",
              "    </tr>\n",
              "  </tbody>\n",
              "</table>\n",
              "</div>"
            ],
            "text/plain": [
              "      user_id   name  age    city subscription_type\n",
              "107       108  Влада   29  Тюмень             ultra\n",
              "1549      108  Влада   29  Тюмень             ultra"
            ]
          },
          "metadata": {},
          "output_type": "display_data"
        },
        {
          "data": {
            "text/html": [
              "<div>\n",
              "<style scoped>\n",
              "    .dataframe tbody tr th:only-of-type {\n",
              "        vertical-align: middle;\n",
              "    }\n",
              "\n",
              "    .dataframe tbody tr th {\n",
              "        vertical-align: top;\n",
              "    }\n",
              "\n",
              "    .dataframe thead th {\n",
              "        text-align: right;\n",
              "    }\n",
              "</style>\n",
              "<table border=\"1\" class=\"dataframe\">\n",
              "  <thead>\n",
              "    <tr style=\"text-align: right;\">\n",
              "      <th></th>\n",
              "      <th>user_id</th>\n",
              "      <th>name</th>\n",
              "      <th>age</th>\n",
              "      <th>city</th>\n",
              "      <th>subscription_type</th>\n",
              "    </tr>\n",
              "  </thead>\n",
              "  <tbody>\n",
              "    <tr>\n",
              "      <th>736</th>\n",
              "      <td>737</td>\n",
              "      <td>Мелания</td>\n",
              "      <td>27</td>\n",
              "      <td>Ростов-на-Дону</td>\n",
              "      <td>free</td>\n",
              "    </tr>\n",
              "    <tr>\n",
              "      <th>1550</th>\n",
              "      <td>737</td>\n",
              "      <td>Мелания</td>\n",
              "      <td>27</td>\n",
              "      <td>Ростов-на-Дону</td>\n",
              "      <td>free</td>\n",
              "    </tr>\n",
              "  </tbody>\n",
              "</table>\n",
              "</div>"
            ],
            "text/plain": [
              "      user_id     name  age            city subscription_type\n",
              "736       737  Мелания   27  Ростов-на-Дону              free\n",
              "1550      737  Мелания   27  Ростов-на-Дону              free"
            ]
          },
          "metadata": {},
          "output_type": "display_data"
        },
        {
          "data": {
            "text/html": [
              "<div>\n",
              "<style scoped>\n",
              "    .dataframe tbody tr th:only-of-type {\n",
              "        vertical-align: middle;\n",
              "    }\n",
              "\n",
              "    .dataframe tbody tr th {\n",
              "        vertical-align: top;\n",
              "    }\n",
              "\n",
              "    .dataframe thead th {\n",
              "        text-align: right;\n",
              "    }\n",
              "</style>\n",
              "<table border=\"1\" class=\"dataframe\">\n",
              "  <thead>\n",
              "    <tr style=\"text-align: right;\">\n",
              "      <th></th>\n",
              "      <th>user_id</th>\n",
              "      <th>name</th>\n",
              "      <th>age</th>\n",
              "      <th>city</th>\n",
              "      <th>subscription_type</th>\n",
              "    </tr>\n",
              "  </thead>\n",
              "  <tbody>\n",
              "    <tr>\n",
              "      <th>665</th>\n",
              "      <td>666</td>\n",
              "      <td>Зарина</td>\n",
              "      <td>29</td>\n",
              "      <td>Москва</td>\n",
              "      <td>ultra</td>\n",
              "    </tr>\n",
              "    <tr>\n",
              "      <th>1551</th>\n",
              "      <td>666</td>\n",
              "      <td>Зарина</td>\n",
              "      <td>29</td>\n",
              "      <td>Москва</td>\n",
              "      <td>ultra</td>\n",
              "    </tr>\n",
              "  </tbody>\n",
              "</table>\n",
              "</div>"
            ],
            "text/plain": [
              "      user_id    name  age    city subscription_type\n",
              "665       666  Зарина   29  Москва             ultra\n",
              "1551      666  Зарина   29  Москва             ultra"
            ]
          },
          "metadata": {},
          "output_type": "display_data"
        },
        {
          "data": {
            "text/html": [
              "<div>\n",
              "<style scoped>\n",
              "    .dataframe tbody tr th:only-of-type {\n",
              "        vertical-align: middle;\n",
              "    }\n",
              "\n",
              "    .dataframe tbody tr th {\n",
              "        vertical-align: top;\n",
              "    }\n",
              "\n",
              "    .dataframe thead th {\n",
              "        text-align: right;\n",
              "    }\n",
              "</style>\n",
              "<table border=\"1\" class=\"dataframe\">\n",
              "  <thead>\n",
              "    <tr style=\"text-align: right;\">\n",
              "      <th></th>\n",
              "      <th>user_id</th>\n",
              "      <th>name</th>\n",
              "      <th>age</th>\n",
              "      <th>city</th>\n",
              "      <th>subscription_type</th>\n",
              "    </tr>\n",
              "  </thead>\n",
              "  <tbody>\n",
              "    <tr>\n",
              "      <th>296</th>\n",
              "      <td>297</td>\n",
              "      <td>Егор</td>\n",
              "      <td>33</td>\n",
              "      <td>Пятигорск</td>\n",
              "      <td>ultra</td>\n",
              "    </tr>\n",
              "    <tr>\n",
              "      <th>1552</th>\n",
              "      <td>297</td>\n",
              "      <td>Егор</td>\n",
              "      <td>33</td>\n",
              "      <td>Пятигорск</td>\n",
              "      <td>ultra</td>\n",
              "    </tr>\n",
              "  </tbody>\n",
              "</table>\n",
              "</div>"
            ],
            "text/plain": [
              "      user_id  name  age       city subscription_type\n",
              "296       297  Егор   33  Пятигорск             ultra\n",
              "1552      297  Егор   33  Пятигорск             ultra"
            ]
          },
          "metadata": {},
          "output_type": "display_data"
        },
        {
          "data": {
            "text/html": [
              "<div>\n",
              "<style scoped>\n",
              "    .dataframe tbody tr th:only-of-type {\n",
              "        vertical-align: middle;\n",
              "    }\n",
              "\n",
              "    .dataframe tbody tr th {\n",
              "        vertical-align: top;\n",
              "    }\n",
              "\n",
              "    .dataframe thead th {\n",
              "        text-align: right;\n",
              "    }\n",
              "</style>\n",
              "<table border=\"1\" class=\"dataframe\">\n",
              "  <thead>\n",
              "    <tr style=\"text-align: right;\">\n",
              "      <th></th>\n",
              "      <th>user_id</th>\n",
              "      <th>name</th>\n",
              "      <th>age</th>\n",
              "      <th>city</th>\n",
              "      <th>subscription_type</th>\n",
              "    </tr>\n",
              "  </thead>\n",
              "  <tbody>\n",
              "    <tr>\n",
              "      <th>120</th>\n",
              "      <td>121</td>\n",
              "      <td>Алина</td>\n",
              "      <td>25</td>\n",
              "      <td>Пятигорск</td>\n",
              "      <td>ultra</td>\n",
              "    </tr>\n",
              "    <tr>\n",
              "      <th>1553</th>\n",
              "      <td>121</td>\n",
              "      <td>Алина</td>\n",
              "      <td>25</td>\n",
              "      <td>Пятигорск</td>\n",
              "      <td>ultra</td>\n",
              "    </tr>\n",
              "  </tbody>\n",
              "</table>\n",
              "</div>"
            ],
            "text/plain": [
              "      user_id   name  age       city subscription_type\n",
              "120       121  Алина   25  Пятигорск             ultra\n",
              "1553      121  Алина   25  Пятигорск             ultra"
            ]
          },
          "metadata": {},
          "output_type": "display_data"
        },
        {
          "data": {
            "text/html": [
              "<div>\n",
              "<style scoped>\n",
              "    .dataframe tbody tr th:only-of-type {\n",
              "        vertical-align: middle;\n",
              "    }\n",
              "\n",
              "    .dataframe tbody tr th {\n",
              "        vertical-align: top;\n",
              "    }\n",
              "\n",
              "    .dataframe thead th {\n",
              "        text-align: right;\n",
              "    }\n",
              "</style>\n",
              "<table border=\"1\" class=\"dataframe\">\n",
              "  <thead>\n",
              "    <tr style=\"text-align: right;\">\n",
              "      <th></th>\n",
              "      <th>user_id</th>\n",
              "      <th>name</th>\n",
              "      <th>age</th>\n",
              "      <th>city</th>\n",
              "      <th>subscription_type</th>\n",
              "    </tr>\n",
              "  </thead>\n",
              "  <tbody>\n",
              "    <tr>\n",
              "      <th>1197</th>\n",
              "      <td>1198</td>\n",
              "      <td>Демид</td>\n",
              "      <td>29</td>\n",
              "      <td>Ростов-на-Дону</td>\n",
              "      <td>free</td>\n",
              "    </tr>\n",
              "    <tr>\n",
              "      <th>1554</th>\n",
              "      <td>1198</td>\n",
              "      <td>Демид</td>\n",
              "      <td>29</td>\n",
              "      <td>Ростов-на-Дону</td>\n",
              "      <td>free</td>\n",
              "    </tr>\n",
              "  </tbody>\n",
              "</table>\n",
              "</div>"
            ],
            "text/plain": [
              "      user_id   name  age            city subscription_type\n",
              "1197     1198  Демид   29  Ростов-на-Дону              free\n",
              "1554     1198  Демид   29  Ростов-на-Дону              free"
            ]
          },
          "metadata": {},
          "output_type": "display_data"
        },
        {
          "data": {
            "text/html": [
              "<div>\n",
              "<style scoped>\n",
              "    .dataframe tbody tr th:only-of-type {\n",
              "        vertical-align: middle;\n",
              "    }\n",
              "\n",
              "    .dataframe tbody tr th {\n",
              "        vertical-align: top;\n",
              "    }\n",
              "\n",
              "    .dataframe thead th {\n",
              "        text-align: right;\n",
              "    }\n",
              "</style>\n",
              "<table border=\"1\" class=\"dataframe\">\n",
              "  <thead>\n",
              "    <tr style=\"text-align: right;\">\n",
              "      <th></th>\n",
              "      <th>user_id</th>\n",
              "      <th>name</th>\n",
              "      <th>age</th>\n",
              "      <th>city</th>\n",
              "      <th>subscription_type</th>\n",
              "    </tr>\n",
              "  </thead>\n",
              "  <tbody>\n",
              "    <tr>\n",
              "      <th>71</th>\n",
              "      <td>72</td>\n",
              "      <td>Никита</td>\n",
              "      <td>25</td>\n",
              "      <td>Москва</td>\n",
              "      <td>ultra</td>\n",
              "    </tr>\n",
              "    <tr>\n",
              "      <th>1555</th>\n",
              "      <td>72</td>\n",
              "      <td>Никита</td>\n",
              "      <td>25</td>\n",
              "      <td>Москва</td>\n",
              "      <td>ultra</td>\n",
              "    </tr>\n",
              "  </tbody>\n",
              "</table>\n",
              "</div>"
            ],
            "text/plain": [
              "      user_id    name  age    city subscription_type\n",
              "71         72  Никита   25  Москва             ultra\n",
              "1555       72  Никита   25  Москва             ultra"
            ]
          },
          "metadata": {},
          "output_type": "display_data"
        },
        {
          "data": {
            "text/html": [
              "<div>\n",
              "<style scoped>\n",
              "    .dataframe tbody tr th:only-of-type {\n",
              "        vertical-align: middle;\n",
              "    }\n",
              "\n",
              "    .dataframe tbody tr th {\n",
              "        vertical-align: top;\n",
              "    }\n",
              "\n",
              "    .dataframe thead th {\n",
              "        text-align: right;\n",
              "    }\n",
              "</style>\n",
              "<table border=\"1\" class=\"dataframe\">\n",
              "  <thead>\n",
              "    <tr style=\"text-align: right;\">\n",
              "      <th></th>\n",
              "      <th>user_id</th>\n",
              "      <th>name</th>\n",
              "      <th>age</th>\n",
              "      <th>city</th>\n",
              "      <th>subscription_type</th>\n",
              "    </tr>\n",
              "  </thead>\n",
              "  <tbody>\n",
              "    <tr>\n",
              "      <th>421</th>\n",
              "      <td>422</td>\n",
              "      <td>Кирилл</td>\n",
              "      <td>27</td>\n",
              "      <td>Сочи</td>\n",
              "      <td>ultra</td>\n",
              "    </tr>\n",
              "    <tr>\n",
              "      <th>1556</th>\n",
              "      <td>422</td>\n",
              "      <td>Кирилл</td>\n",
              "      <td>27</td>\n",
              "      <td>Сочи</td>\n",
              "      <td>ultra</td>\n",
              "    </tr>\n",
              "  </tbody>\n",
              "</table>\n",
              "</div>"
            ],
            "text/plain": [
              "      user_id    name  age  city subscription_type\n",
              "421       422  Кирилл   27  Сочи             ultra\n",
              "1556      422  Кирилл   27  Сочи             ultra"
            ]
          },
          "metadata": {},
          "output_type": "display_data"
        },
        {
          "data": {
            "text/html": [
              "<div>\n",
              "<style scoped>\n",
              "    .dataframe tbody tr th:only-of-type {\n",
              "        vertical-align: middle;\n",
              "    }\n",
              "\n",
              "    .dataframe tbody tr th {\n",
              "        vertical-align: top;\n",
              "    }\n",
              "\n",
              "    .dataframe thead th {\n",
              "        text-align: right;\n",
              "    }\n",
              "</style>\n",
              "<table border=\"1\" class=\"dataframe\">\n",
              "  <thead>\n",
              "    <tr style=\"text-align: right;\">\n",
              "      <th></th>\n",
              "      <th>user_id</th>\n",
              "      <th>name</th>\n",
              "      <th>age</th>\n",
              "      <th>city</th>\n",
              "      <th>subscription_type</th>\n",
              "    </tr>\n",
              "  </thead>\n",
              "  <tbody>\n",
              "    <tr>\n",
              "      <th>610</th>\n",
              "      <td>611</td>\n",
              "      <td>Владимир</td>\n",
              "      <td>28</td>\n",
              "      <td>Омск</td>\n",
              "      <td>ultra</td>\n",
              "    </tr>\n",
              "    <tr>\n",
              "      <th>1557</th>\n",
              "      <td>611</td>\n",
              "      <td>Владимир</td>\n",
              "      <td>28</td>\n",
              "      <td>Омск</td>\n",
              "      <td>ultra</td>\n",
              "    </tr>\n",
              "  </tbody>\n",
              "</table>\n",
              "</div>"
            ],
            "text/plain": [
              "      user_id      name  age  city subscription_type\n",
              "610       611  Владимир   28  Омск             ultra\n",
              "1557      611  Владимир   28  Омск             ultra"
            ]
          },
          "metadata": {},
          "output_type": "display_data"
        },
        {
          "data": {
            "text/html": [
              "<div>\n",
              "<style scoped>\n",
              "    .dataframe tbody tr th:only-of-type {\n",
              "        vertical-align: middle;\n",
              "    }\n",
              "\n",
              "    .dataframe tbody tr th {\n",
              "        vertical-align: top;\n",
              "    }\n",
              "\n",
              "    .dataframe thead th {\n",
              "        text-align: right;\n",
              "    }\n",
              "</style>\n",
              "<table border=\"1\" class=\"dataframe\">\n",
              "  <thead>\n",
              "    <tr style=\"text-align: right;\">\n",
              "      <th></th>\n",
              "      <th>user_id</th>\n",
              "      <th>name</th>\n",
              "      <th>age</th>\n",
              "      <th>city</th>\n",
              "      <th>subscription_type</th>\n",
              "    </tr>\n",
              "  </thead>\n",
              "  <tbody>\n",
              "    <tr>\n",
              "      <th>1236</th>\n",
              "      <td>1237</td>\n",
              "      <td>Евгения</td>\n",
              "      <td>23</td>\n",
              "      <td>Тюмень</td>\n",
              "      <td>free</td>\n",
              "    </tr>\n",
              "    <tr>\n",
              "      <th>1558</th>\n",
              "      <td>1237</td>\n",
              "      <td>Евгения</td>\n",
              "      <td>23</td>\n",
              "      <td>Тюмень</td>\n",
              "      <td>free</td>\n",
              "    </tr>\n",
              "  </tbody>\n",
              "</table>\n",
              "</div>"
            ],
            "text/plain": [
              "      user_id     name  age    city subscription_type\n",
              "1236     1237  Евгения   23  Тюмень              free\n",
              "1558     1237  Евгения   23  Тюмень              free"
            ]
          },
          "metadata": {},
          "output_type": "display_data"
        },
        {
          "data": {
            "text/html": [
              "<div>\n",
              "<style scoped>\n",
              "    .dataframe tbody tr th:only-of-type {\n",
              "        vertical-align: middle;\n",
              "    }\n",
              "\n",
              "    .dataframe tbody tr th {\n",
              "        vertical-align: top;\n",
              "    }\n",
              "\n",
              "    .dataframe thead th {\n",
              "        text-align: right;\n",
              "    }\n",
              "</style>\n",
              "<table border=\"1\" class=\"dataframe\">\n",
              "  <thead>\n",
              "    <tr style=\"text-align: right;\">\n",
              "      <th></th>\n",
              "      <th>user_id</th>\n",
              "      <th>name</th>\n",
              "      <th>age</th>\n",
              "      <th>city</th>\n",
              "      <th>subscription_type</th>\n",
              "    </tr>\n",
              "  </thead>\n",
              "  <tbody>\n",
              "    <tr>\n",
              "      <th>208</th>\n",
              "      <td>209</td>\n",
              "      <td>Андрей</td>\n",
              "      <td>23</td>\n",
              "      <td>Омск</td>\n",
              "      <td>ultra</td>\n",
              "    </tr>\n",
              "    <tr>\n",
              "      <th>1559</th>\n",
              "      <td>209</td>\n",
              "      <td>Андрей</td>\n",
              "      <td>23</td>\n",
              "      <td>Омск</td>\n",
              "      <td>ultra</td>\n",
              "    </tr>\n",
              "  </tbody>\n",
              "</table>\n",
              "</div>"
            ],
            "text/plain": [
              "      user_id    name  age  city subscription_type\n",
              "208       209  Андрей   23  Омск             ultra\n",
              "1559      209  Андрей   23  Омск             ultra"
            ]
          },
          "metadata": {},
          "output_type": "display_data"
        },
        {
          "data": {
            "text/html": [
              "<div>\n",
              "<style scoped>\n",
              "    .dataframe tbody tr th:only-of-type {\n",
              "        vertical-align: middle;\n",
              "    }\n",
              "\n",
              "    .dataframe tbody tr th {\n",
              "        vertical-align: top;\n",
              "    }\n",
              "\n",
              "    .dataframe thead th {\n",
              "        text-align: right;\n",
              "    }\n",
              "</style>\n",
              "<table border=\"1\" class=\"dataframe\">\n",
              "  <thead>\n",
              "    <tr style=\"text-align: right;\">\n",
              "      <th></th>\n",
              "      <th>user_id</th>\n",
              "      <th>name</th>\n",
              "      <th>age</th>\n",
              "      <th>city</th>\n",
              "      <th>subscription_type</th>\n",
              "    </tr>\n",
              "  </thead>\n",
              "  <tbody>\n",
              "    <tr>\n",
              "      <th>828</th>\n",
              "      <td>829</td>\n",
              "      <td>Федор</td>\n",
              "      <td>29</td>\n",
              "      <td>Пятигорск</td>\n",
              "      <td>free</td>\n",
              "    </tr>\n",
              "    <tr>\n",
              "      <th>1560</th>\n",
              "      <td>829</td>\n",
              "      <td>Федор</td>\n",
              "      <td>29</td>\n",
              "      <td>Пятигорск</td>\n",
              "      <td>free</td>\n",
              "    </tr>\n",
              "  </tbody>\n",
              "</table>\n",
              "</div>"
            ],
            "text/plain": [
              "      user_id   name  age       city subscription_type\n",
              "828       829  Федор   29  Пятигорск              free\n",
              "1560      829  Федор   29  Пятигорск              free"
            ]
          },
          "metadata": {},
          "output_type": "display_data"
        },
        {
          "data": {
            "text/html": [
              "<div>\n",
              "<style scoped>\n",
              "    .dataframe tbody tr th:only-of-type {\n",
              "        vertical-align: middle;\n",
              "    }\n",
              "\n",
              "    .dataframe tbody tr th {\n",
              "        vertical-align: top;\n",
              "    }\n",
              "\n",
              "    .dataframe thead th {\n",
              "        text-align: right;\n",
              "    }\n",
              "</style>\n",
              "<table border=\"1\" class=\"dataframe\">\n",
              "  <thead>\n",
              "    <tr style=\"text-align: right;\">\n",
              "      <th></th>\n",
              "      <th>user_id</th>\n",
              "      <th>name</th>\n",
              "      <th>age</th>\n",
              "      <th>city</th>\n",
              "      <th>subscription_type</th>\n",
              "    </tr>\n",
              "  </thead>\n",
              "  <tbody>\n",
              "    <tr>\n",
              "      <th>808</th>\n",
              "      <td>809</td>\n",
              "      <td>Юрий</td>\n",
              "      <td>26</td>\n",
              "      <td>Сочи</td>\n",
              "      <td>free</td>\n",
              "    </tr>\n",
              "    <tr>\n",
              "      <th>1561</th>\n",
              "      <td>809</td>\n",
              "      <td>Юрий</td>\n",
              "      <td>26</td>\n",
              "      <td>Сочи</td>\n",
              "      <td>free</td>\n",
              "    </tr>\n",
              "  </tbody>\n",
              "</table>\n",
              "</div>"
            ],
            "text/plain": [
              "      user_id  name  age  city subscription_type\n",
              "808       809  Юрий   26  Сочи              free\n",
              "1561      809  Юрий   26  Сочи              free"
            ]
          },
          "metadata": {},
          "output_type": "display_data"
        },
        {
          "data": {
            "text/html": [
              "<div>\n",
              "<style scoped>\n",
              "    .dataframe tbody tr th:only-of-type {\n",
              "        vertical-align: middle;\n",
              "    }\n",
              "\n",
              "    .dataframe tbody tr th {\n",
              "        vertical-align: top;\n",
              "    }\n",
              "\n",
              "    .dataframe thead th {\n",
              "        text-align: right;\n",
              "    }\n",
              "</style>\n",
              "<table border=\"1\" class=\"dataframe\">\n",
              "  <thead>\n",
              "    <tr style=\"text-align: right;\">\n",
              "      <th></th>\n",
              "      <th>user_id</th>\n",
              "      <th>name</th>\n",
              "      <th>age</th>\n",
              "      <th>city</th>\n",
              "      <th>subscription_type</th>\n",
              "    </tr>\n",
              "  </thead>\n",
              "  <tbody>\n",
              "    <tr>\n",
              "      <th>306</th>\n",
              "      <td>307</td>\n",
              "      <td>Ясмина</td>\n",
              "      <td>19</td>\n",
              "      <td>Краснодар</td>\n",
              "      <td>ultra</td>\n",
              "    </tr>\n",
              "    <tr>\n",
              "      <th>1562</th>\n",
              "      <td>307</td>\n",
              "      <td>Ясмина</td>\n",
              "      <td>19</td>\n",
              "      <td>Краснодар</td>\n",
              "      <td>ultra</td>\n",
              "    </tr>\n",
              "  </tbody>\n",
              "</table>\n",
              "</div>"
            ],
            "text/plain": [
              "      user_id    name  age       city subscription_type\n",
              "306       307  Ясмина   19  Краснодар             ultra\n",
              "1562      307  Ясмина   19  Краснодар             ultra"
            ]
          },
          "metadata": {},
          "output_type": "display_data"
        },
        {
          "data": {
            "text/html": [
              "<div>\n",
              "<style scoped>\n",
              "    .dataframe tbody tr th:only-of-type {\n",
              "        vertical-align: middle;\n",
              "    }\n",
              "\n",
              "    .dataframe tbody tr th {\n",
              "        vertical-align: top;\n",
              "    }\n",
              "\n",
              "    .dataframe thead th {\n",
              "        text-align: right;\n",
              "    }\n",
              "</style>\n",
              "<table border=\"1\" class=\"dataframe\">\n",
              "  <thead>\n",
              "    <tr style=\"text-align: right;\">\n",
              "      <th></th>\n",
              "      <th>user_id</th>\n",
              "      <th>name</th>\n",
              "      <th>age</th>\n",
              "      <th>city</th>\n",
              "      <th>subscription_type</th>\n",
              "    </tr>\n",
              "  </thead>\n",
              "  <tbody>\n",
              "    <tr>\n",
              "      <th>46</th>\n",
              "      <td>47</td>\n",
              "      <td>Юрий</td>\n",
              "      <td>28</td>\n",
              "      <td>Тюмень</td>\n",
              "      <td>ultra</td>\n",
              "    </tr>\n",
              "    <tr>\n",
              "      <th>1563</th>\n",
              "      <td>47</td>\n",
              "      <td>Юрий</td>\n",
              "      <td>28</td>\n",
              "      <td>Тюмень</td>\n",
              "      <td>ultra</td>\n",
              "    </tr>\n",
              "  </tbody>\n",
              "</table>\n",
              "</div>"
            ],
            "text/plain": [
              "      user_id  name  age    city subscription_type\n",
              "46         47  Юрий   28  Тюмень             ultra\n",
              "1563       47  Юрий   28  Тюмень             ultra"
            ]
          },
          "metadata": {},
          "output_type": "display_data"
        },
        {
          "data": {
            "text/html": [
              "<div>\n",
              "<style scoped>\n",
              "    .dataframe tbody tr th:only-of-type {\n",
              "        vertical-align: middle;\n",
              "    }\n",
              "\n",
              "    .dataframe tbody tr th {\n",
              "        vertical-align: top;\n",
              "    }\n",
              "\n",
              "    .dataframe thead th {\n",
              "        text-align: right;\n",
              "    }\n",
              "</style>\n",
              "<table border=\"1\" class=\"dataframe\">\n",
              "  <thead>\n",
              "    <tr style=\"text-align: right;\">\n",
              "      <th></th>\n",
              "      <th>user_id</th>\n",
              "      <th>name</th>\n",
              "      <th>age</th>\n",
              "      <th>city</th>\n",
              "      <th>subscription_type</th>\n",
              "    </tr>\n",
              "  </thead>\n",
              "  <tbody>\n",
              "    <tr>\n",
              "      <th>1044</th>\n",
              "      <td>1045</td>\n",
              "      <td>Артемий</td>\n",
              "      <td>28</td>\n",
              "      <td>Ростов-на-Дону</td>\n",
              "      <td>free</td>\n",
              "    </tr>\n",
              "    <tr>\n",
              "      <th>1564</th>\n",
              "      <td>1045</td>\n",
              "      <td>Артемий</td>\n",
              "      <td>28</td>\n",
              "      <td>Ростов-на-Дону</td>\n",
              "      <td>free</td>\n",
              "    </tr>\n",
              "  </tbody>\n",
              "</table>\n",
              "</div>"
            ],
            "text/plain": [
              "      user_id     name  age            city subscription_type\n",
              "1044     1045  Артемий   28  Ростов-на-Дону              free\n",
              "1564     1045  Артемий   28  Ростов-на-Дону              free"
            ]
          },
          "metadata": {},
          "output_type": "display_data"
        }
      ],
      "source": [
        "# Выведем дубликаты\n",
        "for i in users[users.duplicated()]['user_id']:\n",
        "    display(users[users['user_id'] == i])"
      ]
    },
    {
      "cell_type": "code",
      "execution_count": null,
      "id": "7c821676",
      "metadata": {
        "id": "7c821676",
        "outputId": "c7120174-580b-4422-9d5f-ab679620d7dc"
      },
      "outputs": [
        {
          "name": "stdout",
          "output_type": "stream",
          "text": [
            "Количество дубликатов в users: 0\n"
          ]
        }
      ],
      "source": [
        "# Удалим дубликаты\n",
        "users = users.drop_duplicates()\n",
        "print(f'Количество дубликатов в users: {users.duplicated().sum()}')"
      ]
    },
    {
      "cell_type": "code",
      "execution_count": null,
      "id": "fb80280c",
      "metadata": {
        "id": "fb80280c",
        "outputId": "f98849a4-80aa-406b-9871-681dfae08d0a"
      },
      "outputs": [
        {
          "name": "stdout",
          "output_type": "stream",
          "text": [
            "Количество пропущенных значений в users:\n",
            "user_id              0\n",
            "name                 0\n",
            "age                  0\n",
            "city                 0\n",
            "subscription_type    0\n",
            "dtype: int64\n",
            "\n",
            "Количество пропущенных значений в rides:\n",
            "user_id     0\n",
            "distance    0\n",
            "duration    0\n",
            "date        0\n",
            "month       0\n",
            "dtype: int64\n"
          ]
        }
      ],
      "source": [
        "# Посчитаем количество пропусков в данных\n",
        "print('Количество пропущенных значений в users:')\n",
        "print(users.isna().sum())\n",
        "print()\n",
        "print('Количество пропущенных значений в rides:')\n",
        "print(rides.isna().sum())"
      ]
    },
    {
      "cell_type": "markdown",
      "id": "d40901c6",
      "metadata": {
        "id": "d40901c6"
      },
      "source": [
        "В ходе предобработки были выполненны следующие шаги:  \n",
        "- Преобразован тип данных в переменной `date` из object в datetime;  \n",
        "- Выделены в отдельный признак номера месяцев;  \n",
        "- Найдены и удалены дубликаты;  \n",
        "- Данные проверены на наличие пропущенных значений (не обнаружено)."
      ]
    },
    {
      "cell_type": "markdown",
      "id": "212593c7",
      "metadata": {
        "id": "212593c7"
      },
      "source": [
        "#### Шаг 3. Исследовательский анализ данных"
      ]
    },
    {
      "cell_type": "code",
      "execution_count": null,
      "id": "e3a4274c",
      "metadata": {
        "id": "e3a4274c",
        "outputId": "fa54decc-a410-423d-b692-ed89bfc01849"
      },
      "outputs": [
        {
          "data": {
            "image/png": "[encoded data removed]",
            "text/plain": [
              "<Figure size 864x432 with 1 Axes>"
            ]
          },
          "metadata": {
            "needs_background": "light"
          },
          "output_type": "display_data"
        }
      ],
      "source": [
        "# Визуализируем частоту встречаемости городов\n",
        "users['city'].value_counts()\\\n",
        "             .plot(kind='barh',\n",
        "                   figsize=(12, 6))\n",
        "plt.title('Количество пользователей по городам')\n",
        "plt.ylabel('Название города')\n",
        "plt.xlabel('Количество пользователей в городе')\n",
        "plt.xlim(left=150) # Отбросила значения до 150, т.к. городов с меньшей частотой в датасете не представлено.\n",
        "plt.show()"
      ]
    },
    {
      "cell_type": "code",
      "execution_count": null,
      "id": "9bcb066b",
      "metadata": {
        "id": "9bcb066b",
        "outputId": "07602510-3868-412a-b493-7275453f8dd0"
      },
      "outputs": [
        {
          "name": "stdout",
          "output_type": "stream",
          "text": [
            "Доля встречаемости каждого города:\n",
            "Пятигорск         0.14\n",
            "Екатеринбург      0.13\n",
            "Ростов-на-Дону    0.13\n",
            "Краснодар         0.13\n",
            "Сочи              0.12\n",
            "Омск              0.12\n",
            "Тюмень            0.12\n",
            "Москва            0.11\n",
            "Name: city, dtype: float64\n"
          ]
        }
      ],
      "source": [
        "print('Доля встречаемости каждого города:')\n",
        "print(round(users['city'].value_counts()/\n",
        "            users['city'].count(), 2))"
      ]
    },
    {
      "cell_type": "markdown",
      "id": "c55d01c6",
      "metadata": {
        "id": "c55d01c6"
      },
      "source": [
        "Больше всего пользователей в Пятигорске, меньше всего в Москве, однако в процентном соотношении разница составляет около 3%."
      ]
    },
    {
      "cell_type": "code",
      "execution_count": null,
      "id": "5b8ae79e",
      "metadata": {
        "id": "5b8ae79e",
        "outputId": "48ed732d-c97c-472d-94bb-f51097f37c8b"
      },
      "outputs": [
        {
          "data": {
            "image/png": "[encoded data removed]",
            "text/plain": [
              "<Figure size 576x576 with 1 Axes>"
            ]
          },
          "metadata": {},
          "output_type": "display_data"
        }
      ],
      "source": [
        "# Соотношение пользователей с подпиской и без подписки\n",
        "users.pivot_table(\n",
        "    index='subscription_type',\n",
        "    values='user_id',\n",
        "    aggfunc='count')\\\n",
        "    .rename(index={\n",
        "    'free': 'Без подписки',\n",
        "    'ultra': 'С подпиской'})\\\n",
        "    .plot(kind='pie',\n",
        "          figsize=(8,8),\n",
        "          subplots=True,\n",
        "          wedgeprops = { 'linewidth' : 3,\n",
        "                         'edgecolor' : 'white' })\n",
        "plt.title('Количество пользователей по типу подписки')\n",
        "plt.show();"
      ]
    },
    {
      "cell_type": "code",
      "execution_count": null,
      "id": "059ddf0d",
      "metadata": {
        "id": "059ddf0d",
        "outputId": "6a16dacc-4b41-40ae-e344-3d60c4a0d512"
      },
      "outputs": [
        {
          "name": "stdout",
          "output_type": "stream",
          "text": [
            "Доля пользователей с подпиской: 0.46\n",
            "Доля пользователей без подписки: 0.54\n"
          ]
        }
      ],
      "source": [
        "print('Доля пользователей с подпиской:',\n",
        "      round(users.query('subscription_type == \"ultra\"')\n",
        "      ['user_id'].count()/users['user_id'].count(), 2))\n",
        "print('Доля пользователей без подписки:',\n",
        "      round(users.query('subscription_type == \"free\"')\n",
        "      ['user_id'].count()/users['user_id'].count(), 2))"
      ]
    },
    {
      "cell_type": "markdown",
      "id": "cc1da047",
      "metadata": {
        "id": "cc1da047"
      },
      "source": [
        "Пользователей с подпиской на 8% меньше, чем без подписки."
      ]
    },
    {
      "cell_type": "code",
      "execution_count": null,
      "id": "cae33fec",
      "metadata": {
        "id": "cae33fec",
        "outputId": "fc312e48-bfbc-40e8-8dbe-1a29c8957bb8"
      },
      "outputs": [
        {
          "data": {
            "image/png": "[encoded data removed]",
            "text/plain": [
              "<Figure size 720x432 with 1 Axes>"
            ]
          },
          "metadata": {
            "needs_background": "light"
          },
          "output_type": "display_data"
        }
      ],
      "source": [
        "# Возраст пользователей\n",
        "users['age'].plot(\n",
        "    kind='hist',\n",
        "    grid=True,\n",
        "    bins=30,\n",
        "    figsize=(10,6))\n",
        "plt.title('Распределение пользователей по возрасту')\n",
        "plt.xlabel('Возраст, лет')\n",
        "plt.ylabel('Количество пользователей')\n",
        "plt.show();"
      ]
    },
    {
      "cell_type": "code",
      "execution_count": null,
      "id": "5f4c1674",
      "metadata": {
        "id": "5f4c1674",
        "outputId": "a03a034e-333f-4d8d-90b4-df9570c090ee"
      },
      "outputs": [
        {
          "data": {
            "text/plain": [
              "count    1534.000000\n",
              "mean       24.903520\n",
              "std         4.572367\n",
              "min        12.000000\n",
              "25%        22.000000\n",
              "50%        25.000000\n",
              "75%        28.000000\n",
              "max        43.000000\n",
              "Name: age, dtype: float64"
            ]
          },
          "execution_count": 19,
          "metadata": {},
          "output_type": "execute_result"
        }
      ],
      "source": [
        "users['age'].describe()"
      ]
    },
    {
      "cell_type": "markdown",
      "id": "a8898351",
      "metadata": {
        "id": "a8898351"
      },
      "source": [
        "Распределение пользователей по возрасту можно описать нормальным законом распределения, средний возраст совпадает с медианным и составляет 25 лет, аномальных значений не обнаружено: самому юному пользователю 12 лет, самому взрослому - 43."
      ]
    },
    {
      "cell_type": "code",
      "execution_count": null,
      "id": "ef9f0981",
      "metadata": {
        "id": "ef9f0981",
        "outputId": "5ea06adf-c38b-4210-9e7a-7812602f6ea9"
      },
      "outputs": [
        {
          "data": {
            "image/png": "[encoded data removed]",
            "text/plain": [
              "<Figure size 720x432 with 1 Axes>"
            ]
          },
          "metadata": {
            "needs_background": "light"
          },
          "output_type": "display_data"
        }
      ],
      "source": [
        "# Расстояние, которое пользователь преодолел за одну поездку\n",
        "rides['distance'].plot(\n",
        "    kind='hist',\n",
        "    bins=30,\n",
        "    grid=True,\n",
        "    figsize=(10,6))\n",
        "plt.title('Распределение поездок по протяженности маршрута')\n",
        "plt.xlabel('Расстояние, преодолеваемое за одну поездку, м.')\n",
        "plt.ylabel('Количество поездок')\n",
        "plt.show();"
      ]
    },
    {
      "cell_type": "code",
      "execution_count": null,
      "id": "2f1f9f77",
      "metadata": {
        "id": "2f1f9f77",
        "outputId": "59609994-bd1c-4328-a131-a20319f5924a"
      },
      "outputs": [
        {
          "data": {
            "text/plain": [
              "count    18068.000000\n",
              "mean      3070.659976\n",
              "std       1116.831209\n",
              "min          0.855683\n",
              "25%       2543.226360\n",
              "50%       3133.609994\n",
              "75%       3776.222735\n",
              "max       7211.007745\n",
              "Name: distance, dtype: float64"
            ]
          },
          "execution_count": 21,
          "metadata": {},
          "output_type": "execute_result"
        }
      ],
      "source": [
        "rides['distance'].describe()"
      ]
    },
    {
      "cell_type": "markdown",
      "id": "814e8fe5",
      "metadata": {
        "id": "814e8fe5"
      },
      "source": [
        "Распределение поездок по протяженности маршрута также близко к нормальному, среднее расстояние составляет 3070,66, а медианное - 3133,61. При этом помимо основного пика распределения на промежутке 3000 - 3200 м. можно увидеть, что относительно часто встречаются и поездки от 200 до 1000 м."
      ]
    },
    {
      "cell_type": "code",
      "execution_count": null,
      "id": "40c489de",
      "metadata": {
        "id": "40c489de",
        "outputId": "3b5ba2bf-1b5c-4e53-d774-39342f799186"
      },
      "outputs": [
        {
          "data": {
            "image/png": "[encoded data removed]",
            "text/plain": [
              "<Figure size 720x432 with 1 Axes>"
            ]
          },
          "metadata": {
            "needs_background": "light"
          },
          "output_type": "display_data"
        }
      ],
      "source": [
        "# Продолжительность поездок\n",
        "rides['duration'].plot(\n",
        "    kind='hist',\n",
        "    bins=30,\n",
        "    grid=True,\n",
        "    figsize=(10,6))\n",
        "plt.title('Распределение поездок по продолжительности')\n",
        "plt.xlabel('Продолжительность поездки, мин.')\n",
        "plt.ylabel('Количество поездок')\n",
        "plt.show();"
      ]
    },
    {
      "cell_type": "code",
      "execution_count": null,
      "id": "fe31575b",
      "metadata": {
        "id": "fe31575b",
        "outputId": "b6b8193e-c81a-4f76-fca4-92f737c0328a"
      },
      "outputs": [
        {
          "data": {
            "text/plain": [
              "count    18068.000000\n",
              "mean        17.805011\n",
              "std          6.091051\n",
              "min          0.500000\n",
              "25%         13.597563\n",
              "50%         17.678395\n",
              "75%         21.724800\n",
              "max         40.823963\n",
              "Name: duration, dtype: float64"
            ]
          },
          "execution_count": 23,
          "metadata": {},
          "output_type": "execute_result"
        }
      ],
      "source": [
        "rides['duration'].describe()"
      ]
    },
    {
      "cell_type": "markdown",
      "id": "b9eea0cd",
      "metadata": {
        "id": "b9eea0cd"
      },
      "source": [
        "Распределение поездок по продолжительности также можно описать нормальным законом распределения, средняя длительность (17,8) почти совпадает с медианной (17,7), аномально больших значений не обнаружено, но самая короткая поездка составила половину минуты. Не будем удалять это значение, поскольку в датасете есть поездки на небольшие расстояния и это значение может быть не выбросом."
      ]
    },
    {
      "cell_type": "markdown",
      "id": "4ef51331",
      "metadata": {
        "id": "4ef51331"
      },
      "source": [
        "#### Шаг 4. Объединение данных"
      ]
    },
    {
      "cell_type": "code",
      "execution_count": null,
      "id": "6bf288b5",
      "metadata": {
        "id": "6bf288b5",
        "outputId": "9dd91d21-3214-4f22-b550-f59cf0b4184e"
      },
      "outputs": [
        {
          "name": "stdout",
          "output_type": "stream",
          "text": [
            "<class 'pandas.core.frame.DataFrame'>\n",
            "Int64Index: 18068 entries, 0 to 18067\n",
            "Data columns (total 12 columns):\n",
            " #   Column             Non-Null Count  Dtype         \n",
            "---  ------             --------------  -----         \n",
            " 0   user_id            18068 non-null  int64         \n",
            " 1   distance           18068 non-null  float64       \n",
            " 2   duration           18068 non-null  float64       \n",
            " 3   date               18068 non-null  datetime64[ns]\n",
            " 4   month              18068 non-null  int64         \n",
            " 5   name               18068 non-null  object        \n",
            " 6   age                18068 non-null  int64         \n",
            " 7   city               18068 non-null  object        \n",
            " 8   subscription_type  18068 non-null  object        \n",
            " 9   minute_price       18068 non-null  int64         \n",
            " 10  start_ride_price   18068 non-null  int64         \n",
            " 11  subscription_fee   18068 non-null  int64         \n",
            "dtypes: datetime64[ns](1), float64(2), int64(6), object(3)\n",
            "memory usage: 1.8+ MB\n"
          ]
        }
      ],
      "source": [
        "# Объединим данные\n",
        "df = pd.merge(left=rides, right=users, on='user_id')\n",
        "df = df.merge(subscriptions, on='subscription_type')\n",
        "\n",
        "df.info()"
      ]
    },
    {
      "cell_type": "code",
      "execution_count": null,
      "id": "d421ccb8",
      "metadata": {
        "id": "d421ccb8",
        "outputId": "d0584b2c-c043-4295-aac9-19324bbbbb85"
      },
      "outputs": [
        {
          "data": {
            "text/html": [
              "<div>\n",
              "<style scoped>\n",
              "    .dataframe tbody tr th:only-of-type {\n",
              "        vertical-align: middle;\n",
              "    }\n",
              "\n",
              "    .dataframe tbody tr th {\n",
              "        vertical-align: top;\n",
              "    }\n",
              "\n",
              "    .dataframe thead th {\n",
              "        text-align: right;\n",
              "    }\n",
              "</style>\n",
              "<table border=\"1\" class=\"dataframe\">\n",
              "  <thead>\n",
              "    <tr style=\"text-align: right;\">\n",
              "      <th></th>\n",
              "      <th>user_id</th>\n",
              "      <th>distance</th>\n",
              "      <th>duration</th>\n",
              "      <th>date</th>\n",
              "      <th>month</th>\n",
              "      <th>name</th>\n",
              "      <th>age</th>\n",
              "      <th>city</th>\n",
              "      <th>subscription_type</th>\n",
              "      <th>minute_price</th>\n",
              "      <th>start_ride_price</th>\n",
              "      <th>subscription_fee</th>\n",
              "    </tr>\n",
              "  </thead>\n",
              "  <tbody>\n",
              "    <tr>\n",
              "      <th>0</th>\n",
              "      <td>1</td>\n",
              "      <td>4409.919140</td>\n",
              "      <td>25.599769</td>\n",
              "      <td>2021-01-01</td>\n",
              "      <td>1</td>\n",
              "      <td>Кира</td>\n",
              "      <td>22</td>\n",
              "      <td>Тюмень</td>\n",
              "      <td>ultra</td>\n",
              "      <td>6</td>\n",
              "      <td>0</td>\n",
              "      <td>199</td>\n",
              "    </tr>\n",
              "    <tr>\n",
              "      <th>1</th>\n",
              "      <td>1</td>\n",
              "      <td>2617.592153</td>\n",
              "      <td>15.816871</td>\n",
              "      <td>2021-01-18</td>\n",
              "      <td>1</td>\n",
              "      <td>Кира</td>\n",
              "      <td>22</td>\n",
              "      <td>Тюмень</td>\n",
              "      <td>ultra</td>\n",
              "      <td>6</td>\n",
              "      <td>0</td>\n",
              "      <td>199</td>\n",
              "    </tr>\n",
              "    <tr>\n",
              "      <th>2</th>\n",
              "      <td>1</td>\n",
              "      <td>754.159807</td>\n",
              "      <td>6.232113</td>\n",
              "      <td>2021-04-20</td>\n",
              "      <td>4</td>\n",
              "      <td>Кира</td>\n",
              "      <td>22</td>\n",
              "      <td>Тюмень</td>\n",
              "      <td>ultra</td>\n",
              "      <td>6</td>\n",
              "      <td>0</td>\n",
              "      <td>199</td>\n",
              "    </tr>\n",
              "    <tr>\n",
              "      <th>3</th>\n",
              "      <td>1</td>\n",
              "      <td>2694.783254</td>\n",
              "      <td>18.511000</td>\n",
              "      <td>2021-08-11</td>\n",
              "      <td>8</td>\n",
              "      <td>Кира</td>\n",
              "      <td>22</td>\n",
              "      <td>Тюмень</td>\n",
              "      <td>ultra</td>\n",
              "      <td>6</td>\n",
              "      <td>0</td>\n",
              "      <td>199</td>\n",
              "    </tr>\n",
              "    <tr>\n",
              "      <th>4</th>\n",
              "      <td>1</td>\n",
              "      <td>4028.687306</td>\n",
              "      <td>26.265803</td>\n",
              "      <td>2021-08-28</td>\n",
              "      <td>8</td>\n",
              "      <td>Кира</td>\n",
              "      <td>22</td>\n",
              "      <td>Тюмень</td>\n",
              "      <td>ultra</td>\n",
              "      <td>6</td>\n",
              "      <td>0</td>\n",
              "      <td>199</td>\n",
              "    </tr>\n",
              "    <tr>\n",
              "      <th>5</th>\n",
              "      <td>1</td>\n",
              "      <td>2770.890808</td>\n",
              "      <td>16.650138</td>\n",
              "      <td>2021-10-09</td>\n",
              "      <td>10</td>\n",
              "      <td>Кира</td>\n",
              "      <td>22</td>\n",
              "      <td>Тюмень</td>\n",
              "      <td>ultra</td>\n",
              "      <td>6</td>\n",
              "      <td>0</td>\n",
              "      <td>199</td>\n",
              "    </tr>\n",
              "    <tr>\n",
              "      <th>6</th>\n",
              "      <td>1</td>\n",
              "      <td>3039.020292</td>\n",
              "      <td>14.927879</td>\n",
              "      <td>2021-10-19</td>\n",
              "      <td>10</td>\n",
              "      <td>Кира</td>\n",
              "      <td>22</td>\n",
              "      <td>Тюмень</td>\n",
              "      <td>ultra</td>\n",
              "      <td>6</td>\n",
              "      <td>0</td>\n",
              "      <td>199</td>\n",
              "    </tr>\n",
              "    <tr>\n",
              "      <th>7</th>\n",
              "      <td>1</td>\n",
              "      <td>2842.118050</td>\n",
              "      <td>23.117468</td>\n",
              "      <td>2021-11-06</td>\n",
              "      <td>11</td>\n",
              "      <td>Кира</td>\n",
              "      <td>22</td>\n",
              "      <td>Тюмень</td>\n",
              "      <td>ultra</td>\n",
              "      <td>6</td>\n",
              "      <td>0</td>\n",
              "      <td>199</td>\n",
              "    </tr>\n",
              "    <tr>\n",
              "      <th>8</th>\n",
              "      <td>1</td>\n",
              "      <td>3412.690668</td>\n",
              "      <td>15.238072</td>\n",
              "      <td>2021-11-14</td>\n",
              "      <td>11</td>\n",
              "      <td>Кира</td>\n",
              "      <td>22</td>\n",
              "      <td>Тюмень</td>\n",
              "      <td>ultra</td>\n",
              "      <td>6</td>\n",
              "      <td>0</td>\n",
              "      <td>199</td>\n",
              "    </tr>\n",
              "    <tr>\n",
              "      <th>9</th>\n",
              "      <td>1</td>\n",
              "      <td>748.690645</td>\n",
              "      <td>15.041884</td>\n",
              "      <td>2021-11-22</td>\n",
              "      <td>11</td>\n",
              "      <td>Кира</td>\n",
              "      <td>22</td>\n",
              "      <td>Тюмень</td>\n",
              "      <td>ultra</td>\n",
              "      <td>6</td>\n",
              "      <td>0</td>\n",
              "      <td>199</td>\n",
              "    </tr>\n",
              "    <tr>\n",
              "      <th>10</th>\n",
              "      <td>1</td>\n",
              "      <td>4031.020195</td>\n",
              "      <td>17.674448</td>\n",
              "      <td>2021-12-14</td>\n",
              "      <td>12</td>\n",
              "      <td>Кира</td>\n",
              "      <td>22</td>\n",
              "      <td>Тюмень</td>\n",
              "      <td>ultra</td>\n",
              "      <td>6</td>\n",
              "      <td>0</td>\n",
              "      <td>199</td>\n",
              "    </tr>\n",
              "    <tr>\n",
              "      <th>11</th>\n",
              "      <td>1</td>\n",
              "      <td>2720.609748</td>\n",
              "      <td>9.529463</td>\n",
              "      <td>2021-12-22</td>\n",
              "      <td>12</td>\n",
              "      <td>Кира</td>\n",
              "      <td>22</td>\n",
              "      <td>Тюмень</td>\n",
              "      <td>ultra</td>\n",
              "      <td>6</td>\n",
              "      <td>0</td>\n",
              "      <td>199</td>\n",
              "    </tr>\n",
              "    <tr>\n",
              "      <th>12</th>\n",
              "      <td>2</td>\n",
              "      <td>3105.086678</td>\n",
              "      <td>24.307514</td>\n",
              "      <td>2021-03-15</td>\n",
              "      <td>3</td>\n",
              "      <td>Станислав</td>\n",
              "      <td>31</td>\n",
              "      <td>Омск</td>\n",
              "      <td>ultra</td>\n",
              "      <td>6</td>\n",
              "      <td>0</td>\n",
              "      <td>199</td>\n",
              "    </tr>\n",
              "    <tr>\n",
              "      <th>13</th>\n",
              "      <td>2</td>\n",
              "      <td>3053.519401</td>\n",
              "      <td>11.543256</td>\n",
              "      <td>2021-03-18</td>\n",
              "      <td>3</td>\n",
              "      <td>Станислав</td>\n",
              "      <td>31</td>\n",
              "      <td>Омск</td>\n",
              "      <td>ultra</td>\n",
              "      <td>6</td>\n",
              "      <td>0</td>\n",
              "      <td>199</td>\n",
              "    </tr>\n",
              "    <tr>\n",
              "      <th>14</th>\n",
              "      <td>2</td>\n",
              "      <td>4029.116927</td>\n",
              "      <td>25.109188</td>\n",
              "      <td>2021-03-23</td>\n",
              "      <td>3</td>\n",
              "      <td>Станислав</td>\n",
              "      <td>31</td>\n",
              "      <td>Омск</td>\n",
              "      <td>ultra</td>\n",
              "      <td>6</td>\n",
              "      <td>0</td>\n",
              "      <td>199</td>\n",
              "    </tr>\n",
              "  </tbody>\n",
              "</table>\n",
              "</div>"
            ],
            "text/plain": [
              "    user_id     distance   duration       date  month       name  age    city  \\\n",
              "0         1  4409.919140  25.599769 2021-01-01      1       Кира   22  Тюмень   \n",
              "1         1  2617.592153  15.816871 2021-01-18      1       Кира   22  Тюмень   \n",
              "2         1   754.159807   6.232113 2021-04-20      4       Кира   22  Тюмень   \n",
              "3         1  2694.783254  18.511000 2021-08-11      8       Кира   22  Тюмень   \n",
              "4         1  4028.687306  26.265803 2021-08-28      8       Кира   22  Тюмень   \n",
              "5         1  2770.890808  16.650138 2021-10-09     10       Кира   22  Тюмень   \n",
              "6         1  3039.020292  14.927879 2021-10-19     10       Кира   22  Тюмень   \n",
              "7         1  2842.118050  23.117468 2021-11-06     11       Кира   22  Тюмень   \n",
              "8         1  3412.690668  15.238072 2021-11-14     11       Кира   22  Тюмень   \n",
              "9         1   748.690645  15.041884 2021-11-22     11       Кира   22  Тюмень   \n",
              "10        1  4031.020195  17.674448 2021-12-14     12       Кира   22  Тюмень   \n",
              "11        1  2720.609748   9.529463 2021-12-22     12       Кира   22  Тюмень   \n",
              "12        2  3105.086678  24.307514 2021-03-15      3  Станислав   31    Омск   \n",
              "13        2  3053.519401  11.543256 2021-03-18      3  Станислав   31    Омск   \n",
              "14        2  4029.116927  25.109188 2021-03-23      3  Станислав   31    Омск   \n",
              "\n",
              "   subscription_type  minute_price  start_ride_price  subscription_fee  \n",
              "0              ultra             6                 0               199  \n",
              "1              ultra             6                 0               199  \n",
              "2              ultra             6                 0               199  \n",
              "3              ultra             6                 0               199  \n",
              "4              ultra             6                 0               199  \n",
              "5              ultra             6                 0               199  \n",
              "6              ultra             6                 0               199  \n",
              "7              ultra             6                 0               199  \n",
              "8              ultra             6                 0               199  \n",
              "9              ultra             6                 0               199  \n",
              "10             ultra             6                 0               199  \n",
              "11             ultra             6                 0               199  \n",
              "12             ultra             6                 0               199  \n",
              "13             ultra             6                 0               199  \n",
              "14             ultra             6                 0               199  "
            ]
          },
          "execution_count": 25,
          "metadata": {},
          "output_type": "execute_result"
        }
      ],
      "source": [
        "df.head(15)"
      ]
    },
    {
      "cell_type": "code",
      "execution_count": null,
      "id": "01f53e75",
      "metadata": {
        "id": "01f53e75"
      },
      "outputs": [],
      "source": [
        "# Разделим данные о пользователях с подпиской и без на два датафрейма\n",
        "df_free = df.query('subscription_type == \"free\"')\n",
        "df_ultra = df.query('subscription_type == \"ultra\"')"
      ]
    },
    {
      "cell_type": "code",
      "execution_count": null,
      "id": "25eb2dee",
      "metadata": {
        "id": "25eb2dee"
      },
      "outputs": [],
      "source": [
        "# Определим функцию для визуализации распределений по двум выборкам\n",
        "def vizualize(feature_1, feature_2, feature_name, title):\n",
        "  fig, ax = plt.subplots(1, 2, figsize=(12, 6))\n",
        "  plt.suptitle(title, fontsize=16)\n",
        "\n",
        "  ax[0].hist(feature_1, bins=30)\n",
        "  ax[0].set_title('Среди пользователей без подписки')\n",
        "  ax[0].set_xlabel(feature_name)\n",
        "  ax[0].set_ylabel('Количество поездок')\n",
        "  ax[0].grid()\n",
        "\n",
        "  ax[1].hist(feature_2, bins=30)\n",
        "  ax[1].set_title('Среди пользователей с подпиской')\n",
        "  ax[1].set_xlabel(feature_name)\n",
        "  ax[1].set_ylabel('Количество поездок')\n",
        "  ax[1].grid()\n",
        "\n",
        "  plt.show();"
      ]
    },
    {
      "cell_type": "code",
      "execution_count": null,
      "id": "edaab417",
      "metadata": {
        "id": "edaab417",
        "outputId": "cba3a248-9f32-41d8-84e2-50252f6c2a79"
      },
      "outputs": [
        {
          "data": {
            "image/png": "[encoded data removed]",
            "text/plain": [
              "<Figure size 864x432 with 2 Axes>"
            ]
          },
          "metadata": {
            "needs_background": "light"
          },
          "output_type": "display_data"
        }
      ],
      "source": [
        "vizualize(df_free['distance'],\n",
        "          df_ultra['distance'],\n",
        "          'Расстояние, м.',\n",
        "          'Распределение поездок по протяженности маршрута')"
      ]
    },
    {
      "cell_type": "markdown",
      "id": "cccbc9e4",
      "metadata": {
        "id": "cccbc9e4"
      },
      "source": [
        "Маршруты менее 1000 м. более распространенны среди пользователей без подписки, в остальном распределения схожи."
      ]
    },
    {
      "cell_type": "code",
      "execution_count": null,
      "id": "ad334df0",
      "metadata": {
        "id": "ad334df0",
        "outputId": "5234573f-6fed-4b14-b803-08f74a817b8a"
      },
      "outputs": [
        {
          "data": {
            "image/png": "[encoded data removed]",
            "text/plain": [
              "<Figure size 864x432 with 2 Axes>"
            ]
          },
          "metadata": {
            "needs_background": "light"
          },
          "output_type": "display_data"
        }
      ],
      "source": [
        "vizualize(df_free['duration'],\n",
        "          df_ultra['duration'],\n",
        "          'Продолжительность поездки',\n",
        "          'Распределение поездок по продолжительности')"
      ]
    },
    {
      "cell_type": "markdown",
      "id": "96b19dc8",
      "metadata": {
        "id": "96b19dc8"
      },
      "source": [
        "Распределение поездок по продолжительности, также, отличается несущественно, наиболее распространенны (среди обеих категорий пользователей) поездки длительностью от 15 до 20 минут."
      ]
    },
    {
      "cell_type": "markdown",
      "id": "402d620f",
      "metadata": {
        "id": "402d620f"
      },
      "source": [
        "#### Шаг 5. Подсчёт выручки"
      ]
    },
    {
      "cell_type": "code",
      "execution_count": null,
      "id": "53049e0a",
      "metadata": {
        "id": "53049e0a",
        "outputId": "5a6b3ad9-f9b0-4ed7-cca8-831c6c12f52e"
      },
      "outputs": [
        {
          "data": {
            "text/html": [
              "<div>\n",
              "<style scoped>\n",
              "    .dataframe tbody tr th:only-of-type {\n",
              "        vertical-align: middle;\n",
              "    }\n",
              "\n",
              "    .dataframe tbody tr th {\n",
              "        vertical-align: top;\n",
              "    }\n",
              "\n",
              "    .dataframe thead th {\n",
              "        text-align: right;\n",
              "    }\n",
              "</style>\n",
              "<table border=\"1\" class=\"dataframe\">\n",
              "  <thead>\n",
              "    <tr style=\"text-align: right;\">\n",
              "      <th></th>\n",
              "      <th></th>\n",
              "      <th>distance_sum</th>\n",
              "      <th>duration_sum</th>\n",
              "      <th>rides_count</th>\n",
              "    </tr>\n",
              "    <tr>\n",
              "      <th>user_id</th>\n",
              "      <th>month</th>\n",
              "      <th></th>\n",
              "      <th></th>\n",
              "      <th></th>\n",
              "    </tr>\n",
              "  </thead>\n",
              "  <tbody>\n",
              "    <tr>\n",
              "      <th rowspan=\"6\" valign=\"top\">1</th>\n",
              "      <th>1</th>\n",
              "      <td>7027.511294</td>\n",
              "      <td>41.416640</td>\n",
              "      <td>2</td>\n",
              "    </tr>\n",
              "    <tr>\n",
              "      <th>4</th>\n",
              "      <td>754.159807</td>\n",
              "      <td>6.232113</td>\n",
              "      <td>1</td>\n",
              "    </tr>\n",
              "    <tr>\n",
              "      <th>8</th>\n",
              "      <td>6723.470560</td>\n",
              "      <td>44.776802</td>\n",
              "      <td>2</td>\n",
              "    </tr>\n",
              "    <tr>\n",
              "      <th>10</th>\n",
              "      <td>5809.911100</td>\n",
              "      <td>31.578017</td>\n",
              "      <td>2</td>\n",
              "    </tr>\n",
              "    <tr>\n",
              "      <th>11</th>\n",
              "      <td>7003.499363</td>\n",
              "      <td>53.397424</td>\n",
              "      <td>3</td>\n",
              "    </tr>\n",
              "    <tr>\n",
              "      <th>12</th>\n",
              "      <td>6751.629942</td>\n",
              "      <td>27.203912</td>\n",
              "      <td>2</td>\n",
              "    </tr>\n",
              "    <tr>\n",
              "      <th rowspan=\"7\" valign=\"top\">2</th>\n",
              "      <th>3</th>\n",
              "      <td>10187.723006</td>\n",
              "      <td>60.959959</td>\n",
              "      <td>3</td>\n",
              "    </tr>\n",
              "    <tr>\n",
              "      <th>4</th>\n",
              "      <td>6164.381824</td>\n",
              "      <td>39.048633</td>\n",
              "      <td>2</td>\n",
              "    </tr>\n",
              "    <tr>\n",
              "      <th>6</th>\n",
              "      <td>3255.338202</td>\n",
              "      <td>13.851127</td>\n",
              "      <td>1</td>\n",
              "    </tr>\n",
              "    <tr>\n",
              "      <th>7</th>\n",
              "      <td>6780.722964</td>\n",
              "      <td>46.170157</td>\n",
              "      <td>2</td>\n",
              "    </tr>\n",
              "    <tr>\n",
              "      <th>8</th>\n",
              "      <td>923.007439</td>\n",
              "      <td>6.914760</td>\n",
              "      <td>1</td>\n",
              "    </tr>\n",
              "    <tr>\n",
              "      <th>10</th>\n",
              "      <td>2824.636598</td>\n",
              "      <td>18.779128</td>\n",
              "      <td>1</td>\n",
              "    </tr>\n",
              "    <tr>\n",
              "      <th>12</th>\n",
              "      <td>3828.248580</td>\n",
              "      <td>11.920514</td>\n",
              "      <td>1</td>\n",
              "    </tr>\n",
              "    <tr>\n",
              "      <th rowspan=\"2\" valign=\"top\">3</th>\n",
              "      <th>1</th>\n",
              "      <td>3061.777147</td>\n",
              "      <td>12.654443</td>\n",
              "      <td>1</td>\n",
              "    </tr>\n",
              "    <tr>\n",
              "      <th>2</th>\n",
              "      <td>5421.152016</td>\n",
              "      <td>37.568637</td>\n",
              "      <td>2</td>\n",
              "    </tr>\n",
              "  </tbody>\n",
              "</table>\n",
              "</div>"
            ],
            "text/plain": [
              "               distance_sum  duration_sum  rides_count\n",
              "user_id month                                         \n",
              "1       1       7027.511294     41.416640            2\n",
              "        4        754.159807      6.232113            1\n",
              "        8       6723.470560     44.776802            2\n",
              "        10      5809.911100     31.578017            2\n",
              "        11      7003.499363     53.397424            3\n",
              "        12      6751.629942     27.203912            2\n",
              "2       3      10187.723006     60.959959            3\n",
              "        4       6164.381824     39.048633            2\n",
              "        6       3255.338202     13.851127            1\n",
              "        7       6780.722964     46.170157            2\n",
              "        8        923.007439      6.914760            1\n",
              "        10      2824.636598     18.779128            1\n",
              "        12      3828.248580     11.920514            1\n",
              "3       1       3061.777147     12.654443            1\n",
              "        2       5421.152016     37.568637            2"
            ]
          },
          "execution_count": 30,
          "metadata": {},
          "output_type": "execute_result"
        }
      ],
      "source": [
        "# Считаем для каждого пользователя суммарное расстояние,\n",
        "# суммарную продолжительность и количество поездок по месяцам\n",
        "revenue_df = df.pivot_table(index=['user_id', 'month'],\n",
        "                        values=['distance', 'duration'],\n",
        "                        aggfunc=['sum', 'count'])\n",
        "# Переименуем столбцы\n",
        "revenue_df.columns = ['distance_sum',\n",
        "                   'duration_sum',\n",
        "                   'rides_count',\n",
        "                   'rides_count_duplicate']\n",
        "# Т.к. count() применялся дважды, образовался лишний столбец\n",
        "# удалим его\n",
        "revenue_df = revenue_df.drop(columns='rides_count_duplicate')\n",
        "revenue_df.head(15)"
      ]
    },
    {
      "cell_type": "code",
      "execution_count": null,
      "id": "f0356858",
      "metadata": {
        "id": "f0356858",
        "outputId": "86e8585b-30e7-424f-af12-05517f8312ad"
      },
      "outputs": [
        {
          "data": {
            "text/html": [
              "<div>\n",
              "<style scoped>\n",
              "    .dataframe tbody tr th:only-of-type {\n",
              "        vertical-align: middle;\n",
              "    }\n",
              "\n",
              "    .dataframe tbody tr th {\n",
              "        vertical-align: top;\n",
              "    }\n",
              "\n",
              "    .dataframe thead th {\n",
              "        text-align: right;\n",
              "    }\n",
              "</style>\n",
              "<table border=\"1\" class=\"dataframe\">\n",
              "  <thead>\n",
              "    <tr style=\"text-align: right;\">\n",
              "      <th></th>\n",
              "      <th>user_id</th>\n",
              "      <th>month</th>\n",
              "      <th>distance_sum</th>\n",
              "      <th>duration_sum</th>\n",
              "      <th>rides_count</th>\n",
              "    </tr>\n",
              "  </thead>\n",
              "  <tbody>\n",
              "    <tr>\n",
              "      <th>0</th>\n",
              "      <td>1</td>\n",
              "      <td>1</td>\n",
              "      <td>7027.511294</td>\n",
              "      <td>41.416640</td>\n",
              "      <td>2</td>\n",
              "    </tr>\n",
              "    <tr>\n",
              "      <th>1</th>\n",
              "      <td>1</td>\n",
              "      <td>4</td>\n",
              "      <td>754.159807</td>\n",
              "      <td>6.232113</td>\n",
              "      <td>1</td>\n",
              "    </tr>\n",
              "    <tr>\n",
              "      <th>2</th>\n",
              "      <td>1</td>\n",
              "      <td>8</td>\n",
              "      <td>6723.470560</td>\n",
              "      <td>44.776802</td>\n",
              "      <td>2</td>\n",
              "    </tr>\n",
              "    <tr>\n",
              "      <th>3</th>\n",
              "      <td>1</td>\n",
              "      <td>10</td>\n",
              "      <td>5809.911100</td>\n",
              "      <td>31.578017</td>\n",
              "      <td>2</td>\n",
              "    </tr>\n",
              "    <tr>\n",
              "      <th>4</th>\n",
              "      <td>1</td>\n",
              "      <td>11</td>\n",
              "      <td>7003.499363</td>\n",
              "      <td>53.397424</td>\n",
              "      <td>3</td>\n",
              "    </tr>\n",
              "    <tr>\n",
              "      <th>5</th>\n",
              "      <td>1</td>\n",
              "      <td>12</td>\n",
              "      <td>6751.629942</td>\n",
              "      <td>27.203912</td>\n",
              "      <td>2</td>\n",
              "    </tr>\n",
              "    <tr>\n",
              "      <th>6</th>\n",
              "      <td>2</td>\n",
              "      <td>3</td>\n",
              "      <td>10187.723006</td>\n",
              "      <td>60.959959</td>\n",
              "      <td>3</td>\n",
              "    </tr>\n",
              "    <tr>\n",
              "      <th>7</th>\n",
              "      <td>2</td>\n",
              "      <td>4</td>\n",
              "      <td>6164.381824</td>\n",
              "      <td>39.048633</td>\n",
              "      <td>2</td>\n",
              "    </tr>\n",
              "    <tr>\n",
              "      <th>8</th>\n",
              "      <td>2</td>\n",
              "      <td>6</td>\n",
              "      <td>3255.338202</td>\n",
              "      <td>13.851127</td>\n",
              "      <td>1</td>\n",
              "    </tr>\n",
              "    <tr>\n",
              "      <th>9</th>\n",
              "      <td>2</td>\n",
              "      <td>7</td>\n",
              "      <td>6780.722964</td>\n",
              "      <td>46.170157</td>\n",
              "      <td>2</td>\n",
              "    </tr>\n",
              "    <tr>\n",
              "      <th>10</th>\n",
              "      <td>2</td>\n",
              "      <td>8</td>\n",
              "      <td>923.007439</td>\n",
              "      <td>6.914760</td>\n",
              "      <td>1</td>\n",
              "    </tr>\n",
              "    <tr>\n",
              "      <th>11</th>\n",
              "      <td>2</td>\n",
              "      <td>10</td>\n",
              "      <td>2824.636598</td>\n",
              "      <td>18.779128</td>\n",
              "      <td>1</td>\n",
              "    </tr>\n",
              "    <tr>\n",
              "      <th>12</th>\n",
              "      <td>2</td>\n",
              "      <td>12</td>\n",
              "      <td>3828.248580</td>\n",
              "      <td>11.920514</td>\n",
              "      <td>1</td>\n",
              "    </tr>\n",
              "    <tr>\n",
              "      <th>13</th>\n",
              "      <td>3</td>\n",
              "      <td>1</td>\n",
              "      <td>3061.777147</td>\n",
              "      <td>12.654443</td>\n",
              "      <td>1</td>\n",
              "    </tr>\n",
              "    <tr>\n",
              "      <th>14</th>\n",
              "      <td>3</td>\n",
              "      <td>2</td>\n",
              "      <td>5421.152016</td>\n",
              "      <td>37.568637</td>\n",
              "      <td>2</td>\n",
              "    </tr>\n",
              "  </tbody>\n",
              "</table>\n",
              "</div>"
            ],
            "text/plain": [
              "    user_id  month  distance_sum  duration_sum  rides_count\n",
              "0         1      1   7027.511294     41.416640            2\n",
              "1         1      4    754.159807      6.232113            1\n",
              "2         1      8   6723.470560     44.776802            2\n",
              "3         1     10   5809.911100     31.578017            2\n",
              "4         1     11   7003.499363     53.397424            3\n",
              "5         1     12   6751.629942     27.203912            2\n",
              "6         2      3  10187.723006     60.959959            3\n",
              "7         2      4   6164.381824     39.048633            2\n",
              "8         2      6   3255.338202     13.851127            1\n",
              "9         2      7   6780.722964     46.170157            2\n",
              "10        2      8    923.007439      6.914760            1\n",
              "11        2     10   2824.636598     18.779128            1\n",
              "12        2     12   3828.248580     11.920514            1\n",
              "13        3      1   3061.777147     12.654443            1\n",
              "14        3      2   5421.152016     37.568637            2"
            ]
          },
          "execution_count": 31,
          "metadata": {},
          "output_type": "execute_result"
        }
      ],
      "source": [
        "# Избавимся от мультииндексов\n",
        "revenue_df = revenue_df.reset_index()\n",
        "\n",
        "revenue_df.head(15)"
      ]
    },
    {
      "cell_type": "markdown",
      "id": "3efcb3bf",
      "metadata": {
        "id": "3efcb3bf"
      },
      "source": [
        "Стоимость:  \n",
        "без подписки  \n",
        "- абонентская плата отсутствует;\n",
        "- стоимость одной минуты поездки — 8 рублей;\n",
        "- стоимость старта (начала поездки) — 50 рублей;  \n",
        "\n",
        "с подпиской Ultra\n",
        "- абонентская плата — 199 рублей в месяц;\n",
        "- стоимость одной минуты поездки — 6 рублей;\n",
        "- стоимость старта — бесплатно."
      ]
    },
    {
      "cell_type": "code",
      "execution_count": null,
      "id": "7a79604f",
      "metadata": {
        "id": "7a79604f"
      },
      "outputs": [],
      "source": [
        "# Посчитаем помесячную выручку в зависимости от наличия подписки\n",
        "revenue_df['revenue'] = np.where(\n",
        "    revenue_df['user_id'].isin(df_free['user_id']),\n",
        "    (np.ceil(revenue_df['duration_sum']) * 8) + (revenue_df['rides_count'] * 50),\n",
        "    (np.ceil(revenue_df['duration_sum']) * 6) + 199\n",
        "  )"
      ]
    },
    {
      "cell_type": "code",
      "execution_count": null,
      "id": "74cf8a00",
      "metadata": {
        "id": "74cf8a00",
        "outputId": "3a4a2898-b24c-44bd-827c-bed992a5b0e9"
      },
      "outputs": [
        {
          "data": {
            "text/html": [
              "<div>\n",
              "<style scoped>\n",
              "    .dataframe tbody tr th:only-of-type {\n",
              "        vertical-align: middle;\n",
              "    }\n",
              "\n",
              "    .dataframe tbody tr th {\n",
              "        vertical-align: top;\n",
              "    }\n",
              "\n",
              "    .dataframe thead th {\n",
              "        text-align: right;\n",
              "    }\n",
              "</style>\n",
              "<table border=\"1\" class=\"dataframe\">\n",
              "  <thead>\n",
              "    <tr style=\"text-align: right;\">\n",
              "      <th></th>\n",
              "      <th>user_id</th>\n",
              "      <th>month</th>\n",
              "      <th>distance_sum</th>\n",
              "      <th>duration_sum</th>\n",
              "      <th>rides_count</th>\n",
              "      <th>revenue</th>\n",
              "    </tr>\n",
              "  </thead>\n",
              "  <tbody>\n",
              "    <tr>\n",
              "      <th>0</th>\n",
              "      <td>1</td>\n",
              "      <td>1</td>\n",
              "      <td>7027.511294</td>\n",
              "      <td>41.416640</td>\n",
              "      <td>2</td>\n",
              "      <td>451.0</td>\n",
              "    </tr>\n",
              "    <tr>\n",
              "      <th>1</th>\n",
              "      <td>1</td>\n",
              "      <td>4</td>\n",
              "      <td>754.159807</td>\n",
              "      <td>6.232113</td>\n",
              "      <td>1</td>\n",
              "      <td>241.0</td>\n",
              "    </tr>\n",
              "    <tr>\n",
              "      <th>2</th>\n",
              "      <td>1</td>\n",
              "      <td>8</td>\n",
              "      <td>6723.470560</td>\n",
              "      <td>44.776802</td>\n",
              "      <td>2</td>\n",
              "      <td>469.0</td>\n",
              "    </tr>\n",
              "    <tr>\n",
              "      <th>3</th>\n",
              "      <td>1</td>\n",
              "      <td>10</td>\n",
              "      <td>5809.911100</td>\n",
              "      <td>31.578017</td>\n",
              "      <td>2</td>\n",
              "      <td>391.0</td>\n",
              "    </tr>\n",
              "    <tr>\n",
              "      <th>4</th>\n",
              "      <td>1</td>\n",
              "      <td>11</td>\n",
              "      <td>7003.499363</td>\n",
              "      <td>53.397424</td>\n",
              "      <td>3</td>\n",
              "      <td>523.0</td>\n",
              "    </tr>\n",
              "    <tr>\n",
              "      <th>5</th>\n",
              "      <td>1</td>\n",
              "      <td>12</td>\n",
              "      <td>6751.629942</td>\n",
              "      <td>27.203912</td>\n",
              "      <td>2</td>\n",
              "      <td>367.0</td>\n",
              "    </tr>\n",
              "    <tr>\n",
              "      <th>6</th>\n",
              "      <td>2</td>\n",
              "      <td>3</td>\n",
              "      <td>10187.723006</td>\n",
              "      <td>60.959959</td>\n",
              "      <td>3</td>\n",
              "      <td>565.0</td>\n",
              "    </tr>\n",
              "    <tr>\n",
              "      <th>7</th>\n",
              "      <td>2</td>\n",
              "      <td>4</td>\n",
              "      <td>6164.381824</td>\n",
              "      <td>39.048633</td>\n",
              "      <td>2</td>\n",
              "      <td>439.0</td>\n",
              "    </tr>\n",
              "    <tr>\n",
              "      <th>8</th>\n",
              "      <td>2</td>\n",
              "      <td>6</td>\n",
              "      <td>3255.338202</td>\n",
              "      <td>13.851127</td>\n",
              "      <td>1</td>\n",
              "      <td>283.0</td>\n",
              "    </tr>\n",
              "    <tr>\n",
              "      <th>9</th>\n",
              "      <td>2</td>\n",
              "      <td>7</td>\n",
              "      <td>6780.722964</td>\n",
              "      <td>46.170157</td>\n",
              "      <td>2</td>\n",
              "      <td>481.0</td>\n",
              "    </tr>\n",
              "    <tr>\n",
              "      <th>10</th>\n",
              "      <td>2</td>\n",
              "      <td>8</td>\n",
              "      <td>923.007439</td>\n",
              "      <td>6.914760</td>\n",
              "      <td>1</td>\n",
              "      <td>241.0</td>\n",
              "    </tr>\n",
              "    <tr>\n",
              "      <th>11</th>\n",
              "      <td>2</td>\n",
              "      <td>10</td>\n",
              "      <td>2824.636598</td>\n",
              "      <td>18.779128</td>\n",
              "      <td>1</td>\n",
              "      <td>313.0</td>\n",
              "    </tr>\n",
              "    <tr>\n",
              "      <th>12</th>\n",
              "      <td>2</td>\n",
              "      <td>12</td>\n",
              "      <td>3828.248580</td>\n",
              "      <td>11.920514</td>\n",
              "      <td>1</td>\n",
              "      <td>271.0</td>\n",
              "    </tr>\n",
              "    <tr>\n",
              "      <th>13</th>\n",
              "      <td>3</td>\n",
              "      <td>1</td>\n",
              "      <td>3061.777147</td>\n",
              "      <td>12.654443</td>\n",
              "      <td>1</td>\n",
              "      <td>277.0</td>\n",
              "    </tr>\n",
              "    <tr>\n",
              "      <th>14</th>\n",
              "      <td>3</td>\n",
              "      <td>2</td>\n",
              "      <td>5421.152016</td>\n",
              "      <td>37.568637</td>\n",
              "      <td>2</td>\n",
              "      <td>427.0</td>\n",
              "    </tr>\n",
              "    <tr>\n",
              "      <th>15</th>\n",
              "      <td>3</td>\n",
              "      <td>4</td>\n",
              "      <td>2956.651632</td>\n",
              "      <td>20.671364</td>\n",
              "      <td>1</td>\n",
              "      <td>325.0</td>\n",
              "    </tr>\n",
              "    <tr>\n",
              "      <th>16</th>\n",
              "      <td>3</td>\n",
              "      <td>5</td>\n",
              "      <td>9064.026918</td>\n",
              "      <td>61.404503</td>\n",
              "      <td>3</td>\n",
              "      <td>571.0</td>\n",
              "    </tr>\n",
              "    <tr>\n",
              "      <th>17</th>\n",
              "      <td>3</td>\n",
              "      <td>7</td>\n",
              "      <td>10919.595403</td>\n",
              "      <td>65.519784</td>\n",
              "      <td>3</td>\n",
              "      <td>595.0</td>\n",
              "    </tr>\n",
              "    <tr>\n",
              "      <th>18</th>\n",
              "      <td>3</td>\n",
              "      <td>9</td>\n",
              "      <td>2891.012822</td>\n",
              "      <td>22.390055</td>\n",
              "      <td>1</td>\n",
              "      <td>337.0</td>\n",
              "    </tr>\n",
              "    <tr>\n",
              "      <th>19</th>\n",
              "      <td>3</td>\n",
              "      <td>12</td>\n",
              "      <td>2593.381928</td>\n",
              "      <td>12.984728</td>\n",
              "      <td>1</td>\n",
              "      <td>277.0</td>\n",
              "    </tr>\n",
              "  </tbody>\n",
              "</table>\n",
              "</div>"
            ],
            "text/plain": [
              "    user_id  month  distance_sum  duration_sum  rides_count  revenue\n",
              "0         1      1   7027.511294     41.416640            2    451.0\n",
              "1         1      4    754.159807      6.232113            1    241.0\n",
              "2         1      8   6723.470560     44.776802            2    469.0\n",
              "3         1     10   5809.911100     31.578017            2    391.0\n",
              "4         1     11   7003.499363     53.397424            3    523.0\n",
              "5         1     12   6751.629942     27.203912            2    367.0\n",
              "6         2      3  10187.723006     60.959959            3    565.0\n",
              "7         2      4   6164.381824     39.048633            2    439.0\n",
              "8         2      6   3255.338202     13.851127            1    283.0\n",
              "9         2      7   6780.722964     46.170157            2    481.0\n",
              "10        2      8    923.007439      6.914760            1    241.0\n",
              "11        2     10   2824.636598     18.779128            1    313.0\n",
              "12        2     12   3828.248580     11.920514            1    271.0\n",
              "13        3      1   3061.777147     12.654443            1    277.0\n",
              "14        3      2   5421.152016     37.568637            2    427.0\n",
              "15        3      4   2956.651632     20.671364            1    325.0\n",
              "16        3      5   9064.026918     61.404503            3    571.0\n",
              "17        3      7  10919.595403     65.519784            3    595.0\n",
              "18        3      9   2891.012822     22.390055            1    337.0\n",
              "19        3     12   2593.381928     12.984728            1    277.0"
            ]
          },
          "execution_count": 33,
          "metadata": {},
          "output_type": "execute_result"
        }
      ],
      "source": [
        "revenue_df.head(20)"
      ]
    },
    {
      "cell_type": "markdown",
      "id": "41545ac0",
      "metadata": {
        "id": "41545ac0"
      },
      "source": [
        "#### Шаг 6. Проверка гипотез"
      ]
    },
    {
      "cell_type": "markdown",
      "id": "e070c9b7",
      "metadata": {
        "id": "e070c9b7"
      },
      "source": [
        "6.1. Тратят ли пользователи с подпиской больше времени на поездки?"
      ]
    },
    {
      "cell_type": "markdown",
      "id": "ffd72da7",
      "metadata": {
        "id": "ffd72da7"
      },
      "source": [
        "H0: Пользователи с подпиской тратят на поездки не больше времени, чем пользователи без подписки.  \n",
        "H1: Пользователи с подпиской тратят на поездки больше времени, чем пользователи без подписки."
      ]
    },
    {
      "cell_type": "code",
      "execution_count": null,
      "id": "775c94ab",
      "metadata": {
        "id": "775c94ab",
        "outputId": "38ddaeef-bb3d-4a9c-c1b6-6c2dc61cad1f"
      },
      "outputs": [
        {
          "name": "stdout",
          "output_type": "stream",
          "text": [
            "p-value: 1.2804098316645618e-34\n",
            "Отвергаем нулевую гипотезу в пользу альтернативной\n"
          ]
        }
      ],
      "source": [
        "alpha = 0.05\n",
        "\n",
        "results = st.ttest_ind(df_ultra['duration'],\n",
        "                       df_free['duration'],\n",
        "                       alternative='greater')\n",
        "\n",
        "print('p-value:', results.pvalue)\n",
        "\n",
        "if results.pvalue < alpha:\n",
        "  print('Отвергаем нулевую гипотезу в пользу альтернативной')\n",
        "else:\n",
        "  print('Нет оснований отвергнуть нулевую гипотезу')"
      ]
    },
    {
      "cell_type": "markdown",
      "id": "4b09949b",
      "metadata": {
        "id": "4b09949b"
      },
      "source": [
        "В среднем пользователи с подпиской тратят больше времени на поездки."
      ]
    },
    {
      "cell_type": "markdown",
      "id": "002fb9c2",
      "metadata": {
        "id": "002fb9c2"
      },
      "source": [
        "6.2. Можно ли сказать, что среднее расстояние, которое проезжают пользователи с подпиской за одну поездку, не превышает 3130 метров?"
      ]
    },
    {
      "cell_type": "markdown",
      "id": "93ee630c",
      "metadata": {
        "id": "93ee630c"
      },
      "source": [
        "H0: Среднее расстояние, которое пользователи с подпиской проезжают за 1 поездку, не превышает 3130 м.  \n",
        "H1: Среднее расстояние, которое пользователи с подпиской проезжают за 1 поездку, больше 3130 м."
      ]
    },
    {
      "cell_type": "code",
      "execution_count": null,
      "id": "24bb9714",
      "metadata": {
        "id": "24bb9714",
        "outputId": "38288634-c7d5-4197-b8f7-8b776700a8b2"
      },
      "outputs": [
        {
          "name": "stdout",
          "output_type": "stream",
          "text": [
            "p-value: 0.9195368847849785\n",
            "Нет оснований отвергнуть нулевую гипотезу\n"
          ]
        }
      ],
      "source": [
        "alpha = 0.05\n",
        "\n",
        "results = st.ttest_1samp(df_ultra['distance'], 3130,\n",
        "                         alternative='greater')\n",
        "\n",
        "print('p-value:', results.pvalue)\n",
        "\n",
        "if results.pvalue < alpha:\n",
        "  print('Отвергаем нулевую гипотезу в пользу альтернативной')\n",
        "else:\n",
        "  print('Нет оснований отвергнуть нулевую гипотезу')"
      ]
    },
    {
      "cell_type": "markdown",
      "id": "01c7284f",
      "metadata": {
        "id": "01c7284f"
      },
      "source": [
        "Не получилось отвергнуть нулевую гипотезу в пользу альтернативной, следовательно средняя продолжительность поездки среди пользователей с подпиской не превышает 3130"
      ]
    },
    {
      "cell_type": "markdown",
      "id": "e4bb76b1",
      "metadata": {
        "id": "e4bb76b1"
      },
      "source": [
        "6.3. Будет ли помесячная выручка от пользователей с подпиской по месяцам выше, чем выручка от пользователей без подписки?"
      ]
    },
    {
      "cell_type": "markdown",
      "id": "570bd0c8",
      "metadata": {
        "id": "570bd0c8"
      },
      "source": [
        "H0: Помесячная выручка от пользователей с подпиской не выше, чем выручка от пользователей без подписки.  \n",
        "H1: Помесячная выручка от пользователей с подпиской выше, чем выручка от пользователей без подписки."
      ]
    },
    {
      "cell_type": "code",
      "execution_count": null,
      "id": "029bd0cd",
      "metadata": {
        "id": "029bd0cd"
      },
      "outputs": [],
      "source": [
        "#Разделим данные о выручке по типам подписки\n",
        "revenue_ultra_df = revenue_df[\n",
        "    revenue_df['user_id'].isin(df_ultra['user_id'])\n",
        "]\n",
        "\n",
        "revenue_free_df = revenue_df[\n",
        "    revenue_df['user_id'].isin(df_free['user_id'])\n",
        "]"
      ]
    },
    {
      "cell_type": "code",
      "execution_count": null,
      "id": "ef22542c",
      "metadata": {
        "id": "ef22542c",
        "outputId": "2099058d-0f03-4f73-8877-82b46b1d72f4"
      },
      "outputs": [
        {
          "name": "stdout",
          "output_type": "stream",
          "text": [
            "p-value: 2.8130926188487286e-35\n",
            "Отвергаем нулевую гипотезу в пользу альтернативной\n"
          ]
        }
      ],
      "source": [
        "alpha = 0.05\n",
        "\n",
        "results = st.ttest_ind(revenue_ultra_df['revenue'],\n",
        "                       revenue_free_df['revenue'],\n",
        "                       alternative='greater')\n",
        "\n",
        "print('p-value:', results.pvalue)\n",
        "\n",
        "if results.pvalue < alpha:\n",
        "  print('Отвергаем нулевую гипотезу в пользу альтернативной')\n",
        "else:\n",
        "  print('Нет оснований отвергнуть нулевую гипотезу')"
      ]
    },
    {
      "cell_type": "markdown",
      "id": "84d19394",
      "metadata": {
        "id": "84d19394"
      },
      "source": [
        "Действительно, по имеющимся данным средняя помесячная выручка среди пользователей с подпиской больше, чем от пользователей без подписки."
      ]
    },
    {
      "cell_type": "markdown",
      "id": "57c51163",
      "metadata": {
        "id": "57c51163"
      },
      "source": [
        "6.4 Представьте такую ситуацию: техническая команда сервиса обновила сервера, с которыми взаимодействует мобильное приложение. Она надеется, что из-за этого количество обращений в техподдержку значимо снизилось. Некоторый файл содержит для каждого пользователя данные о количестве обращений до обновления и после него. Какой тест вам понадобился бы для проверки этой гипотезы?\n",
        "\n",
        "**Ответ:** Для проверки этой гипотезы я бы исполььзовала st.ttest_rel(), поскольку рассматриваемые в данном случае выборки являлись бы зависимыми, т.к. в них содержались бы данные по одним и тем же пользователям до/после обновления."
      ]
    },
    {
      "cell_type": "markdown",
      "id": "a56bf398",
      "metadata": {
        "id": "a56bf398"
      },
      "source": [
        "# Общий вывод"
      ]
    },
    {
      "cell_type": "markdown",
      "id": "bbfe809b",
      "metadata": {
        "id": "bbfe809b"
      },
      "source": [
        "В ходе работы были предобработаны данные: удалены дубликаты, изменены типы данных там, где это требовалось. Аномальных или пропущенных значений обнаружено не было. Также был проведён исследовательский анализ данных, в результате которого было установлено:  \n",
        "- Больше всего пользователей в Пятигорске, меньше всего в Москве, при этом разница невелика - 3%;  \n",
        "- Пользователей с подпиской на 8% меньше, чем без подписки;  \n",
        "- Средний возраст пользователей приложения составляет 25 лет, при этом самому молодому пользователю - 12 лет, самому взрослому - 43 года;  \n",
        "- Большая часть поездок осуществляется по маршрутам протяженностью от 3000 до 3200 м.  \n",
        "- Средняя и медианная длительность поездки составляет 17,7 - 17,8 минут.  \n",
        "Затем осуществлялась проверка ряда статистических гипотез, результаты которой показали, что:\n",
        "- В среднем пользователи с подпиской тратят больше времени на поездки.  \n",
        "- Средняя продолжительность поездки среди пользователей с подпиской не превышает 3130.  \n",
        "- Помесячная выручка среди пользователей с подпиской больше, чем от пользователей без подписки."
      ]
    }
  ],
  "metadata": {
    "ExecuteTimeLog": [
      {
        "duration": 1198,
        "start_time": "2024-08-23T00:13:36.716Z"
      },
      {
        "duration": 292,
        "start_time": "2024-08-23T00:17:12.115Z"
      },
      {
        "duration": 4,
        "start_time": "2024-08-23T00:17:28.122Z"
      },
      {
        "duration": 24,
        "start_time": "2024-08-23T00:17:43.754Z"
      },
      {
        "duration": 24,
        "start_time": "2024-08-23T00:17:56.507Z"
      },
      {
        "duration": 9,
        "start_time": "2024-08-23T00:18:08.579Z"
      },
      {
        "duration": 7,
        "start_time": "2024-08-23T00:18:55.058Z"
      },
      {
        "duration": 5,
        "start_time": "2024-08-23T00:19:07.854Z"
      },
      {
        "duration": 12,
        "start_time": "2024-08-23T00:19:15.586Z"
      },
      {
        "duration": 67,
        "start_time": "2024-08-23T00:19:27.979Z"
      },
      {
        "duration": 6,
        "start_time": "2024-08-23T00:19:41.825Z"
      },
      {
        "duration": 7,
        "start_time": "2024-08-23T00:19:49.220Z"
      },
      {
        "duration": 172,
        "start_time": "2024-08-23T00:20:14.704Z"
      },
      {
        "duration": 6,
        "start_time": "2024-08-23T00:20:24.339Z"
      },
      {
        "duration": 141,
        "start_time": "2024-08-23T00:21:00.198Z"
      },
      {
        "duration": 8,
        "start_time": "2024-08-23T00:21:15.716Z"
      },
      {
        "duration": 164,
        "start_time": "2024-08-23T00:22:00.828Z"
      },
      {
        "duration": 7,
        "start_time": "2024-08-23T00:22:13.777Z"
      },
      {
        "duration": 183,
        "start_time": "2024-08-23T00:22:39.714Z"
      },
      {
        "duration": 10,
        "start_time": "2024-08-23T00:22:48.275Z"
      },
      {
        "duration": 193,
        "start_time": "2024-08-23T00:23:13.541Z"
      },
      {
        "duration": 8,
        "start_time": "2024-08-23T00:23:30.555Z"
      },
      {
        "duration": 25,
        "start_time": "2024-08-23T00:23:57.068Z"
      },
      {
        "duration": 14,
        "start_time": "2024-08-23T00:24:14.216Z"
      },
      {
        "duration": 10,
        "start_time": "2024-08-23T00:24:23.574Z"
      },
      {
        "duration": 4,
        "start_time": "2024-08-23T00:24:32.157Z"
      },
      {
        "duration": 293,
        "start_time": "2024-08-23T00:24:43.232Z"
      },
      {
        "duration": 309,
        "start_time": "2024-08-23T00:25:19.779Z"
      },
      {
        "duration": 28,
        "start_time": "2024-08-23T00:25:50.701Z"
      },
      {
        "duration": 12,
        "start_time": "2024-08-23T00:26:06.475Z"
      },
      {
        "duration": 7,
        "start_time": "2024-08-23T00:26:33.581Z"
      },
      {
        "duration": 11,
        "start_time": "2024-08-23T00:26:46.385Z"
      },
      {
        "duration": 5,
        "start_time": "2024-08-23T00:27:20.595Z"
      },
      {
        "duration": 5,
        "start_time": "2024-08-23T00:28:00.786Z"
      },
      {
        "duration": 6,
        "start_time": "2024-08-23T00:28:41.099Z"
      },
      {
        "duration": 6,
        "start_time": "2024-08-23T00:28:51.033Z"
      },
      {
        "duration": 1085,
        "start_time": "2024-08-23T00:30:06.429Z"
      },
      {
        "duration": 68,
        "start_time": "2024-08-23T00:30:07.516Z"
      },
      {
        "duration": 3,
        "start_time": "2024-08-23T00:30:07.585Z"
      },
      {
        "duration": 24,
        "start_time": "2024-08-23T00:30:07.589Z"
      },
      {
        "duration": 23,
        "start_time": "2024-08-23T00:30:07.615Z"
      },
      {
        "duration": 14,
        "start_time": "2024-08-23T00:30:07.639Z"
      },
      {
        "duration": 6,
        "start_time": "2024-08-23T00:30:07.654Z"
      },
      {
        "duration": 8,
        "start_time": "2024-08-23T00:30:07.661Z"
      },
      {
        "duration": 11,
        "start_time": "2024-08-23T00:30:07.670Z"
      },
      {
        "duration": 86,
        "start_time": "2024-08-23T00:30:07.683Z"
      },
      {
        "duration": 7,
        "start_time": "2024-08-23T00:30:07.770Z"
      },
      {
        "duration": 8,
        "start_time": "2024-08-23T00:30:07.778Z"
      },
      {
        "duration": 211,
        "start_time": "2024-08-23T00:30:07.787Z"
      },
      {
        "duration": 5,
        "start_time": "2024-08-23T00:30:08.001Z"
      },
      {
        "duration": 137,
        "start_time": "2024-08-23T00:30:08.007Z"
      },
      {
        "duration": 11,
        "start_time": "2024-08-23T00:30:08.146Z"
      },
      {
        "duration": 212,
        "start_time": "2024-08-23T00:30:08.158Z"
      },
      {
        "duration": 7,
        "start_time": "2024-08-23T00:30:08.371Z"
      },
      {
        "duration": 204,
        "start_time": "2024-08-23T00:30:08.379Z"
      },
      {
        "duration": 8,
        "start_time": "2024-08-23T00:30:08.585Z"
      },
      {
        "duration": 201,
        "start_time": "2024-08-23T00:30:08.595Z"
      },
      {
        "duration": 8,
        "start_time": "2024-08-23T00:30:08.797Z"
      },
      {
        "duration": 27,
        "start_time": "2024-08-23T00:30:08.806Z"
      },
      {
        "duration": 29,
        "start_time": "2024-08-23T00:30:08.834Z"
      },
      {
        "duration": 32,
        "start_time": "2024-08-23T00:30:08.864Z"
      },
      {
        "duration": 4,
        "start_time": "2024-08-23T00:30:08.898Z"
      },
      {
        "duration": 299,
        "start_time": "2024-08-23T00:30:08.903Z"
      },
      {
        "duration": 316,
        "start_time": "2024-08-23T00:30:09.203Z"
      },
      {
        "duration": 33,
        "start_time": "2024-08-23T00:30:09.521Z"
      },
      {
        "duration": 9,
        "start_time": "2024-08-23T00:30:09.555Z"
      },
      {
        "duration": 14,
        "start_time": "2024-08-23T00:30:09.565Z"
      },
      {
        "duration": 24,
        "start_time": "2024-08-23T00:30:09.581Z"
      },
      {
        "duration": 78,
        "start_time": "2024-08-23T00:30:09.607Z"
      },
      {
        "duration": 4,
        "start_time": "2024-08-23T00:30:09.687Z"
      },
      {
        "duration": 6,
        "start_time": "2024-08-23T00:30:09.692Z"
      },
      {
        "duration": 22,
        "start_time": "2024-08-23T00:30:09.699Z"
      },
      {
        "duration": 1076,
        "start_time": "2024-08-23T08:52:01.635Z"
      },
      {
        "duration": 268,
        "start_time": "2024-08-23T08:52:02.713Z"
      },
      {
        "duration": 2,
        "start_time": "2024-08-23T08:52:02.984Z"
      },
      {
        "duration": 41,
        "start_time": "2024-08-23T08:52:02.988Z"
      },
      {
        "duration": 60,
        "start_time": "2024-08-23T08:52:03.031Z"
      },
      {
        "duration": 9,
        "start_time": "2024-08-23T08:52:03.092Z"
      },
      {
        "duration": 21,
        "start_time": "2024-08-23T08:52:03.102Z"
      },
      {
        "duration": 9,
        "start_time": "2024-08-23T08:52:03.125Z"
      },
      {
        "duration": 9,
        "start_time": "2024-08-23T08:52:03.135Z"
      },
      {
        "duration": 71,
        "start_time": "2024-08-23T08:52:03.146Z"
      },
      {
        "duration": 25,
        "start_time": "2024-08-23T08:52:03.218Z"
      },
      {
        "duration": 80,
        "start_time": "2024-08-23T08:52:03.244Z"
      },
      {
        "duration": 226,
        "start_time": "2024-08-23T08:52:03.325Z"
      },
      {
        "duration": 8,
        "start_time": "2024-08-23T08:52:03.553Z"
      },
      {
        "duration": 150,
        "start_time": "2024-08-23T08:52:03.562Z"
      },
      {
        "duration": 8,
        "start_time": "2024-08-23T08:52:03.714Z"
      },
      {
        "duration": 203,
        "start_time": "2024-08-23T08:52:03.723Z"
      },
      {
        "duration": 10,
        "start_time": "2024-08-23T08:52:03.928Z"
      },
      {
        "duration": 416,
        "start_time": "2024-08-23T08:52:03.939Z"
      },
      {
        "duration": 9,
        "start_time": "2024-08-23T08:52:04.357Z"
      },
      {
        "duration": 414,
        "start_time": "2024-08-23T08:52:04.367Z"
      },
      {
        "duration": 61,
        "start_time": "2024-08-23T08:52:04.782Z"
      },
      {
        "duration": 25,
        "start_time": "2024-08-23T08:52:04.844Z"
      },
      {
        "duration": 14,
        "start_time": "2024-08-23T08:52:04.870Z"
      },
      {
        "duration": 11,
        "start_time": "2024-08-23T08:52:04.938Z"
      },
      {
        "duration": 22,
        "start_time": "2024-08-23T08:52:04.950Z"
      },
      {
        "duration": 637,
        "start_time": "2024-08-23T08:52:04.974Z"
      },
      {
        "duration": 326,
        "start_time": "2024-08-23T08:52:05.615Z"
      },
      {
        "duration": 29,
        "start_time": "2024-08-23T08:52:05.943Z"
      },
      {
        "duration": 90,
        "start_time": "2024-08-23T08:52:05.973Z"
      },
      {
        "duration": 26,
        "start_time": "2024-08-23T08:52:06.065Z"
      },
      {
        "duration": 24,
        "start_time": "2024-08-23T08:52:06.093Z"
      },
      {
        "duration": 79,
        "start_time": "2024-08-23T08:52:06.119Z"
      },
      {
        "duration": 37,
        "start_time": "2024-08-23T08:52:06.199Z"
      },
      {
        "duration": 21,
        "start_time": "2024-08-23T08:52:06.238Z"
      },
      {
        "duration": 133,
        "start_time": "2024-08-23T08:52:06.260Z"
      },
      {
        "duration": 5,
        "start_time": "2024-08-23T08:55:02.120Z"
      },
      {
        "duration": 7,
        "start_time": "2024-08-23T08:58:44.607Z"
      },
      {
        "duration": 7,
        "start_time": "2024-08-23T08:58:58.290Z"
      },
      {
        "duration": 1463,
        "start_time": "2024-08-23T10:52:12.625Z"
      },
      {
        "duration": 309,
        "start_time": "2024-08-23T10:52:17.775Z"
      },
      {
        "duration": 4,
        "start_time": "2024-08-23T10:52:20.828Z"
      },
      {
        "duration": 41,
        "start_time": "2024-08-23T10:52:27.424Z"
      },
      {
        "duration": 4,
        "start_time": "2024-08-23T10:54:41.173Z"
      },
      {
        "duration": 32,
        "start_time": "2024-08-23T10:54:44.563Z"
      },
      {
        "duration": 38,
        "start_time": "2024-08-23T10:54:56.064Z"
      },
      {
        "duration": 7,
        "start_time": "2024-08-23T10:54:56.895Z"
      },
      {
        "duration": 8,
        "start_time": "2024-08-23T10:55:23.407Z"
      },
      {
        "duration": 6,
        "start_time": "2024-08-23T10:55:56.207Z"
      },
      {
        "duration": 6,
        "start_time": "2024-08-23T10:59:13.687Z"
      },
      {
        "duration": 4,
        "start_time": "2024-08-23T10:59:30.783Z"
      },
      {
        "duration": 7,
        "start_time": "2024-08-23T10:59:34.120Z"
      },
      {
        "duration": 5,
        "start_time": "2024-08-23T11:00:01.680Z"
      },
      {
        "duration": 12,
        "start_time": "2024-08-23T11:00:03.248Z"
      },
      {
        "duration": 232,
        "start_time": "2024-08-23T11:00:06.430Z"
      },
      {
        "duration": 10,
        "start_time": "2024-08-23T11:00:14.682Z"
      },
      {
        "duration": 9,
        "start_time": "2024-08-23T11:00:15.933Z"
      },
      {
        "duration": 205,
        "start_time": "2024-08-23T11:00:27.024Z"
      },
      {
        "duration": 6,
        "start_time": "2024-08-23T11:00:37.010Z"
      },
      {
        "duration": 110,
        "start_time": "2024-08-23T11:10:58.819Z"
      },
      {
        "duration": 18,
        "start_time": "2024-08-23T11:13:49.384Z"
      },
      {
        "duration": 176,
        "start_time": "2024-08-23T11:15:18.206Z"
      },
      {
        "duration": 174,
        "start_time": "2024-08-23T11:17:29.094Z"
      },
      {
        "duration": 171,
        "start_time": "2024-08-23T11:17:40.106Z"
      },
      {
        "duration": 181,
        "start_time": "2024-08-23T11:19:28.874Z"
      },
      {
        "duration": 184,
        "start_time": "2024-08-23T11:20:34.432Z"
      },
      {
        "duration": 57,
        "start_time": "2024-08-23T11:23:35.419Z"
      },
      {
        "duration": 144,
        "start_time": "2024-08-23T11:23:41.436Z"
      },
      {
        "duration": 164,
        "start_time": "2024-08-23T11:23:57.372Z"
      },
      {
        "duration": 13,
        "start_time": "2024-08-23T14:54:59.282Z"
      },
      {
        "duration": 1207,
        "start_time": "2024-08-23T15:02:10.639Z"
      },
      {
        "duration": 72,
        "start_time": "2024-08-23T15:02:11.848Z"
      },
      {
        "duration": 4,
        "start_time": "2024-08-23T15:02:11.922Z"
      },
      {
        "duration": 48,
        "start_time": "2024-08-23T15:02:11.928Z"
      },
      {
        "duration": 35,
        "start_time": "2024-08-23T15:02:11.979Z"
      },
      {
        "duration": 6,
        "start_time": "2024-08-23T15:02:12.016Z"
      },
      {
        "duration": 33,
        "start_time": "2024-08-23T15:02:12.024Z"
      },
      {
        "duration": 7,
        "start_time": "2024-08-23T15:02:12.058Z"
      },
      {
        "duration": 26,
        "start_time": "2024-08-23T15:02:12.067Z"
      },
      {
        "duration": 11,
        "start_time": "2024-08-23T15:02:12.095Z"
      },
      {
        "duration": 213,
        "start_time": "2024-08-23T15:02:12.108Z"
      },
      {
        "duration": 39,
        "start_time": "2024-08-23T15:02:12.322Z"
      },
      {
        "duration": 30,
        "start_time": "2024-08-23T15:02:12.362Z"
      },
      {
        "duration": 210,
        "start_time": "2024-08-23T15:02:12.395Z"
      },
      {
        "duration": 6,
        "start_time": "2024-08-23T15:02:12.607Z"
      },
      {
        "duration": 172,
        "start_time": "2024-08-23T15:02:12.614Z"
      },
      {
        "duration": 9,
        "start_time": "2024-08-23T15:02:12.788Z"
      },
      {
        "duration": 208,
        "start_time": "2024-08-23T15:02:12.799Z"
      },
      {
        "duration": 8,
        "start_time": "2024-08-23T15:02:13.009Z"
      },
      {
        "duration": 260,
        "start_time": "2024-08-23T15:02:13.018Z"
      },
      {
        "duration": 9,
        "start_time": "2024-08-23T15:02:13.280Z"
      },
      {
        "duration": 250,
        "start_time": "2024-08-23T15:02:13.290Z"
      },
      {
        "duration": 17,
        "start_time": "2024-08-23T15:02:13.541Z"
      },
      {
        "duration": 26,
        "start_time": "2024-08-23T15:02:13.560Z"
      },
      {
        "duration": 13,
        "start_time": "2024-08-23T15:02:13.588Z"
      },
      {
        "duration": 25,
        "start_time": "2024-08-23T15:02:13.603Z"
      },
      {
        "duration": 18,
        "start_time": "2024-08-23T15:02:13.630Z"
      },
      {
        "duration": 324,
        "start_time": "2024-08-23T15:02:13.649Z"
      },
      {
        "duration": 364,
        "start_time": "2024-08-23T15:02:13.975Z"
      },
      {
        "duration": 34,
        "start_time": "2024-08-23T15:02:14.341Z"
      },
      {
        "duration": 11,
        "start_time": "2024-08-23T15:02:14.376Z"
      },
      {
        "duration": 7,
        "start_time": "2024-08-23T15:02:14.389Z"
      },
      {
        "duration": 18,
        "start_time": "2024-08-23T15:02:14.397Z"
      },
      {
        "duration": 119,
        "start_time": "2024-08-23T15:02:14.417Z"
      },
      {
        "duration": 45,
        "start_time": "2024-08-23T15:02:14.538Z"
      },
      {
        "duration": 35,
        "start_time": "2024-08-23T15:02:14.585Z"
      },
      {
        "duration": 6,
        "start_time": "2024-08-23T15:02:14.622Z"
      },
      {
        "duration": 1183,
        "start_time": "2024-08-23T15:06:51.737Z"
      },
      {
        "duration": 73,
        "start_time": "2024-08-23T15:06:52.922Z"
      },
      {
        "duration": 3,
        "start_time": "2024-08-23T15:06:52.997Z"
      },
      {
        "duration": 103,
        "start_time": "2024-08-23T15:06:53.002Z"
      },
      {
        "duration": 40,
        "start_time": "2024-08-23T15:06:53.107Z"
      },
      {
        "duration": 12,
        "start_time": "2024-08-23T15:06:53.148Z"
      },
      {
        "duration": 8,
        "start_time": "2024-08-23T15:06:53.163Z"
      },
      {
        "duration": 7,
        "start_time": "2024-08-23T15:06:53.173Z"
      },
      {
        "duration": 5,
        "start_time": "2024-08-23T15:06:53.181Z"
      },
      {
        "duration": 41,
        "start_time": "2024-08-23T15:06:53.189Z"
      },
      {
        "duration": 225,
        "start_time": "2024-08-23T15:06:53.232Z"
      },
      {
        "duration": 8,
        "start_time": "2024-08-23T15:06:53.458Z"
      },
      {
        "duration": 27,
        "start_time": "2024-08-23T15:06:53.468Z"
      },
      {
        "duration": 217,
        "start_time": "2024-08-23T15:06:53.497Z"
      },
      {
        "duration": 6,
        "start_time": "2024-08-23T15:06:53.716Z"
      },
      {
        "duration": 184,
        "start_time": "2024-08-23T15:06:53.723Z"
      },
      {
        "duration": 10,
        "start_time": "2024-08-23T15:06:53.909Z"
      },
      {
        "duration": 207,
        "start_time": "2024-08-23T15:06:53.921Z"
      },
      {
        "duration": 7,
        "start_time": "2024-08-23T15:06:54.130Z"
      },
      {
        "duration": 219,
        "start_time": "2024-08-23T15:06:54.139Z"
      },
      {
        "duration": 9,
        "start_time": "2024-08-23T15:06:54.359Z"
      },
      {
        "duration": 219,
        "start_time": "2024-08-23T15:06:54.370Z"
      },
      {
        "duration": 8,
        "start_time": "2024-08-23T15:06:54.591Z"
      },
      {
        "duration": 70,
        "start_time": "2024-08-23T15:06:54.601Z"
      },
      {
        "duration": 14,
        "start_time": "2024-08-23T15:06:54.673Z"
      },
      {
        "duration": 18,
        "start_time": "2024-08-23T15:06:54.689Z"
      },
      {
        "duration": 13,
        "start_time": "2024-08-23T15:06:54.708Z"
      },
      {
        "duration": 324,
        "start_time": "2024-08-23T15:06:54.724Z"
      },
      {
        "duration": 382,
        "start_time": "2024-08-23T15:06:55.050Z"
      },
      {
        "duration": 44,
        "start_time": "2024-08-23T15:06:55.434Z"
      },
      {
        "duration": 13,
        "start_time": "2024-08-23T15:06:55.480Z"
      },
      {
        "duration": 7,
        "start_time": "2024-08-23T15:06:55.495Z"
      },
      {
        "duration": 23,
        "start_time": "2024-08-23T15:06:55.504Z"
      },
      {
        "duration": 106,
        "start_time": "2024-08-23T15:06:55.529Z"
      },
      {
        "duration": 20,
        "start_time": "2024-08-23T15:06:55.636Z"
      },
      {
        "duration": 10,
        "start_time": "2024-08-23T15:06:55.658Z"
      },
      {
        "duration": 5,
        "start_time": "2024-08-23T15:06:55.670Z"
      },
      {
        "duration": 1037,
        "start_time": "2024-08-23T17:04:33.106Z"
      },
      {
        "duration": 73,
        "start_time": "2024-08-23T17:04:34.145Z"
      },
      {
        "duration": 3,
        "start_time": "2024-08-23T17:04:34.220Z"
      },
      {
        "duration": 45,
        "start_time": "2024-08-23T17:04:34.225Z"
      },
      {
        "duration": 31,
        "start_time": "2024-08-23T17:04:34.271Z"
      },
      {
        "duration": 13,
        "start_time": "2024-08-23T17:04:34.303Z"
      },
      {
        "duration": 22,
        "start_time": "2024-08-23T17:04:34.317Z"
      },
      {
        "duration": 11,
        "start_time": "2024-08-23T17:04:34.341Z"
      },
      {
        "duration": 53,
        "start_time": "2024-08-23T17:04:34.353Z"
      },
      {
        "duration": 24,
        "start_time": "2024-08-23T17:04:34.409Z"
      },
      {
        "duration": 186,
        "start_time": "2024-08-23T17:04:34.434Z"
      },
      {
        "duration": 6,
        "start_time": "2024-08-23T17:04:34.622Z"
      },
      {
        "duration": 12,
        "start_time": "2024-08-23T17:04:34.629Z"
      },
      {
        "duration": 209,
        "start_time": "2024-08-23T17:04:34.643Z"
      },
      {
        "duration": 6,
        "start_time": "2024-08-23T17:04:34.853Z"
      },
      {
        "duration": 164,
        "start_time": "2024-08-23T17:04:34.861Z"
      },
      {
        "duration": 9,
        "start_time": "2024-08-23T17:04:35.027Z"
      },
      {
        "duration": 188,
        "start_time": "2024-08-23T17:04:35.037Z"
      },
      {
        "duration": 8,
        "start_time": "2024-08-23T17:04:35.226Z"
      },
      {
        "duration": 357,
        "start_time": "2024-08-23T17:04:35.236Z"
      },
      {
        "duration": 10,
        "start_time": "2024-08-23T17:04:35.596Z"
      },
      {
        "duration": 416,
        "start_time": "2024-08-23T17:04:35.608Z"
      },
      {
        "duration": 8,
        "start_time": "2024-08-23T17:04:36.025Z"
      },
      {
        "duration": 33,
        "start_time": "2024-08-23T17:04:36.090Z"
      },
      {
        "duration": 66,
        "start_time": "2024-08-23T17:04:36.124Z"
      },
      {
        "duration": 18,
        "start_time": "2024-08-23T17:04:36.192Z"
      },
      {
        "duration": 17,
        "start_time": "2024-08-23T17:04:36.211Z"
      },
      {
        "duration": 672,
        "start_time": "2024-08-23T17:04:36.231Z"
      },
      {
        "duration": 355,
        "start_time": "2024-08-23T17:04:36.905Z"
      },
      {
        "duration": 51,
        "start_time": "2024-08-23T17:04:37.262Z"
      },
      {
        "duration": 11,
        "start_time": "2024-08-23T17:04:37.314Z"
      },
      {
        "duration": 11,
        "start_time": "2024-08-23T17:04:37.327Z"
      },
      {
        "duration": 23,
        "start_time": "2024-08-23T17:04:37.340Z"
      },
      {
        "duration": 93,
        "start_time": "2024-08-23T17:04:37.365Z"
      },
      {
        "duration": 7,
        "start_time": "2024-08-23T17:04:37.460Z"
      },
      {
        "duration": 8,
        "start_time": "2024-08-23T17:04:37.468Z"
      },
      {
        "duration": 10,
        "start_time": "2024-08-23T17:04:37.497Z"
      }
    ],
    "kernelspec": {
      "display_name": "Python 3 (ipykernel)",
      "language": "python",
      "name": "python3"
    },
    "language_info": {
      "codemirror_mode": {
        "name": "ipython",
        "version": 3
      },
      "file_extension": ".py",
      "mimetype": "text/x-python",
      "name": "python",
      "nbconvert_exporter": "python",
      "pygments_lexer": "ipython3",
      "version": "3.9.5"
    },
    "toc": {
      "base_numbering": 1,
      "nav_menu": {},
      "number_sections": true,
      "sideBar": true,
      "skip_h1_title": true,
      "title_cell": "Table of Contents",
      "title_sidebar": "Contents",
      "toc_cell": false,
      "toc_position": {},
      "toc_section_display": true,
      "toc_window_display": true
    },
    "colab": {
      "provenance": []
    }
  },
  "nbformat": 4,
  "nbformat_minor": 5
}