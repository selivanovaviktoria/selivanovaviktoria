{
  "cells": [
    {
      "cell_type": "markdown",
      "metadata": {
        "toc": true,
        "id": "JrKZiaI2LIcl"
      },
      "source": [
        "<h1>Содержание<span class=\"tocSkip\"></span></h1>\n",
        "<div class=\"toc\"><ul class=\"toc-item\"><li><span><a href=\"#Подготовка\" data-toc-modified-id=\"Подготовка-1\"><span class=\"toc-item-num\">1&nbsp;&nbsp;</span>Подготовка</a></span></li><li><span><a href=\"#Анализ\" data-toc-modified-id=\"Анализ-2\"><span class=\"toc-item-num\">2&nbsp;&nbsp;</span>Анализ</a></span><ul class=\"toc-item\"><li><span><a href=\"#Визуализация-временного-ряда\" data-toc-modified-id=\"Визуализация-временного-ряда-2.1\"><span class=\"toc-item-num\">2.1&nbsp;&nbsp;</span>Визуализация временного ряда</a></span></li><li><span><a href=\"#Декомпозиция\" data-toc-modified-id=\"Декомпозиция-2.2\"><span class=\"toc-item-num\">2.2&nbsp;&nbsp;</span>Декомпозиция</a></span></li><li><span><a href=\"#Количество-заказов-по-периодам\" data-toc-modified-id=\"Количество-заказов-по-периодам-2.3\"><span class=\"toc-item-num\">2.3&nbsp;&nbsp;</span>Количество заказов по периодам</a></span></li><li><span><a href=\"#Промежуточный-вывод\" data-toc-modified-id=\"Промежуточный-вывод-2.4\"><span class=\"toc-item-num\">2.4&nbsp;&nbsp;</span>Промежуточный вывод</a></span></li></ul></li><li><span><a href=\"#Обучение\" data-toc-modified-id=\"Обучение-3\"><span class=\"toc-item-num\">3&nbsp;&nbsp;</span>Обучение</a></span><ul class=\"toc-item\"><li><span><a href=\"#Подготовка-данных\" data-toc-modified-id=\"Подготовка-данных-3.1\"><span class=\"toc-item-num\">3.1&nbsp;&nbsp;</span>Подготовка данных</a></span></li><li><span><a href=\"#Линейная-регрессия\" data-toc-modified-id=\"Линейная-регрессия-3.2\"><span class=\"toc-item-num\">3.2&nbsp;&nbsp;</span>Линейная регрессия</a></span></li><li><span><a href=\"#LightGBM\" data-toc-modified-id=\"LightGBM-3.3\"><span class=\"toc-item-num\">3.3&nbsp;&nbsp;</span>LightGBM</a></span></li><li><span><a href=\"#CatBoost\" data-toc-modified-id=\"CatBoost-3.4\"><span class=\"toc-item-num\">3.4&nbsp;&nbsp;</span>CatBoost</a></span></li><li><span><a href=\"#Анализ-моделей\" data-toc-modified-id=\"Анализ-моделей-3.5\"><span class=\"toc-item-num\">3.5&nbsp;&nbsp;</span>Анализ моделей</a></span></li></ul></li><li><span><a href=\"#Тестирование\" data-toc-modified-id=\"Тестирование-4\"><span class=\"toc-item-num\">4&nbsp;&nbsp;</span>Тестирование</a></span></li><li><span><a href=\"#Вывод\" data-toc-modified-id=\"Вывод-5\"><span class=\"toc-item-num\">5&nbsp;&nbsp;</span>Вывод</a></span></li><li><span><a href=\"#Чек-лист-проверки\" data-toc-modified-id=\"Чек-лист-проверки-6\"><span class=\"toc-item-num\">6&nbsp;&nbsp;</span>Чек-лист проверки</a></span></li></ul></div>"
      ]
    },
    {
      "cell_type": "markdown",
      "metadata": {
        "id": "5vRUDqTeLIcm"
      },
      "source": [
        "#  Прогнозирование заказов такси"
      ]
    },
    {
      "cell_type": "markdown",
      "metadata": {
        "id": "B--UBh7cLIcn"
      },
      "source": [
        "Компания «Чётенькое такси» собрала исторические данные о заказах такси в аэропортах. Чтобы привлекать больше водителей в период пиковой нагрузки, нужно спрогнозировать количество заказов такси на следующий час. Постройте модель для такого предсказания.\n",
        "\n",
        "Значение метрики *RMSE* на тестовой выборке должно быть не больше 48.\n",
        "\n",
        "Вам нужно:\n",
        "\n",
        "1. Загрузить данные и выполнить их ресемплирование по одному часу.\n",
        "2. Проанализировать данные.\n",
        "3. Обучить разные модели с различными гиперпараметрами. Сделать тестовую выборку размером 10% от исходных данных.\n",
        "4. Проверить данные на тестовой выборке и сделать выводы.\n",
        "\n",
        "\n",
        "Данные лежат в файле `taxi.csv`. Количество заказов находится в столбце `num_orders` (от англ. *number of orders*, «число заказов»)."
      ]
    },
    {
      "cell_type": "markdown",
      "metadata": {
        "id": "3_HNpvRcLIcn"
      },
      "source": [
        "**Цель исследования:** Построить модель для предсказания количества заказов такси на следующий час.  \n",
        "\n",
        "**План исследования:**  \n",
        "- Загрузка и первичный обзор данных;  \n",
        "- Анализ:\n",
        "  - Визуализация временного ряда;\n",
        "  - Декомпозиция (выяление тренда и сезонности)\n",
        "  - Расчет количества заказов по месяцам/дням недели/часам;\n",
        "- Обучение моделей:\n",
        "  - Подготовка данных (автокорреляционный анализ, добавление дополнительных признаков,разделение на train/test);  \n",
        "  - Подбор гиперпараметров, обучение и оченка качества моделей:\n",
        "    - Линейная регрессия;  \n",
        "    - LightGBM;\n",
        "    - CatBoost;  \n",
        "  - Определение оптимальной модели;\n",
        "- Тестирование полученной модели."
      ]
    },
    {
      "cell_type": "markdown",
      "metadata": {
        "id": "0b62pnD4LIcn"
      },
      "source": [
        "## Подготовка"
      ]
    },
    {
      "cell_type": "code",
      "execution_count": null,
      "metadata": {
        "id": "Hs4j5T3FLIco"
      },
      "outputs": [],
      "source": [
        "!pip install catboost -q\n",
        "!pip install scikit-learn==1.5.2 -q\n",
        "!pip install matplotlib==3.5.1 -q"
      ]
    },
    {
      "cell_type": "code",
      "execution_count": null,
      "metadata": {
        "id": "UIV614idLIco"
      },
      "outputs": [],
      "source": [
        "import warnings\n",
        "from time import time\n",
        "\n",
        "import pandas as pd\n",
        "import numpy as np\n",
        "import matplotlib.pyplot as plt\n",
        "\n",
        "from statsmodels.tsa.seasonal import seasonal_decompose\n",
        "from statsmodels.graphics.tsaplots import plot_acf\n",
        "\n",
        "from sklearn.model_selection import (train_test_split,\n",
        "                                     TimeSeriesSplit,\n",
        "                                     cross_val_score,\n",
        "                                     RandomizedSearchCV)\n",
        "from sklearn.linear_model import LinearRegression\n",
        "from sklearn.metrics import root_mean_squared_error\n",
        "\n",
        "from lightgbm import LGBMRegressor\n",
        "from catboost import CatBoostRegressor\n",
        "\n",
        "warnings.filterwarnings('ignore')"
      ]
    },
    {
      "cell_type": "markdown",
      "metadata": {
        "id": "8eTIgGJJLIco"
      },
      "source": [
        "Загрузим датасет и выведем основную информацию"
      ]
    },
    {
      "cell_type": "code",
      "execution_count": null,
      "metadata": {
        "id": "UmL1h_y3LIcp"
      },
      "outputs": [],
      "source": [
        "try:\n",
        "    df = pd.read_csv('/datasets/taxi.csv', parse_dates=[0], index_col=[0])\n",
        "except:\n",
        "    df = pd.read_csv('taxi.csv', parse_dates=[0], index_col=[0])"
      ]
    },
    {
      "cell_type": "code",
      "execution_count": null,
      "metadata": {
        "id": "1kZCvehsLIcp",
        "outputId": "5b895a7d-0213-41dc-f229-510dd2ab22e4"
      },
      "outputs": [
        {
          "data": {
            "text/html": [
              "<div>\n",
              "<style scoped>\n",
              "    .dataframe tbody tr th:only-of-type {\n",
              "        vertical-align: middle;\n",
              "    }\n",
              "\n",
              "    .dataframe tbody tr th {\n",
              "        vertical-align: top;\n",
              "    }\n",
              "\n",
              "    .dataframe thead th {\n",
              "        text-align: right;\n",
              "    }\n",
              "</style>\n",
              "<table border=\"1\" class=\"dataframe\">\n",
              "  <thead>\n",
              "    <tr style=\"text-align: right;\">\n",
              "      <th></th>\n",
              "      <th>num_orders</th>\n",
              "    </tr>\n",
              "    <tr>\n",
              "      <th>datetime</th>\n",
              "      <th></th>\n",
              "    </tr>\n",
              "  </thead>\n",
              "  <tbody>\n",
              "    <tr>\n",
              "      <th>2018-03-01 00:00:00</th>\n",
              "      <td>9</td>\n",
              "    </tr>\n",
              "    <tr>\n",
              "      <th>2018-03-01 00:10:00</th>\n",
              "      <td>14</td>\n",
              "    </tr>\n",
              "    <tr>\n",
              "      <th>2018-03-01 00:20:00</th>\n",
              "      <td>28</td>\n",
              "    </tr>\n",
              "    <tr>\n",
              "      <th>2018-03-01 00:30:00</th>\n",
              "      <td>20</td>\n",
              "    </tr>\n",
              "    <tr>\n",
              "      <th>2018-03-01 00:40:00</th>\n",
              "      <td>32</td>\n",
              "    </tr>\n",
              "  </tbody>\n",
              "</table>\n",
              "</div>"
            ],
            "text/plain": [
              "                     num_orders\n",
              "datetime                       \n",
              "2018-03-01 00:00:00           9\n",
              "2018-03-01 00:10:00          14\n",
              "2018-03-01 00:20:00          28\n",
              "2018-03-01 00:30:00          20\n",
              "2018-03-01 00:40:00          32"
            ]
          },
          "metadata": {},
          "output_type": "display_data"
        },
        {
          "name": "stdout",
          "output_type": "stream",
          "text": [
            "<class 'pandas.core.frame.DataFrame'>\n",
            "DatetimeIndex: 26496 entries, 2018-03-01 00:00:00 to 2018-08-31 23:50:00\n",
            "Data columns (total 1 columns):\n",
            " #   Column      Non-Null Count  Dtype\n",
            "---  ------      --------------  -----\n",
            " 0   num_orders  26496 non-null  int64\n",
            "dtypes: int64(1)\n",
            "memory usage: 414.0 KB\n"
          ]
        }
      ],
      "source": [
        "display(df.head(5))\n",
        "df.info()"
      ]
    },
    {
      "cell_type": "markdown",
      "metadata": {
        "id": "SNYXhn-yLIcp"
      },
      "source": [
        "Ресемплируем данные по одному часу"
      ]
    },
    {
      "cell_type": "code",
      "execution_count": null,
      "metadata": {
        "id": "3JVcUWA8LIcp"
      },
      "outputs": [],
      "source": [
        "df = df.resample('1H').sum()"
      ]
    },
    {
      "cell_type": "code",
      "execution_count": null,
      "metadata": {
        "id": "dq7kr3EXLIcp",
        "outputId": "1bc8827d-d122-443f-e3cf-4bc1b19fdd5f"
      },
      "outputs": [
        {
          "data": {
            "text/html": [
              "<div>\n",
              "<style scoped>\n",
              "    .dataframe tbody tr th:only-of-type {\n",
              "        vertical-align: middle;\n",
              "    }\n",
              "\n",
              "    .dataframe tbody tr th {\n",
              "        vertical-align: top;\n",
              "    }\n",
              "\n",
              "    .dataframe thead th {\n",
              "        text-align: right;\n",
              "    }\n",
              "</style>\n",
              "<table border=\"1\" class=\"dataframe\">\n",
              "  <thead>\n",
              "    <tr style=\"text-align: right;\">\n",
              "      <th></th>\n",
              "      <th>num_orders</th>\n",
              "    </tr>\n",
              "    <tr>\n",
              "      <th>datetime</th>\n",
              "      <th></th>\n",
              "    </tr>\n",
              "  </thead>\n",
              "  <tbody>\n",
              "    <tr>\n",
              "      <th>2018-03-01 00:00:00</th>\n",
              "      <td>124</td>\n",
              "    </tr>\n",
              "    <tr>\n",
              "      <th>2018-03-01 01:00:00</th>\n",
              "      <td>85</td>\n",
              "    </tr>\n",
              "    <tr>\n",
              "      <th>2018-03-01 02:00:00</th>\n",
              "      <td>71</td>\n",
              "    </tr>\n",
              "    <tr>\n",
              "      <th>2018-03-01 03:00:00</th>\n",
              "      <td>66</td>\n",
              "    </tr>\n",
              "    <tr>\n",
              "      <th>2018-03-01 04:00:00</th>\n",
              "      <td>43</td>\n",
              "    </tr>\n",
              "  </tbody>\n",
              "</table>\n",
              "</div>"
            ],
            "text/plain": [
              "                     num_orders\n",
              "datetime                       \n",
              "2018-03-01 00:00:00         124\n",
              "2018-03-01 01:00:00          85\n",
              "2018-03-01 02:00:00          71\n",
              "2018-03-01 03:00:00          66\n",
              "2018-03-01 04:00:00          43"
            ]
          },
          "metadata": {},
          "output_type": "display_data"
        },
        {
          "data": {
            "text/html": [
              "<div>\n",
              "<style scoped>\n",
              "    .dataframe tbody tr th:only-of-type {\n",
              "        vertical-align: middle;\n",
              "    }\n",
              "\n",
              "    .dataframe tbody tr th {\n",
              "        vertical-align: top;\n",
              "    }\n",
              "\n",
              "    .dataframe thead th {\n",
              "        text-align: right;\n",
              "    }\n",
              "</style>\n",
              "<table border=\"1\" class=\"dataframe\">\n",
              "  <thead>\n",
              "    <tr style=\"text-align: right;\">\n",
              "      <th></th>\n",
              "      <th>num_orders</th>\n",
              "    </tr>\n",
              "    <tr>\n",
              "      <th>datetime</th>\n",
              "      <th></th>\n",
              "    </tr>\n",
              "  </thead>\n",
              "  <tbody>\n",
              "    <tr>\n",
              "      <th>2018-08-31 19:00:00</th>\n",
              "      <td>136</td>\n",
              "    </tr>\n",
              "    <tr>\n",
              "      <th>2018-08-31 20:00:00</th>\n",
              "      <td>154</td>\n",
              "    </tr>\n",
              "    <tr>\n",
              "      <th>2018-08-31 21:00:00</th>\n",
              "      <td>159</td>\n",
              "    </tr>\n",
              "    <tr>\n",
              "      <th>2018-08-31 22:00:00</th>\n",
              "      <td>223</td>\n",
              "    </tr>\n",
              "    <tr>\n",
              "      <th>2018-08-31 23:00:00</th>\n",
              "      <td>205</td>\n",
              "    </tr>\n",
              "  </tbody>\n",
              "</table>\n",
              "</div>"
            ],
            "text/plain": [
              "                     num_orders\n",
              "datetime                       \n",
              "2018-08-31 19:00:00         136\n",
              "2018-08-31 20:00:00         154\n",
              "2018-08-31 21:00:00         159\n",
              "2018-08-31 22:00:00         223\n",
              "2018-08-31 23:00:00         205"
            ]
          },
          "metadata": {},
          "output_type": "display_data"
        },
        {
          "name": "stdout",
          "output_type": "stream",
          "text": [
            "<class 'pandas.core.frame.DataFrame'>\n",
            "DatetimeIndex: 4416 entries, 2018-03-01 00:00:00 to 2018-08-31 23:00:00\n",
            "Freq: H\n",
            "Data columns (total 1 columns):\n",
            " #   Column      Non-Null Count  Dtype\n",
            "---  ------      --------------  -----\n",
            " 0   num_orders  4416 non-null   int64\n",
            "dtypes: int64(1)\n",
            "memory usage: 69.0 KB\n"
          ]
        }
      ],
      "source": [
        "display(df.head(5))\n",
        "display(df.tail(5))\n",
        "df.info()"
      ]
    },
    {
      "cell_type": "markdown",
      "metadata": {
        "id": "KZn3NTdyLIcq"
      },
      "source": [
        "Проверим данные на наличие пропусков"
      ]
    },
    {
      "cell_type": "code",
      "execution_count": null,
      "metadata": {
        "scrolled": true,
        "id": "F71E2TqiLIcq",
        "outputId": "948c6b41-f19b-4f33-df17-01863e951279"
      },
      "outputs": [
        {
          "name": "stdout",
          "output_type": "stream",
          "text": [
            "Количество пропущенных значений в целевом признаке: 0\n"
          ]
        }
      ],
      "source": [
        "print(f'Количество пропущенных значений в целевом признаке: {df[\"num_orders\"].isna().sum()}')"
      ]
    },
    {
      "cell_type": "markdown",
      "metadata": {
        "id": "3xNWVhvdLIcq"
      },
      "source": [
        "## Анализ"
      ]
    },
    {
      "cell_type": "markdown",
      "metadata": {
        "id": "jQgXfgPhLIcq"
      },
      "source": [
        "### Визуализация временного ряда"
      ]
    },
    {
      "cell_type": "markdown",
      "metadata": {
        "id": "Kk-71AGYLIcq"
      },
      "source": [
        "Для начала визуализируем  график временного ряда со скользящим средним"
      ]
    },
    {
      "cell_type": "code",
      "execution_count": null,
      "metadata": {
        "scrolled": true,
        "id": "FCLdnXbpLIcq",
        "outputId": "b3f6da44-ef13-4677-8a79-86d3aa2dbd3d"
      },
      "outputs": [
        {
          "data": {
            "image/png": "[encoded data removed]",
            "text/plain": [
              "<Figure size 1152x360 with 1 Axes>"
            ]
          },
          "metadata": {
            "needs_background": "light"
          },
          "output_type": "display_data"
        }
      ],
      "source": [
        "pd.DataFrame({'Количество заказов': df['num_orders'],\n",
        "              'Скользящее среднее': df['num_orders'].rolling(24).mean()}).plot(figsize=(16,5))\n",
        "plt.title('График временного ряда');"
      ]
    },
    {
      "cell_type": "markdown",
      "metadata": {
        "id": "FVn59P3oLIcq"
      },
      "source": [
        "Можно отметить тенденцию к постепенному росту количества заказов такси, также наблюдается увеличение разброса значений в августе, что может быть обусловлено резким увеличением количества прибывающих в аэропорт людей всвязи с возвращением из отпуска.  \n",
        "Выделим тренд, сезонную составляющую и остатки и определим функцию для их визуализации."
      ]
    },
    {
      "cell_type": "markdown",
      "metadata": {
        "id": "M2RzCQXsLIcq"
      },
      "source": [
        "### Декомпозиция"
      ]
    },
    {
      "cell_type": "code",
      "execution_count": null,
      "metadata": {
        "id": "KE5cK8urLIcq"
      },
      "outputs": [],
      "source": [
        "def decomposed_time_series(df):\n",
        "    decomposed = seasonal_decompose(df)\n",
        "\n",
        "    plt.figure(figsize=(15, 12))\n",
        "    plt.subplot(311)\n",
        "    decomposed.trend.plot(ax=plt.gca(), grid=True)\n",
        "    plt.title('Тренд')\n",
        "    plt.xlabel('Период')\n",
        "    plt.subplot(312)\n",
        "    decomposed.seasonal.plot(ax=plt.gca(), grid=True)\n",
        "    plt.title('Сезонность')\n",
        "    plt.xlabel('Период')\n",
        "    plt.subplot(313)\n",
        "    decomposed.resid.plot(ax=plt.gca(), grid=True)\n",
        "    plt.title('Остатки')\n",
        "    plt.xlabel('Период')\n",
        "    plt.tight_layout()"
      ]
    },
    {
      "cell_type": "markdown",
      "metadata": {
        "id": "dHyw4fJvLIcq"
      },
      "source": [
        "Визуализируем полученные графики"
      ]
    },
    {
      "cell_type": "code",
      "execution_count": null,
      "metadata": {
        "id": "npSEFZJeLIcr",
        "outputId": "209b8b1b-65a1-4469-d806-fd73d11a5609"
      },
      "outputs": [
        {
          "data": {
            "image/png": "[encoded data removed]",
            "text/plain": [
              "<Figure size 1080x864 with 3 Axes>"
            ]
          },
          "metadata": {
            "needs_background": "light"
          },
          "output_type": "display_data"
        }
      ],
      "source": [
        "decomposed_time_series(df)"
      ]
    },
    {
      "cell_type": "markdown",
      "metadata": {
        "id": "lOJKncYLLIcr"
      },
      "source": [
        "На полученном графике можно лучше проследить тренд на увеличение количества заказов такси к началу сентября. Однако сложно делать выводы о сезонности, изменим масштаб, построив графики для числа заказов за август."
      ]
    },
    {
      "cell_type": "code",
      "execution_count": null,
      "metadata": {
        "id": "rpkygbudLIcr",
        "outputId": "2238fcf8-f96d-4981-c856-4e0a61f3c9c6"
      },
      "outputs": [
        {
          "data": {
            "image/png": "[encoded data removed]",
            "text/plain": [
              "<Figure size 1080x864 with 3 Axes>"
            ]
          },
          "metadata": {
            "needs_background": "light"
          },
          "output_type": "display_data"
        }
      ],
      "source": [
        "decomposed_time_series(df['2018-08-01':'2018-08-31'])"
      ]
    },
    {
      "cell_type": "markdown",
      "metadata": {
        "id": "bQlvzS-QLIcr"
      },
      "source": [
        "Отчётливо видно суточную сезонность, но тобы детальнее рассмотреть, как меняется количество заказов такси в течение суток, расммотрим данные за последние 5 дней месяца"
      ]
    },
    {
      "cell_type": "code",
      "execution_count": null,
      "metadata": {
        "id": "_tYqEdJjLIcr",
        "outputId": "a9fdbf8b-1fd7-46cf-8e79-f8347dfee6d6"
      },
      "outputs": [
        {
          "data": {
            "image/png": "[encoded data removed]",
            "text/plain": [
              "<Figure size 1080x864 with 3 Axes>"
            ]
          },
          "metadata": {
            "needs_background": "light"
          },
          "output_type": "display_data"
        }
      ],
      "source": [
        "decomposed_time_series(df['2018-08-27'::])"
      ]
    },
    {
      "cell_type": "markdown",
      "metadata": {
        "id": "cZcQrWPILIcr"
      },
      "source": [
        "Вечером и ночью наблюдаются периоды высокой клиентской активности, а ранним утром напротив - наблюдается наиболее сильное сокращение количества заказов."
      ]
    },
    {
      "cell_type": "markdown",
      "metadata": {
        "id": "EsGFxXeoLIcr"
      },
      "source": [
        "### Количество заказов по периодам"
      ]
    },
    {
      "cell_type": "markdown",
      "metadata": {
        "id": "-dYeMz7bLIcr"
      },
      "source": [
        "Рассмотрим как меняется количество заказов по месяцам, дням недели и часам. Для этого выделим соответствующие переменные"
      ]
    },
    {
      "cell_type": "code",
      "execution_count": null,
      "metadata": {
        "id": "Qs26MSWELIcr"
      },
      "outputs": [],
      "source": [
        "df['month'] = df.index.month\n",
        "df['day'] = df.index.day\n",
        "df['day_of_week'] = df.index.dayofweek\n",
        "df['hour'] = df.index.hour"
      ]
    },
    {
      "cell_type": "code",
      "execution_count": null,
      "metadata": {
        "id": "I5hlI0VzLIcr",
        "outputId": "f2fa7ede-6c55-431a-ad97-e71141d2c87c"
      },
      "outputs": [
        {
          "data": {
            "image/png": "[encoded data removed]",
            "text/plain": [
              "<Figure size 864x432 with 1 Axes>"
            ]
          },
          "metadata": {
            "needs_background": "light"
          },
          "output_type": "display_data"
        }
      ],
      "source": [
        "df.groupby('month')['num_orders'].sum().plot(figsize=(12,6), grid=True)\n",
        "plt.title('График количества заказов по месяцам', fontsize=16)\n",
        "plt.xlabel('Месяц', fontsize=12)\n",
        "plt.xticks(ticks=range(3, 9), labels=['Март',\n",
        "                                   'Апрель',\n",
        "                                   'Май',\n",
        "                                   'Июнь',\n",
        "                                   'Июль',\n",
        "                                   'Август']);"
      ]
    },
    {
      "cell_type": "code",
      "execution_count": null,
      "metadata": {
        "id": "kqGGiAW3LIcr",
        "outputId": "e929e653-3c0d-44e9-d9b5-2ae0dd1a26b7"
      },
      "outputs": [
        {
          "data": {
            "image/png": "[encoded data removed]",
            "text/plain": [
              "<Figure size 864x432 with 1 Axes>"
            ]
          },
          "metadata": {
            "needs_background": "light"
          },
          "output_type": "display_data"
        }
      ],
      "source": [
        "df.groupby('day_of_week')['num_orders'].sum().plot(figsize=(12,6), grid=True)\n",
        "plt.title('Количество заказов по дням недели', fontsize=16)\n",
        "plt.xlabel('День недели', fontsize=12)\n",
        "plt.xticks(ticks=range(7), labels=['Понедельник',\n",
        "                                   'Вторник',\n",
        "                                   'Среда',\n",
        "                                   'Четверг',\n",
        "                                   'Пятница',\n",
        "                                   'Суббота',\n",
        "                                   'Воскресенье']);"
      ]
    },
    {
      "cell_type": "code",
      "execution_count": null,
      "metadata": {
        "id": "bk9q37CVLIcs",
        "outputId": "77f17e1e-8302-48ae-e18a-94c77b82ce73"
      },
      "outputs": [
        {
          "data": {
            "image/png": "[encoded data removed]",
            "text/plain": [
              "<Figure size 864x432 with 1 Axes>"
            ]
          },
          "metadata": {
            "needs_background": "light"
          },
          "output_type": "display_data"
        }
      ],
      "source": [
        "df.groupby('hour')['num_orders'].sum().plot(figsize=(12,6), grid=True)\n",
        "plt.title('Количество заказов по часам', fontsize=16)\n",
        "plt.xlabel('Время, ч.', fontsize=12)\n",
        "plt.xticks(ticks=range(24));"
      ]
    },
    {
      "cell_type": "markdown",
      "metadata": {
        "id": "h7y31lU-LIcs"
      },
      "source": [
        "Как и было отмечено ранее, наибольшее количество заказов регистрируется в августе, причем ближе к концу месяца;  \n",
        "Пик спроса отмечается в пятницу, далее идёт на снижение и достигает нижней точки во вторник;  \n",
        "Минимальный спрос - в 06:00, а наибольшее количество заказов приходится на периоды с 22:00 до 03:00, а также с 15:00 до 17:00. Вероятно, в это время прибывает бОльшее количество рейсов."
      ]
    },
    {
      "cell_type": "markdown",
      "metadata": {
        "id": "uRTtcfp1LIcv"
      },
      "source": [
        "### Промежуточный вывод"
      ]
    },
    {
      "cell_type": "markdown",
      "metadata": {
        "id": "ee7RElYfLIcv"
      },
      "source": [
        "В нашем распоряжении данные о количестве заказов такси в аэропорте с 1 марта по 31 августа включительно. В ходе анализа была выявлена ярко выраженная суточная сезонность: пик количества заказов приходится на ночь, также такси пользуется спросом в вечернее время, а ранним утром напротив - минимальный спрос. Также, очевидно увеличение количество заказов такси к концу лета, наиболее часто вызывают такси в пятницу, и гораздо реже - во вторник."
      ]
    },
    {
      "cell_type": "markdown",
      "metadata": {
        "id": "C0-T2vQRLIcw"
      },
      "source": [
        "## Обучение"
      ]
    },
    {
      "cell_type": "markdown",
      "metadata": {
        "id": "DAoWLqwXLIcw"
      },
      "source": [
        "### Подготовка данных"
      ]
    },
    {
      "cell_type": "markdown",
      "metadata": {
        "id": "pUisedfHLIcw"
      },
      "source": [
        "Прежде чем обучать модели, необходимо создать дополнительные признаки для скользящего среднего и лагов"
      ]
    },
    {
      "cell_type": "code",
      "execution_count": null,
      "metadata": {
        "id": "-t19DvpQLIcw"
      },
      "outputs": [],
      "source": [
        "def make_features(df, max_lag, rolling_mean_size):\n",
        "    for lag in range(1, max_lag + 1):\n",
        "        df['lag_{}'.format(lag)] = df['num_orders'].shift(lag)\n",
        "\n",
        "    df['rolling_mean'] = df['num_orders'].shift(1).rolling(rolling_mean_size).mean()\n",
        "    df.dropna(inplace=True)\n",
        "\n",
        "    return df"
      ]
    },
    {
      "cell_type": "markdown",
      "metadata": {
        "id": "L_CzBShaLIcw"
      },
      "source": [
        "А чтобы определить максимальное количество лагов, построим автокорреляционную функцию. Так как ярко выражена суточная сезонность, визуализируем функцию для 24 лагов. Однако учитывая, что есть некоторые различия в спросе и по дням недели, выведем также функцию для недельного периода."
      ]
    },
    {
      "cell_type": "code",
      "execution_count": null,
      "metadata": {
        "id": "yUZxttbJLIcw",
        "outputId": "0a841e9a-8d67-4727-ac99-4780f43c459a"
      },
      "outputs": [
        {
          "data": {
            "image/png": "[encoded data removed]",
            "text/plain": [
              "<Figure size 1080x576 with 2 Axes>"
            ]
          },
          "metadata": {
            "needs_background": "light"
          },
          "output_type": "display_data"
        }
      ],
      "source": [
        "fig, ax = plt.subplots(nrows=2, ncols=1, figsize=(15, 8))\n",
        "\n",
        "plot_acf(df['num_orders'], ax=ax[0], lags=24, auto_ylims=True)\n",
        "ax[0].set_title('Автокорреляционная функция для 24 лагов (сутки)', fontsize=14)\n",
        "\n",
        "plot_acf(df['num_orders'], ax=ax[1], lags=168, auto_ylims=True)\n",
        "ax[1].set_title('Автокорреляционная функция для 24*7 лагов (неделя)', fontsize=14)\n",
        "plt.show();"
      ]
    },
    {
      "cell_type": "markdown",
      "metadata": {
        "id": "RYcw04h3LIcw"
      },
      "source": [
        "Коэффициенты корреляции превышают пороговые значения, как для 24 лагов, так и для 168 (недельный период), поэтому создадим 168 дполнительных признаков для лагов и попробуем обучить различные модели на полученном наборе данных."
      ]
    },
    {
      "cell_type": "code",
      "execution_count": null,
      "metadata": {
        "id": "ElDlOTNsLIcw"
      },
      "outputs": [],
      "source": [
        "df_model = make_features(df, 168, 10)"
      ]
    },
    {
      "cell_type": "code",
      "execution_count": null,
      "metadata": {
        "scrolled": true,
        "id": "AACi1T1lLIcw",
        "outputId": "56541915-3a92-4a5a-ca70-56ca49b437b2"
      },
      "outputs": [
        {
          "name": "stdout",
          "output_type": "stream",
          "text": [
            "<class 'pandas.core.frame.DataFrame'>\n",
            "DatetimeIndex: 4080 entries, 2018-03-15 00:00:00 to 2018-08-31 23:00:00\n",
            "Freq: H\n",
            "Columns: 174 entries, num_orders to rolling_mean\n",
            "dtypes: float64(169), int64(5)\n",
            "memory usage: 5.4 MB\n"
          ]
        }
      ],
      "source": [
        "df_model.info()"
      ]
    },
    {
      "cell_type": "markdown",
      "metadata": {
        "id": "DRSb9MVILIcw"
      },
      "source": [
        "Сначала выделим целевой и входные признаки и разделим данные на обучающую и тестовую выборку в соотношении 9:1, укажем аргумент `shuffle=False`, чтобы при разделении наблюдения не перемешвались."
      ]
    },
    {
      "cell_type": "code",
      "execution_count": null,
      "metadata": {
        "id": "ceAfjWsYLIcw"
      },
      "outputs": [],
      "source": [
        "RANDOM_STATE=42\n",
        "\n",
        "X = df_model.drop(columns='num_orders')\n",
        "y = df_model['num_orders']\n",
        "\n",
        "X_train, X_test, y_train, y_test = train_test_split(X,\n",
        "                                                   y,\n",
        "                                                   shuffle=False,\n",
        "                                                   test_size=0.1,\n",
        "                                                   random_state=RANDOM_STATE)"
      ]
    },
    {
      "cell_type": "markdown",
      "metadata": {
        "id": "tXeOvF5TLIcx"
      },
      "source": [
        "### Линейная регрессия"
      ]
    },
    {
      "cell_type": "markdown",
      "metadata": {
        "id": "t8Bt2XOhLIcx"
      },
      "source": [
        "Инициализируем модель линейной регрессии, обучим её и сохраним время обучения"
      ]
    },
    {
      "cell_type": "code",
      "execution_count": null,
      "metadata": {
        "id": "NPpr3tI8LIcx"
      },
      "outputs": [],
      "source": [
        "lr = LinearRegression()"
      ]
    },
    {
      "cell_type": "code",
      "execution_count": null,
      "metadata": {
        "id": "qvZ-hXM4LIcx"
      },
      "outputs": [],
      "source": [
        "start = time()\n",
        "\n",
        "lr.fit(X_train, y_train)\n",
        "\n",
        "end = time()\n",
        "lr_fit_time = (end - start)"
      ]
    },
    {
      "cell_type": "markdown",
      "metadata": {
        "id": "QSIXnsG_LIcx"
      },
      "source": [
        "Посчитаем RMSE на кросс-валидации, выведем результаты (применим TimeSeriesSplit для соблюдения хронологического порядка наблюдений при разделении)"
      ]
    },
    {
      "cell_type": "code",
      "execution_count": null,
      "metadata": {
        "id": "vPwS1EtsLIcx",
        "outputId": "7aab6aef-4340-459a-caf3-5c7173e98e3a"
      },
      "outputs": [
        {
          "name": "stdout",
          "output_type": "stream",
          "text": [
            "Время обучения модели: 0.2932\n",
            "RMSE на кросс-валидации : 22.75\n"
          ]
        }
      ],
      "source": [
        "scores = cross_val_score(\n",
        "    lr,\n",
        "    X_train,\n",
        "    y_train,\n",
        "    cv=TimeSeriesSplit(n_splits=5),\n",
        "    n_jobs=-1,\n",
        "    scoring='neg_root_mean_squared_error'\n",
        ")\n",
        "\n",
        "lr_cv_rmse = (-1) * sum(scores) / len(scores)\n",
        "\n",
        "print('Время обучения модели:', round(lr_fit_time, 4))\n",
        "print('RMSE на кросс-валидации :', round(lr_cv_rmse, 2))"
      ]
    },
    {
      "cell_type": "markdown",
      "metadata": {
        "id": "8UfMtutLLIcx"
      },
      "source": [
        "Выполним предсказание на тренировочной выборке, чтобы не \"показывать\" модели тестовую выборку"
      ]
    },
    {
      "cell_type": "code",
      "execution_count": null,
      "metadata": {
        "id": "EUg-DZLlLIcx"
      },
      "outputs": [],
      "source": [
        "start = time()\n",
        "\n",
        "y_pred_lr = lr.predict(X_train)\n",
        "\n",
        "end = time()\n",
        "lr_predict_time = (end - start)"
      ]
    },
    {
      "cell_type": "code",
      "execution_count": null,
      "metadata": {
        "id": "Z_9oZM6zLIcy",
        "outputId": "a6ebce70-a9a2-4639-f3e8-0b0b7c62821d"
      },
      "outputs": [
        {
          "name": "stdout",
          "output_type": "stream",
          "text": [
            "Время предсказания модели: 0.0954\n",
            "RMSE на тренировочной выборке: 20.45\n"
          ]
        }
      ],
      "source": [
        "print('Время предсказания модели:', round(lr_predict_time, 4))\n",
        "print('RMSE на тренировочной выборке:',\n",
        "      round(root_mean_squared_error(y_train, y_pred_lr), 2))"
      ]
    },
    {
      "cell_type": "markdown",
      "metadata": {
        "id": "pPjmd8zjLIcy"
      },
      "source": [
        "### LightGBM"
      ]
    },
    {
      "cell_type": "markdown",
      "metadata": {
        "id": "wHJpvrroLIcy"
      },
      "source": [
        "Для обучения LightGBMRegressor подберём оптимальные гиперпараметры с помощью RandomizedSearchCV"
      ]
    },
    {
      "cell_type": "code",
      "execution_count": null,
      "metadata": {
        "id": "_g8CzuNDLIcy"
      },
      "outputs": [],
      "source": [
        "lgbm = LGBMRegressor(random_state = RANDOM_STATE)"
      ]
    },
    {
      "cell_type": "code",
      "execution_count": null,
      "metadata": {
        "id": "cOX_MHKOLIcy"
      },
      "outputs": [],
      "source": [
        "param_distribution = [\n",
        "    {\n",
        "        'n_estimators': [100, 250, 500],\n",
        "        'max_depth': range(6, 12, 2)\n",
        "    }\n",
        "]"
      ]
    },
    {
      "cell_type": "code",
      "execution_count": null,
      "metadata": {
        "id": "yHlgPpU2LIcy",
        "outputId": "2e2eaa67-57c4-4ebb-87ec-dd4c96445cff"
      },
      "outputs": [
        {
          "data": {
            "text/html": [
              "<style>#sk-container-id-1 {\n",
              "  /* Definition of color scheme common for light and dark mode */\n",
              "  --sklearn-color-text: black;\n",
              "  --sklearn-color-line: gray;\n",
              "  /* Definition of color scheme for unfitted estimators */\n",
              "  --sklearn-color-unfitted-level-0: #fff5e6;\n",
              "  --sklearn-color-unfitted-level-1: #f6e4d2;\n",
              "  --sklearn-color-unfitted-level-2: #ffe0b3;\n",
              "  --sklearn-color-unfitted-level-3: chocolate;\n",
              "  /* Definition of color scheme for fitted estimators */\n",
              "  --sklearn-color-fitted-level-0: #f0f8ff;\n",
              "  --sklearn-color-fitted-level-1: #d4ebff;\n",
              "  --sklearn-color-fitted-level-2: #b3dbfd;\n",
              "  --sklearn-color-fitted-level-3: cornflowerblue;\n",
              "\n",
              "  /* Specific color for light theme */\n",
              "  --sklearn-color-text-on-default-background: var(--sg-text-color, var(--theme-code-foreground, var(--jp-content-font-color1, black)));\n",
              "  --sklearn-color-background: var(--sg-background-color, var(--theme-background, var(--jp-layout-color0, white)));\n",
              "  --sklearn-color-border-box: var(--sg-text-color, var(--theme-code-foreground, var(--jp-content-font-color1, black)));\n",
              "  --sklearn-color-icon: #696969;\n",
              "\n",
              "  @media (prefers-color-scheme: dark) {\n",
              "    /* Redefinition of color scheme for dark theme */\n",
              "    --sklearn-color-text-on-default-background: var(--sg-text-color, var(--theme-code-foreground, var(--jp-content-font-color1, white)));\n",
              "    --sklearn-color-background: var(--sg-background-color, var(--theme-background, var(--jp-layout-color0, #111)));\n",
              "    --sklearn-color-border-box: var(--sg-text-color, var(--theme-code-foreground, var(--jp-content-font-color1, white)));\n",
              "    --sklearn-color-icon: #878787;\n",
              "  }\n",
              "}\n",
              "\n",
              "#sk-container-id-1 {\n",
              "  color: var(--sklearn-color-text);\n",
              "}\n",
              "\n",
              "#sk-container-id-1 pre {\n",
              "  padding: 0;\n",
              "}\n",
              "\n",
              "#sk-container-id-1 input.sk-hidden--visually {\n",
              "  border: 0;\n",
              "  clip: rect(1px 1px 1px 1px);\n",
              "  clip: rect(1px, 1px, 1px, 1px);\n",
              "  height: 1px;\n",
              "  margin: -1px;\n",
              "  overflow: hidden;\n",
              "  padding: 0;\n",
              "  position: absolute;\n",
              "  width: 1px;\n",
              "}\n",
              "\n",
              "#sk-container-id-1 div.sk-dashed-wrapped {\n",
              "  border: 1px dashed var(--sklearn-color-line);\n",
              "  margin: 0 0.4em 0.5em 0.4em;\n",
              "  box-sizing: border-box;\n",
              "  padding-bottom: 0.4em;\n",
              "  background-color: var(--sklearn-color-background);\n",
              "}\n",
              "\n",
              "#sk-container-id-1 div.sk-container {\n",
              "  /* jupyter's `normalize.less` sets `[hidden] { display: none; }`\n",
              "     but bootstrap.min.css set `[hidden] { display: none !important; }`\n",
              "     so we also need the `!important` here to be able to override the\n",
              "     default hidden behavior on the sphinx rendered scikit-learn.org.\n",
              "     See: https://github.com/scikit-learn/scikit-learn/issues/21755 */\n",
              "  display: inline-block !important;\n",
              "  position: relative;\n",
              "}\n",
              "\n",
              "#sk-container-id-1 div.sk-text-repr-fallback {\n",
              "  display: none;\n",
              "}\n",
              "\n",
              "div.sk-parallel-item,\n",
              "div.sk-serial,\n",
              "div.sk-item {\n",
              "  /* draw centered vertical line to link estimators */\n",
              "  background-image: linear-gradient(var(--sklearn-color-text-on-default-background), var(--sklearn-color-text-on-default-background));\n",
              "  background-size: 2px 100%;\n",
              "  background-repeat: no-repeat;\n",
              "  background-position: center center;\n",
              "}\n",
              "\n",
              "/* Parallel-specific style estimator block */\n",
              "\n",
              "#sk-container-id-1 div.sk-parallel-item::after {\n",
              "  content: \"\";\n",
              "  width: 100%;\n",
              "  border-bottom: 2px solid var(--sklearn-color-text-on-default-background);\n",
              "  flex-grow: 1;\n",
              "}\n",
              "\n",
              "#sk-container-id-1 div.sk-parallel {\n",
              "  display: flex;\n",
              "  align-items: stretch;\n",
              "  justify-content: center;\n",
              "  background-color: var(--sklearn-color-background);\n",
              "  position: relative;\n",
              "}\n",
              "\n",
              "#sk-container-id-1 div.sk-parallel-item {\n",
              "  display: flex;\n",
              "  flex-direction: column;\n",
              "}\n",
              "\n",
              "#sk-container-id-1 div.sk-parallel-item:first-child::after {\n",
              "  align-self: flex-end;\n",
              "  width: 50%;\n",
              "}\n",
              "\n",
              "#sk-container-id-1 div.sk-parallel-item:last-child::after {\n",
              "  align-self: flex-start;\n",
              "  width: 50%;\n",
              "}\n",
              "\n",
              "#sk-container-id-1 div.sk-parallel-item:only-child::after {\n",
              "  width: 0;\n",
              "}\n",
              "\n",
              "/* Serial-specific style estimator block */\n",
              "\n",
              "#sk-container-id-1 div.sk-serial {\n",
              "  display: flex;\n",
              "  flex-direction: column;\n",
              "  align-items: center;\n",
              "  background-color: var(--sklearn-color-background);\n",
              "  padding-right: 1em;\n",
              "  padding-left: 1em;\n",
              "}\n",
              "\n",
              "\n",
              "/* Toggleable style: style used for estimator/Pipeline/ColumnTransformer box that is\n",
              "clickable and can be expanded/collapsed.\n",
              "- Pipeline and ColumnTransformer use this feature and define the default style\n",
              "- Estimators will overwrite some part of the style using the `sk-estimator` class\n",
              "*/\n",
              "\n",
              "/* Pipeline and ColumnTransformer style (default) */\n",
              "\n",
              "#sk-container-id-1 div.sk-toggleable {\n",
              "  /* Default theme specific background. It is overwritten whether we have a\n",
              "  specific estimator or a Pipeline/ColumnTransformer */\n",
              "  background-color: var(--sklearn-color-background);\n",
              "}\n",
              "\n",
              "/* Toggleable label */\n",
              "#sk-container-id-1 label.sk-toggleable__label {\n",
              "  cursor: pointer;\n",
              "  display: block;\n",
              "  width: 100%;\n",
              "  margin-bottom: 0;\n",
              "  padding: 0.5em;\n",
              "  box-sizing: border-box;\n",
              "  text-align: center;\n",
              "}\n",
              "\n",
              "#sk-container-id-1 label.sk-toggleable__label-arrow:before {\n",
              "  /* Arrow on the left of the label */\n",
              "  content: \"▸\";\n",
              "  float: left;\n",
              "  margin-right: 0.25em;\n",
              "  color: var(--sklearn-color-icon);\n",
              "}\n",
              "\n",
              "#sk-container-id-1 label.sk-toggleable__label-arrow:hover:before {\n",
              "  color: var(--sklearn-color-text);\n",
              "}\n",
              "\n",
              "/* Toggleable content - dropdown */\n",
              "\n",
              "#sk-container-id-1 div.sk-toggleable__content {\n",
              "  max-height: 0;\n",
              "  max-width: 0;\n",
              "  overflow: hidden;\n",
              "  text-align: left;\n",
              "  /* unfitted */\n",
              "  background-color: var(--sklearn-color-unfitted-level-0);\n",
              "}\n",
              "\n",
              "#sk-container-id-1 div.sk-toggleable__content.fitted {\n",
              "  /* fitted */\n",
              "  background-color: var(--sklearn-color-fitted-level-0);\n",
              "}\n",
              "\n",
              "#sk-container-id-1 div.sk-toggleable__content pre {\n",
              "  margin: 0.2em;\n",
              "  border-radius: 0.25em;\n",
              "  color: var(--sklearn-color-text);\n",
              "  /* unfitted */\n",
              "  background-color: var(--sklearn-color-unfitted-level-0);\n",
              "}\n",
              "\n",
              "#sk-container-id-1 div.sk-toggleable__content.fitted pre {\n",
              "  /* unfitted */\n",
              "  background-color: var(--sklearn-color-fitted-level-0);\n",
              "}\n",
              "\n",
              "#sk-container-id-1 input.sk-toggleable__control:checked~div.sk-toggleable__content {\n",
              "  /* Expand drop-down */\n",
              "  max-height: 200px;\n",
              "  max-width: 100%;\n",
              "  overflow: auto;\n",
              "}\n",
              "\n",
              "#sk-container-id-1 input.sk-toggleable__control:checked~label.sk-toggleable__label-arrow:before {\n",
              "  content: \"▾\";\n",
              "}\n",
              "\n",
              "/* Pipeline/ColumnTransformer-specific style */\n",
              "\n",
              "#sk-container-id-1 div.sk-label input.sk-toggleable__control:checked~label.sk-toggleable__label {\n",
              "  color: var(--sklearn-color-text);\n",
              "  background-color: var(--sklearn-color-unfitted-level-2);\n",
              "}\n",
              "\n",
              "#sk-container-id-1 div.sk-label.fitted input.sk-toggleable__control:checked~label.sk-toggleable__label {\n",
              "  background-color: var(--sklearn-color-fitted-level-2);\n",
              "}\n",
              "\n",
              "/* Estimator-specific style */\n",
              "\n",
              "/* Colorize estimator box */\n",
              "#sk-container-id-1 div.sk-estimator input.sk-toggleable__control:checked~label.sk-toggleable__label {\n",
              "  /* unfitted */\n",
              "  background-color: var(--sklearn-color-unfitted-level-2);\n",
              "}\n",
              "\n",
              "#sk-container-id-1 div.sk-estimator.fitted input.sk-toggleable__control:checked~label.sk-toggleable__label {\n",
              "  /* fitted */\n",
              "  background-color: var(--sklearn-color-fitted-level-2);\n",
              "}\n",
              "\n",
              "#sk-container-id-1 div.sk-label label.sk-toggleable__label,\n",
              "#sk-container-id-1 div.sk-label label {\n",
              "  /* The background is the default theme color */\n",
              "  color: var(--sklearn-color-text-on-default-background);\n",
              "}\n",
              "\n",
              "/* On hover, darken the color of the background */\n",
              "#sk-container-id-1 div.sk-label:hover label.sk-toggleable__label {\n",
              "  color: var(--sklearn-color-text);\n",
              "  background-color: var(--sklearn-color-unfitted-level-2);\n",
              "}\n",
              "\n",
              "/* Label box, darken color on hover, fitted */\n",
              "#sk-container-id-1 div.sk-label.fitted:hover label.sk-toggleable__label.fitted {\n",
              "  color: var(--sklearn-color-text);\n",
              "  background-color: var(--sklearn-color-fitted-level-2);\n",
              "}\n",
              "\n",
              "/* Estimator label */\n",
              "\n",
              "#sk-container-id-1 div.sk-label label {\n",
              "  font-family: monospace;\n",
              "  font-weight: bold;\n",
              "  display: inline-block;\n",
              "  line-height: 1.2em;\n",
              "}\n",
              "\n",
              "#sk-container-id-1 div.sk-label-container {\n",
              "  text-align: center;\n",
              "}\n",
              "\n",
              "/* Estimator-specific */\n",
              "#sk-container-id-1 div.sk-estimator {\n",
              "  font-family: monospace;\n",
              "  border: 1px dotted var(--sklearn-color-border-box);\n",
              "  border-radius: 0.25em;\n",
              "  box-sizing: border-box;\n",
              "  margin-bottom: 0.5em;\n",
              "  /* unfitted */\n",
              "  background-color: var(--sklearn-color-unfitted-level-0);\n",
              "}\n",
              "\n",
              "#sk-container-id-1 div.sk-estimator.fitted {\n",
              "  /* fitted */\n",
              "  background-color: var(--sklearn-color-fitted-level-0);\n",
              "}\n",
              "\n",
              "/* on hover */\n",
              "#sk-container-id-1 div.sk-estimator:hover {\n",
              "  /* unfitted */\n",
              "  background-color: var(--sklearn-color-unfitted-level-2);\n",
              "}\n",
              "\n",
              "#sk-container-id-1 div.sk-estimator.fitted:hover {\n",
              "  /* fitted */\n",
              "  background-color: var(--sklearn-color-fitted-level-2);\n",
              "}\n",
              "\n",
              "/* Specification for estimator info (e.g. \"i\" and \"?\") */\n",
              "\n",
              "/* Common style for \"i\" and \"?\" */\n",
              "\n",
              ".sk-estimator-doc-link,\n",
              "a:link.sk-estimator-doc-link,\n",
              "a:visited.sk-estimator-doc-link {\n",
              "  float: right;\n",
              "  font-size: smaller;\n",
              "  line-height: 1em;\n",
              "  font-family: monospace;\n",
              "  background-color: var(--sklearn-color-background);\n",
              "  border-radius: 1em;\n",
              "  height: 1em;\n",
              "  width: 1em;\n",
              "  text-decoration: none !important;\n",
              "  margin-left: 1ex;\n",
              "  /* unfitted */\n",
              "  border: var(--sklearn-color-unfitted-level-1) 1pt solid;\n",
              "  color: var(--sklearn-color-unfitted-level-1);\n",
              "}\n",
              "\n",
              ".sk-estimator-doc-link.fitted,\n",
              "a:link.sk-estimator-doc-link.fitted,\n",
              "a:visited.sk-estimator-doc-link.fitted {\n",
              "  /* fitted */\n",
              "  border: var(--sklearn-color-fitted-level-1) 1pt solid;\n",
              "  color: var(--sklearn-color-fitted-level-1);\n",
              "}\n",
              "\n",
              "/* On hover */\n",
              "div.sk-estimator:hover .sk-estimator-doc-link:hover,\n",
              ".sk-estimator-doc-link:hover,\n",
              "div.sk-label-container:hover .sk-estimator-doc-link:hover,\n",
              ".sk-estimator-doc-link:hover {\n",
              "  /* unfitted */\n",
              "  background-color: var(--sklearn-color-unfitted-level-3);\n",
              "  color: var(--sklearn-color-background);\n",
              "  text-decoration: none;\n",
              "}\n",
              "\n",
              "div.sk-estimator.fitted:hover .sk-estimator-doc-link.fitted:hover,\n",
              ".sk-estimator-doc-link.fitted:hover,\n",
              "div.sk-label-container:hover .sk-estimator-doc-link.fitted:hover,\n",
              ".sk-estimator-doc-link.fitted:hover {\n",
              "  /* fitted */\n",
              "  background-color: var(--sklearn-color-fitted-level-3);\n",
              "  color: var(--sklearn-color-background);\n",
              "  text-decoration: none;\n",
              "}\n",
              "\n",
              "/* Span, style for the box shown on hovering the info icon */\n",
              ".sk-estimator-doc-link span {\n",
              "  display: none;\n",
              "  z-index: 9999;\n",
              "  position: relative;\n",
              "  font-weight: normal;\n",
              "  right: .2ex;\n",
              "  padding: .5ex;\n",
              "  margin: .5ex;\n",
              "  width: min-content;\n",
              "  min-width: 20ex;\n",
              "  max-width: 50ex;\n",
              "  color: var(--sklearn-color-text);\n",
              "  box-shadow: 2pt 2pt 4pt #999;\n",
              "  /* unfitted */\n",
              "  background: var(--sklearn-color-unfitted-level-0);\n",
              "  border: .5pt solid var(--sklearn-color-unfitted-level-3);\n",
              "}\n",
              "\n",
              ".sk-estimator-doc-link.fitted span {\n",
              "  /* fitted */\n",
              "  background: var(--sklearn-color-fitted-level-0);\n",
              "  border: var(--sklearn-color-fitted-level-3);\n",
              "}\n",
              "\n",
              ".sk-estimator-doc-link:hover span {\n",
              "  display: block;\n",
              "}\n",
              "\n",
              "/* \"?\"-specific style due to the `<a>` HTML tag */\n",
              "\n",
              "#sk-container-id-1 a.estimator_doc_link {\n",
              "  float: right;\n",
              "  font-size: 1rem;\n",
              "  line-height: 1em;\n",
              "  font-family: monospace;\n",
              "  background-color: var(--sklearn-color-background);\n",
              "  border-radius: 1rem;\n",
              "  height: 1rem;\n",
              "  width: 1rem;\n",
              "  text-decoration: none;\n",
              "  /* unfitted */\n",
              "  color: var(--sklearn-color-unfitted-level-1);\n",
              "  border: var(--sklearn-color-unfitted-level-1) 1pt solid;\n",
              "}\n",
              "\n",
              "#sk-container-id-1 a.estimator_doc_link.fitted {\n",
              "  /* fitted */\n",
              "  border: var(--sklearn-color-fitted-level-1) 1pt solid;\n",
              "  color: var(--sklearn-color-fitted-level-1);\n",
              "}\n",
              "\n",
              "/* On hover */\n",
              "#sk-container-id-1 a.estimator_doc_link:hover {\n",
              "  /* unfitted */\n",
              "  background-color: var(--sklearn-color-unfitted-level-3);\n",
              "  color: var(--sklearn-color-background);\n",
              "  text-decoration: none;\n",
              "}\n",
              "\n",
              "#sk-container-id-1 a.estimator_doc_link.fitted:hover {\n",
              "  /* fitted */\n",
              "  background-color: var(--sklearn-color-fitted-level-3);\n",
              "}\n",
              "</style><div id=\"sk-container-id-1\" class=\"sk-top-container\"><div class=\"sk-text-repr-fallback\"><pre>RandomizedSearchCV(cv=TimeSeriesSplit(gap=0, max_train_size=None, n_splits=5, test_size=None),\n",
              "                   estimator=LGBMRegressor(random_state=42), n_jobs=-1,\n",
              "                   param_distributions=[{&#x27;max_depth&#x27;: range(6, 12, 2),\n",
              "                                         &#x27;n_estimators&#x27;: [100, 250, 500]}],\n",
              "                   random_state=42, scoring=&#x27;neg_root_mean_squared_error&#x27;)</pre><b>In a Jupyter environment, please rerun this cell to show the HTML representation or trust the notebook. <br />On GitHub, the HTML representation is unable to render, please try loading this page with nbviewer.org.</b></div><div class=\"sk-container\" hidden><div class=\"sk-item sk-dashed-wrapped\"><div class=\"sk-label-container\"><div class=\"sk-label fitted sk-toggleable\"><input class=\"sk-toggleable__control sk-hidden--visually\" id=\"sk-estimator-id-1\" type=\"checkbox\" ><label for=\"sk-estimator-id-1\" class=\"sk-toggleable__label fitted sk-toggleable__label-arrow fitted\">&nbsp;&nbsp;RandomizedSearchCV<a class=\"sk-estimator-doc-link fitted\" rel=\"noreferrer\" target=\"_blank\" href=\"https://scikit-learn.org/1.5/modules/generated/sklearn.model_selection.RandomizedSearchCV.html\">?<span>Documentation for RandomizedSearchCV</span></a><span class=\"sk-estimator-doc-link fitted\">i<span>Fitted</span></span></label><div class=\"sk-toggleable__content fitted\"><pre>RandomizedSearchCV(cv=TimeSeriesSplit(gap=0, max_train_size=None, n_splits=5, test_size=None),\n",
              "                   estimator=LGBMRegressor(random_state=42), n_jobs=-1,\n",
              "                   param_distributions=[{&#x27;max_depth&#x27;: range(6, 12, 2),\n",
              "                                         &#x27;n_estimators&#x27;: [100, 250, 500]}],\n",
              "                   random_state=42, scoring=&#x27;neg_root_mean_squared_error&#x27;)</pre></div> </div></div><div class=\"sk-parallel\"><div class=\"sk-parallel-item\"><div class=\"sk-item\"><div class=\"sk-label-container\"><div class=\"sk-label fitted sk-toggleable\"><input class=\"sk-toggleable__control sk-hidden--visually\" id=\"sk-estimator-id-2\" type=\"checkbox\" ><label for=\"sk-estimator-id-2\" class=\"sk-toggleable__label fitted sk-toggleable__label-arrow fitted\">best_estimator_: LGBMRegressor</label><div class=\"sk-toggleable__content fitted\"><pre>LGBMRegressor(max_depth=6, random_state=42)</pre></div> </div></div><div class=\"sk-serial\"><div class=\"sk-item\"><div class=\"sk-estimator fitted sk-toggleable\"><input class=\"sk-toggleable__control sk-hidden--visually\" id=\"sk-estimator-id-3\" type=\"checkbox\" ><label for=\"sk-estimator-id-3\" class=\"sk-toggleable__label fitted sk-toggleable__label-arrow fitted\">LGBMRegressor</label><div class=\"sk-toggleable__content fitted\"><pre>LGBMRegressor(max_depth=6, random_state=42)</pre></div> </div></div></div></div></div></div></div></div></div>"
            ],
            "text/plain": [
              "RandomizedSearchCV(cv=TimeSeriesSplit(gap=0, max_train_size=None, n_splits=5, test_size=None),\n",
              "                   estimator=LGBMRegressor(random_state=42), n_jobs=-1,\n",
              "                   param_distributions=[{'max_depth': range(6, 12, 2),\n",
              "                                         'n_estimators': [100, 250, 500]}],\n",
              "                   random_state=42, scoring='neg_root_mean_squared_error')"
            ]
          },
          "execution_count": 31,
          "metadata": {},
          "output_type": "execute_result"
        }
      ],
      "source": [
        "randomized_search_lgbm = RandomizedSearchCV(\n",
        "    lgbm,\n",
        "    param_distribution,\n",
        "    scoring='neg_root_mean_squared_error',\n",
        "    random_state=RANDOM_STATE,\n",
        "    n_jobs=-1,\n",
        "    cv=TimeSeriesSplit(n_splits=5)\n",
        ")\n",
        "randomized_search_lgbm.fit(X_train, y_train)"
      ]
    },
    {
      "cell_type": "markdown",
      "metadata": {
        "id": "rrWwPgw0LIcy"
      },
      "source": [
        "Сохраним время обучения и предсказания"
      ]
    },
    {
      "cell_type": "code",
      "execution_count": null,
      "metadata": {
        "id": "JbiWU1hJLIcy"
      },
      "outputs": [],
      "source": [
        "lgbm_results = pd.DataFrame(randomized_search_lgbm.cv_results_)\n",
        "lgbm_fit_time = lgbm_results.loc[lgbm_results['rank_test_score'] == 1, 'mean_fit_time'].values[0]\n",
        "lgbm_predict_time = lgbm_results.loc[lgbm_results['rank_test_score'] == 1, 'mean_score_time'].values[0]"
      ]
    },
    {
      "cell_type": "markdown",
      "metadata": {
        "id": "4a5oHE2QLIcy"
      },
      "source": [
        "Выведем результаты обучения"
      ]
    },
    {
      "cell_type": "code",
      "execution_count": null,
      "metadata": {
        "id": "peidCk8pLIcy",
        "outputId": "e38f0d14-0509-4370-d129-070755b22473"
      },
      "outputs": [
        {
          "name": "stdout",
          "output_type": "stream",
          "text": [
            "Время обучения модели: 23.9185\n",
            "RMSE на кросс-валидации : 23.07\n",
            "\n",
            "Время предсказания модели: 0.0589\n",
            "RMSE на тренировочной выборке: 11.93\n"
          ]
        }
      ],
      "source": [
        "print('Время обучения модели:', round(lgbm_fit_time, 4))\n",
        "print('RMSE на кросс-валидации :', round((-1)*randomized_search_lgbm.best_score_, 2))\n",
        "print()\n",
        "print('Время предсказания модели:', round(lgbm_predict_time, 4))\n",
        "print('RMSE на тренировочной выборке:',\n",
        "      round(root_mean_squared_error(y_train,\n",
        "                                   randomized_search_lgbm.best_estimator_.predict(X_train)), 2))"
      ]
    },
    {
      "cell_type": "markdown",
      "metadata": {
        "id": "LsSFFBosLIcy"
      },
      "source": [
        "### CatBoost"
      ]
    },
    {
      "cell_type": "markdown",
      "metadata": {
        "id": "p74niq1tLIcz"
      },
      "source": [
        "Аналогично подберём гиперпараметры для CatBoostRegressor"
      ]
    },
    {
      "cell_type": "code",
      "execution_count": null,
      "metadata": {
        "id": "yIqWPRvcLIcz"
      },
      "outputs": [],
      "source": [
        "cb = CatBoostRegressor(random_state=RANDOM_STATE, verbose=False)"
      ]
    },
    {
      "cell_type": "code",
      "execution_count": null,
      "metadata": {
        "id": "q7E2H0xwLIcz"
      },
      "outputs": [],
      "source": [
        "param_distribution_cb = {\n",
        "    'depth': range(2, 12, 2),\n",
        "    'iterations': [100, 250, 500]\n",
        "}"
      ]
    },
    {
      "cell_type": "code",
      "execution_count": null,
      "metadata": {
        "id": "A54Or-8xLIcz",
        "outputId": "7a79c01b-bc73-4b36-acb6-274f8e64c156"
      },
      "outputs": [
        {
          "data": {
            "text/html": [
              "<style>#sk-container-id-2 {\n",
              "  /* Definition of color scheme common for light and dark mode */\n",
              "  --sklearn-color-text: black;\n",
              "  --sklearn-color-line: gray;\n",
              "  /* Definition of color scheme for unfitted estimators */\n",
              "  --sklearn-color-unfitted-level-0: #fff5e6;\n",
              "  --sklearn-color-unfitted-level-1: #f6e4d2;\n",
              "  --sklearn-color-unfitted-level-2: #ffe0b3;\n",
              "  --sklearn-color-unfitted-level-3: chocolate;\n",
              "  /* Definition of color scheme for fitted estimators */\n",
              "  --sklearn-color-fitted-level-0: #f0f8ff;\n",
              "  --sklearn-color-fitted-level-1: #d4ebff;\n",
              "  --sklearn-color-fitted-level-2: #b3dbfd;\n",
              "  --sklearn-color-fitted-level-3: cornflowerblue;\n",
              "\n",
              "  /* Specific color for light theme */\n",
              "  --sklearn-color-text-on-default-background: var(--sg-text-color, var(--theme-code-foreground, var(--jp-content-font-color1, black)));\n",
              "  --sklearn-color-background: var(--sg-background-color, var(--theme-background, var(--jp-layout-color0, white)));\n",
              "  --sklearn-color-border-box: var(--sg-text-color, var(--theme-code-foreground, var(--jp-content-font-color1, black)));\n",
              "  --sklearn-color-icon: #696969;\n",
              "\n",
              "  @media (prefers-color-scheme: dark) {\n",
              "    /* Redefinition of color scheme for dark theme */\n",
              "    --sklearn-color-text-on-default-background: var(--sg-text-color, var(--theme-code-foreground, var(--jp-content-font-color1, white)));\n",
              "    --sklearn-color-background: var(--sg-background-color, var(--theme-background, var(--jp-layout-color0, #111)));\n",
              "    --sklearn-color-border-box: var(--sg-text-color, var(--theme-code-foreground, var(--jp-content-font-color1, white)));\n",
              "    --sklearn-color-icon: #878787;\n",
              "  }\n",
              "}\n",
              "\n",
              "#sk-container-id-2 {\n",
              "  color: var(--sklearn-color-text);\n",
              "}\n",
              "\n",
              "#sk-container-id-2 pre {\n",
              "  padding: 0;\n",
              "}\n",
              "\n",
              "#sk-container-id-2 input.sk-hidden--visually {\n",
              "  border: 0;\n",
              "  clip: rect(1px 1px 1px 1px);\n",
              "  clip: rect(1px, 1px, 1px, 1px);\n",
              "  height: 1px;\n",
              "  margin: -1px;\n",
              "  overflow: hidden;\n",
              "  padding: 0;\n",
              "  position: absolute;\n",
              "  width: 1px;\n",
              "}\n",
              "\n",
              "#sk-container-id-2 div.sk-dashed-wrapped {\n",
              "  border: 1px dashed var(--sklearn-color-line);\n",
              "  margin: 0 0.4em 0.5em 0.4em;\n",
              "  box-sizing: border-box;\n",
              "  padding-bottom: 0.4em;\n",
              "  background-color: var(--sklearn-color-background);\n",
              "}\n",
              "\n",
              "#sk-container-id-2 div.sk-container {\n",
              "  /* jupyter's `normalize.less` sets `[hidden] { display: none; }`\n",
              "     but bootstrap.min.css set `[hidden] { display: none !important; }`\n",
              "     so we also need the `!important` here to be able to override the\n",
              "     default hidden behavior on the sphinx rendered scikit-learn.org.\n",
              "     See: https://github.com/scikit-learn/scikit-learn/issues/21755 */\n",
              "  display: inline-block !important;\n",
              "  position: relative;\n",
              "}\n",
              "\n",
              "#sk-container-id-2 div.sk-text-repr-fallback {\n",
              "  display: none;\n",
              "}\n",
              "\n",
              "div.sk-parallel-item,\n",
              "div.sk-serial,\n",
              "div.sk-item {\n",
              "  /* draw centered vertical line to link estimators */\n",
              "  background-image: linear-gradient(var(--sklearn-color-text-on-default-background), var(--sklearn-color-text-on-default-background));\n",
              "  background-size: 2px 100%;\n",
              "  background-repeat: no-repeat;\n",
              "  background-position: center center;\n",
              "}\n",
              "\n",
              "/* Parallel-specific style estimator block */\n",
              "\n",
              "#sk-container-id-2 div.sk-parallel-item::after {\n",
              "  content: \"\";\n",
              "  width: 100%;\n",
              "  border-bottom: 2px solid var(--sklearn-color-text-on-default-background);\n",
              "  flex-grow: 1;\n",
              "}\n",
              "\n",
              "#sk-container-id-2 div.sk-parallel {\n",
              "  display: flex;\n",
              "  align-items: stretch;\n",
              "  justify-content: center;\n",
              "  background-color: var(--sklearn-color-background);\n",
              "  position: relative;\n",
              "}\n",
              "\n",
              "#sk-container-id-2 div.sk-parallel-item {\n",
              "  display: flex;\n",
              "  flex-direction: column;\n",
              "}\n",
              "\n",
              "#sk-container-id-2 div.sk-parallel-item:first-child::after {\n",
              "  align-self: flex-end;\n",
              "  width: 50%;\n",
              "}\n",
              "\n",
              "#sk-container-id-2 div.sk-parallel-item:last-child::after {\n",
              "  align-self: flex-start;\n",
              "  width: 50%;\n",
              "}\n",
              "\n",
              "#sk-container-id-2 div.sk-parallel-item:only-child::after {\n",
              "  width: 0;\n",
              "}\n",
              "\n",
              "/* Serial-specific style estimator block */\n",
              "\n",
              "#sk-container-id-2 div.sk-serial {\n",
              "  display: flex;\n",
              "  flex-direction: column;\n",
              "  align-items: center;\n",
              "  background-color: var(--sklearn-color-background);\n",
              "  padding-right: 1em;\n",
              "  padding-left: 1em;\n",
              "}\n",
              "\n",
              "\n",
              "/* Toggleable style: style used for estimator/Pipeline/ColumnTransformer box that is\n",
              "clickable and can be expanded/collapsed.\n",
              "- Pipeline and ColumnTransformer use this feature and define the default style\n",
              "- Estimators will overwrite some part of the style using the `sk-estimator` class\n",
              "*/\n",
              "\n",
              "/* Pipeline and ColumnTransformer style (default) */\n",
              "\n",
              "#sk-container-id-2 div.sk-toggleable {\n",
              "  /* Default theme specific background. It is overwritten whether we have a\n",
              "  specific estimator or a Pipeline/ColumnTransformer */\n",
              "  background-color: var(--sklearn-color-background);\n",
              "}\n",
              "\n",
              "/* Toggleable label */\n",
              "#sk-container-id-2 label.sk-toggleable__label {\n",
              "  cursor: pointer;\n",
              "  display: block;\n",
              "  width: 100%;\n",
              "  margin-bottom: 0;\n",
              "  padding: 0.5em;\n",
              "  box-sizing: border-box;\n",
              "  text-align: center;\n",
              "}\n",
              "\n",
              "#sk-container-id-2 label.sk-toggleable__label-arrow:before {\n",
              "  /* Arrow on the left of the label */\n",
              "  content: \"▸\";\n",
              "  float: left;\n",
              "  margin-right: 0.25em;\n",
              "  color: var(--sklearn-color-icon);\n",
              "}\n",
              "\n",
              "#sk-container-id-2 label.sk-toggleable__label-arrow:hover:before {\n",
              "  color: var(--sklearn-color-text);\n",
              "}\n",
              "\n",
              "/* Toggleable content - dropdown */\n",
              "\n",
              "#sk-container-id-2 div.sk-toggleable__content {\n",
              "  max-height: 0;\n",
              "  max-width: 0;\n",
              "  overflow: hidden;\n",
              "  text-align: left;\n",
              "  /* unfitted */\n",
              "  background-color: var(--sklearn-color-unfitted-level-0);\n",
              "}\n",
              "\n",
              "#sk-container-id-2 div.sk-toggleable__content.fitted {\n",
              "  /* fitted */\n",
              "  background-color: var(--sklearn-color-fitted-level-0);\n",
              "}\n",
              "\n",
              "#sk-container-id-2 div.sk-toggleable__content pre {\n",
              "  margin: 0.2em;\n",
              "  border-radius: 0.25em;\n",
              "  color: var(--sklearn-color-text);\n",
              "  /* unfitted */\n",
              "  background-color: var(--sklearn-color-unfitted-level-0);\n",
              "}\n",
              "\n",
              "#sk-container-id-2 div.sk-toggleable__content.fitted pre {\n",
              "  /* unfitted */\n",
              "  background-color: var(--sklearn-color-fitted-level-0);\n",
              "}\n",
              "\n",
              "#sk-container-id-2 input.sk-toggleable__control:checked~div.sk-toggleable__content {\n",
              "  /* Expand drop-down */\n",
              "  max-height: 200px;\n",
              "  max-width: 100%;\n",
              "  overflow: auto;\n",
              "}\n",
              "\n",
              "#sk-container-id-2 input.sk-toggleable__control:checked~label.sk-toggleable__label-arrow:before {\n",
              "  content: \"▾\";\n",
              "}\n",
              "\n",
              "/* Pipeline/ColumnTransformer-specific style */\n",
              "\n",
              "#sk-container-id-2 div.sk-label input.sk-toggleable__control:checked~label.sk-toggleable__label {\n",
              "  color: var(--sklearn-color-text);\n",
              "  background-color: var(--sklearn-color-unfitted-level-2);\n",
              "}\n",
              "\n",
              "#sk-container-id-2 div.sk-label.fitted input.sk-toggleable__control:checked~label.sk-toggleable__label {\n",
              "  background-color: var(--sklearn-color-fitted-level-2);\n",
              "}\n",
              "\n",
              "/* Estimator-specific style */\n",
              "\n",
              "/* Colorize estimator box */\n",
              "#sk-container-id-2 div.sk-estimator input.sk-toggleable__control:checked~label.sk-toggleable__label {\n",
              "  /* unfitted */\n",
              "  background-color: var(--sklearn-color-unfitted-level-2);\n",
              "}\n",
              "\n",
              "#sk-container-id-2 div.sk-estimator.fitted input.sk-toggleable__control:checked~label.sk-toggleable__label {\n",
              "  /* fitted */\n",
              "  background-color: var(--sklearn-color-fitted-level-2);\n",
              "}\n",
              "\n",
              "#sk-container-id-2 div.sk-label label.sk-toggleable__label,\n",
              "#sk-container-id-2 div.sk-label label {\n",
              "  /* The background is the default theme color */\n",
              "  color: var(--sklearn-color-text-on-default-background);\n",
              "}\n",
              "\n",
              "/* On hover, darken the color of the background */\n",
              "#sk-container-id-2 div.sk-label:hover label.sk-toggleable__label {\n",
              "  color: var(--sklearn-color-text);\n",
              "  background-color: var(--sklearn-color-unfitted-level-2);\n",
              "}\n",
              "\n",
              "/* Label box, darken color on hover, fitted */\n",
              "#sk-container-id-2 div.sk-label.fitted:hover label.sk-toggleable__label.fitted {\n",
              "  color: var(--sklearn-color-text);\n",
              "  background-color: var(--sklearn-color-fitted-level-2);\n",
              "}\n",
              "\n",
              "/* Estimator label */\n",
              "\n",
              "#sk-container-id-2 div.sk-label label {\n",
              "  font-family: monospace;\n",
              "  font-weight: bold;\n",
              "  display: inline-block;\n",
              "  line-height: 1.2em;\n",
              "}\n",
              "\n",
              "#sk-container-id-2 div.sk-label-container {\n",
              "  text-align: center;\n",
              "}\n",
              "\n",
              "/* Estimator-specific */\n",
              "#sk-container-id-2 div.sk-estimator {\n",
              "  font-family: monospace;\n",
              "  border: 1px dotted var(--sklearn-color-border-box);\n",
              "  border-radius: 0.25em;\n",
              "  box-sizing: border-box;\n",
              "  margin-bottom: 0.5em;\n",
              "  /* unfitted */\n",
              "  background-color: var(--sklearn-color-unfitted-level-0);\n",
              "}\n",
              "\n",
              "#sk-container-id-2 div.sk-estimator.fitted {\n",
              "  /* fitted */\n",
              "  background-color: var(--sklearn-color-fitted-level-0);\n",
              "}\n",
              "\n",
              "/* on hover */\n",
              "#sk-container-id-2 div.sk-estimator:hover {\n",
              "  /* unfitted */\n",
              "  background-color: var(--sklearn-color-unfitted-level-2);\n",
              "}\n",
              "\n",
              "#sk-container-id-2 div.sk-estimator.fitted:hover {\n",
              "  /* fitted */\n",
              "  background-color: var(--sklearn-color-fitted-level-2);\n",
              "}\n",
              "\n",
              "/* Specification for estimator info (e.g. \"i\" and \"?\") */\n",
              "\n",
              "/* Common style for \"i\" and \"?\" */\n",
              "\n",
              ".sk-estimator-doc-link,\n",
              "a:link.sk-estimator-doc-link,\n",
              "a:visited.sk-estimator-doc-link {\n",
              "  float: right;\n",
              "  font-size: smaller;\n",
              "  line-height: 1em;\n",
              "  font-family: monospace;\n",
              "  background-color: var(--sklearn-color-background);\n",
              "  border-radius: 1em;\n",
              "  height: 1em;\n",
              "  width: 1em;\n",
              "  text-decoration: none !important;\n",
              "  margin-left: 1ex;\n",
              "  /* unfitted */\n",
              "  border: var(--sklearn-color-unfitted-level-1) 1pt solid;\n",
              "  color: var(--sklearn-color-unfitted-level-1);\n",
              "}\n",
              "\n",
              ".sk-estimator-doc-link.fitted,\n",
              "a:link.sk-estimator-doc-link.fitted,\n",
              "a:visited.sk-estimator-doc-link.fitted {\n",
              "  /* fitted */\n",
              "  border: var(--sklearn-color-fitted-level-1) 1pt solid;\n",
              "  color: var(--sklearn-color-fitted-level-1);\n",
              "}\n",
              "\n",
              "/* On hover */\n",
              "div.sk-estimator:hover .sk-estimator-doc-link:hover,\n",
              ".sk-estimator-doc-link:hover,\n",
              "div.sk-label-container:hover .sk-estimator-doc-link:hover,\n",
              ".sk-estimator-doc-link:hover {\n",
              "  /* unfitted */\n",
              "  background-color: var(--sklearn-color-unfitted-level-3);\n",
              "  color: var(--sklearn-color-background);\n",
              "  text-decoration: none;\n",
              "}\n",
              "\n",
              "div.sk-estimator.fitted:hover .sk-estimator-doc-link.fitted:hover,\n",
              ".sk-estimator-doc-link.fitted:hover,\n",
              "div.sk-label-container:hover .sk-estimator-doc-link.fitted:hover,\n",
              ".sk-estimator-doc-link.fitted:hover {\n",
              "  /* fitted */\n",
              "  background-color: var(--sklearn-color-fitted-level-3);\n",
              "  color: var(--sklearn-color-background);\n",
              "  text-decoration: none;\n",
              "}\n",
              "\n",
              "/* Span, style for the box shown on hovering the info icon */\n",
              ".sk-estimator-doc-link span {\n",
              "  display: none;\n",
              "  z-index: 9999;\n",
              "  position: relative;\n",
              "  font-weight: normal;\n",
              "  right: .2ex;\n",
              "  padding: .5ex;\n",
              "  margin: .5ex;\n",
              "  width: min-content;\n",
              "  min-width: 20ex;\n",
              "  max-width: 50ex;\n",
              "  color: var(--sklearn-color-text);\n",
              "  box-shadow: 2pt 2pt 4pt #999;\n",
              "  /* unfitted */\n",
              "  background: var(--sklearn-color-unfitted-level-0);\n",
              "  border: .5pt solid var(--sklearn-color-unfitted-level-3);\n",
              "}\n",
              "\n",
              ".sk-estimator-doc-link.fitted span {\n",
              "  /* fitted */\n",
              "  background: var(--sklearn-color-fitted-level-0);\n",
              "  border: var(--sklearn-color-fitted-level-3);\n",
              "}\n",
              "\n",
              ".sk-estimator-doc-link:hover span {\n",
              "  display: block;\n",
              "}\n",
              "\n",
              "/* \"?\"-specific style due to the `<a>` HTML tag */\n",
              "\n",
              "#sk-container-id-2 a.estimator_doc_link {\n",
              "  float: right;\n",
              "  font-size: 1rem;\n",
              "  line-height: 1em;\n",
              "  font-family: monospace;\n",
              "  background-color: var(--sklearn-color-background);\n",
              "  border-radius: 1rem;\n",
              "  height: 1rem;\n",
              "  width: 1rem;\n",
              "  text-decoration: none;\n",
              "  /* unfitted */\n",
              "  color: var(--sklearn-color-unfitted-level-1);\n",
              "  border: var(--sklearn-color-unfitted-level-1) 1pt solid;\n",
              "}\n",
              "\n",
              "#sk-container-id-2 a.estimator_doc_link.fitted {\n",
              "  /* fitted */\n",
              "  border: var(--sklearn-color-fitted-level-1) 1pt solid;\n",
              "  color: var(--sklearn-color-fitted-level-1);\n",
              "}\n",
              "\n",
              "/* On hover */\n",
              "#sk-container-id-2 a.estimator_doc_link:hover {\n",
              "  /* unfitted */\n",
              "  background-color: var(--sklearn-color-unfitted-level-3);\n",
              "  color: var(--sklearn-color-background);\n",
              "  text-decoration: none;\n",
              "}\n",
              "\n",
              "#sk-container-id-2 a.estimator_doc_link.fitted:hover {\n",
              "  /* fitted */\n",
              "  background-color: var(--sklearn-color-fitted-level-3);\n",
              "}\n",
              "</style><div id=\"sk-container-id-2\" class=\"sk-top-container\"><div class=\"sk-text-repr-fallback\"><pre>RandomizedSearchCV(cv=TimeSeriesSplit(gap=0, max_train_size=None, n_splits=5, test_size=None),\n",
              "                   estimator=&lt;catboost.core.CatBoostRegressor object at 0x7f0397306580&gt;,\n",
              "                   n_jobs=-1,\n",
              "                   param_distributions={&#x27;depth&#x27;: range(2, 12, 2),\n",
              "                                        &#x27;iterations&#x27;: [100, 250, 500]},\n",
              "                   random_state=42, scoring=&#x27;neg_root_mean_squared_error&#x27;)</pre><b>In a Jupyter environment, please rerun this cell to show the HTML representation or trust the notebook. <br />On GitHub, the HTML representation is unable to render, please try loading this page with nbviewer.org.</b></div><div class=\"sk-container\" hidden><div class=\"sk-item sk-dashed-wrapped\"><div class=\"sk-label-container\"><div class=\"sk-label fitted sk-toggleable\"><input class=\"sk-toggleable__control sk-hidden--visually\" id=\"sk-estimator-id-4\" type=\"checkbox\" ><label for=\"sk-estimator-id-4\" class=\"sk-toggleable__label fitted sk-toggleable__label-arrow fitted\">&nbsp;&nbsp;RandomizedSearchCV<a class=\"sk-estimator-doc-link fitted\" rel=\"noreferrer\" target=\"_blank\" href=\"https://scikit-learn.org/1.5/modules/generated/sklearn.model_selection.RandomizedSearchCV.html\">?<span>Documentation for RandomizedSearchCV</span></a><span class=\"sk-estimator-doc-link fitted\">i<span>Fitted</span></span></label><div class=\"sk-toggleable__content fitted\"><pre>RandomizedSearchCV(cv=TimeSeriesSplit(gap=0, max_train_size=None, n_splits=5, test_size=None),\n",
              "                   estimator=&lt;catboost.core.CatBoostRegressor object at 0x7f0397306580&gt;,\n",
              "                   n_jobs=-1,\n",
              "                   param_distributions={&#x27;depth&#x27;: range(2, 12, 2),\n",
              "                                        &#x27;iterations&#x27;: [100, 250, 500]},\n",
              "                   random_state=42, scoring=&#x27;neg_root_mean_squared_error&#x27;)</pre></div> </div></div><div class=\"sk-parallel\"><div class=\"sk-parallel-item\"><div class=\"sk-item\"><div class=\"sk-label-container\"><div class=\"sk-label fitted sk-toggleable\"><input class=\"sk-toggleable__control sk-hidden--visually\" id=\"sk-estimator-id-5\" type=\"checkbox\" ><label for=\"sk-estimator-id-5\" class=\"sk-toggleable__label fitted sk-toggleable__label-arrow fitted\">best_estimator_: CatBoostRegressor</label><div class=\"sk-toggleable__content fitted\"><pre>&lt;catboost.core.CatBoostRegressor object at 0x7f03a5452490&gt;</pre></div> </div></div><div class=\"sk-serial\"><div class=\"sk-item\"><div class=\"sk-estimator fitted sk-toggleable\"><input class=\"sk-toggleable__control sk-hidden--visually\" id=\"sk-estimator-id-6\" type=\"checkbox\" ><label for=\"sk-estimator-id-6\" class=\"sk-toggleable__label fitted sk-toggleable__label-arrow fitted\">CatBoostRegressor</label><div class=\"sk-toggleable__content fitted\"><pre>&lt;catboost.core.CatBoostRegressor object at 0x7f03a5452490&gt;</pre></div> </div></div></div></div></div></div></div></div></div>"
            ],
            "text/plain": [
              "RandomizedSearchCV(cv=TimeSeriesSplit(gap=0, max_train_size=None, n_splits=5, test_size=None),\n",
              "                   estimator=<catboost.core.CatBoostRegressor object at 0x7f0397306580>,\n",
              "                   n_jobs=-1,\n",
              "                   param_distributions={'depth': range(2, 12, 2),\n",
              "                                        'iterations': [100, 250, 500]},\n",
              "                   random_state=42, scoring='neg_root_mean_squared_error')"
            ]
          },
          "execution_count": 36,
          "metadata": {},
          "output_type": "execute_result"
        }
      ],
      "source": [
        "randomized_search_cb = RandomizedSearchCV(\n",
        "    cb,\n",
        "    param_distribution_cb,\n",
        "    scoring='neg_root_mean_squared_error',\n",
        "    random_state=RANDOM_STATE,\n",
        "    n_jobs=-1,\n",
        "    cv=TimeSeriesSplit(n_splits=5)\n",
        ")\n",
        "randomized_search_cb.fit(X_train, y_train)"
      ]
    },
    {
      "cell_type": "markdown",
      "metadata": {
        "id": "tfCCtUbvLIcz"
      },
      "source": [
        "Сохраним результаты, чтобы далее провести сравнительный анализ моделей"
      ]
    },
    {
      "cell_type": "code",
      "execution_count": null,
      "metadata": {
        "id": "6fgwjyNjLIcz"
      },
      "outputs": [],
      "source": [
        "cb_results = pd.DataFrame(randomized_search_cb.cv_results_)\n",
        "cb_fit_time = cb_results.loc[cb_results['rank_test_score'] == 1, 'mean_fit_time'].values[0]\n",
        "cb_predict_time = cb_results.loc[cb_results['rank_test_score'] == 1, 'mean_score_time'].values[0]"
      ]
    },
    {
      "cell_type": "code",
      "execution_count": null,
      "metadata": {
        "id": "R0LnY4DULIcz",
        "outputId": "5a25be24-ec04-49b2-b6aa-7a017384b0ff"
      },
      "outputs": [
        {
          "name": "stdout",
          "output_type": "stream",
          "text": [
            "Время обучения модели: 16.076\n",
            "RMSE на кросс-валидации : 22.59\n",
            "\n",
            "Время предсказания модели: 0.0102\n",
            "RMSE на тренировочной выборке: 9.66\n"
          ]
        }
      ],
      "source": [
        "print('Время обучения модели:', round(cb_fit_time, 4))\n",
        "print('RMSE на кросс-валидации :', round((-1)*randomized_search_cb.best_score_, 2))\n",
        "print()\n",
        "print('Время предсказания модели:', round(cb_predict_time, 4))\n",
        "print('RMSE на тренировочной выборке:',\n",
        "      round(root_mean_squared_error(y_train,\n",
        "                                   randomized_search_cb.best_estimator_.predict(X_train)), 2))"
      ]
    },
    {
      "cell_type": "markdown",
      "metadata": {
        "id": "TsdV19luLIcz"
      },
      "source": [
        "### Анализ моделей"
      ]
    },
    {
      "cell_type": "code",
      "execution_count": null,
      "metadata": {
        "id": "sgk3E8I1LIcz"
      },
      "outputs": [],
      "source": [
        "res = {\n",
        "    'model': ['LinearRegression', 'LGBMRegressor', 'CatBoostRegressor'],\n",
        "    'fit_time': [lr_fit_time, lgbm_fit_time, cb_fit_time],\n",
        "    'predict_time': [lr_predict_time, lgbm_predict_time, cb_predict_time],\n",
        "    'RMSE_cv': [lr_cv_rmse,\n",
        "               (-1) * randomized_search_lgbm.best_score_,\n",
        "               (-1) * randomized_search_cb.best_score_],\n",
        "    'RMSE_train': [root_mean_squared_error(y_train, y_pred_lr),\n",
        "                  root_mean_squared_error(y_train,\n",
        "                                          randomized_search_lgbm.best_estimator_.predict(X_train)),\n",
        "                  root_mean_squared_error(y_train,\n",
        "                                          randomized_search_cb.best_estimator_.predict(X_train))]\n",
        "}\n",
        "\n",
        "res_df = pd.DataFrame(res)"
      ]
    },
    {
      "cell_type": "code",
      "execution_count": null,
      "metadata": {
        "id": "-MrukyawLIcz",
        "outputId": "1f033c75-0737-4e01-bc71-1e4983157262"
      },
      "outputs": [
        {
          "data": {
            "text/html": [
              "<div>\n",
              "<style scoped>\n",
              "    .dataframe tbody tr th:only-of-type {\n",
              "        vertical-align: middle;\n",
              "    }\n",
              "\n",
              "    .dataframe tbody tr th {\n",
              "        vertical-align: top;\n",
              "    }\n",
              "\n",
              "    .dataframe thead th {\n",
              "        text-align: right;\n",
              "    }\n",
              "</style>\n",
              "<table border=\"1\" class=\"dataframe\">\n",
              "  <thead>\n",
              "    <tr style=\"text-align: right;\">\n",
              "      <th></th>\n",
              "      <th>model</th>\n",
              "      <th>fit_time</th>\n",
              "      <th>predict_time</th>\n",
              "      <th>RMSE_cv</th>\n",
              "      <th>RMSE_train</th>\n",
              "    </tr>\n",
              "  </thead>\n",
              "  <tbody>\n",
              "    <tr>\n",
              "      <th>0</th>\n",
              "      <td>LinearRegression</td>\n",
              "      <td>0.293184</td>\n",
              "      <td>0.095430</td>\n",
              "      <td>22.745098</td>\n",
              "      <td>20.448199</td>\n",
              "    </tr>\n",
              "    <tr>\n",
              "      <th>1</th>\n",
              "      <td>LGBMRegressor</td>\n",
              "      <td>23.918512</td>\n",
              "      <td>0.058907</td>\n",
              "      <td>23.074341</td>\n",
              "      <td>11.934012</td>\n",
              "    </tr>\n",
              "    <tr>\n",
              "      <th>2</th>\n",
              "      <td>CatBoostRegressor</td>\n",
              "      <td>16.076004</td>\n",
              "      <td>0.010250</td>\n",
              "      <td>22.588017</td>\n",
              "      <td>9.661562</td>\n",
              "    </tr>\n",
              "  </tbody>\n",
              "</table>\n",
              "</div>"
            ],
            "text/plain": [
              "               model   fit_time  predict_time    RMSE_cv  RMSE_train\n",
              "0   LinearRegression   0.293184      0.095430  22.745098   20.448199\n",
              "1      LGBMRegressor  23.918512      0.058907  23.074341   11.934012\n",
              "2  CatBoostRegressor  16.076004      0.010250  22.588017    9.661562"
            ]
          },
          "execution_count": 45,
          "metadata": {},
          "output_type": "execute_result"
        }
      ],
      "source": [
        "res_df"
      ]
    },
    {
      "cell_type": "markdown",
      "metadata": {
        "id": "A9j32o-OLIc0"
      },
      "source": [
        "Метрики качества на кросс-валидации показали схожие результаты, чуть лучше остальных оказалась CatBoost (RMSE = 22.588), однако её точность при прогнозировании на обучающей выборке (9.66) вызывает сомнения, она сильно лучше, чем на кросс-валидации, что может свидетельствовать о переобучении. Аналогичная ситуация с LightGBM, точность на обучающей в два раза лучше, чем на кросс-валидации. Оптимальной является модель линейной регрессии: как на кросс-валидации (22,745), так и при прогнозировании на тренировочной выборке (20,45), модель достигает высокого уровня качества, помимо этого она отличается самым коротким временем обучения."
      ]
    },
    {
      "cell_type": "markdown",
      "metadata": {
        "id": "6uX002diLIc0"
      },
      "source": [
        "## Тестирование"
      ]
    },
    {
      "cell_type": "markdown",
      "metadata": {
        "id": "RSJCfN4sLIc0"
      },
      "source": [
        "Проверим точность линейной регрессии на тестовой выборке"
      ]
    },
    {
      "cell_type": "code",
      "execution_count": null,
      "metadata": {
        "id": "3gNDSw7hLIc0",
        "outputId": "70a327f9-abc9-490b-9dc6-1d2c2138d520"
      },
      "outputs": [
        {
          "name": "stdout",
          "output_type": "stream",
          "text": [
            "RMSE модели линейной регрессии на тестовой выборке: 35.22\n"
          ]
        }
      ],
      "source": [
        "print('RMSE модели линейной регрессии на тестовой выборке:',\n",
        "      round(root_mean_squared_error(y_test,\n",
        "                                   lr.predict(X_test)), 2))"
      ]
    },
    {
      "cell_type": "markdown",
      "metadata": {
        "id": "HxdG755xLIc0"
      },
      "source": [
        "Достигнут необходимый уровень качества, модель удовлетворяет всем требованиям и является оптимальной из рассмотренных."
      ]
    },
    {
      "cell_type": "markdown",
      "metadata": {
        "id": "tklRSqGyLIc0"
      },
      "source": [
        "## Вывод"
      ]
    },
    {
      "cell_type": "markdown",
      "metadata": {
        "id": "H8kZ1Wg8LIc0"
      },
      "source": [
        "**Цель исследования:** Построить модель для предсказания количества заказов такси на следующий час.  \n",
        "\n",
        "В нашем распоряжении были данные о заказах такси в аэропортае с 1 марта по 31 августа включительно.  \n",
        "В ходе анализа была выявлена ярко выраженная **суточная сезонность**: *пик количества заказов приходится на ночь* (22:00 - 03:00), также такси пользуется спросом в *вечернее время* (15:00 - 18:00), а ранним утром (05:00 - 07:00) напротив - минимальный спрос. Также, очевидно *увеличение количество заказов такси к концу лета*, наиболее *часто вызывают такси в пятницу*, и гораздо реже - во вторник.  \n",
        "\n",
        "Далее были обучены модели линейной регрессии, LightGBM и CatBoost. Гиперпараметры подбирались с помощью RandomizedSearchCV, а точность оценивалась метрикой RMSE на кросс-валидации (критерий качества RMSE <= 48). Все модели показали высокое качество на кросс-валидации, однако при выполнении предсказаний на всей обучающей выборке для LGBMRegressor и CatBoostRegressor было выявлено переобучение. **Линейная регрессия оказалась оптимальной**: она показала высокую точность на кросс-валидации (22.745), на всей обучающей выборке (20.45) и на тестовой (35,22). Помимо этого, она оказалась самой быстрой по времени обучения."
      ]
    },
    {
      "cell_type": "markdown",
      "metadata": {
        "id": "ZX1bYv_SLIc0"
      },
      "source": [
        "## Чек-лист проверки"
      ]
    },
    {
      "cell_type": "markdown",
      "metadata": {
        "id": "4M38FXg-LIc0"
      },
      "source": [
        "- [x]  Jupyter Notebook открыт\n",
        "- [x]  Весь код выполняется без ошибок\n",
        "- [x]  Ячейки с кодом расположены в порядке исполнения\n",
        "- [x]  Данные загружены и подготовлены\n",
        "- [x]  Данные проанализированы\n",
        "- [x]  Модель обучена, гиперпараметры подобраны\n",
        "- [x]  Качество моделей проверено, выводы сделаны\n",
        "- [x]  Значение *RMSE* на тестовой выборке не больше 48"
      ]
    }
  ],
  "metadata": {
    "ExecuteTimeLog": [
      {
        "duration": 417,
        "start_time": "2024-12-19T00:13:00.724Z"
      },
      {
        "duration": 91,
        "start_time": "2024-12-19T00:15:51.697Z"
      },
      {
        "duration": 95,
        "start_time": "2024-12-19T00:16:33.627Z"
      },
      {
        "duration": 13,
        "start_time": "2024-12-19T00:16:40.605Z"
      },
      {
        "duration": 89,
        "start_time": "2024-12-19T00:17:18.416Z"
      },
      {
        "duration": 80,
        "start_time": "2024-12-19T00:17:26.108Z"
      },
      {
        "duration": 51,
        "start_time": "2024-12-19T00:17:47.770Z"
      },
      {
        "duration": 11,
        "start_time": "2024-12-19T00:17:48.576Z"
      },
      {
        "duration": 20,
        "start_time": "2024-12-19T00:18:24.186Z"
      },
      {
        "duration": 378,
        "start_time": "2024-12-19T12:58:08.011Z"
      },
      {
        "duration": 104,
        "start_time": "2024-12-19T12:58:09.138Z"
      },
      {
        "duration": 20,
        "start_time": "2024-12-19T12:58:10.872Z"
      },
      {
        "duration": 70,
        "start_time": "2024-12-19T12:59:31.851Z"
      },
      {
        "duration": 48,
        "start_time": "2024-12-19T12:59:52.992Z"
      },
      {
        "duration": 47,
        "start_time": "2024-12-19T13:00:02.577Z"
      },
      {
        "duration": 13,
        "start_time": "2024-12-19T13:00:03.337Z"
      },
      {
        "duration": 3,
        "start_time": "2024-12-19T13:00:05.911Z"
      },
      {
        "duration": 59571,
        "start_time": "2024-12-19T13:00:25.970Z"
      },
      {
        "duration": 9,
        "start_time": "2024-12-19T13:02:14.730Z"
      },
      {
        "duration": 8,
        "start_time": "2024-12-19T13:02:26.582Z"
      },
      {
        "duration": 49,
        "start_time": "2024-12-19T13:02:36.872Z"
      },
      {
        "duration": 16,
        "start_time": "2024-12-19T13:02:38.462Z"
      },
      {
        "duration": 7,
        "start_time": "2024-12-19T13:02:39.393Z"
      },
      {
        "duration": 214,
        "start_time": "2024-12-19T13:02:41.138Z"
      },
      {
        "duration": 409,
        "start_time": "2024-12-20T09:27:05.103Z"
      },
      {
        "duration": 162,
        "start_time": "2024-12-20T09:27:06.876Z"
      },
      {
        "duration": 19,
        "start_time": "2024-12-20T09:27:08.118Z"
      },
      {
        "duration": 8,
        "start_time": "2024-12-20T09:27:10.168Z"
      },
      {
        "duration": 13,
        "start_time": "2024-12-20T09:27:17.966Z"
      },
      {
        "duration": 6,
        "start_time": "2024-12-20T09:59:32.910Z"
      },
      {
        "duration": 381,
        "start_time": "2024-12-20T16:19:49.951Z"
      },
      {
        "duration": 99,
        "start_time": "2024-12-20T16:19:53.468Z"
      },
      {
        "duration": 20,
        "start_time": "2024-12-20T16:19:54.668Z"
      },
      {
        "duration": 9,
        "start_time": "2024-12-20T16:19:55.511Z"
      },
      {
        "duration": 15,
        "start_time": "2024-12-20T16:19:56.411Z"
      },
      {
        "duration": 1428,
        "start_time": "2024-12-20T16:19:56.882Z"
      },
      {
        "duration": 5,
        "start_time": "2024-12-20T16:20:16.511Z"
      },
      {
        "duration": 4,
        "start_time": "2024-12-20T16:54:03.397Z"
      },
      {
        "duration": 750,
        "start_time": "2024-12-20T16:54:39.768Z"
      },
      {
        "duration": 108,
        "start_time": "2024-12-20T17:48:43.384Z"
      },
      {
        "duration": 87,
        "start_time": "2024-12-20T17:48:52.066Z"
      },
      {
        "duration": 18,
        "start_time": "2024-12-20T17:48:59.033Z"
      },
      {
        "duration": 3,
        "start_time": "2024-12-20T17:49:17.264Z"
      },
      {
        "duration": 51,
        "start_time": "2024-12-20T17:49:18.436Z"
      },
      {
        "duration": 14,
        "start_time": "2024-12-20T17:49:18.792Z"
      },
      {
        "duration": 7,
        "start_time": "2024-12-20T17:49:19.085Z"
      },
      {
        "duration": 14,
        "start_time": "2024-12-20T17:49:19.431Z"
      },
      {
        "duration": 4,
        "start_time": "2024-12-20T17:49:19.674Z"
      },
      {
        "duration": 226,
        "start_time": "2024-12-20T17:49:20.464Z"
      },
      {
        "duration": 294,
        "start_time": "2024-12-20T17:49:40.847Z"
      },
      {
        "duration": 228,
        "start_time": "2024-12-20T17:50:04.024Z"
      },
      {
        "duration": 208,
        "start_time": "2024-12-20T17:50:12.637Z"
      },
      {
        "duration": 258,
        "start_time": "2024-12-20T17:50:23.270Z"
      },
      {
        "duration": 3,
        "start_time": "2024-12-20T22:04:22.661Z"
      },
      {
        "duration": 55,
        "start_time": "2024-12-20T22:04:23.001Z"
      },
      {
        "duration": 16,
        "start_time": "2024-12-20T22:04:23.123Z"
      },
      {
        "duration": 7,
        "start_time": "2024-12-20T22:04:23.330Z"
      },
      {
        "duration": 15,
        "start_time": "2024-12-20T22:04:23.527Z"
      },
      {
        "duration": 4,
        "start_time": "2024-12-20T22:04:23.683Z"
      },
      {
        "duration": 13,
        "start_time": "2024-12-20T22:05:10.827Z"
      },
      {
        "duration": 242,
        "start_time": "2024-12-20T22:06:09.524Z"
      },
      {
        "duration": 299,
        "start_time": "2024-12-20T22:06:33.165Z"
      },
      {
        "duration": 233,
        "start_time": "2024-12-20T22:07:08.221Z"
      },
      {
        "duration": 62369,
        "start_time": "2024-12-20T22:08:40.491Z"
      },
      {
        "duration": 11,
        "start_time": "2024-12-20T22:10:32.290Z"
      },
      {
        "duration": 10,
        "start_time": "2024-12-20T22:11:00.686Z"
      },
      {
        "duration": 253,
        "start_time": "2024-12-20T22:12:11.284Z"
      },
      {
        "duration": 242,
        "start_time": "2024-12-20T22:12:18.427Z"
      },
      {
        "duration": 243,
        "start_time": "2024-12-20T22:12:22.527Z"
      },
      {
        "duration": 298,
        "start_time": "2024-12-20T22:12:39.900Z"
      },
      {
        "duration": 294,
        "start_time": "2024-12-20T22:12:47.228Z"
      },
      {
        "duration": 295,
        "start_time": "2024-12-20T22:12:59.092Z"
      },
      {
        "duration": 284,
        "start_time": "2024-12-20T22:13:42.523Z"
      },
      {
        "duration": 283,
        "start_time": "2024-12-20T22:13:47.022Z"
      },
      {
        "duration": 278,
        "start_time": "2024-12-20T22:19:22.538Z"
      },
      {
        "duration": 463,
        "start_time": "2024-12-20T22:24:18.484Z"
      },
      {
        "duration": 721,
        "start_time": "2024-12-20T22:24:29.729Z"
      },
      {
        "duration": 798,
        "start_time": "2024-12-20T22:24:43.852Z"
      },
      {
        "duration": 745,
        "start_time": "2024-12-20T22:24:53.565Z"
      },
      {
        "duration": 1251,
        "start_time": "2024-12-20T22:25:02.084Z"
      },
      {
        "duration": 6,
        "start_time": "2024-12-20T22:32:11.239Z"
      },
      {
        "duration": 4,
        "start_time": "2024-12-20T22:32:28.039Z"
      },
      {
        "duration": 782,
        "start_time": "2024-12-20T22:32:33.685Z"
      },
      {
        "duration": 17,
        "start_time": "2024-12-20T22:34:15.416Z"
      },
      {
        "duration": 695,
        "start_time": "2024-12-20T22:35:29.285Z"
      },
      {
        "duration": 3,
        "start_time": "2024-12-20T22:35:45.828Z"
      },
      {
        "duration": 843,
        "start_time": "2024-12-20T22:35:46.810Z"
      },
      {
        "duration": 4,
        "start_time": "2024-12-20T22:36:00.542Z"
      },
      {
        "duration": 813,
        "start_time": "2024-12-20T22:36:02.974Z"
      },
      {
        "duration": 5,
        "start_time": "2024-12-20T22:36:11.999Z"
      },
      {
        "duration": 947,
        "start_time": "2024-12-20T22:36:12.678Z"
      },
      {
        "duration": 858,
        "start_time": "2024-12-20T22:36:17.999Z"
      },
      {
        "duration": 746,
        "start_time": "2024-12-20T22:37:30.942Z"
      },
      {
        "duration": 581,
        "start_time": "2024-12-20T23:10:37.522Z"
      },
      {
        "duration": 598,
        "start_time": "2024-12-20T23:11:02.526Z"
      },
      {
        "duration": 573,
        "start_time": "2024-12-20T23:11:07.924Z"
      },
      {
        "duration": 7,
        "start_time": "2024-12-20T23:11:44.460Z"
      },
      {
        "duration": 825,
        "start_time": "2024-12-20T23:11:45.238Z"
      },
      {
        "duration": 4,
        "start_time": "2024-12-20T23:12:09.285Z"
      },
      {
        "duration": 872,
        "start_time": "2024-12-20T23:12:10.843Z"
      },
      {
        "duration": 5,
        "start_time": "2024-12-20T23:12:27.691Z"
      },
      {
        "duration": 856,
        "start_time": "2024-12-20T23:12:29.359Z"
      },
      {
        "duration": 4,
        "start_time": "2024-12-20T23:12:42.451Z"
      },
      {
        "duration": 371,
        "start_time": "2024-12-20T23:12:43.159Z"
      },
      {
        "duration": 4,
        "start_time": "2024-12-20T23:12:51.638Z"
      },
      {
        "duration": 876,
        "start_time": "2024-12-20T23:12:52.221Z"
      },
      {
        "duration": 1414,
        "start_time": "2024-12-20T23:12:53.453Z"
      },
      {
        "duration": 788,
        "start_time": "2024-12-20T23:13:04.580Z"
      },
      {
        "duration": 661,
        "start_time": "2024-12-20T23:13:05.370Z"
      },
      {
        "duration": 935,
        "start_time": "2024-12-20T23:13:13.600Z"
      },
      {
        "duration": 793,
        "start_time": "2024-12-20T23:13:17.899Z"
      },
      {
        "duration": 5,
        "start_time": "2024-12-20T23:20:12.180Z"
      },
      {
        "duration": 8,
        "start_time": "2024-12-20T23:20:16.999Z"
      },
      {
        "duration": 13,
        "start_time": "2024-12-20T23:55:25.022Z"
      },
      {
        "duration": 139,
        "start_time": "2024-12-20T23:55:35.701Z"
      },
      {
        "duration": 391,
        "start_time": "2024-12-20T23:58:25.239Z"
      },
      {
        "duration": 384,
        "start_time": "2024-12-20T23:59:03.212Z"
      },
      {
        "duration": 9,
        "start_time": "2024-12-21T00:02:16.460Z"
      },
      {
        "duration": 6,
        "start_time": "2024-12-21T00:02:34.091Z"
      },
      {
        "duration": 6,
        "start_time": "2024-12-21T00:03:20.985Z"
      },
      {
        "duration": 116,
        "start_time": "2024-12-21T00:03:44.708Z"
      },
      {
        "duration": 1001,
        "start_time": "2024-12-21T00:03:51.039Z"
      },
      {
        "duration": 333,
        "start_time": "2024-12-21T00:04:20.962Z"
      },
      {
        "duration": 341,
        "start_time": "2024-12-21T00:05:12.786Z"
      },
      {
        "duration": 5,
        "start_time": "2024-12-21T00:06:09.422Z"
      },
      {
        "duration": 347,
        "start_time": "2024-12-21T00:06:09.852Z"
      },
      {
        "duration": 260,
        "start_time": "2024-12-21T00:07:34.166Z"
      },
      {
        "duration": 249,
        "start_time": "2024-12-21T00:08:36.090Z"
      },
      {
        "duration": 362,
        "start_time": "2024-12-21T00:09:00.022Z"
      },
      {
        "duration": 387,
        "start_time": "2024-12-21T00:09:07.542Z"
      },
      {
        "duration": 5,
        "start_time": "2024-12-21T00:09:19.332Z"
      },
      {
        "duration": 408,
        "start_time": "2024-12-21T00:09:19.606Z"
      },
      {
        "duration": 109,
        "start_time": "2024-12-21T00:09:47.447Z"
      },
      {
        "duration": 128,
        "start_time": "2024-12-21T00:10:08.260Z"
      },
      {
        "duration": 131,
        "start_time": "2024-12-21T00:10:21.822Z"
      },
      {
        "duration": 152,
        "start_time": "2024-12-21T00:10:50.815Z"
      },
      {
        "duration": 133,
        "start_time": "2024-12-21T00:11:11.942Z"
      },
      {
        "duration": 157,
        "start_time": "2024-12-21T00:11:13.760Z"
      },
      {
        "duration": 141,
        "start_time": "2024-12-21T00:11:24.280Z"
      },
      {
        "duration": 125,
        "start_time": "2024-12-21T00:11:55.367Z"
      },
      {
        "duration": 91,
        "start_time": "2024-12-21T00:12:15.880Z"
      },
      {
        "duration": 201,
        "start_time": "2024-12-21T00:12:20.455Z"
      },
      {
        "duration": 9,
        "start_time": "2024-12-21T00:38:20.808Z"
      },
      {
        "duration": 24,
        "start_time": "2024-12-21T00:39:18.656Z"
      },
      {
        "duration": 111,
        "start_time": "2024-12-21T00:39:23.131Z"
      },
      {
        "duration": 247,
        "start_time": "2024-12-21T00:39:50.003Z"
      },
      {
        "duration": 250,
        "start_time": "2024-12-21T00:40:46.420Z"
      },
      {
        "duration": 257,
        "start_time": "2024-12-21T00:41:16.506Z"
      },
      {
        "duration": 249,
        "start_time": "2024-12-21T00:41:49.607Z"
      },
      {
        "duration": 235,
        "start_time": "2024-12-21T00:41:53.222Z"
      },
      {
        "duration": 233,
        "start_time": "2024-12-21T00:41:56.825Z"
      },
      {
        "duration": 128,
        "start_time": "2024-12-21T00:43:20.365Z"
      },
      {
        "duration": 199,
        "start_time": "2024-12-21T00:43:28.562Z"
      },
      {
        "duration": 244,
        "start_time": "2024-12-21T00:44:18.725Z"
      },
      {
        "duration": 256,
        "start_time": "2024-12-21T00:45:31.902Z"
      },
      {
        "duration": 225,
        "start_time": "2024-12-21T00:45:43.535Z"
      },
      {
        "duration": 233,
        "start_time": "2024-12-21T00:45:53.320Z"
      },
      {
        "duration": 260,
        "start_time": "2024-12-21T00:46:57.203Z"
      },
      {
        "duration": 255,
        "start_time": "2024-12-21T00:47:20.876Z"
      },
      {
        "duration": 416,
        "start_time": "2024-12-21T00:48:16.486Z"
      },
      {
        "duration": 18,
        "start_time": "2024-12-21T00:48:43.440Z"
      },
      {
        "duration": 24,
        "start_time": "2024-12-21T00:49:06.765Z"
      },
      {
        "duration": 18,
        "start_time": "2024-12-21T00:49:15.621Z"
      },
      {
        "duration": 244,
        "start_time": "2024-12-21T00:49:29.531Z"
      },
      {
        "duration": 247,
        "start_time": "2024-12-21T00:49:37.347Z"
      },
      {
        "duration": 239,
        "start_time": "2024-12-21T00:49:49.426Z"
      },
      {
        "duration": 269,
        "start_time": "2024-12-21T00:50:17.702Z"
      },
      {
        "duration": 240,
        "start_time": "2024-12-21T00:52:58.239Z"
      },
      {
        "duration": 362,
        "start_time": "2024-12-21T00:56:35.741Z"
      },
      {
        "duration": 424,
        "start_time": "2024-12-21T00:59:40.780Z"
      },
      {
        "duration": 10,
        "start_time": "2024-12-21T01:10:42.746Z"
      },
      {
        "duration": 46,
        "start_time": "2024-12-21T01:10:53.775Z"
      },
      {
        "duration": 13,
        "start_time": "2024-12-21T01:10:53.958Z"
      },
      {
        "duration": 7,
        "start_time": "2024-12-21T01:10:54.124Z"
      },
      {
        "duration": 17,
        "start_time": "2024-12-21T01:10:54.285Z"
      },
      {
        "duration": 4,
        "start_time": "2024-12-21T01:10:54.442Z"
      },
      {
        "duration": 274,
        "start_time": "2024-12-21T01:10:55.199Z"
      },
      {
        "duration": 4,
        "start_time": "2024-12-21T01:10:55.475Z"
      },
      {
        "duration": 1586,
        "start_time": "2024-12-21T01:10:55.480Z"
      },
      {
        "duration": 751,
        "start_time": "2024-12-21T01:10:57.068Z"
      },
      {
        "duration": 672,
        "start_time": "2024-12-21T01:10:57.820Z"
      },
      {
        "duration": 584,
        "start_time": "2024-12-21T01:10:58.494Z"
      },
      {
        "duration": 8,
        "start_time": "2024-12-21T01:10:59.080Z"
      },
      {
        "duration": 137,
        "start_time": "2024-12-21T01:10:59.089Z"
      },
      {
        "duration": 145,
        "start_time": "2024-12-21T01:10:59.228Z"
      },
      {
        "duration": 201,
        "start_time": "2024-12-21T01:10:59.376Z"
      },
      {
        "duration": 398,
        "start_time": "2024-12-21T01:10:59.579Z"
      },
      {
        "duration": 11,
        "start_time": "2024-12-21T01:10:59.979Z"
      },
      {
        "duration": 4,
        "start_time": "2024-12-21T01:11:53.651Z"
      },
      {
        "duration": 20,
        "start_time": "2024-12-21T01:12:45.279Z"
      },
      {
        "duration": 9,
        "start_time": "2024-12-21T01:13:05.258Z"
      },
      {
        "duration": 4,
        "start_time": "2024-12-21T01:14:06.302Z"
      },
      {
        "duration": 15,
        "start_time": "2024-12-21T01:14:08.119Z"
      },
      {
        "duration": 12,
        "start_time": "2024-12-21T01:14:08.863Z"
      },
      {
        "duration": 281,
        "start_time": "2024-12-21T01:18:08.421Z"
      },
      {
        "duration": 7,
        "start_time": "2024-12-21T01:19:30.415Z"
      },
      {
        "duration": 16,
        "start_time": "2024-12-21T01:29:32.621Z"
      },
      {
        "duration": 21,
        "start_time": "2024-12-21T01:29:42.291Z"
      },
      {
        "duration": 2,
        "start_time": "2024-12-21T01:29:51.701Z"
      },
      {
        "duration": 12,
        "start_time": "2024-12-21T01:29:55.460Z"
      },
      {
        "duration": 3,
        "start_time": "2024-12-21T01:30:09.919Z"
      },
      {
        "duration": 9,
        "start_time": "2024-12-21T01:30:14.144Z"
      },
      {
        "duration": 9,
        "start_time": "2024-12-21T01:31:36.764Z"
      },
      {
        "duration": 3,
        "start_time": "2024-12-21T01:31:47.901Z"
      },
      {
        "duration": 10,
        "start_time": "2024-12-21T01:31:56.100Z"
      },
      {
        "duration": 3,
        "start_time": "2024-12-21T01:33:09.660Z"
      },
      {
        "duration": 742,
        "start_time": "2024-12-21T01:33:14.685Z"
      },
      {
        "duration": 390,
        "start_time": "2024-12-21T01:34:02.932Z"
      },
      {
        "duration": 836,
        "start_time": "2024-12-21T01:34:25.080Z"
      },
      {
        "duration": 1001,
        "start_time": "2024-12-21T01:34:49.617Z"
      },
      {
        "duration": 955,
        "start_time": "2024-12-21T01:37:41.460Z"
      },
      {
        "duration": 6,
        "start_time": "2024-12-21T01:39:59.001Z"
      },
      {
        "duration": 6,
        "start_time": "2024-12-21T01:40:14.048Z"
      },
      {
        "duration": 10,
        "start_time": "2024-12-21T01:40:32.971Z"
      },
      {
        "duration": 17638,
        "start_time": "2024-12-21T01:40:52.645Z"
      },
      {
        "duration": 18,
        "start_time": "2024-12-21T01:41:14.084Z"
      },
      {
        "duration": 7277,
        "start_time": "2024-12-21T01:41:30.807Z"
      },
      {
        "duration": 1611,
        "start_time": "2024-12-21T01:41:39.621Z"
      },
      {
        "duration": 52,
        "start_time": "2024-12-21T01:41:42.756Z"
      },
      {
        "duration": 16,
        "start_time": "2024-12-21T01:41:42.810Z"
      },
      {
        "duration": 8,
        "start_time": "2024-12-21T01:41:42.828Z"
      },
      {
        "duration": 16,
        "start_time": "2024-12-21T01:41:42.838Z"
      },
      {
        "duration": 3,
        "start_time": "2024-12-21T01:41:42.856Z"
      },
      {
        "duration": 425,
        "start_time": "2024-12-21T01:41:42.922Z"
      },
      {
        "duration": 4,
        "start_time": "2024-12-21T01:41:43.350Z"
      },
      {
        "duration": 914,
        "start_time": "2024-12-21T01:41:43.355Z"
      },
      {
        "duration": 778,
        "start_time": "2024-12-21T01:41:44.271Z"
      },
      {
        "duration": 701,
        "start_time": "2024-12-21T01:41:45.051Z"
      },
      {
        "duration": 733,
        "start_time": "2024-12-21T01:41:45.754Z"
      },
      {
        "duration": 7,
        "start_time": "2024-12-21T01:41:46.488Z"
      },
      {
        "duration": 276,
        "start_time": "2024-12-21T01:41:46.496Z"
      },
      {
        "duration": 204,
        "start_time": "2024-12-21T01:41:46.773Z"
      },
      {
        "duration": 323,
        "start_time": "2024-12-21T01:41:46.980Z"
      },
      {
        "duration": 368,
        "start_time": "2024-12-21T01:41:47.304Z"
      },
      {
        "duration": 15,
        "start_time": "2024-12-21T01:41:47.675Z"
      },
      {
        "duration": 23,
        "start_time": "2024-12-21T01:41:47.692Z"
      },
      {
        "duration": 28,
        "start_time": "2024-12-21T01:41:47.717Z"
      },
      {
        "duration": 11,
        "start_time": "2024-12-21T01:41:47.747Z"
      },
      {
        "duration": 10,
        "start_time": "2024-12-21T01:41:47.759Z"
      },
      {
        "duration": 7,
        "start_time": "2024-12-21T01:41:47.770Z"
      },
      {
        "duration": 39,
        "start_time": "2024-12-21T01:41:47.778Z"
      },
      {
        "duration": 696,
        "start_time": "2024-12-21T01:41:47.820Z"
      },
      {
        "duration": 95,
        "start_time": "2024-12-21T01:41:48.524Z"
      },
      {
        "duration": 99,
        "start_time": "2024-12-21T01:41:48.621Z"
      },
      {
        "duration": 5,
        "start_time": "2024-12-21T01:43:39.157Z"
      },
      {
        "duration": 5,
        "start_time": "2024-12-21T01:44:03.417Z"
      },
      {
        "duration": 6,
        "start_time": "2024-12-21T01:44:08.139Z"
      },
      {
        "duration": 71,
        "start_time": "2024-12-21T01:48:43.683Z"
      },
      {
        "duration": 3,
        "start_time": "2024-12-21T01:49:35.768Z"
      },
      {
        "duration": 4,
        "start_time": "2024-12-21T01:49:39.316Z"
      },
      {
        "duration": 305,
        "start_time": "2024-12-21T01:52:02.102Z"
      },
      {
        "duration": 4,
        "start_time": "2024-12-21T01:52:27.916Z"
      },
      {
        "duration": 82449,
        "start_time": "2024-12-21T01:52:28.396Z"
      },
      {
        "duration": 88,
        "start_time": "2024-12-21T01:54:10.738Z"
      },
      {
        "duration": 52100,
        "start_time": "2024-12-21T01:54:19.336Z"
      },
      {
        "duration": 4,
        "start_time": "2024-12-21T01:55:22.682Z"
      },
      {
        "duration": 91913,
        "start_time": "2024-12-21T01:55:23.208Z"
      },
      {
        "duration": 9,
        "start_time": "2024-12-21T01:57:39.769Z"
      },
      {
        "duration": 4,
        "start_time": "2024-12-21T01:57:48.929Z"
      },
      {
        "duration": 2,
        "start_time": "2024-12-21T01:58:08.157Z"
      },
      {
        "duration": 90573,
        "start_time": "2024-12-21T01:58:20.443Z"
      },
      {
        "duration": 7,
        "start_time": "2024-12-21T02:00:14.322Z"
      },
      {
        "duration": 20,
        "start_time": "2024-12-21T02:00:24.956Z"
      },
      {
        "duration": 10,
        "start_time": "2024-12-21T02:03:18.939Z"
      },
      {
        "duration": 6,
        "start_time": "2024-12-21T02:04:35.610Z"
      },
      {
        "duration": 21,
        "start_time": "2024-12-21T02:06:01.800Z"
      },
      {
        "duration": 6,
        "start_time": "2024-12-21T02:06:47.464Z"
      },
      {
        "duration": 11,
        "start_time": "2024-12-21T02:07:49.563Z"
      },
      {
        "duration": 6,
        "start_time": "2024-12-21T02:07:57.597Z"
      },
      {
        "duration": 7,
        "start_time": "2024-12-21T02:08:19.443Z"
      },
      {
        "duration": 13,
        "start_time": "2024-12-21T02:09:03.979Z"
      },
      {
        "duration": 17,
        "start_time": "2024-12-21T02:09:14.730Z"
      },
      {
        "duration": 24,
        "start_time": "2024-12-21T02:09:21.238Z"
      },
      {
        "duration": 9,
        "start_time": "2024-12-21T02:11:42.379Z"
      },
      {
        "duration": 3,
        "start_time": "2024-12-21T02:11:42.677Z"
      },
      {
        "duration": 3,
        "start_time": "2024-12-21T02:11:50.369Z"
      },
      {
        "duration": 3,
        "start_time": "2024-12-21T02:11:51.539Z"
      },
      {
        "duration": 152282,
        "start_time": "2024-12-21T02:12:01.563Z"
      },
      {
        "duration": 275808,
        "start_time": "2024-12-21T02:14:39.168Z"
      },
      {
        "duration": 6,
        "start_time": "2024-12-21T02:20:44.477Z"
      },
      {
        "duration": 15,
        "start_time": "2024-12-21T02:21:21.609Z"
      },
      {
        "duration": 10,
        "start_time": "2024-12-21T02:22:22.183Z"
      },
      {
        "duration": 5,
        "start_time": "2024-12-21T02:22:38.096Z"
      },
      {
        "duration": 9,
        "start_time": "2024-12-21T02:22:51.960Z"
      },
      {
        "duration": 25,
        "start_time": "2024-12-21T02:25:22.619Z"
      },
      {
        "duration": 12,
        "start_time": "2024-12-21T02:25:23.200Z"
      },
      {
        "duration": 20,
        "start_time": "2024-12-21T02:27:13.643Z"
      },
      {
        "duration": 10,
        "start_time": "2024-12-21T02:27:14.278Z"
      },
      {
        "duration": 26,
        "start_time": "2024-12-21T02:27:34.019Z"
      },
      {
        "duration": 9,
        "start_time": "2024-12-21T02:27:34.800Z"
      },
      {
        "duration": 15,
        "start_time": "2024-12-21T02:31:03.517Z"
      },
      {
        "duration": 8,
        "start_time": "2024-12-21T02:34:42.699Z"
      },
      {
        "duration": 10,
        "start_time": "2024-12-21T02:34:51.849Z"
      },
      {
        "duration": 385,
        "start_time": "2024-12-21T02:40:59.045Z"
      },
      {
        "duration": 668,
        "start_time": "2024-12-21T02:42:13.756Z"
      },
      {
        "duration": 2156,
        "start_time": "2024-12-21T02:42:45.364Z"
      },
      {
        "duration": 2020,
        "start_time": "2024-12-21T02:42:51.722Z"
      },
      {
        "duration": 389,
        "start_time": "2024-12-21T02:42:57.357Z"
      },
      {
        "duration": 4,
        "start_time": "2024-12-21T02:43:41.779Z"
      },
      {
        "duration": 30,
        "start_time": "2024-12-21T02:43:44.482Z"
      },
      {
        "duration": 4,
        "start_time": "2024-12-21T02:43:56.132Z"
      },
      {
        "duration": 49,
        "start_time": "2024-12-21T02:43:56.495Z"
      },
      {
        "duration": 14,
        "start_time": "2024-12-21T02:43:56.640Z"
      },
      {
        "duration": 7,
        "start_time": "2024-12-21T02:43:56.939Z"
      },
      {
        "duration": 16,
        "start_time": "2024-12-21T02:43:57.084Z"
      },
      {
        "duration": 3,
        "start_time": "2024-12-21T02:43:57.419Z"
      },
      {
        "duration": 380,
        "start_time": "2024-12-21T02:43:58.140Z"
      },
      {
        "duration": 3,
        "start_time": "2024-12-21T02:43:58.522Z"
      },
      {
        "duration": 878,
        "start_time": "2024-12-21T02:43:59.083Z"
      },
      {
        "duration": 746,
        "start_time": "2024-12-21T02:45:44.173Z"
      },
      {
        "duration": 738,
        "start_time": "2024-12-21T02:45:44.921Z"
      },
      {
        "duration": 698,
        "start_time": "2024-12-21T02:45:45.661Z"
      },
      {
        "duration": 6,
        "start_time": "2024-12-21T02:45:46.360Z"
      },
      {
        "duration": 4,
        "start_time": "2024-12-21T02:46:34.696Z"
      },
      {
        "duration": 23,
        "start_time": "2024-12-21T02:46:35.436Z"
      },
      {
        "duration": 5,
        "start_time": "2024-12-21T02:46:51.943Z"
      },
      {
        "duration": 23,
        "start_time": "2024-12-21T02:46:52.395Z"
      },
      {
        "duration": 4,
        "start_time": "2024-12-21T02:46:57.177Z"
      },
      {
        "duration": 23,
        "start_time": "2024-12-21T02:46:57.618Z"
      },
      {
        "duration": 48,
        "start_time": "2024-12-21T02:47:06.797Z"
      },
      {
        "duration": 15,
        "start_time": "2024-12-21T02:47:07.037Z"
      },
      {
        "duration": 7,
        "start_time": "2024-12-21T02:47:07.383Z"
      },
      {
        "duration": 19,
        "start_time": "2024-12-21T02:47:07.542Z"
      },
      {
        "duration": 3,
        "start_time": "2024-12-21T02:47:08.324Z"
      },
      {
        "duration": 364,
        "start_time": "2024-12-21T02:47:08.836Z"
      },
      {
        "duration": 6,
        "start_time": "2024-12-21T02:47:09.986Z"
      },
      {
        "duration": 780,
        "start_time": "2024-12-21T02:47:10.479Z"
      },
      {
        "duration": 4,
        "start_time": "2024-12-21T02:47:32.939Z"
      },
      {
        "duration": 989,
        "start_time": "2024-12-21T02:47:36.360Z"
      },
      {
        "duration": 4,
        "start_time": "2024-12-21T02:47:53.803Z"
      },
      {
        "duration": 808,
        "start_time": "2024-12-21T02:47:54.376Z"
      },
      {
        "duration": 745,
        "start_time": "2024-12-21T02:47:55.187Z"
      },
      {
        "duration": 838,
        "start_time": "2024-12-21T02:47:55.934Z"
      },
      {
        "duration": 587,
        "start_time": "2024-12-21T02:47:56.774Z"
      },
      {
        "duration": 7,
        "start_time": "2024-12-21T02:47:57.363Z"
      },
      {
        "duration": 276,
        "start_time": "2024-12-21T02:47:57.372Z"
      },
      {
        "duration": 228,
        "start_time": "2024-12-21T02:47:57.650Z"
      },
      {
        "duration": 248,
        "start_time": "2024-12-21T02:50:47.500Z"
      },
      {
        "duration": 198,
        "start_time": "2024-12-21T02:51:08.160Z"
      },
      {
        "duration": 261,
        "start_time": "2024-12-21T02:52:44.500Z"
      },
      {
        "duration": 229,
        "start_time": "2024-12-21T02:53:28.821Z"
      },
      {
        "duration": 214,
        "start_time": "2024-12-21T02:53:43.155Z"
      },
      {
        "duration": 244,
        "start_time": "2024-12-21T02:53:48.403Z"
      },
      {
        "duration": 82,
        "start_time": "2024-12-21T02:54:09.359Z"
      },
      {
        "duration": 246,
        "start_time": "2024-12-21T02:54:14.612Z"
      },
      {
        "duration": 328,
        "start_time": "2024-12-21T02:54:36.956Z"
      },
      {
        "duration": 260,
        "start_time": "2024-12-21T02:55:19.299Z"
      },
      {
        "duration": 250,
        "start_time": "2024-12-21T02:55:24.883Z"
      },
      {
        "duration": 257,
        "start_time": "2024-12-21T02:57:52.288Z"
      },
      {
        "duration": 218,
        "start_time": "2024-12-21T02:58:09.839Z"
      },
      {
        "duration": 241,
        "start_time": "2024-12-21T02:58:13.516Z"
      },
      {
        "duration": 189,
        "start_time": "2024-12-21T02:58:25.968Z"
      },
      {
        "duration": 245,
        "start_time": "2024-12-21T02:58:32.219Z"
      },
      {
        "duration": 225,
        "start_time": "2024-12-21T02:58:56.847Z"
      },
      {
        "duration": 278,
        "start_time": "2024-12-21T02:59:37.437Z"
      },
      {
        "duration": 364,
        "start_time": "2024-12-21T03:00:36.811Z"
      },
      {
        "duration": 319,
        "start_time": "2024-12-21T03:00:46.643Z"
      },
      {
        "duration": 504,
        "start_time": "2024-12-21T03:01:16.203Z"
      },
      {
        "duration": 369,
        "start_time": "2024-12-21T03:01:29.772Z"
      },
      {
        "duration": 349,
        "start_time": "2024-12-21T03:01:43.043Z"
      },
      {
        "duration": 365,
        "start_time": "2024-12-21T03:02:00.051Z"
      },
      {
        "duration": 351,
        "start_time": "2024-12-21T03:02:14.530Z"
      },
      {
        "duration": 466,
        "start_time": "2024-12-21T03:02:20.648Z"
      },
      {
        "duration": 370,
        "start_time": "2024-12-21T03:02:34.260Z"
      },
      {
        "duration": 383,
        "start_time": "2024-12-21T03:02:41.996Z"
      },
      {
        "duration": 392,
        "start_time": "2024-12-21T03:06:26.324Z"
      },
      {
        "duration": 364,
        "start_time": "2024-12-21T03:06:34.020Z"
      },
      {
        "duration": 366,
        "start_time": "2024-12-21T03:06:48.213Z"
      },
      {
        "duration": 6,
        "start_time": "2024-12-21T03:19:36.542Z"
      },
      {
        "duration": 7254,
        "start_time": "2024-12-21T03:19:55.612Z"
      },
      {
        "duration": 1631,
        "start_time": "2024-12-21T03:20:02.869Z"
      },
      {
        "duration": 52,
        "start_time": "2024-12-21T03:20:06.446Z"
      },
      {
        "duration": 18,
        "start_time": "2024-12-21T03:20:06.654Z"
      },
      {
        "duration": 10,
        "start_time": "2024-12-21T03:20:07.180Z"
      },
      {
        "duration": 17,
        "start_time": "2024-12-21T03:20:07.397Z"
      },
      {
        "duration": 4,
        "start_time": "2024-12-21T03:20:08.242Z"
      },
      {
        "duration": 413,
        "start_time": "2024-12-21T03:20:10.158Z"
      },
      {
        "duration": 5,
        "start_time": "2024-12-21T03:20:12.877Z"
      },
      {
        "duration": 870,
        "start_time": "2024-12-21T03:20:52.693Z"
      },
      {
        "duration": 771,
        "start_time": "2024-12-21T03:25:55.039Z"
      },
      {
        "duration": 3,
        "start_time": "2024-12-21T03:30:12.539Z"
      },
      {
        "duration": 561,
        "start_time": "2024-12-21T03:30:13.244Z"
      },
      {
        "duration": 738,
        "start_time": "2024-12-21T03:30:28.850Z"
      },
      {
        "duration": 741,
        "start_time": "2024-12-21T03:31:35.404Z"
      },
      {
        "duration": 602,
        "start_time": "2024-12-21T03:31:47.280Z"
      },
      {
        "duration": 7,
        "start_time": "2024-12-21T03:38:05.329Z"
      },
      {
        "duration": 223,
        "start_time": "2024-12-21T03:38:08.733Z"
      },
      {
        "duration": 211,
        "start_time": "2024-12-21T03:38:17.660Z"
      },
      {
        "duration": 261,
        "start_time": "2024-12-21T03:38:52.298Z"
      },
      {
        "duration": 284,
        "start_time": "2024-12-21T03:38:52.684Z"
      },
      {
        "duration": 4,
        "start_time": "2024-12-21T03:57:34.357Z"
      },
      {
        "duration": 513,
        "start_time": "2024-12-21T04:00:30.083Z"
      },
      {
        "duration": 373,
        "start_time": "2024-12-21T04:01:42.460Z"
      },
      {
        "duration": 25,
        "start_time": "2024-12-21T04:09:18.563Z"
      },
      {
        "duration": 13,
        "start_time": "2024-12-21T04:09:19.529Z"
      },
      {
        "duration": 7,
        "start_time": "2024-12-21T04:09:20.341Z"
      },
      {
        "duration": 3,
        "start_time": "2024-12-21T04:09:22.156Z"
      },
      {
        "duration": 11,
        "start_time": "2024-12-21T04:09:24.123Z"
      },
      {
        "duration": 1013,
        "start_time": "2024-12-21T04:09:27.011Z"
      },
      {
        "duration": 16,
        "start_time": "2024-12-21T04:09:54.116Z"
      },
      {
        "duration": 7,
        "start_time": "2024-12-21T04:10:15.956Z"
      },
      {
        "duration": 2,
        "start_time": "2024-12-21T04:10:22.819Z"
      },
      {
        "duration": 11,
        "start_time": "2024-12-21T04:10:24.437Z"
      },
      {
        "duration": 983,
        "start_time": "2024-12-21T04:10:25.644Z"
      },
      {
        "duration": 8,
        "start_time": "2024-12-21T04:10:32.092Z"
      },
      {
        "duration": 5,
        "start_time": "2024-12-21T04:10:32.380Z"
      },
      {
        "duration": 3,
        "start_time": "2024-12-21T04:10:39.739Z"
      },
      {
        "duration": 3,
        "start_time": "2024-12-21T04:10:43.099Z"
      },
      {
        "duration": 132639,
        "start_time": "2024-12-21T04:10:44.851Z"
      },
      {
        "duration": 17,
        "start_time": "2024-12-21T04:13:11.323Z"
      },
      {
        "duration": 15,
        "start_time": "2024-12-21T04:13:12.860Z"
      },
      {
        "duration": 8,
        "start_time": "2024-12-21T04:13:15.059Z"
      },
      {
        "duration": 3,
        "start_time": "2024-12-21T04:13:16.460Z"
      },
      {
        "duration": 11,
        "start_time": "2024-12-21T04:13:16.724Z"
      },
      {
        "duration": 543,
        "start_time": "2024-12-21T04:13:20.280Z"
      },
      {
        "duration": 10,
        "start_time": "2024-12-21T04:13:25.797Z"
      },
      {
        "duration": 6,
        "start_time": "2024-12-21T04:13:26.088Z"
      },
      {
        "duration": 3,
        "start_time": "2024-12-21T04:13:30.323Z"
      },
      {
        "duration": 3,
        "start_time": "2024-12-21T04:13:30.604Z"
      },
      {
        "duration": 1139719,
        "start_time": "2024-12-21T04:13:31.421Z"
      },
      {
        "duration": 3,
        "start_time": "2024-12-21T04:32:53.092Z"
      },
      {
        "duration": 6856,
        "start_time": "2024-12-21T04:32:54.089Z"
      },
      {
        "duration": 3,
        "start_time": "2024-12-21T04:33:05.891Z"
      },
      {
        "duration": 16138,
        "start_time": "2024-12-21T04:33:06.204Z"
      },
      {
        "duration": 4,
        "start_time": "2024-12-21T04:34:06.284Z"
      },
      {
        "duration": 4,
        "start_time": "2024-12-21T04:34:23.324Z"
      },
      {
        "duration": 3,
        "start_time": "2024-12-21T04:34:33.850Z"
      },
      {
        "duration": 3,
        "start_time": "2024-12-21T04:34:34.184Z"
      },
      {
        "duration": 90780,
        "start_time": "2024-12-21T04:34:34.740Z"
      },
      {
        "duration": 6,
        "start_time": "2024-12-21T04:36:20.843Z"
      },
      {
        "duration": 89,
        "start_time": "2024-12-21T04:36:21.858Z"
      },
      {
        "duration": 82,
        "start_time": "2024-12-21T04:36:38.810Z"
      },
      {
        "duration": 14,
        "start_time": "2024-12-21T04:36:58.250Z"
      },
      {
        "duration": 3,
        "start_time": "2024-12-21T04:37:04.798Z"
      },
      {
        "duration": 3,
        "start_time": "2024-12-21T04:37:05.564Z"
      },
      {
        "duration": 247852,
        "start_time": "2024-12-21T04:37:07.643Z"
      },
      {
        "duration": 7,
        "start_time": "2024-12-21T04:41:45.825Z"
      },
      {
        "duration": 9,
        "start_time": "2024-12-21T04:41:46.363Z"
      },
      {
        "duration": 93,
        "start_time": "2024-12-21T04:41:53.927Z"
      },
      {
        "duration": 10,
        "start_time": "2024-12-21T04:41:57.157Z"
      },
      {
        "duration": 12,
        "start_time": "2024-12-21T04:42:05.900Z"
      },
      {
        "duration": 15,
        "start_time": "2024-12-21T04:42:25.046Z"
      },
      {
        "duration": 14,
        "start_time": "2024-12-21T04:42:26.569Z"
      },
      {
        "duration": 7,
        "start_time": "2024-12-21T04:42:28.278Z"
      },
      {
        "duration": 3,
        "start_time": "2024-12-21T04:42:28.924Z"
      },
      {
        "duration": 9,
        "start_time": "2024-12-21T04:42:30.124Z"
      },
      {
        "duration": 872,
        "start_time": "2024-12-21T04:42:31.444Z"
      },
      {
        "duration": 5,
        "start_time": "2024-12-21T04:42:37.700Z"
      },
      {
        "duration": 5,
        "start_time": "2024-12-21T04:42:38.444Z"
      },
      {
        "duration": 8,
        "start_time": "2024-12-21T04:42:52.169Z"
      },
      {
        "duration": 12,
        "start_time": "2024-12-21T04:43:08.620Z"
      },
      {
        "duration": 11,
        "start_time": "2024-12-21T04:43:09.003Z"
      },
      {
        "duration": 7,
        "start_time": "2024-12-21T04:43:09.340Z"
      },
      {
        "duration": 3,
        "start_time": "2024-12-21T04:43:09.816Z"
      },
      {
        "duration": 10,
        "start_time": "2024-12-21T04:43:13.410Z"
      },
      {
        "duration": 932,
        "start_time": "2024-12-21T04:43:13.684Z"
      },
      {
        "duration": 6,
        "start_time": "2024-12-21T04:43:15.645Z"
      },
      {
        "duration": 6,
        "start_time": "2024-12-21T04:43:18.367Z"
      },
      {
        "duration": 8,
        "start_time": "2024-12-21T04:43:22.369Z"
      },
      {
        "duration": 12,
        "start_time": "2024-12-21T04:43:33.761Z"
      },
      {
        "duration": 11,
        "start_time": "2024-12-21T04:43:34.220Z"
      },
      {
        "duration": 7,
        "start_time": "2024-12-21T04:43:34.477Z"
      },
      {
        "duration": 3,
        "start_time": "2024-12-21T04:43:34.820Z"
      },
      {
        "duration": 9,
        "start_time": "2024-12-21T04:43:35.204Z"
      },
      {
        "duration": 555,
        "start_time": "2024-12-21T04:43:35.964Z"
      },
      {
        "duration": 10,
        "start_time": "2024-12-21T04:43:38.363Z"
      },
      {
        "duration": 5,
        "start_time": "2024-12-21T04:43:40.698Z"
      },
      {
        "duration": 9,
        "start_time": "2024-12-21T04:43:44.289Z"
      },
      {
        "duration": 8,
        "start_time": "2024-12-21T04:43:53.899Z"
      },
      {
        "duration": 14,
        "start_time": "2024-12-21T04:43:58.505Z"
      },
      {
        "duration": 13,
        "start_time": "2024-12-21T04:43:58.780Z"
      },
      {
        "duration": 7,
        "start_time": "2024-12-21T04:44:00.317Z"
      },
      {
        "duration": 3,
        "start_time": "2024-12-21T04:44:00.490Z"
      },
      {
        "duration": 10,
        "start_time": "2024-12-21T04:44:01.157Z"
      },
      {
        "duration": 802,
        "start_time": "2024-12-21T04:44:01.517Z"
      },
      {
        "duration": 7,
        "start_time": "2024-12-21T04:44:02.617Z"
      },
      {
        "duration": 5,
        "start_time": "2024-12-21T04:44:04.197Z"
      },
      {
        "duration": 8,
        "start_time": "2024-12-21T04:44:12.604Z"
      },
      {
        "duration": 13,
        "start_time": "2024-12-21T04:44:20.729Z"
      },
      {
        "duration": 13,
        "start_time": "2024-12-21T04:44:33.609Z"
      },
      {
        "duration": 12,
        "start_time": "2024-12-21T04:44:33.969Z"
      },
      {
        "duration": 7,
        "start_time": "2024-12-21T04:44:34.880Z"
      },
      {
        "duration": 3,
        "start_time": "2024-12-21T04:44:35.457Z"
      },
      {
        "duration": 9,
        "start_time": "2024-12-21T04:44:35.720Z"
      },
      {
        "duration": 964,
        "start_time": "2024-12-21T04:44:36.051Z"
      },
      {
        "duration": 6,
        "start_time": "2024-12-21T04:44:37.238Z"
      },
      {
        "duration": 5,
        "start_time": "2024-12-21T04:44:38.500Z"
      },
      {
        "duration": 8,
        "start_time": "2024-12-21T04:44:41.900Z"
      },
      {
        "duration": 12,
        "start_time": "2024-12-21T04:44:50.204Z"
      },
      {
        "duration": 13,
        "start_time": "2024-12-21T04:44:50.439Z"
      },
      {
        "duration": 7,
        "start_time": "2024-12-21T04:44:50.839Z"
      },
      {
        "duration": 3,
        "start_time": "2024-12-21T04:44:51.041Z"
      },
      {
        "duration": 9,
        "start_time": "2024-12-21T04:44:51.212Z"
      },
      {
        "duration": 923,
        "start_time": "2024-12-21T04:44:51.494Z"
      },
      {
        "duration": 6,
        "start_time": "2024-12-21T04:44:52.420Z"
      },
      {
        "duration": 97,
        "start_time": "2024-12-21T04:44:52.428Z"
      },
      {
        "duration": 8,
        "start_time": "2024-12-21T04:44:57.660Z"
      },
      {
        "duration": 13,
        "start_time": "2024-12-21T04:45:03.960Z"
      },
      {
        "duration": 12,
        "start_time": "2024-12-21T04:45:04.204Z"
      },
      {
        "duration": 8,
        "start_time": "2024-12-21T04:45:04.344Z"
      },
      {
        "duration": 3,
        "start_time": "2024-12-21T04:45:04.716Z"
      },
      {
        "duration": 10,
        "start_time": "2024-12-21T04:45:04.963Z"
      },
      {
        "duration": 579,
        "start_time": "2024-12-21T04:45:05.238Z"
      },
      {
        "duration": 6,
        "start_time": "2024-12-21T04:45:05.915Z"
      },
      {
        "duration": 4,
        "start_time": "2024-12-21T04:45:07.764Z"
      },
      {
        "duration": 8,
        "start_time": "2024-12-21T04:45:10.609Z"
      },
      {
        "duration": 13,
        "start_time": "2024-12-21T04:45:15.997Z"
      },
      {
        "duration": 14,
        "start_time": "2024-12-21T04:45:16.597Z"
      },
      {
        "duration": 7,
        "start_time": "2024-12-21T04:45:17.169Z"
      },
      {
        "duration": 3,
        "start_time": "2024-12-21T04:45:17.490Z"
      },
      {
        "duration": 10,
        "start_time": "2024-12-21T04:45:17.659Z"
      },
      {
        "duration": 858,
        "start_time": "2024-12-21T04:45:17.964Z"
      },
      {
        "duration": 92,
        "start_time": "2024-12-21T04:45:18.825Z"
      },
      {
        "duration": 5,
        "start_time": "2024-12-21T04:45:19.443Z"
      },
      {
        "duration": 8,
        "start_time": "2024-12-21T04:45:23.796Z"
      },
      {
        "duration": 15,
        "start_time": "2024-12-21T04:45:34.480Z"
      },
      {
        "duration": 11,
        "start_time": "2024-12-21T04:45:34.720Z"
      },
      {
        "duration": 7,
        "start_time": "2024-12-21T04:45:34.892Z"
      },
      {
        "duration": 3,
        "start_time": "2024-12-21T04:45:35.046Z"
      },
      {
        "duration": 9,
        "start_time": "2024-12-21T04:45:35.212Z"
      },
      {
        "duration": 1000,
        "start_time": "2024-12-21T04:45:35.415Z"
      },
      {
        "duration": 6,
        "start_time": "2024-12-21T04:45:37.001Z"
      },
      {
        "duration": 5,
        "start_time": "2024-12-21T04:45:37.685Z"
      },
      {
        "duration": 8,
        "start_time": "2024-12-21T04:45:42.129Z"
      },
      {
        "duration": 15,
        "start_time": "2024-12-21T04:48:53.797Z"
      },
      {
        "duration": 12,
        "start_time": "2024-12-21T04:48:54.443Z"
      },
      {
        "duration": 7,
        "start_time": "2024-12-21T04:48:54.699Z"
      },
      {
        "duration": 2,
        "start_time": "2024-12-21T04:48:54.927Z"
      },
      {
        "duration": 9,
        "start_time": "2024-12-21T04:48:55.141Z"
      },
      {
        "duration": 670,
        "start_time": "2024-12-21T04:48:55.357Z"
      },
      {
        "duration": 6,
        "start_time": "2024-12-21T04:48:57.689Z"
      },
      {
        "duration": 6,
        "start_time": "2024-12-21T04:48:58.889Z"
      },
      {
        "duration": 8,
        "start_time": "2024-12-21T04:49:03.250Z"
      },
      {
        "duration": 15,
        "start_time": "2024-12-21T04:49:11.729Z"
      },
      {
        "duration": 12,
        "start_time": "2024-12-21T04:49:12.169Z"
      },
      {
        "duration": 7,
        "start_time": "2024-12-21T04:49:12.357Z"
      },
      {
        "duration": 3,
        "start_time": "2024-12-21T04:49:12.501Z"
      },
      {
        "duration": 12,
        "start_time": "2024-12-21T04:49:13.689Z"
      },
      {
        "duration": 831,
        "start_time": "2024-12-21T04:49:13.888Z"
      },
      {
        "duration": 10,
        "start_time": "2024-12-21T04:49:15.876Z"
      },
      {
        "duration": 6,
        "start_time": "2024-12-21T04:49:16.403Z"
      },
      {
        "duration": 14,
        "start_time": "2024-12-21T04:49:21.443Z"
      },
      {
        "duration": 118,
        "start_time": "2024-12-21T04:51:58.340Z"
      },
      {
        "duration": 14,
        "start_time": "2024-12-21T04:51:59.929Z"
      },
      {
        "duration": 14,
        "start_time": "2024-12-21T04:52:02.443Z"
      },
      {
        "duration": 3,
        "start_time": "2024-12-21T04:52:03.327Z"
      },
      {
        "duration": 257,
        "start_time": "2024-12-21T04:52:03.571Z"
      },
      {
        "duration": 3161,
        "start_time": "2024-12-21T04:52:04.570Z"
      },
      {
        "duration": 10,
        "start_time": "2024-12-21T04:52:09.579Z"
      },
      {
        "duration": 9,
        "start_time": "2024-12-21T04:52:10.209Z"
      },
      {
        "duration": 9,
        "start_time": "2024-12-21T04:52:16.249Z"
      },
      {
        "duration": 2,
        "start_time": "2024-12-21T04:52:44.659Z"
      },
      {
        "duration": 3,
        "start_time": "2024-12-21T04:52:44.983Z"
      },
      {
        "duration": 98208,
        "start_time": "2024-12-21T04:52:46.139Z"
      },
      {
        "duration": 17,
        "start_time": "2024-12-21T04:54:35.443Z"
      },
      {
        "duration": 14,
        "start_time": "2024-12-21T04:54:35.639Z"
      },
      {
        "duration": 9,
        "start_time": "2024-12-21T04:54:35.859Z"
      },
      {
        "duration": 4,
        "start_time": "2024-12-21T04:54:36.728Z"
      },
      {
        "duration": 125,
        "start_time": "2024-12-21T04:54:37.092Z"
      },
      {
        "duration": 1625,
        "start_time": "2024-12-21T04:54:38.699Z"
      },
      {
        "duration": 18,
        "start_time": "2024-12-21T04:54:41.564Z"
      },
      {
        "duration": 5,
        "start_time": "2024-12-21T04:54:43.284Z"
      },
      {
        "duration": 9,
        "start_time": "2024-12-21T04:54:57.899Z"
      },
      {
        "duration": 4,
        "start_time": "2024-12-21T04:55:03.969Z"
      },
      {
        "duration": 47,
        "start_time": "2024-12-21T04:55:04.597Z"
      },
      {
        "duration": 15,
        "start_time": "2024-12-21T04:55:04.646Z"
      },
      {
        "duration": 17,
        "start_time": "2024-12-21T04:55:04.675Z"
      },
      {
        "duration": 17,
        "start_time": "2024-12-21T04:55:04.700Z"
      },
      {
        "duration": 3,
        "start_time": "2024-12-21T04:55:04.809Z"
      },
      {
        "duration": 372,
        "start_time": "2024-12-21T04:55:04.882Z"
      },
      {
        "duration": 5,
        "start_time": "2024-12-21T04:55:05.256Z"
      },
      {
        "duration": 905,
        "start_time": "2024-12-21T04:55:05.263Z"
      },
      {
        "duration": 793,
        "start_time": "2024-12-21T04:55:06.170Z"
      },
      {
        "duration": 2,
        "start_time": "2024-12-21T04:55:06.965Z"
      },
      {
        "duration": 701,
        "start_time": "2024-12-21T04:55:06.969Z"
      },
      {
        "duration": 6,
        "start_time": "2024-12-21T04:55:07.672Z"
      },
      {
        "duration": 265,
        "start_time": "2024-12-21T04:55:07.680Z"
      },
      {
        "duration": 233,
        "start_time": "2024-12-21T04:55:07.947Z"
      },
      {
        "duration": 317,
        "start_time": "2024-12-21T04:55:08.181Z"
      },
      {
        "duration": 517,
        "start_time": "2024-12-21T04:55:10.851Z"
      },
      {
        "duration": 4,
        "start_time": "2024-12-21T04:55:14.237Z"
      },
      {
        "duration": 358,
        "start_time": "2024-12-21T04:55:14.939Z"
      },
      {
        "duration": 24,
        "start_time": "2024-12-21T04:55:17.297Z"
      },
      {
        "duration": 12,
        "start_time": "2024-12-21T04:55:18.196Z"
      },
      {
        "duration": 7,
        "start_time": "2024-12-21T04:55:21.556Z"
      },
      {
        "duration": 4,
        "start_time": "2024-12-21T04:55:22.737Z"
      },
      {
        "duration": 11,
        "start_time": "2024-12-21T04:55:23.259Z"
      },
      {
        "duration": 361,
        "start_time": "2024-12-21T04:55:23.962Z"
      },
      {
        "duration": 9,
        "start_time": "2024-12-21T04:55:25.563Z"
      },
      {
        "duration": 5,
        "start_time": "2024-12-21T04:55:26.809Z"
      },
      {
        "duration": 2,
        "start_time": "2024-12-21T04:55:30.329Z"
      },
      {
        "duration": 3,
        "start_time": "2024-12-21T04:55:31.717Z"
      },
      {
        "duration": 86916,
        "start_time": "2024-12-21T04:55:32.003Z"
      },
      {
        "duration": 6,
        "start_time": "2024-12-21T04:57:13.005Z"
      },
      {
        "duration": 14,
        "start_time": "2024-12-21T04:57:13.882Z"
      },
      {
        "duration": 3,
        "start_time": "2024-12-21T04:57:17.043Z"
      },
      {
        "duration": 3,
        "start_time": "2024-12-21T04:57:17.476Z"
      },
      {
        "duration": 254848,
        "start_time": "2024-12-21T04:57:17.918Z"
      },
      {
        "duration": 7,
        "start_time": "2024-12-21T05:01:35.402Z"
      },
      {
        "duration": 17,
        "start_time": "2024-12-21T05:01:35.614Z"
      },
      {
        "duration": 87,
        "start_time": "2024-12-21T05:01:37.843Z"
      },
      {
        "duration": 18,
        "start_time": "2024-12-21T05:01:38.412Z"
      },
      {
        "duration": 7,
        "start_time": "2024-12-21T05:04:22.819Z"
      },
      {
        "duration": 257,
        "start_time": "2024-12-21T05:04:23.501Z"
      },
      {
        "duration": 226,
        "start_time": "2024-12-21T05:04:23.760Z"
      },
      {
        "duration": 336,
        "start_time": "2024-12-21T05:04:23.988Z"
      },
      {
        "duration": 358,
        "start_time": "2024-12-21T05:04:25.048Z"
      },
      {
        "duration": 4,
        "start_time": "2024-12-21T05:04:26.848Z"
      },
      {
        "duration": 364,
        "start_time": "2024-12-21T05:04:27.139Z"
      },
      {
        "duration": 15,
        "start_time": "2024-12-21T05:04:27.543Z"
      },
      {
        "duration": 12,
        "start_time": "2024-12-21T05:04:27.726Z"
      },
      {
        "duration": 13,
        "start_time": "2024-12-21T05:04:35.651Z"
      },
      {
        "duration": 13,
        "start_time": "2024-12-21T05:04:35.957Z"
      },
      {
        "duration": 9,
        "start_time": "2024-12-21T05:04:36.570Z"
      },
      {
        "duration": 2,
        "start_time": "2024-12-21T05:04:37.478Z"
      },
      {
        "duration": 15,
        "start_time": "2024-12-21T05:04:37.978Z"
      },
      {
        "duration": 739,
        "start_time": "2024-12-21T05:04:38.980Z"
      },
      {
        "duration": 6,
        "start_time": "2024-12-21T05:04:40.716Z"
      },
      {
        "duration": 5,
        "start_time": "2024-12-21T05:04:41.939Z"
      },
      {
        "duration": 8,
        "start_time": "2024-12-21T05:04:47.203Z"
      },
      {
        "duration": 14,
        "start_time": "2024-12-21T05:05:27.369Z"
      },
      {
        "duration": 13,
        "start_time": "2024-12-21T05:05:27.979Z"
      },
      {
        "duration": 8,
        "start_time": "2024-12-21T05:05:28.317Z"
      },
      {
        "duration": 3,
        "start_time": "2024-12-21T05:05:28.540Z"
      },
      {
        "duration": 10,
        "start_time": "2024-12-21T05:05:28.983Z"
      },
      {
        "duration": 650,
        "start_time": "2024-12-21T05:05:29.173Z"
      },
      {
        "duration": 100,
        "start_time": "2024-12-21T05:05:29.916Z"
      },
      {
        "duration": 5,
        "start_time": "2024-12-21T05:05:31.398Z"
      },
      {
        "duration": 3,
        "start_time": "2024-12-21T05:05:32.881Z"
      },
      {
        "duration": 19,
        "start_time": "2024-12-21T05:05:40.978Z"
      },
      {
        "duration": 107,
        "start_time": "2024-12-21T05:06:54.729Z"
      },
      {
        "duration": 13,
        "start_time": "2024-12-21T05:06:55.772Z"
      },
      {
        "duration": 11,
        "start_time": "2024-12-21T05:06:56.855Z"
      },
      {
        "duration": 3,
        "start_time": "2024-12-21T05:06:59.259Z"
      },
      {
        "duration": 179,
        "start_time": "2024-12-21T05:06:59.538Z"
      },
      {
        "duration": 1653,
        "start_time": "2024-12-21T05:07:00.169Z"
      },
      {
        "duration": 9,
        "start_time": "2024-12-21T05:07:03.859Z"
      },
      {
        "duration": 6,
        "start_time": "2024-12-21T05:07:04.219Z"
      },
      {
        "duration": 8,
        "start_time": "2024-12-21T05:07:08.357Z"
      },
      {
        "duration": 45,
        "start_time": "2024-12-21T05:07:24.363Z"
      },
      {
        "duration": 14,
        "start_time": "2024-12-21T05:07:25.099Z"
      },
      {
        "duration": 9,
        "start_time": "2024-12-21T05:07:25.276Z"
      },
      {
        "duration": 2,
        "start_time": "2024-12-21T05:07:25.568Z"
      },
      {
        "duration": 331,
        "start_time": "2024-12-21T05:07:26.089Z"
      },
      {
        "duration": 2909,
        "start_time": "2024-12-21T05:07:26.422Z"
      },
      {
        "duration": 20,
        "start_time": "2024-12-21T05:07:29.419Z"
      },
      {
        "duration": 98,
        "start_time": "2024-12-21T05:07:29.440Z"
      },
      {
        "duration": 13,
        "start_time": "2024-12-21T05:07:29.615Z"
      },
      {
        "duration": 6,
        "start_time": "2024-12-21T05:07:29.629Z"
      },
      {
        "duration": 9,
        "start_time": "2024-12-21T05:07:37.780Z"
      },
      {
        "duration": 23,
        "start_time": "2024-12-21T05:07:42.210Z"
      },
      {
        "duration": 39293,
        "start_time": "2024-12-21T05:08:09.242Z"
      },
      {
        "duration": 7598,
        "start_time": "2024-12-21T05:08:55.602Z"
      },
      {
        "duration": 1757,
        "start_time": "2024-12-21T05:09:03.203Z"
      },
      {
        "duration": 72,
        "start_time": "2024-12-21T05:09:04.962Z"
      },
      {
        "duration": 26,
        "start_time": "2024-12-21T05:09:05.037Z"
      },
      {
        "duration": 103,
        "start_time": "2024-12-21T05:09:05.065Z"
      },
      {
        "duration": 17,
        "start_time": "2024-12-21T05:09:05.170Z"
      },
      {
        "duration": 3,
        "start_time": "2024-12-21T05:09:05.189Z"
      },
      {
        "duration": 434,
        "start_time": "2024-12-21T05:09:05.194Z"
      },
      {
        "duration": 6,
        "start_time": "2024-12-21T05:09:05.629Z"
      },
      {
        "duration": 959,
        "start_time": "2024-12-21T05:09:05.638Z"
      },
      {
        "duration": 853,
        "start_time": "2024-12-21T05:09:06.599Z"
      },
      {
        "duration": 2,
        "start_time": "2024-12-21T05:09:07.454Z"
      },
      {
        "duration": 633,
        "start_time": "2024-12-21T05:09:07.458Z"
      },
      {
        "duration": 7,
        "start_time": "2024-12-21T05:09:08.092Z"
      },
      {
        "duration": 267,
        "start_time": "2024-12-21T05:09:08.100Z"
      },
      {
        "duration": 419,
        "start_time": "2024-12-21T05:09:08.369Z"
      },
      {
        "duration": 339,
        "start_time": "2024-12-21T05:09:08.790Z"
      },
      {
        "duration": 445,
        "start_time": "2024-12-21T05:09:09.131Z"
      },
      {
        "duration": 4,
        "start_time": "2024-12-21T05:09:09.577Z"
      },
      {
        "duration": 403,
        "start_time": "2024-12-21T05:09:09.582Z"
      },
      {
        "duration": 151,
        "start_time": "2024-12-21T05:09:09.987Z"
      },
      {
        "duration": 14,
        "start_time": "2024-12-21T05:09:10.140Z"
      },
      {
        "duration": 22,
        "start_time": "2024-12-21T05:09:10.156Z"
      },
      {
        "duration": 14,
        "start_time": "2024-12-21T05:09:10.180Z"
      },
      {
        "duration": 329,
        "start_time": "2024-12-21T05:09:10.196Z"
      },
      {
        "duration": 2915,
        "start_time": "2024-12-21T05:09:10.615Z"
      },
      {
        "duration": 100,
        "start_time": "2024-12-21T05:09:13.533Z"
      },
      {
        "duration": 77,
        "start_time": "2024-12-21T05:09:13.638Z"
      },
      {
        "duration": 3,
        "start_time": "2024-12-21T05:09:13.717Z"
      },
      {
        "duration": 92,
        "start_time": "2024-12-21T05:09:13.722Z"
      },
      {
        "duration": 940903,
        "start_time": "2024-12-21T05:09:13.816Z"
      },
      {
        "duration": 7,
        "start_time": "2024-12-21T05:24:54.721Z"
      },
      {
        "duration": 87,
        "start_time": "2024-12-21T05:24:54.730Z"
      },
      {
        "duration": 3,
        "start_time": "2024-12-21T05:24:54.818Z"
      },
      {
        "duration": 20,
        "start_time": "2024-12-21T05:24:54.822Z"
      },
      {
        "duration": 1451783,
        "start_time": "2024-12-21T05:24:54.844Z"
      },
      {
        "duration": 9,
        "start_time": "2024-12-21T05:49:06.630Z"
      },
      {
        "duration": 35,
        "start_time": "2024-12-21T05:49:06.641Z"
      },
      {
        "duration": 62,
        "start_time": "2024-12-21T05:49:06.677Z"
      },
      {
        "duration": 9,
        "start_time": "2024-12-21T05:49:06.741Z"
      },
      {
        "duration": 84,
        "start_time": "2024-12-21T05:49:06.752Z"
      },
      {
        "duration": 6,
        "start_time": "2024-12-21T05:49:11.945Z"
      },
      {
        "duration": 15,
        "start_time": "2024-12-21T05:49:13.435Z"
      },
      {
        "duration": 32,
        "start_time": "2024-12-21T05:49:23.980Z"
      },
      {
        "duration": 9,
        "start_time": "2024-12-21T05:49:25.298Z"
      },
      {
        "duration": 13,
        "start_time": "2024-12-21T05:49:56.333Z"
      },
      {
        "duration": 45,
        "start_time": "2024-12-21T05:59:43.218Z"
      },
      {
        "duration": 13,
        "start_time": "2024-12-21T05:59:43.555Z"
      },
      {
        "duration": 3,
        "start_time": "2024-12-21T06:03:11.389Z"
      },
      {
        "duration": 129,
        "start_time": "2024-12-21T06:03:12.788Z"
      }
    ],
    "kernelspec": {
      "display_name": "Python 3 (ipykernel)",
      "language": "python",
      "name": "python3"
    },
    "language_info": {
      "codemirror_mode": {
        "name": "ipython",
        "version": 3
      },
      "file_extension": ".py",
      "mimetype": "text/x-python",
      "name": "python",
      "nbconvert_exporter": "python",
      "pygments_lexer": "ipython3",
      "version": "3.9.5"
    },
    "toc": {
      "base_numbering": 1,
      "nav_menu": {},
      "number_sections": true,
      "sideBar": true,
      "skip_h1_title": true,
      "title_cell": "Содержание",
      "title_sidebar": "Contents",
      "toc_cell": true,
      "toc_position": {
        "height": "calc(100% - 180px)",
        "left": "10px",
        "top": "150px",
        "width": "165px"
      },
      "toc_section_display": true,
      "toc_window_display": true
    },
    "colab": {
      "provenance": []
    }
  },
  "nbformat": 4,
  "nbformat_minor": 0
}