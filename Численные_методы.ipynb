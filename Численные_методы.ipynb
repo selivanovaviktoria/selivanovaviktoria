{
  "cells": [
    {
      "cell_type": "markdown",
      "metadata": {
        "id": "-3UN2b9IFACQ"
      },
      "source": [
        "# Определение стоимости автомобилей"
      ]
    },
    {
      "cell_type": "markdown",
      "metadata": {
        "id": "ZXc_UomaFACT"
      },
      "source": [
        "Сервис по продаже автомобилей с пробегом «Не бит, не крашен» разрабатывает приложение для привлечения новых клиентов. В нём можно быстро узнать рыночную стоимость своего автомобиля. В вашем распоряжении исторические данные: технические характеристики, комплектации и цены автомобилей. Вам нужно построить модель для определения стоимости.\n",
        "\n",
        "Заказчику важны:\n",
        "\n",
        "- качество предсказания;\n",
        "- скорость предсказания;\n",
        "- время обучения."
      ]
    },
    {
      "cell_type": "markdown",
      "metadata": {
        "id": "V1Fs5yP9FACU"
      },
      "source": [
        "**Цель исследования:** построить модель для определения стоимости автомобиля по данным о комплектации и технических характеристиках.  \n",
        "\n",
        "**Описание данных:**  \n",
        "- `Price` - цена, евро (целевой признак);  \n",
        "- `DateCrawled` — дата скачивания анкеты из базы;  \n",
        "- `VehicleType` — тип кузова;  \n",
        "- `RegistrationYear` — год регистрации автомобиля;  \n",
        "- `Gearbox` — тип коробки передач;  \n",
        "- `Power` — мощность, лошадиных сил;  \n",
        "- `Model` — модель автомобиля;  \n",
        "- `Kilometer` — пробег, км;  \n",
        "- `RegistrationMonth` — месяц регистрации автомобиля;  \n",
        "- `FuelType` — тип топлива;  \n",
        "- `Brand` — марка автомобиля;  \n",
        "- `Repaired` — была машина в ремонте или нет;  \n",
        "- `DateCreated` — дата создания анкеты;  \n",
        "- `NumberOfPictures` — количество фотографий автомобиля;  \n",
        "- `PostalCode` — почтовый индекс пользователя;  \n",
        "- `LastSeen` — дата последней активности пользователя."
      ]
    },
    {
      "cell_type": "code",
      "execution_count": null,
      "metadata": {
        "id": "42ajy8XoFACU"
      },
      "outputs": [],
      "source": [
        "!pip install phik -q\n",
        "!pip install catboost -q\n",
        "!pip install scikit-learn==1.5.2 -q\n",
        "!pip install matplotlib==3.5.1 -q\n",
        "!pip install missingno -q"
      ]
    },
    {
      "cell_type": "code",
      "execution_count": null,
      "metadata": {
        "id": "uNt6Ps8ZFACV"
      },
      "outputs": [],
      "source": [
        "from time import time\n",
        "import warnings\n",
        "\n",
        "import numpy as np\n",
        "import pandas as pd\n",
        "import matplotlib.pyplot as plt\n",
        "import seaborn as sns\n",
        "import re\n",
        "\n",
        "import missingno as msno\n",
        "from phik import phik_matrix\n",
        "\n",
        "from sklearn.model_selection import (train_test_split,\n",
        "                                     cross_val_score,\n",
        "                                     RandomizedSearchCV,\n",
        "                                     GridSearchCV)\n",
        "\n",
        "from sklearn.pipeline import Pipeline\n",
        "from sklearn.compose import ColumnTransformer\n",
        "from sklearn.preprocessing import OneHotEncoder, StandardScaler\n",
        "from sklearn.impute import SimpleImputer\n",
        "\n",
        "from sklearn.linear_model import LinearRegression\n",
        "from sklearn.metrics import root_mean_squared_error\n",
        "\n",
        "from lightgbm import LGBMRegressor\n",
        "from catboost import CatBoostRegressor"
      ]
    },
    {
      "cell_type": "code",
      "execution_count": null,
      "metadata": {
        "id": "qxM6Ek6nFACV"
      },
      "outputs": [],
      "source": [
        "warnings.filterwarnings('ignore')"
      ]
    },
    {
      "cell_type": "markdown",
      "metadata": {
        "id": "O-m4H0ZEFACW"
      },
      "source": [
        "## Подготовка данных"
      ]
    },
    {
      "cell_type": "code",
      "execution_count": null,
      "metadata": {
        "id": "4oWTFN3PFACW"
      },
      "outputs": [],
      "source": [
        "try:\n",
        "    df = pd.read_csv('/datasets/autos.csv', parse_dates=['DateCrawled', 'DateCreated', 'LastSeen'])\n",
        "except:\n",
        "    df = pd.read_csv('autos.csv', parse_dates=['DateCrawled', 'DateCreated', 'LastSeen'])"
      ]
    },
    {
      "cell_type": "markdown",
      "metadata": {
        "id": "yB1M0pVMFACX"
      },
      "source": [
        "Выведем общую информацию"
      ]
    },
    {
      "cell_type": "code",
      "execution_count": null,
      "metadata": {
        "id": "xUWkD083FACX",
        "outputId": "cf6d2385-9eed-4424-eeb3-cc01c79448bf"
      },
      "outputs": [
        {
          "data": {
            "text/html": [
              "<div>\n",
              "<style scoped>\n",
              "    .dataframe tbody tr th:only-of-type {\n",
              "        vertical-align: middle;\n",
              "    }\n",
              "\n",
              "    .dataframe tbody tr th {\n",
              "        vertical-align: top;\n",
              "    }\n",
              "\n",
              "    .dataframe thead th {\n",
              "        text-align: right;\n",
              "    }\n",
              "</style>\n",
              "<table border=\"1\" class=\"dataframe\">\n",
              "  <thead>\n",
              "    <tr style=\"text-align: right;\">\n",
              "      <th></th>\n",
              "      <th>DateCrawled</th>\n",
              "      <th>Price</th>\n",
              "      <th>VehicleType</th>\n",
              "      <th>RegistrationYear</th>\n",
              "      <th>Gearbox</th>\n",
              "      <th>Power</th>\n",
              "      <th>Model</th>\n",
              "      <th>Kilometer</th>\n",
              "      <th>RegistrationMonth</th>\n",
              "      <th>FuelType</th>\n",
              "      <th>Brand</th>\n",
              "      <th>Repaired</th>\n",
              "      <th>DateCreated</th>\n",
              "      <th>NumberOfPictures</th>\n",
              "      <th>PostalCode</th>\n",
              "      <th>LastSeen</th>\n",
              "    </tr>\n",
              "  </thead>\n",
              "  <tbody>\n",
              "    <tr>\n",
              "      <th>176633</th>\n",
              "      <td>2016-04-01 19:45:55</td>\n",
              "      <td>4600</td>\n",
              "      <td>convertible</td>\n",
              "      <td>2004</td>\n",
              "      <td>manual</td>\n",
              "      <td>110</td>\n",
              "      <td>mx_reihe</td>\n",
              "      <td>150000</td>\n",
              "      <td>8</td>\n",
              "      <td>petrol</td>\n",
              "      <td>mazda</td>\n",
              "      <td>NaN</td>\n",
              "      <td>2016-04-01</td>\n",
              "      <td>0</td>\n",
              "      <td>93345</td>\n",
              "      <td>2016-04-05 15:47:19</td>\n",
              "    </tr>\n",
              "    <tr>\n",
              "      <th>311139</th>\n",
              "      <td>2016-03-15 16:37:44</td>\n",
              "      <td>7900</td>\n",
              "      <td>bus</td>\n",
              "      <td>2009</td>\n",
              "      <td>manual</td>\n",
              "      <td>140</td>\n",
              "      <td>altea</td>\n",
              "      <td>150000</td>\n",
              "      <td>12</td>\n",
              "      <td>gasoline</td>\n",
              "      <td>seat</td>\n",
              "      <td>no</td>\n",
              "      <td>2016-03-15</td>\n",
              "      <td>0</td>\n",
              "      <td>34537</td>\n",
              "      <td>2016-03-24 02:18:15</td>\n",
              "    </tr>\n",
              "    <tr>\n",
              "      <th>71124</th>\n",
              "      <td>2016-03-22 07:55:36</td>\n",
              "      <td>1850</td>\n",
              "      <td>bus</td>\n",
              "      <td>2005</td>\n",
              "      <td>NaN</td>\n",
              "      <td>0</td>\n",
              "      <td>ducato</td>\n",
              "      <td>150000</td>\n",
              "      <td>9</td>\n",
              "      <td>gasoline</td>\n",
              "      <td>fiat</td>\n",
              "      <td>no</td>\n",
              "      <td>2016-03-22</td>\n",
              "      <td>0</td>\n",
              "      <td>66740</td>\n",
              "      <td>2016-04-05 20:16:37</td>\n",
              "    </tr>\n",
              "    <tr>\n",
              "      <th>144540</th>\n",
              "      <td>2016-03-07 14:56:16</td>\n",
              "      <td>240</td>\n",
              "      <td>sedan</td>\n",
              "      <td>1995</td>\n",
              "      <td>auto</td>\n",
              "      <td>0</td>\n",
              "      <td>megane</td>\n",
              "      <td>150000</td>\n",
              "      <td>3</td>\n",
              "      <td>petrol</td>\n",
              "      <td>renault</td>\n",
              "      <td>NaN</td>\n",
              "      <td>2016-03-07</td>\n",
              "      <td>0</td>\n",
              "      <td>16761</td>\n",
              "      <td>2016-03-07 15:42:33</td>\n",
              "    </tr>\n",
              "    <tr>\n",
              "      <th>262311</th>\n",
              "      <td>2016-04-03 17:50:58</td>\n",
              "      <td>8000</td>\n",
              "      <td>NaN</td>\n",
              "      <td>2016</td>\n",
              "      <td>manual</td>\n",
              "      <td>125</td>\n",
              "      <td>altea</td>\n",
              "      <td>150000</td>\n",
              "      <td>6</td>\n",
              "      <td>petrol</td>\n",
              "      <td>seat</td>\n",
              "      <td>NaN</td>\n",
              "      <td>2016-04-03</td>\n",
              "      <td>0</td>\n",
              "      <td>83278</td>\n",
              "      <td>2016-04-05 18:17:28</td>\n",
              "    </tr>\n",
              "  </tbody>\n",
              "</table>\n",
              "</div>"
            ],
            "text/plain": [
              "               DateCrawled  Price  VehicleType  RegistrationYear Gearbox  \\\n",
              "176633 2016-04-01 19:45:55   4600  convertible              2004  manual   \n",
              "311139 2016-03-15 16:37:44   7900          bus              2009  manual   \n",
              "71124  2016-03-22 07:55:36   1850          bus              2005     NaN   \n",
              "144540 2016-03-07 14:56:16    240        sedan              1995    auto   \n",
              "262311 2016-04-03 17:50:58   8000          NaN              2016  manual   \n",
              "\n",
              "        Power     Model  Kilometer  RegistrationMonth  FuelType    Brand  \\\n",
              "176633    110  mx_reihe     150000                  8    petrol    mazda   \n",
              "311139    140     altea     150000                 12  gasoline     seat   \n",
              "71124       0    ducato     150000                  9  gasoline     fiat   \n",
              "144540      0    megane     150000                  3    petrol  renault   \n",
              "262311    125     altea     150000                  6    petrol     seat   \n",
              "\n",
              "       Repaired DateCreated  NumberOfPictures  PostalCode            LastSeen  \n",
              "176633      NaN  2016-04-01                 0       93345 2016-04-05 15:47:19  \n",
              "311139       no  2016-03-15                 0       34537 2016-03-24 02:18:15  \n",
              "71124        no  2016-03-22                 0       66740 2016-04-05 20:16:37  \n",
              "144540      NaN  2016-03-07                 0       16761 2016-03-07 15:42:33  \n",
              "262311      NaN  2016-04-03                 0       83278 2016-04-05 18:17:28  "
            ]
          },
          "metadata": {},
          "output_type": "display_data"
        },
        {
          "name": "stdout",
          "output_type": "stream",
          "text": [
            "\n",
            "<class 'pandas.core.frame.DataFrame'>\n",
            "RangeIndex: 354369 entries, 0 to 354368\n",
            "Data columns (total 16 columns):\n",
            " #   Column             Non-Null Count   Dtype         \n",
            "---  ------             --------------   -----         \n",
            " 0   DateCrawled        354369 non-null  datetime64[ns]\n",
            " 1   Price              354369 non-null  int64         \n",
            " 2   VehicleType        316879 non-null  object        \n",
            " 3   RegistrationYear   354369 non-null  int64         \n",
            " 4   Gearbox            334536 non-null  object        \n",
            " 5   Power              354369 non-null  int64         \n",
            " 6   Model              334664 non-null  object        \n",
            " 7   Kilometer          354369 non-null  int64         \n",
            " 8   RegistrationMonth  354369 non-null  int64         \n",
            " 9   FuelType           321474 non-null  object        \n",
            " 10  Brand              354369 non-null  object        \n",
            " 11  Repaired           283215 non-null  object        \n",
            " 12  DateCreated        354369 non-null  datetime64[ns]\n",
            " 13  NumberOfPictures   354369 non-null  int64         \n",
            " 14  PostalCode         354369 non-null  int64         \n",
            " 15  LastSeen           354369 non-null  datetime64[ns]\n",
            "dtypes: datetime64[ns](3), int64(7), object(6)\n",
            "memory usage: 43.3+ MB\n"
          ]
        }
      ],
      "source": [
        "#display(df.head())\n",
        "display(df.sample(5))\n",
        "print()\n",
        "df.info()"
      ]
    },
    {
      "cell_type": "markdown",
      "metadata": {
        "id": "8t3iI2q7FACX"
      },
      "source": [
        "Типы данных указаны корректно, однако в наборе данных обнаружены пропущенные значения, а также, следует переименовать признаки, привести их нижнему регистру и разделить слова.  \n",
        "\n",
        "Начнём с названий столбцов датафрейма:"
      ]
    },
    {
      "cell_type": "markdown",
      "metadata": {
        "id": "gyfwqy3fFACX"
      },
      "source": [
        "### Переименование столбцов"
      ]
    },
    {
      "cell_type": "code",
      "execution_count": null,
      "metadata": {
        "id": "LVDau_NiFACY"
      },
      "outputs": [],
      "source": [
        "df.rename(columns=lambda x: re.sub(r'(?<!^)([A-Z])', r'_\\1', x).lower(), inplace=True)"
      ]
    },
    {
      "cell_type": "code",
      "execution_count": null,
      "metadata": {
        "id": "RKJCNFH9FACY",
        "outputId": "7a4467d8-4475-4a87-b7f5-0f3dc821184c"
      },
      "outputs": [
        {
          "data": {
            "text/plain": [
              "Index(['date_crawled', 'price', 'vehicle_type', 'registration_year', 'gearbox',\n",
              "       'power', 'model', 'kilometer', 'registration_month', 'fuel_type',\n",
              "       'brand', 'repaired', 'date_created', 'number_of_pictures',\n",
              "       'postal_code', 'last_seen'],\n",
              "      dtype='object')"
            ]
          },
          "execution_count": 11,
          "metadata": {},
          "output_type": "execute_result"
        }
      ],
      "source": [
        "df.columns"
      ]
    },
    {
      "cell_type": "markdown",
      "metadata": {
        "id": "QqmtE-AOFACY"
      },
      "source": [
        "### Обработка дубликатов"
      ]
    },
    {
      "cell_type": "markdown",
      "metadata": {
        "id": "z-l4kO82FACY"
      },
      "source": [
        "Проверим наличие явных дубликатов и выведем их"
      ]
    },
    {
      "cell_type": "code",
      "execution_count": null,
      "metadata": {
        "id": "_PdrfyMuFACY",
        "outputId": "a192654e-a07c-4832-8ae4-81370d7f80c9"
      },
      "outputs": [
        {
          "name": "stdout",
          "output_type": "stream",
          "text": [
            "Количество явных дубликатов: 4\n"
          ]
        }
      ],
      "source": [
        "print('Количество явных дубликатов:', df.duplicated().sum())"
      ]
    },
    {
      "cell_type": "code",
      "execution_count": null,
      "metadata": {
        "scrolled": true,
        "id": "hEDmhqfHFACY",
        "outputId": "ef8ef12d-c596-4735-e8fb-78ef1c127ff8"
      },
      "outputs": [
        {
          "data": {
            "text/html": [
              "<div>\n",
              "<style scoped>\n",
              "    .dataframe tbody tr th:only-of-type {\n",
              "        vertical-align: middle;\n",
              "    }\n",
              "\n",
              "    .dataframe tbody tr th {\n",
              "        vertical-align: top;\n",
              "    }\n",
              "\n",
              "    .dataframe thead th {\n",
              "        text-align: right;\n",
              "    }\n",
              "</style>\n",
              "<table border=\"1\" class=\"dataframe\">\n",
              "  <thead>\n",
              "    <tr style=\"text-align: right;\">\n",
              "      <th></th>\n",
              "      <th>date_crawled</th>\n",
              "      <th>price</th>\n",
              "      <th>vehicle_type</th>\n",
              "      <th>registration_year</th>\n",
              "      <th>gearbox</th>\n",
              "      <th>power</th>\n",
              "      <th>model</th>\n",
              "      <th>kilometer</th>\n",
              "      <th>registration_month</th>\n",
              "      <th>fuel_type</th>\n",
              "      <th>brand</th>\n",
              "      <th>repaired</th>\n",
              "      <th>date_created</th>\n",
              "      <th>number_of_pictures</th>\n",
              "      <th>postal_code</th>\n",
              "      <th>last_seen</th>\n",
              "    </tr>\n",
              "  </thead>\n",
              "  <tbody>\n",
              "    <tr>\n",
              "      <th>90964</th>\n",
              "      <td>2016-03-28 00:56:10</td>\n",
              "      <td>1000</td>\n",
              "      <td>small</td>\n",
              "      <td>2002</td>\n",
              "      <td>manual</td>\n",
              "      <td>83</td>\n",
              "      <td>other</td>\n",
              "      <td>150000</td>\n",
              "      <td>1</td>\n",
              "      <td>petrol</td>\n",
              "      <td>suzuki</td>\n",
              "      <td>no</td>\n",
              "      <td>2016-03-28</td>\n",
              "      <td>0</td>\n",
              "      <td>66589</td>\n",
              "      <td>2016-03-28 08:46:21</td>\n",
              "    </tr>\n",
              "    <tr>\n",
              "      <th>231258</th>\n",
              "      <td>2016-03-28 00:56:10</td>\n",
              "      <td>1000</td>\n",
              "      <td>small</td>\n",
              "      <td>2002</td>\n",
              "      <td>manual</td>\n",
              "      <td>83</td>\n",
              "      <td>other</td>\n",
              "      <td>150000</td>\n",
              "      <td>1</td>\n",
              "      <td>petrol</td>\n",
              "      <td>suzuki</td>\n",
              "      <td>no</td>\n",
              "      <td>2016-03-28</td>\n",
              "      <td>0</td>\n",
              "      <td>66589</td>\n",
              "      <td>2016-03-28 08:46:21</td>\n",
              "    </tr>\n",
              "    <tr>\n",
              "      <th>88087</th>\n",
              "      <td>2016-03-08 18:42:48</td>\n",
              "      <td>1799</td>\n",
              "      <td>coupe</td>\n",
              "      <td>1999</td>\n",
              "      <td>auto</td>\n",
              "      <td>193</td>\n",
              "      <td>clk</td>\n",
              "      <td>20000</td>\n",
              "      <td>7</td>\n",
              "      <td>petrol</td>\n",
              "      <td>mercedes_benz</td>\n",
              "      <td>no</td>\n",
              "      <td>2016-03-08</td>\n",
              "      <td>0</td>\n",
              "      <td>89518</td>\n",
              "      <td>2016-03-09 09:46:57</td>\n",
              "    </tr>\n",
              "    <tr>\n",
              "      <th>171088</th>\n",
              "      <td>2016-03-08 18:42:48</td>\n",
              "      <td>1799</td>\n",
              "      <td>coupe</td>\n",
              "      <td>1999</td>\n",
              "      <td>auto</td>\n",
              "      <td>193</td>\n",
              "      <td>clk</td>\n",
              "      <td>20000</td>\n",
              "      <td>7</td>\n",
              "      <td>petrol</td>\n",
              "      <td>mercedes_benz</td>\n",
              "      <td>no</td>\n",
              "      <td>2016-03-08</td>\n",
              "      <td>0</td>\n",
              "      <td>89518</td>\n",
              "      <td>2016-03-09 09:46:57</td>\n",
              "    </tr>\n",
              "    <tr>\n",
              "      <th>41529</th>\n",
              "      <td>2016-03-18 18:46:15</td>\n",
              "      <td>1999</td>\n",
              "      <td>wagon</td>\n",
              "      <td>2001</td>\n",
              "      <td>manual</td>\n",
              "      <td>131</td>\n",
              "      <td>passat</td>\n",
              "      <td>150000</td>\n",
              "      <td>7</td>\n",
              "      <td>gasoline</td>\n",
              "      <td>volkswagen</td>\n",
              "      <td>no</td>\n",
              "      <td>2016-03-18</td>\n",
              "      <td>0</td>\n",
              "      <td>36391</td>\n",
              "      <td>2016-03-18 18:46:15</td>\n",
              "    </tr>\n",
              "    <tr>\n",
              "      <th>325651</th>\n",
              "      <td>2016-03-18 18:46:15</td>\n",
              "      <td>1999</td>\n",
              "      <td>wagon</td>\n",
              "      <td>2001</td>\n",
              "      <td>manual</td>\n",
              "      <td>131</td>\n",
              "      <td>passat</td>\n",
              "      <td>150000</td>\n",
              "      <td>7</td>\n",
              "      <td>gasoline</td>\n",
              "      <td>volkswagen</td>\n",
              "      <td>no</td>\n",
              "      <td>2016-03-18</td>\n",
              "      <td>0</td>\n",
              "      <td>36391</td>\n",
              "      <td>2016-03-18 18:46:15</td>\n",
              "    </tr>\n",
              "    <tr>\n",
              "      <th>187735</th>\n",
              "      <td>2016-04-03 09:01:15</td>\n",
              "      <td>4699</td>\n",
              "      <td>coupe</td>\n",
              "      <td>2003</td>\n",
              "      <td>auto</td>\n",
              "      <td>218</td>\n",
              "      <td>clk</td>\n",
              "      <td>125000</td>\n",
              "      <td>6</td>\n",
              "      <td>petrol</td>\n",
              "      <td>mercedes_benz</td>\n",
              "      <td>yes</td>\n",
              "      <td>2016-04-03</td>\n",
              "      <td>0</td>\n",
              "      <td>75196</td>\n",
              "      <td>2016-04-07 09:44:54</td>\n",
              "    </tr>\n",
              "    <tr>\n",
              "      <th>258109</th>\n",
              "      <td>2016-04-03 09:01:15</td>\n",
              "      <td>4699</td>\n",
              "      <td>coupe</td>\n",
              "      <td>2003</td>\n",
              "      <td>auto</td>\n",
              "      <td>218</td>\n",
              "      <td>clk</td>\n",
              "      <td>125000</td>\n",
              "      <td>6</td>\n",
              "      <td>petrol</td>\n",
              "      <td>mercedes_benz</td>\n",
              "      <td>yes</td>\n",
              "      <td>2016-04-03</td>\n",
              "      <td>0</td>\n",
              "      <td>75196</td>\n",
              "      <td>2016-04-07 09:44:54</td>\n",
              "    </tr>\n",
              "  </tbody>\n",
              "</table>\n",
              "</div>"
            ],
            "text/plain": [
              "              date_crawled  price vehicle_type  registration_year gearbox  \\\n",
              "90964  2016-03-28 00:56:10   1000        small               2002  manual   \n",
              "231258 2016-03-28 00:56:10   1000        small               2002  manual   \n",
              "88087  2016-03-08 18:42:48   1799        coupe               1999    auto   \n",
              "171088 2016-03-08 18:42:48   1799        coupe               1999    auto   \n",
              "41529  2016-03-18 18:46:15   1999        wagon               2001  manual   \n",
              "325651 2016-03-18 18:46:15   1999        wagon               2001  manual   \n",
              "187735 2016-04-03 09:01:15   4699        coupe               2003    auto   \n",
              "258109 2016-04-03 09:01:15   4699        coupe               2003    auto   \n",
              "\n",
              "        power   model  kilometer  registration_month fuel_type          brand  \\\n",
              "90964      83   other     150000                   1    petrol         suzuki   \n",
              "231258     83   other     150000                   1    petrol         suzuki   \n",
              "88087     193     clk      20000                   7    petrol  mercedes_benz   \n",
              "171088    193     clk      20000                   7    petrol  mercedes_benz   \n",
              "41529     131  passat     150000                   7  gasoline     volkswagen   \n",
              "325651    131  passat     150000                   7  gasoline     volkswagen   \n",
              "187735    218     clk     125000                   6    petrol  mercedes_benz   \n",
              "258109    218     clk     125000                   6    petrol  mercedes_benz   \n",
              "\n",
              "       repaired date_created  number_of_pictures  postal_code  \\\n",
              "90964        no   2016-03-28                   0        66589   \n",
              "231258       no   2016-03-28                   0        66589   \n",
              "88087        no   2016-03-08                   0        89518   \n",
              "171088       no   2016-03-08                   0        89518   \n",
              "41529        no   2016-03-18                   0        36391   \n",
              "325651       no   2016-03-18                   0        36391   \n",
              "187735      yes   2016-04-03                   0        75196   \n",
              "258109      yes   2016-04-03                   0        75196   \n",
              "\n",
              "                 last_seen  \n",
              "90964  2016-03-28 08:46:21  \n",
              "231258 2016-03-28 08:46:21  \n",
              "88087  2016-03-09 09:46:57  \n",
              "171088 2016-03-09 09:46:57  \n",
              "41529  2016-03-18 18:46:15  \n",
              "325651 2016-03-18 18:46:15  \n",
              "187735 2016-04-07 09:44:54  \n",
              "258109 2016-04-07 09:44:54  "
            ]
          },
          "execution_count": 14,
          "metadata": {},
          "output_type": "execute_result"
        }
      ],
      "source": [
        "df[df.duplicated(keep=False)].sort_values(by='price')"
      ]
    },
    {
      "cell_type": "markdown",
      "metadata": {
        "id": "Ves8IWVMFACZ"
      },
      "source": [
        "Удалим повторяющиеся строки"
      ]
    },
    {
      "cell_type": "code",
      "execution_count": null,
      "metadata": {
        "id": "k6QgUyspFACZ"
      },
      "outputs": [],
      "source": [
        "df = df.drop_duplicates()"
      ]
    },
    {
      "cell_type": "markdown",
      "metadata": {
        "id": "PVuBPPqcFACZ"
      },
      "source": [
        "Проверим наличие неявных дубликатов, для этого выведем уникальные значения категориальных признаков"
      ]
    },
    {
      "cell_type": "code",
      "execution_count": null,
      "metadata": {
        "id": "uScqmd7mFACZ",
        "outputId": "fa861988-bd55-47a8-a438-90f05e4f6f3d"
      },
      "outputs": [
        {
          "name": "stdout",
          "output_type": "stream",
          "text": [
            "Уникальные значения признака \"vehicle_type\":\n",
            "['bus' 'convertible' 'coupe' 'other' 'sedan' 'small' 'suv' 'wagon' nan]\n",
            "\n",
            "Уникальные значения признака \"gearbox\":\n",
            "['auto' 'manual' nan]\n",
            "\n",
            "Уникальные значения признака \"model\":\n",
            "['100' '145' '147' '156' '159' '1_reihe' '1er' '200' '2_reihe' '300c'\n",
            " '3_reihe' '3er' '4_reihe' '500' '5_reihe' '5er' '601' '6_reihe' '6er'\n",
            " '7er' '80' '850' '90' '900' '9000' '911' 'a1' 'a2' 'a3' 'a4' 'a5' 'a6'\n",
            " 'a8' 'a_klasse' 'accord' 'agila' 'alhambra' 'almera' 'altea' 'amarok'\n",
            " 'antara' 'arosa' 'astra' 'auris' 'avensis' 'aveo' 'aygo' 'b_klasse'\n",
            " 'b_max' 'beetle' 'berlingo' 'bora' 'boxster' 'bravo' 'c1' 'c2' 'c3' 'c4'\n",
            " 'c5' 'c_klasse' 'c_max' 'c_reihe' 'caddy' 'calibra' 'captiva' 'carisma'\n",
            " 'carnival' 'cayenne' 'cc' 'ceed' 'charade' 'cherokee' 'citigo' 'civic'\n",
            " 'cl' 'clio' 'clk' 'clubman' 'colt' 'combo' 'cooper' 'cordoba' 'corolla'\n",
            " 'corsa' 'cr_reihe' 'croma' 'crossfire' 'cuore' 'cx_reihe' 'defender'\n",
            " 'delta' 'discovery' 'doblo' 'ducato' 'duster' 'e_klasse' 'elefantino'\n",
            " 'eos' 'escort' 'espace' 'exeo' 'fabia' 'fiesta' 'focus' 'forester'\n",
            " 'forfour' 'fortwo' 'fox' 'freelander' 'fusion' 'g_klasse' 'galant'\n",
            " 'galaxy' 'getz' 'gl' 'glk' 'golf' 'grand' 'i3' 'i_reihe' 'ibiza'\n",
            " 'impreza' 'insignia' 'jazz' 'jetta' 'jimny' 'juke' 'justy' 'ka' 'kadett'\n",
            " 'kaefer' 'kalina' 'kalos' 'kangoo' 'kappa' 'kuga' 'laguna' 'lancer'\n",
            " 'lanos' 'legacy' 'leon' 'lodgy' 'logan' 'lupo' 'lybra' 'm_klasse'\n",
            " 'm_reihe' 'materia' 'matiz' 'megane' 'meriva' 'micra' 'mii' 'modus'\n",
            " 'mondeo' 'move' 'musa' 'mustang' 'mx_reihe' 'navara' 'niva' 'note'\n",
            " 'nubira' 'octavia' 'omega' 'one' 'other' 'outlander' 'pajero' 'panda'\n",
            " 'passat' 'phaeton' 'picanto' 'polo' 'primera' 'ptcruiser' 'punto' 'q3'\n",
            " 'q5' 'q7' 'qashqai' 'r19' 'range_rover' 'range_rover_evoque'\n",
            " 'range_rover_sport' 'rangerover' 'rav' 'rio' 'roadster' 'roomster'\n",
            " 'rx_reihe' 's60' 's_klasse' 's_max' 's_type' 'samara' 'sandero' 'santa'\n",
            " 'scenic' 'scirocco' 'seicento' 'serie_1' 'serie_2' 'serie_3' 'sharan'\n",
            " 'signum' 'sirion' 'sl' 'slk' 'sorento' 'spark' 'spider' 'sportage'\n",
            " 'sprinter' 'stilo' 'superb' 'swift' 'terios' 'tigra' 'tiguan' 'toledo'\n",
            " 'touareg' 'touran' 'transit' 'transporter' 'tt' 'tucson' 'twingo' 'up'\n",
            " 'v40' 'v50' 'v60' 'v70' 'v_klasse' 'vectra' 'verso' 'viano' 'vito'\n",
            " 'vivaro' 'voyager' 'wrangler' 'x_reihe' 'x_trail' 'x_type' 'xc_reihe'\n",
            " 'yaris' 'yeti' 'ypsilon' 'z_reihe' 'zafira' nan]\n",
            "\n",
            "Уникальные значения признака \"fuel_type\":\n",
            "['cng' 'electric' 'gasoline' 'hybrid' 'lpg' 'other' 'petrol' nan]\n",
            "\n",
            "Уникальные значения признака \"brand\":\n",
            "['alfa_romeo' 'audi' 'bmw' 'chevrolet' 'chrysler' 'citroen' 'dacia'\n",
            " 'daewoo' 'daihatsu' 'fiat' 'ford' 'honda' 'hyundai' 'jaguar' 'jeep' 'kia'\n",
            " 'lada' 'lancia' 'land_rover' 'mazda' 'mercedes_benz' 'mini' 'mitsubishi'\n",
            " 'nissan' 'opel' 'peugeot' 'porsche' 'renault' 'rover' 'saab' 'seat'\n",
            " 'skoda' 'smart' 'sonstige_autos' 'subaru' 'suzuki' 'toyota' 'trabant'\n",
            " 'volkswagen' 'volvo']\n",
            "\n",
            "Уникальные значения признака \"repaired\":\n",
            "['no' 'yes' nan]\n",
            "\n"
          ]
        }
      ],
      "source": [
        "for i in df.select_dtypes(object).columns:\n",
        "    print(f'Уникальные значения признака \"{i}\":')\n",
        "    print(df[i].sort_values().unique())\n",
        "    print()"
      ]
    },
    {
      "cell_type": "markdown",
      "metadata": {
        "id": "xenQ9HibFACZ"
      },
      "source": [
        "Обнаружен неявный дубликат в признаке `fuel_type`: `petrol` и `gasoline` - бензин в разных странах, избавимся от одного из значений"
      ]
    },
    {
      "cell_type": "code",
      "execution_count": null,
      "metadata": {
        "id": "rSfUTSDUFACZ"
      },
      "outputs": [],
      "source": [
        "df['fuel_type'].replace('gasoline', 'petrol', inplace=True)"
      ]
    },
    {
      "cell_type": "code",
      "execution_count": null,
      "metadata": {
        "id": "v2B3IzTWFACZ",
        "outputId": "c79d733e-fd18-410b-bf85-15a72f9907e4"
      },
      "outputs": [
        {
          "data": {
            "text/plain": [
              "array(['cng', 'electric', 'hybrid', 'lpg', 'other', 'petrol', nan],\n",
              "      dtype=object)"
            ]
          },
          "execution_count": 18,
          "metadata": {},
          "output_type": "execute_result"
        }
      ],
      "source": [
        "df['fuel_type'].sort_values().unique()"
      ]
    },
    {
      "cell_type": "markdown",
      "metadata": {
        "id": "QzGGJzrMFACj"
      },
      "source": [
        "### Пропущенные значения"
      ]
    },
    {
      "cell_type": "code",
      "execution_count": null,
      "metadata": {
        "id": "gGgbFwGOFACj",
        "outputId": "3a21f634-0d2a-4c40-d091-6497fbacb8a3"
      },
      "outputs": [
        {
          "name": "stdout",
          "output_type": "stream",
          "text": [
            "Количество пропущенных значений:\n",
            " repaired              71154\n",
            "vehicle_type          37490\n",
            "fuel_type             32895\n",
            "gearbox               19833\n",
            "model                 19705\n",
            "date_crawled              0\n",
            "price                     0\n",
            "registration_year         0\n",
            "power                     0\n",
            "kilometer                 0\n",
            "registration_month        0\n",
            "brand                     0\n",
            "date_created              0\n",
            "number_of_pictures        0\n",
            "postal_code               0\n",
            "last_seen                 0\n",
            "dtype: int64\n"
          ]
        }
      ],
      "source": [
        "print('Количество пропущенных значений:\\n', df.isna().sum().sort_values(ascending=False))"
      ]
    },
    {
      "cell_type": "code",
      "execution_count": null,
      "metadata": {
        "id": "kIhJDW7BFACj",
        "outputId": "efb99e9c-9f6a-4549-e627-3fcff70b6172"
      },
      "outputs": [
        {
          "data": {
            "image/png": "[encoded data removed]",
            "text/plain": [
              "<Figure size 1800x720 with 2 Axes>"
            ]
          },
          "metadata": {
            "needs_background": "light"
          },
          "output_type": "display_data"
        }
      ],
      "source": [
        "msno.matrix(df);"
      ]
    },
    {
      "cell_type": "markdown",
      "metadata": {
        "id": "WgMT4eA1FACj"
      },
      "source": [
        "В датасете есть 5 категориальных признаков, содержащих пропущенные значения, в дальнейшем обработаем их в пайплайне"
      ]
    },
    {
      "cell_type": "markdown",
      "metadata": {
        "id": "z_ZmY4O5FACj"
      },
      "source": [
        "### Обработка аномальных значений"
      ]
    },
    {
      "cell_type": "code",
      "execution_count": null,
      "metadata": {
        "id": "obMMYyWiFACj",
        "outputId": "19238d99-1297-4def-e26a-d9384e9a2f2b"
      },
      "outputs": [
        {
          "data": {
            "text/html": [
              "<div>\n",
              "<style scoped>\n",
              "    .dataframe tbody tr th:only-of-type {\n",
              "        vertical-align: middle;\n",
              "    }\n",
              "\n",
              "    .dataframe tbody tr th {\n",
              "        vertical-align: top;\n",
              "    }\n",
              "\n",
              "    .dataframe thead th {\n",
              "        text-align: right;\n",
              "    }\n",
              "</style>\n",
              "<table border=\"1\" class=\"dataframe\">\n",
              "  <thead>\n",
              "    <tr style=\"text-align: right;\">\n",
              "      <th></th>\n",
              "      <th>price</th>\n",
              "      <th>registration_year</th>\n",
              "      <th>power</th>\n",
              "      <th>kilometer</th>\n",
              "      <th>registration_month</th>\n",
              "      <th>number_of_pictures</th>\n",
              "      <th>postal_code</th>\n",
              "    </tr>\n",
              "  </thead>\n",
              "  <tbody>\n",
              "    <tr>\n",
              "      <th>count</th>\n",
              "      <td>354365.000000</td>\n",
              "      <td>354365.000000</td>\n",
              "      <td>354365.000000</td>\n",
              "      <td>354365.000000</td>\n",
              "      <td>354365.000000</td>\n",
              "      <td>354365.0</td>\n",
              "      <td>354365.000000</td>\n",
              "    </tr>\n",
              "    <tr>\n",
              "      <th>mean</th>\n",
              "      <td>4416.679830</td>\n",
              "      <td>2004.234481</td>\n",
              "      <td>110.093816</td>\n",
              "      <td>128211.363989</td>\n",
              "      <td>5.714650</td>\n",
              "      <td>0.0</td>\n",
              "      <td>50508.503800</td>\n",
              "    </tr>\n",
              "    <tr>\n",
              "      <th>std</th>\n",
              "      <td>4514.176349</td>\n",
              "      <td>90.228466</td>\n",
              "      <td>189.851330</td>\n",
              "      <td>37905.083858</td>\n",
              "      <td>3.726432</td>\n",
              "      <td>0.0</td>\n",
              "      <td>25783.100078</td>\n",
              "    </tr>\n",
              "    <tr>\n",
              "      <th>min</th>\n",
              "      <td>0.000000</td>\n",
              "      <td>1000.000000</td>\n",
              "      <td>0.000000</td>\n",
              "      <td>5000.000000</td>\n",
              "      <td>0.000000</td>\n",
              "      <td>0.0</td>\n",
              "      <td>1067.000000</td>\n",
              "    </tr>\n",
              "    <tr>\n",
              "      <th>25%</th>\n",
              "      <td>1050.000000</td>\n",
              "      <td>1999.000000</td>\n",
              "      <td>69.000000</td>\n",
              "      <td>125000.000000</td>\n",
              "      <td>3.000000</td>\n",
              "      <td>0.0</td>\n",
              "      <td>30165.000000</td>\n",
              "    </tr>\n",
              "    <tr>\n",
              "      <th>50%</th>\n",
              "      <td>2700.000000</td>\n",
              "      <td>2003.000000</td>\n",
              "      <td>105.000000</td>\n",
              "      <td>150000.000000</td>\n",
              "      <td>6.000000</td>\n",
              "      <td>0.0</td>\n",
              "      <td>49413.000000</td>\n",
              "    </tr>\n",
              "    <tr>\n",
              "      <th>75%</th>\n",
              "      <td>6400.000000</td>\n",
              "      <td>2008.000000</td>\n",
              "      <td>143.000000</td>\n",
              "      <td>150000.000000</td>\n",
              "      <td>9.000000</td>\n",
              "      <td>0.0</td>\n",
              "      <td>71083.000000</td>\n",
              "    </tr>\n",
              "    <tr>\n",
              "      <th>max</th>\n",
              "      <td>20000.000000</td>\n",
              "      <td>9999.000000</td>\n",
              "      <td>20000.000000</td>\n",
              "      <td>150000.000000</td>\n",
              "      <td>12.000000</td>\n",
              "      <td>0.0</td>\n",
              "      <td>99998.000000</td>\n",
              "    </tr>\n",
              "  </tbody>\n",
              "</table>\n",
              "</div>"
            ],
            "text/plain": [
              "               price  registration_year          power      kilometer  \\\n",
              "count  354365.000000      354365.000000  354365.000000  354365.000000   \n",
              "mean     4416.679830        2004.234481     110.093816  128211.363989   \n",
              "std      4514.176349          90.228466     189.851330   37905.083858   \n",
              "min         0.000000        1000.000000       0.000000    5000.000000   \n",
              "25%      1050.000000        1999.000000      69.000000  125000.000000   \n",
              "50%      2700.000000        2003.000000     105.000000  150000.000000   \n",
              "75%      6400.000000        2008.000000     143.000000  150000.000000   \n",
              "max     20000.000000        9999.000000   20000.000000  150000.000000   \n",
              "\n",
              "       registration_month  number_of_pictures    postal_code  \n",
              "count       354365.000000            354365.0  354365.000000  \n",
              "mean             5.714650                 0.0   50508.503800  \n",
              "std              3.726432                 0.0   25783.100078  \n",
              "min              0.000000                 0.0    1067.000000  \n",
              "25%              3.000000                 0.0   30165.000000  \n",
              "50%              6.000000                 0.0   49413.000000  \n",
              "75%              9.000000                 0.0   71083.000000  \n",
              "max             12.000000                 0.0   99998.000000  "
            ]
          },
          "execution_count": 21,
          "metadata": {},
          "output_type": "execute_result"
        }
      ],
      "source": [
        "df.describe()"
      ]
    },
    {
      "cell_type": "markdown",
      "metadata": {
        "id": "D7Mhc9ukFACj"
      },
      "source": [
        "На основе описательной статистики можно выявить следущие проблемы:  \n",
        "- в датасете есть наблюдения с нулевой ценой;  \n",
        "- мощность некоторых автомобилей достигает 20 000 л.с., при этом встречаются наблюдения и с мощностью 0 л.с.;  \n",
        "- среди объявлений есть машины, зарегистрированные в 1000 или 9999 году;  \n",
        "- для некоторых автомобилей указан нулевой месяц регистрации;  \n",
        "- признак `количество фотографий автомобиля`, вероятно, полностью состоит из нулей"
      ]
    },
    {
      "cell_type": "markdown",
      "metadata": {
        "id": "Bof_c7uAFACk"
      },
      "source": [
        "Для удобства дальнейшей работы определим функции для визуализации количественных и категориальных признаков."
      ]
    },
    {
      "cell_type": "code",
      "execution_count": null,
      "metadata": {
        "id": "F8Mf-iumFACk"
      },
      "outputs": [],
      "source": [
        "# Визуализация категориальных признаков\n",
        "def num_features_stats(feature, feature_name, title):\n",
        "    fig, ax = plt.subplots(1, 2, figsize=(12, 6))\n",
        "    plt.suptitle(title, fontsize=16)\n",
        "\n",
        "    # Гистограмма\n",
        "    sns.histplot(x=feature, kde=True, ax=ax[0])\n",
        "    ax[0].set_title('Распределение данных')\n",
        "    ax[0].set_xlabel(feature_name)\n",
        "    ax[0].set_ylabel('Частота')\n",
        "    ax[0].grid(True)\n",
        "\n",
        "    # Диаграмма размаха\n",
        "    sns.boxplot(x=feature, ax=ax[1])\n",
        "    ax[1].set_title('Диаграмма размаха')\n",
        "    ax[1].set_xlabel(feature_name)\n",
        "    ax[1].grid(True)\n",
        "\n",
        "    plt.show()\n",
        "\n",
        "    print()\n",
        "    print('Описательная статистика')\n",
        "    print(feature.describe())"
      ]
    },
    {
      "cell_type": "markdown",
      "metadata": {
        "id": "0i0DacUGFACk"
      },
      "source": [
        "Оценим количество объявлений и продаже \"бесплатных\" автомобилей:"
      ]
    },
    {
      "cell_type": "code",
      "execution_count": null,
      "metadata": {
        "id": "NWW4wEqfFACk",
        "outputId": "66275d8b-52d8-4854-fc43-297130dd9917"
      },
      "outputs": [
        {
          "name": "stdout",
          "output_type": "stream",
          "text": [
            "Доля объявлений о продаже автомобилей с ценой 0 евро: 3.04%\n"
          ]
        }
      ],
      "source": [
        "print(f'Доля объявлений о продаже автомобилей с ценой 0 евро: {len(df[df[\"price\"] == 0]) / len(df):.2%}')"
      ]
    },
    {
      "cell_type": "markdown",
      "metadata": {
        "id": "6j628KfvFACk"
      },
      "source": [
        "Сохраним исходный датасет, удалим наблюдения с нулевой ценой и визуализируем полученное распределние"
      ]
    },
    {
      "cell_type": "code",
      "execution_count": null,
      "metadata": {
        "id": "rPeskTSjFACk"
      },
      "outputs": [],
      "source": [
        "df_old = df.copy()\n",
        "\n",
        "df = df[df['price'] != 0]"
      ]
    },
    {
      "cell_type": "code",
      "execution_count": null,
      "metadata": {
        "id": "svtRTAQvFACk",
        "outputId": "ab22144d-5f77-4d31-f1c9-7c4609017792"
      },
      "outputs": [
        {
          "data": {
            "image/png": "[encoded data removed]",
            "text/plain": [
              "<Figure size 864x432 with 2 Axes>"
            ]
          },
          "metadata": {
            "needs_background": "light"
          },
          "output_type": "display_data"
        },
        {
          "name": "stdout",
          "output_type": "stream",
          "text": [
            "\n",
            "Описательная статистика\n",
            "count    343593.000000\n",
            "mean       4555.147363\n",
            "std        4515.076200\n",
            "min           1.000000\n",
            "25%        1200.000000\n",
            "50%        2890.000000\n",
            "75%        6500.000000\n",
            "max       20000.000000\n",
            "Name: price, dtype: float64\n"
          ]
        }
      ],
      "source": [
        "num_features_stats(df['price'],\n",
        "                   'Цена, евро',\n",
        "                   'Распределение объявлений по цене автомобиля')"
      ]
    },
    {
      "cell_type": "markdown",
      "metadata": {
        "id": "MaVTY4SoFACk"
      },
      "source": [
        "По-прежнему встречаются наблюдения с нереалистично низкими значениями цены (например, 1 евро). Определим верхнюю границу стоимости одного процента самых дешёвых автомобилей:"
      ]
    },
    {
      "cell_type": "code",
      "execution_count": null,
      "metadata": {
        "id": "Q66dFUiKFACl",
        "outputId": "2f1c4ffe-cc26-40eb-e99d-34b7a7435131"
      },
      "outputs": [
        {
          "data": {
            "text/plain": [
              "100.0"
            ]
          },
          "execution_count": 26,
          "metadata": {},
          "output_type": "execute_result"
        }
      ],
      "source": [
        "np.percentile(df['price'], 1)"
      ]
    },
    {
      "cell_type": "markdown",
      "metadata": {
        "id": "619YXeUaFACl"
      },
      "source": [
        "Исключим из рассмотрения эти объявления"
      ]
    },
    {
      "cell_type": "code",
      "execution_count": null,
      "metadata": {
        "id": "rrYbvyEsFACl"
      },
      "outputs": [],
      "source": [
        "df = df.query('price > 100')"
      ]
    },
    {
      "cell_type": "markdown",
      "metadata": {
        "id": "-AwTfJYGFACl"
      },
      "source": [
        "Теперь посмотрим на мощность представленных автомобилей"
      ]
    },
    {
      "cell_type": "code",
      "execution_count": null,
      "metadata": {
        "id": "g7Xovse5FACl",
        "outputId": "eaf9027d-f015-44bf-982b-2600d815e2a8"
      },
      "outputs": [
        {
          "data": {
            "image/png": "[encoded data removed]",
            "text/plain": [
              "<Figure size 864x432 with 2 Axes>"
            ]
          },
          "metadata": {
            "needs_background": "light"
          },
          "output_type": "display_data"
        },
        {
          "name": "stdout",
          "output_type": "stream",
          "text": [
            "\n",
            "Описательная статистика\n",
            "count    340020.000000\n",
            "mean        111.584927\n",
            "std         188.497445\n",
            "min           0.000000\n",
            "25%          70.000000\n",
            "50%         105.000000\n",
            "75%         143.000000\n",
            "max       20000.000000\n",
            "Name: power, dtype: float64\n"
          ]
        }
      ],
      "source": [
        "num_features_stats(df['power'],\n",
        "                   'Мощность, л.с.',\n",
        "                   'Распределение автомобилей по мощности двигателя')"
      ]
    },
    {
      "cell_type": "code",
      "execution_count": null,
      "metadata": {
        "id": "Zy16gExkFACl",
        "outputId": "2b2580a4-b3bd-40f1-9dd1-5ed2cf7263ed"
      },
      "outputs": [
        {
          "name": "stdout",
          "output_type": "stream",
          "text": [
            "Доля автомобилей, у которых указана нулевая мощность двигателя: 10.19%\n",
            "Доля автомобилей, у которых указана мощность двигателя < 20 л.с.: 0.12%\n",
            "Доля автомобилей, у которых указана мощность двигателя > 1000 л.с.: 0.08%\n"
          ]
        }
      ],
      "source": [
        "print(f'Доля автомобилей, у которых указана нулевая мощность двигателя: {len(df[df[\"power\"] == 0]) / len(df):.2%}')\n",
        "print(f'Доля автомобилей, у которых указана мощность двигателя < 20 л.с.: {len(df[(df[\"power\"] != 0) & (df[\"power\"] < 20)])  / len(df):.2%}')\n",
        "print(f'Доля автомобилей, у которых указана мощность двигателя > 1000 л.с.: {len(df[df[\"power\"] > 1000]) / len(df):.2%}')"
      ]
    },
    {
      "cell_type": "markdown",
      "metadata": {
        "id": "1F3TmJQQFACl"
      },
      "source": [
        "Чтобы не удалять более 10% наблюдений, заменим значения для строк с нулевой или аномально высокой мощностью на медианную"
      ]
    },
    {
      "cell_type": "code",
      "execution_count": null,
      "metadata": {
        "id": "5byNvWUmFACl"
      },
      "outputs": [],
      "source": [
        "RANDOM_STATE=42\n",
        "\n",
        "train_df, test_df = train_test_split(df, random_state=RANDOM_STATE)\n",
        "power_median = train_df['power'].median()\n",
        "\n",
        "train_df.loc[(train_df['power'] < 20) | (train_df['power'] > 1000), 'power'] = power_median\n",
        "test_df.loc[(test_df['power'] < 20) | (test_df['power'] > 1000), 'power'] = power_median\n",
        "\n",
        "df = pd.concat([train_df, test_df], ignore_index=True)"
      ]
    },
    {
      "cell_type": "code",
      "execution_count": null,
      "metadata": {
        "id": "8MuhIZFlFACm",
        "outputId": "03ef02fd-136b-4b1d-8723-e5b3c7bd944c"
      },
      "outputs": [
        {
          "data": {
            "image/png": "[encoded data removed]",
            "text/plain": [
              "<Figure size 864x432 with 2 Axes>"
            ]
          },
          "metadata": {
            "needs_background": "light"
          },
          "output_type": "display_data"
        },
        {
          "name": "stdout",
          "output_type": "stream",
          "text": [
            "\n",
            "Описательная статистика\n",
            "count    340020.000000\n",
            "mean        119.028075\n",
            "std          51.910579\n",
            "min          20.000000\n",
            "25%          84.000000\n",
            "50%         105.000000\n",
            "75%         143.000000\n",
            "max        1000.000000\n",
            "Name: power, dtype: float64\n"
          ]
        }
      ],
      "source": [
        "num_features_stats(df['power'],\n",
        "                   'Мощность, л.с.',\n",
        "                   'Распределение автомобилей по мощности двигателя')"
      ]
    },
    {
      "cell_type": "markdown",
      "metadata": {
        "id": "etmaqI5OFACm"
      },
      "source": [
        "Распределение смещено влево и по-прежнему имеет большое количество выбросов, однако эти значения уже сложно назвать аномальными, поэтому пока не будем их корректировать.  \n",
        "\n",
        "Перейдём к году регистрации автомобиля: посмотрим на распределения объявлений об автомобилях, зарегистрированных с 1900 по 2020"
      ]
    },
    {
      "cell_type": "code",
      "execution_count": null,
      "metadata": {
        "id": "jl8axZm4FACm",
        "outputId": "6ffd0af5-6c60-4ac1-c7ed-603f1e60759e"
      },
      "outputs": [
        {
          "data": {
            "image/png": "[encoded data removed]",
            "text/plain": [
              "<Figure size 864x432 with 2 Axes>"
            ]
          },
          "metadata": {
            "needs_background": "light"
          },
          "output_type": "display_data"
        },
        {
          "name": "stdout",
          "output_type": "stream",
          "text": [
            "\n",
            "Описательная статистика\n",
            "count    339909.000000\n",
            "mean       2003.223883\n",
            "std           7.305249\n",
            "min        1910.000000\n",
            "25%        1999.000000\n",
            "50%        2003.000000\n",
            "75%        2008.000000\n",
            "max        2019.000000\n",
            "Name: registration_year, dtype: float64\n"
          ]
        }
      ],
      "source": [
        "num_features_stats(df.query('(registration_year > 1900) and (registration_year < 2020)')['registration_year'],\n",
        "                   'Год регистрации автомобиля',\n",
        "                   'Распределение автомоблией по году регистрации')"
      ]
    },
    {
      "cell_type": "markdown",
      "metadata": {
        "id": "rW-qAb8zFACm"
      },
      "source": [
        "Определим самую позднюю дату создания анкеты и дату скачивания анкеты из базы"
      ]
    },
    {
      "cell_type": "code",
      "execution_count": null,
      "metadata": {
        "id": "zPAusfy4FACm",
        "outputId": "9a9d1e05-bbc3-4667-e341-1cc2fb100b61"
      },
      "outputs": [
        {
          "name": "stdout",
          "output_type": "stream",
          "text": [
            "Максимальная дата скачивания анкеты из базы: 2016-04-07 14:36:58\n",
            "Максимальная дата создания анкеты: 2016-04-07 00:00:00\n",
            "\n",
            "Доля автомобилей зарегистрованных до 1960 г.: 0.09%\n",
            "Доля автомобилей зарегистрованных после 2016 г.: 4.02%\n"
          ]
        }
      ],
      "source": [
        "print(f'Максимальная дата скачивания анкеты из базы: {df[\"date_crawled\"].max()}')\n",
        "print(f'Максимальная дата создания анкеты: {df[\"date_created\"].max()}')\n",
        "print()\n",
        "print(f'Доля автомобилей зарегистрованных до 1960 г.: {len(df[df[\"registration_year\"] < 1960])/ len(df):.2%}')\n",
        "print(f'Доля автомобилей зарегистрованных после 2016 г.: {len(df[df[\"registration_year\"] > 2016]) / len(df):.2%}')"
      ]
    },
    {
      "cell_type": "markdown",
      "metadata": {
        "id": "XfxXzg7pFACm"
      },
      "source": [
        "Автомобиль не мог быть зарегистрован позже создания анкеты, поэтому исключим из рассмотрения автомобили с годом регистрации больше 2016. Также, исключим машины, зарегистрированные до 1960 г."
      ]
    },
    {
      "cell_type": "code",
      "execution_count": null,
      "metadata": {
        "id": "jizFuwTEFACm"
      },
      "outputs": [],
      "source": [
        "df = df.query('1960 <= registration_year <= 2016')"
      ]
    },
    {
      "cell_type": "code",
      "execution_count": null,
      "metadata": {
        "scrolled": false,
        "id": "US30gIsxFACn",
        "outputId": "7e283e0a-4428-4e7f-9832-28af62149852"
      },
      "outputs": [
        {
          "data": {
            "image/png": "[encoded data removed]",
            "text/plain": [
              "<Figure size 864x432 with 2 Axes>"
            ]
          },
          "metadata": {
            "needs_background": "light"
          },
          "output_type": "display_data"
        },
        {
          "name": "stdout",
          "output_type": "stream",
          "text": [
            "\n",
            "Описательная статистика\n",
            "count    326050.000000\n",
            "mean       2002.683858\n",
            "std           6.645890\n",
            "min        1960.000000\n",
            "25%        1999.000000\n",
            "50%        2003.000000\n",
            "75%        2007.000000\n",
            "max        2016.000000\n",
            "Name: registration_year, dtype: float64\n"
          ]
        }
      ],
      "source": [
        "num_features_stats(df['registration_year'],\n",
        "                   'Год регистрации автомобиля',\n",
        "                   'Распределение автомоблией по году регистрации')"
      ]
    },
    {
      "cell_type": "markdown",
      "metadata": {
        "id": "GfPQfWcqFACn"
      },
      "source": [
        "### Удаление неинформативных признаков"
      ]
    },
    {
      "cell_type": "markdown",
      "metadata": {
        "id": "-sLPyTL9FACn"
      },
      "source": [
        "Признаки `date_crawled`, `date_created`, `last_seen` и `number_of_pictures` неинформативны, поскольку дата создания или скачивания анкеты, а также дата последней активности пользователя не оказывают влияния на цену автомобиля, а `number_of_pictures` состоит из нулевых значений. Удалим эти признаки:"
      ]
    },
    {
      "cell_type": "code",
      "execution_count": null,
      "metadata": {
        "id": "IU1_80RCFACn"
      },
      "outputs": [],
      "source": [
        "df = df.drop(columns=['number_of_pictures', 'date_crawled', 'date_created', 'last_seen'])"
      ]
    },
    {
      "cell_type": "markdown",
      "metadata": {
        "id": "pBsI2SBkFACn"
      },
      "source": [
        "Проведём корреляционный анализ:"
      ]
    },
    {
      "cell_type": "code",
      "execution_count": null,
      "metadata": {
        "id": "3aS2WhPSFACn",
        "outputId": "f66ce112-9e1f-4961-ff08-dbc568d0bbcb"
      },
      "outputs": [
        {
          "data": {
            "text/html": [
              "<style  type=\"text/css\" >\n",
              "#T_138e3_row0_col0,#T_138e3_row1_col1,#T_138e3_row2_col2,#T_138e3_row3_col3,#T_138e3_row4_col4,#T_138e3_row5_col5,#T_138e3_row5_col9,#T_138e3_row6_col6,#T_138e3_row7_col7,#T_138e3_row8_col8,#T_138e3_row9_col5,#T_138e3_row9_col9,#T_138e3_row10_col10,#T_138e3_row11_col11{\n",
              "            background-color:  #b40426;\n",
              "            color:  #f1f1f1;\n",
              "        }#T_138e3_row0_col1,#T_138e3_row3_col0{\n",
              "            background-color:  #85a8fc;\n",
              "            color:  #000000;\n",
              "        }#T_138e3_row0_col2{\n",
              "            background-color:  #f5c4ac;\n",
              "            color:  #000000;\n",
              "        }#T_138e3_row0_col3,#T_138e3_row3_col8{\n",
              "            background-color:  #86a9fc;\n",
              "            color:  #000000;\n",
              "        }#T_138e3_row0_col4{\n",
              "            background-color:  #ccd9ed;\n",
              "            color:  #000000;\n",
              "        }#T_138e3_row0_col5{\n",
              "            background-color:  #d7dce3;\n",
              "            color:  #000000;\n",
              "        }#T_138e3_row0_col6{\n",
              "            background-color:  #97b8ff;\n",
              "            color:  #000000;\n",
              "        }#T_138e3_row0_col7{\n",
              "            background-color:  #5d7ce6;\n",
              "            color:  #000000;\n",
              "        }#T_138e3_row0_col8,#T_138e3_row3_col2{\n",
              "            background-color:  #516ddb;\n",
              "            color:  #000000;\n",
              "        }#T_138e3_row0_col9,#T_138e3_row9_col0{\n",
              "            background-color:  #9ebeff;\n",
              "            color:  #000000;\n",
              "        }#T_138e3_row0_col10{\n",
              "            background-color:  #a1c0ff;\n",
              "            color:  #000000;\n",
              "        }#T_138e3_row0_col11{\n",
              "            background-color:  #4a63d3;\n",
              "            color:  #f1f1f1;\n",
              "        }#T_138e3_row1_col0,#T_138e3_row6_col9{\n",
              "            background-color:  #7ea1fa;\n",
              "            color:  #000000;\n",
              "        }#T_138e3_row1_col2,#T_138e3_row10_col7{\n",
              "            background-color:  #88abfd;\n",
              "            color:  #000000;\n",
              "        }#T_138e3_row1_col3,#T_138e3_row9_col4{\n",
              "            background-color:  #d1dae9;\n",
              "            color:  #000000;\n",
              "        }#T_138e3_row1_col4{\n",
              "            background-color:  #a2c1ff;\n",
              "            color:  #000000;\n",
              "        }#T_138e3_row1_col5{\n",
              "            background-color:  #de614d;\n",
              "            color:  #000000;\n",
              "        }#T_138e3_row1_col6{\n",
              "            background-color:  #84a7fc;\n",
              "            color:  #000000;\n",
              "        }#T_138e3_row1_col7,#T_138e3_row5_col7,#T_138e3_row7_col3,#T_138e3_row9_col11{\n",
              "            background-color:  #6788ee;\n",
              "            color:  #000000;\n",
              "        }#T_138e3_row1_col8{\n",
              "            background-color:  #90b2fe;\n",
              "            color:  #000000;\n",
              "        }#T_138e3_row1_col9{\n",
              "            background-color:  #e8d6cc;\n",
              "            color:  #000000;\n",
              "        }#T_138e3_row1_col10{\n",
              "            background-color:  #b7cff9;\n",
              "            color:  #000000;\n",
              "        }#T_138e3_row1_col11{\n",
              "            background-color:  #4257c9;\n",
              "            color:  #f1f1f1;\n",
              "        }#T_138e3_row2_col0{\n",
              "            background-color:  #f4c6af;\n",
              "            color:  #000000;\n",
              "        }#T_138e3_row2_col1,#T_138e3_row6_col0{\n",
              "            background-color:  #89acfd;\n",
              "            color:  #000000;\n",
              "        }#T_138e3_row2_col3,#T_138e3_row2_col8{\n",
              "            background-color:  #4c66d6;\n",
              "            color:  #000000;\n",
              "        }#T_138e3_row2_col4,#T_138e3_row4_col2{\n",
              "            background-color:  #7093f3;\n",
              "            color:  #000000;\n",
              "        }#T_138e3_row2_col5{\n",
              "            background-color:  #e6d7cf;\n",
              "            color:  #000000;\n",
              "        }#T_138e3_row2_col6,#T_138e3_row5_col8{\n",
              "            background-color:  #b2ccfb;\n",
              "            color:  #000000;\n",
              "        }#T_138e3_row2_col7{\n",
              "            background-color:  #5470de;\n",
              "            color:  #000000;\n",
              "        }#T_138e3_row2_col9,#T_138e3_row6_col5{\n",
              "            background-color:  #a5c3fe;\n",
              "            color:  #000000;\n",
              "        }#T_138e3_row2_col10{\n",
              "            background-color:  #6c8ff1;\n",
              "            color:  #000000;\n",
              "        }#T_138e3_row2_col11,#T_138e3_row4_col6,#T_138e3_row6_col7,#T_138e3_row8_col0,#T_138e3_row8_col4{\n",
              "            background-color:  #445acc;\n",
              "            color:  #f1f1f1;\n",
              "        }#T_138e3_row3_col1,#T_138e3_row9_col3{\n",
              "            background-color:  #d4dbe6;\n",
              "            color:  #000000;\n",
              "        }#T_138e3_row3_col4{\n",
              "            background-color:  #c0d4f5;\n",
              "            color:  #000000;\n",
              "        }#T_138e3_row3_col5{\n",
              "            background-color:  #e7d7ce;\n",
              "            color:  #000000;\n",
              "        }#T_138e3_row3_col6{\n",
              "            background-color:  #5e7de7;\n",
              "            color:  #000000;\n",
              "        }#T_138e3_row3_col7,#T_138e3_row8_col10{\n",
              "            background-color:  #7597f6;\n",
              "            color:  #000000;\n",
              "        }#T_138e3_row3_col9{\n",
              "            background-color:  #d3dbe7;\n",
              "            color:  #000000;\n",
              "        }#T_138e3_row3_col10{\n",
              "            background-color:  #bed2f6;\n",
              "            color:  #000000;\n",
              "        }#T_138e3_row3_col11,#T_138e3_row4_col7,#T_138e3_row6_col8,#T_138e3_row9_col7{\n",
              "            background-color:  #4961d2;\n",
              "            color:  #f1f1f1;\n",
              "        }#T_138e3_row4_col0{\n",
              "            background-color:  #c9d7f0;\n",
              "            color:  #000000;\n",
              "        }#T_138e3_row4_col1{\n",
              "            background-color:  #a3c2fe;\n",
              "            color:  #000000;\n",
              "        }#T_138e3_row4_col3{\n",
              "            background-color:  #bcd2f7;\n",
              "            color:  #000000;\n",
              "        }#T_138e3_row4_col5{\n",
              "            background-color:  #f2cab5;\n",
              "            color:  #000000;\n",
              "        }#T_138e3_row4_col8,#T_138e3_row7_col2,#T_138e3_row8_col6,#T_138e3_row10_col9{\n",
              "            background-color:  #4b64d5;\n",
              "            color:  #f1f1f1;\n",
              "        }#T_138e3_row4_col9{\n",
              "            background-color:  #cdd9ec;\n",
              "            color:  #000000;\n",
              "        }#T_138e3_row4_col10{\n",
              "            background-color:  #5b7ae5;\n",
              "            color:  #000000;\n",
              "        }#T_138e3_row4_col11{\n",
              "            background-color:  #485fd1;\n",
              "            color:  #f1f1f1;\n",
              "        }#T_138e3_row5_col0{\n",
              "            background-color:  #e4d9d2;\n",
              "            color:  #000000;\n",
              "        }#T_138e3_row5_col1{\n",
              "            background-color:  #d95847;\n",
              "            color:  #000000;\n",
              "        }#T_138e3_row5_col2{\n",
              "            background-color:  #f1cdba;\n",
              "            color:  #000000;\n",
              "        }#T_138e3_row5_col3{\n",
              "            background-color:  #f0cdbb;\n",
              "            color:  #000000;\n",
              "        }#T_138e3_row5_col4{\n",
              "            background-color:  #f6bda2;\n",
              "            color:  #000000;\n",
              "        }#T_138e3_row5_col6{\n",
              "            background-color:  #c5d6f2;\n",
              "            color:  #000000;\n",
              "        }#T_138e3_row5_col10,#T_138e3_row8_col5{\n",
              "            background-color:  #8fb1fe;\n",
              "            color:  #000000;\n",
              "        }#T_138e3_row5_col11{\n",
              "            background-color:  #7396f5;\n",
              "            color:  #000000;\n",
              "        }#T_138e3_row6_col1,#T_138e3_row8_col3{\n",
              "            background-color:  #7da0f9;\n",
              "            color:  #000000;\n",
              "        }#T_138e3_row6_col2{\n",
              "            background-color:  #abc8fd;\n",
              "            color:  #000000;\n",
              "        }#T_138e3_row6_col3{\n",
              "            background-color:  #506bda;\n",
              "            color:  #000000;\n",
              "        }#T_138e3_row6_col4,#T_138e3_row6_col11,#T_138e3_row7_col5,#T_138e3_row7_col9,#T_138e3_row7_col11,#T_138e3_row11_col0,#T_138e3_row11_col1,#T_138e3_row11_col2,#T_138e3_row11_col3,#T_138e3_row11_col6,#T_138e3_row11_col7,#T_138e3_row11_col8,#T_138e3_row11_col10{\n",
              "            background-color:  #3b4cc0;\n",
              "            color:  #f1f1f1;\n",
              "        }#T_138e3_row6_col10{\n",
              "            background-color:  #7a9df8;\n",
              "            color:  #000000;\n",
              "        }#T_138e3_row7_col0{\n",
              "            background-color:  #4f69d9;\n",
              "            color:  #000000;\n",
              "        }#T_138e3_row7_col1{\n",
              "            background-color:  #6180e9;\n",
              "            color:  #000000;\n",
              "        }#T_138e3_row7_col4,#T_138e3_row10_col11{\n",
              "            background-color:  #4055c8;\n",
              "            color:  #f1f1f1;\n",
              "        }#T_138e3_row7_col6,#T_138e3_row11_col5{\n",
              "            background-color:  #455cce;\n",
              "            color:  #f1f1f1;\n",
              "        }#T_138e3_row7_col8{\n",
              "            background-color:  #6485ec;\n",
              "            color:  #000000;\n",
              "        }#T_138e3_row7_col10{\n",
              "            background-color:  #82a6fb;\n",
              "            color:  #000000;\n",
              "        }#T_138e3_row8_col1{\n",
              "            background-color:  #8caffe;\n",
              "            color:  #000000;\n",
              "        }#T_138e3_row8_col2{\n",
              "            background-color:  #465ecf;\n",
              "            color:  #f1f1f1;\n",
              "        }#T_138e3_row8_col7{\n",
              "            background-color:  #6687ed;\n",
              "            color:  #000000;\n",
              "        }#T_138e3_row8_col9{\n",
              "            background-color:  #6f92f3;\n",
              "            color:  #000000;\n",
              "        }#T_138e3_row8_col11{\n",
              "            background-color:  #3d50c3;\n",
              "            color:  #f1f1f1;\n",
              "        }#T_138e3_row9_col1{\n",
              "            background-color:  #ead4c8;\n",
              "            color:  #000000;\n",
              "        }#T_138e3_row9_col2{\n",
              "            background-color:  #aac7fd;\n",
              "            color:  #000000;\n",
              "        }#T_138e3_row9_col6{\n",
              "            background-color:  #8db0fe;\n",
              "            color:  #000000;\n",
              "        }#T_138e3_row9_col8{\n",
              "            background-color:  #7b9ff9;\n",
              "            color:  #000000;\n",
              "        }#T_138e3_row9_col10{\n",
              "            background-color:  #5572df;\n",
              "            color:  #000000;\n",
              "        }#T_138e3_row10_col0{\n",
              "            background-color:  #9abbff;\n",
              "            color:  #000000;\n",
              "        }#T_138e3_row10_col1{\n",
              "            background-color:  #b6cefa;\n",
              "            color:  #000000;\n",
              "        }#T_138e3_row10_col2{\n",
              "            background-color:  #6a8bef;\n",
              "            color:  #000000;\n",
              "        }#T_138e3_row10_col3{\n",
              "            background-color:  #b9d0f9;\n",
              "            color:  #000000;\n",
              "        }#T_138e3_row10_col4,#T_138e3_row11_col9{\n",
              "            background-color:  #5875e1;\n",
              "            color:  #000000;\n",
              "        }#T_138e3_row10_col5{\n",
              "            background-color:  #688aef;\n",
              "            color:  #000000;\n",
              "        }#T_138e3_row10_col6{\n",
              "            background-color:  #81a4fb;\n",
              "            color:  #000000;\n",
              "        }#T_138e3_row10_col8{\n",
              "            background-color:  #779af7;\n",
              "            color:  #000000;\n",
              "        }#T_138e3_row11_col4{\n",
              "            background-color:  #3e51c5;\n",
              "            color:  #f1f1f1;\n",
              "        }</style><table id=\"T_138e3_\" ><thead>    <tr>        <th class=\"blank level0\" ></th>        <th class=\"col_heading level0 col0\" >price</th>        <th class=\"col_heading level0 col1\" >vehicle_type</th>        <th class=\"col_heading level0 col2\" >registration_year</th>        <th class=\"col_heading level0 col3\" >gearbox</th>        <th class=\"col_heading level0 col4\" >power</th>        <th class=\"col_heading level0 col5\" >model</th>        <th class=\"col_heading level0 col6\" >kilometer</th>        <th class=\"col_heading level0 col7\" >registration_month</th>        <th class=\"col_heading level0 col8\" >fuel_type</th>        <th class=\"col_heading level0 col9\" >brand</th>        <th class=\"col_heading level0 col10\" >repaired</th>        <th class=\"col_heading level0 col11\" >postal_code</th>    </tr></thead><tbody>\n",
              "                <tr>\n",
              "                        <th id=\"T_138e3_level0_row0\" class=\"row_heading level0 row0\" >price</th>\n",
              "                        <td id=\"T_138e3_row0_col0\" class=\"data row0 col0\" >1.000000</td>\n",
              "                        <td id=\"T_138e3_row0_col1\" class=\"data row0 col1\" >0.281916</td>\n",
              "                        <td id=\"T_138e3_row0_col2\" class=\"data row0 col2\" >0.654174</td>\n",
              "                        <td id=\"T_138e3_row0_col3\" class=\"data row0 col3\" >0.300184</td>\n",
              "                        <td id=\"T_138e3_row0_col4\" class=\"data row0 col4\" >0.480051</td>\n",
              "                        <td id=\"T_138e3_row0_col5\" class=\"data row0 col5\" >0.573573</td>\n",
              "                        <td id=\"T_138e3_row0_col6\" class=\"data row0 col6\" >0.309407</td>\n",
              "                        <td id=\"T_138e3_row0_col7\" class=\"data row0 col7\" >0.152402</td>\n",
              "                        <td id=\"T_138e3_row0_col8\" class=\"data row0 col8\" >0.122131</td>\n",
              "                        <td id=\"T_138e3_row0_col9\" class=\"data row0 col9\" >0.363523</td>\n",
              "                        <td id=\"T_138e3_row0_col10\" class=\"data row0 col10\" >0.350971</td>\n",
              "                        <td id=\"T_138e3_row0_col11\" class=\"data row0 col11\" >0.091680</td>\n",
              "            </tr>\n",
              "            <tr>\n",
              "                        <th id=\"T_138e3_level0_row1\" class=\"row_heading level0 row1\" >vehicle_type</th>\n",
              "                        <td id=\"T_138e3_row1_col0\" class=\"data row1 col0\" >0.281916</td>\n",
              "                        <td id=\"T_138e3_row1_col1\" class=\"data row1 col1\" >1.000000</td>\n",
              "                        <td id=\"T_138e3_row1_col2\" class=\"data row1 col2\" >0.291182</td>\n",
              "                        <td id=\"T_138e3_row1_col3\" class=\"data row1 col3\" >0.503711</td>\n",
              "                        <td id=\"T_138e3_row1_col4\" class=\"data row1 col4\" >0.361917</td>\n",
              "                        <td id=\"T_138e3_row1_col5\" class=\"data row1 col5\" >0.897655</td>\n",
              "                        <td id=\"T_138e3_row1_col6\" class=\"data row1 col6\" >0.258503</td>\n",
              "                        <td id=\"T_138e3_row1_col7\" class=\"data row1 col7\" >0.183361</td>\n",
              "                        <td id=\"T_138e3_row1_col8\" class=\"data row1 col8\" >0.297401</td>\n",
              "                        <td id=\"T_138e3_row1_col9\" class=\"data row1 col9\" >0.587211</td>\n",
              "                        <td id=\"T_138e3_row1_col10\" class=\"data row1 col10\" >0.412119</td>\n",
              "                        <td id=\"T_138e3_row1_col11\" class=\"data row1 col11\" >0.067185</td>\n",
              "            </tr>\n",
              "            <tr>\n",
              "                        <th id=\"T_138e3_level0_row2\" class=\"row_heading level0 row2\" >registration_year</th>\n",
              "                        <td id=\"T_138e3_row2_col0\" class=\"data row2 col0\" >0.654174</td>\n",
              "                        <td id=\"T_138e3_row2_col1\" class=\"data row2 col1\" >0.291182</td>\n",
              "                        <td id=\"T_138e3_row2_col2\" class=\"data row2 col2\" >1.000000</td>\n",
              "                        <td id=\"T_138e3_row2_col3\" class=\"data row2 col3\" >0.141781</td>\n",
              "                        <td id=\"T_138e3_row2_col4\" class=\"data row2 col4\" >0.231312</td>\n",
              "                        <td id=\"T_138e3_row2_col5\" class=\"data row2 col5\" >0.619938</td>\n",
              "                        <td id=\"T_138e3_row2_col6\" class=\"data row2 col6\" >0.384975</td>\n",
              "                        <td id=\"T_138e3_row2_col7\" class=\"data row2 col7\" >0.125533</td>\n",
              "                        <td id=\"T_138e3_row2_col8\" class=\"data row2 col8\" >0.109855</td>\n",
              "                        <td id=\"T_138e3_row2_col9\" class=\"data row2 col9\" >0.381730</td>\n",
              "                        <td id=\"T_138e3_row2_col10\" class=\"data row2 col10\" >0.211096</td>\n",
              "                        <td id=\"T_138e3_row2_col11\" class=\"data row2 col11\" >0.072178</td>\n",
              "            </tr>\n",
              "            <tr>\n",
              "                        <th id=\"T_138e3_level0_row3\" class=\"row_heading level0 row3\" >gearbox</th>\n",
              "                        <td id=\"T_138e3_row3_col0\" class=\"data row3 col0\" >0.300184</td>\n",
              "                        <td id=\"T_138e3_row3_col1\" class=\"data row3 col1\" >0.503711</td>\n",
              "                        <td id=\"T_138e3_row3_col2\" class=\"data row3 col2\" >0.141781</td>\n",
              "                        <td id=\"T_138e3_row3_col3\" class=\"data row3 col3\" >1.000000</td>\n",
              "                        <td id=\"T_138e3_row3_col4\" class=\"data row3 col4\" >0.442055</td>\n",
              "                        <td id=\"T_138e3_row3_col5\" class=\"data row3 col5\" >0.624627</td>\n",
              "                        <td id=\"T_138e3_row3_col6\" class=\"data row3 col6\" >0.151965</td>\n",
              "                        <td id=\"T_138e3_row3_col7\" class=\"data row3 col7\" >0.218429</td>\n",
              "                        <td id=\"T_138e3_row3_col8\" class=\"data row3 col8\" >0.273135</td>\n",
              "                        <td id=\"T_138e3_row3_col9\" class=\"data row3 col9\" >0.513979</td>\n",
              "                        <td id=\"T_138e3_row3_col10\" class=\"data row3 col10\" >0.430890</td>\n",
              "                        <td id=\"T_138e3_row3_col11\" class=\"data row3 col11\" >0.087420</td>\n",
              "            </tr>\n",
              "            <tr>\n",
              "                        <th id=\"T_138e3_level0_row4\" class=\"row_heading level0 row4\" >power</th>\n",
              "                        <td id=\"T_138e3_row4_col0\" class=\"data row4 col0\" >0.480051</td>\n",
              "                        <td id=\"T_138e3_row4_col1\" class=\"data row4 col1\" >0.361917</td>\n",
              "                        <td id=\"T_138e3_row4_col2\" class=\"data row4 col2\" >0.231312</td>\n",
              "                        <td id=\"T_138e3_row4_col3\" class=\"data row4 col3\" >0.442055</td>\n",
              "                        <td id=\"T_138e3_row4_col4\" class=\"data row4 col4\" >1.000000</td>\n",
              "                        <td id=\"T_138e3_row4_col5\" class=\"data row4 col5\" >0.675051</td>\n",
              "                        <td id=\"T_138e3_row4_col6\" class=\"data row4 col6\" >0.072455</td>\n",
              "                        <td id=\"T_138e3_row4_col7\" class=\"data row4 col7\" >0.091442</td>\n",
              "                        <td id=\"T_138e3_row4_col8\" class=\"data row4 col8\" >0.103717</td>\n",
              "                        <td id=\"T_138e3_row4_col9\" class=\"data row4 col9\" >0.495467</td>\n",
              "                        <td id=\"T_138e3_row4_col10\" class=\"data row4 col10\" >0.162508</td>\n",
              "                        <td id=\"T_138e3_row4_col11\" class=\"data row4 col11\" >0.084928</td>\n",
              "            </tr>\n",
              "            <tr>\n",
              "                        <th id=\"T_138e3_level0_row5\" class=\"row_heading level0 row5\" >model</th>\n",
              "                        <td id=\"T_138e3_row5_col0\" class=\"data row5 col0\" >0.573573</td>\n",
              "                        <td id=\"T_138e3_row5_col1\" class=\"data row5 col1\" >0.897655</td>\n",
              "                        <td id=\"T_138e3_row5_col2\" class=\"data row5 col2\" >0.619938</td>\n",
              "                        <td id=\"T_138e3_row5_col3\" class=\"data row5 col3\" >0.624627</td>\n",
              "                        <td id=\"T_138e3_row5_col4\" class=\"data row5 col4\" >0.675051</td>\n",
              "                        <td id=\"T_138e3_row5_col5\" class=\"data row5 col5\" >1.000000</td>\n",
              "                        <td id=\"T_138e3_row5_col6\" class=\"data row5 col6\" >0.440737</td>\n",
              "                        <td id=\"T_138e3_row5_col7\" class=\"data row5 col7\" >0.181812</td>\n",
              "                        <td id=\"T_138e3_row5_col8\" class=\"data row5 col8\" >0.390737</td>\n",
              "                        <td id=\"T_138e3_row5_col9\" class=\"data row5 col9\" >0.997862</td>\n",
              "                        <td id=\"T_138e3_row5_col10\" class=\"data row5 col10\" >0.301079</td>\n",
              "                        <td id=\"T_138e3_row5_col11\" class=\"data row5 col11\" >0.213369</td>\n",
              "            </tr>\n",
              "            <tr>\n",
              "                        <th id=\"T_138e3_level0_row6\" class=\"row_heading level0 row6\" >kilometer</th>\n",
              "                        <td id=\"T_138e3_row6_col0\" class=\"data row6 col0\" >0.309407</td>\n",
              "                        <td id=\"T_138e3_row6_col1\" class=\"data row6 col1\" >0.258503</td>\n",
              "                        <td id=\"T_138e3_row6_col2\" class=\"data row6 col2\" >0.384975</td>\n",
              "                        <td id=\"T_138e3_row6_col3\" class=\"data row6 col3\" >0.151965</td>\n",
              "                        <td id=\"T_138e3_row6_col4\" class=\"data row6 col4\" >0.072455</td>\n",
              "                        <td id=\"T_138e3_row6_col5\" class=\"data row6 col5\" >0.440737</td>\n",
              "                        <td id=\"T_138e3_row6_col6\" class=\"data row6 col6\" >1.000000</td>\n",
              "                        <td id=\"T_138e3_row6_col7\" class=\"data row6 col7\" >0.076163</td>\n",
              "                        <td id=\"T_138e3_row6_col8\" class=\"data row6 col8\" >0.097064</td>\n",
              "                        <td id=\"T_138e3_row6_col9\" class=\"data row6 col9\" >0.282415</td>\n",
              "                        <td id=\"T_138e3_row6_col10\" class=\"data row6 col10\" >0.248258</td>\n",
              "                        <td id=\"T_138e3_row6_col11\" class=\"data row6 col11\" >0.041870</td>\n",
              "            </tr>\n",
              "            <tr>\n",
              "                        <th id=\"T_138e3_level0_row7\" class=\"row_heading level0 row7\" >registration_month</th>\n",
              "                        <td id=\"T_138e3_row7_col0\" class=\"data row7 col0\" >0.152402</td>\n",
              "                        <td id=\"T_138e3_row7_col1\" class=\"data row7 col1\" >0.183361</td>\n",
              "                        <td id=\"T_138e3_row7_col2\" class=\"data row7 col2\" >0.125533</td>\n",
              "                        <td id=\"T_138e3_row7_col3\" class=\"data row7 col3\" >0.218429</td>\n",
              "                        <td id=\"T_138e3_row7_col4\" class=\"data row7 col4\" >0.091442</td>\n",
              "                        <td id=\"T_138e3_row7_col5\" class=\"data row7 col5\" >0.181812</td>\n",
              "                        <td id=\"T_138e3_row7_col6\" class=\"data row7 col6\" >0.076163</td>\n",
              "                        <td id=\"T_138e3_row7_col7\" class=\"data row7 col7\" >1.000000</td>\n",
              "                        <td id=\"T_138e3_row7_col8\" class=\"data row7 col8\" >0.178031</td>\n",
              "                        <td id=\"T_138e3_row7_col9\" class=\"data row7 col9\" >0.092155</td>\n",
              "                        <td id=\"T_138e3_row7_col10\" class=\"data row7 col10\" >0.269930</td>\n",
              "                        <td id=\"T_138e3_row7_col11\" class=\"data row7 col11\" >0.045571</td>\n",
              "            </tr>\n",
              "            <tr>\n",
              "                        <th id=\"T_138e3_level0_row8\" class=\"row_heading level0 row8\" >fuel_type</th>\n",
              "                        <td id=\"T_138e3_row8_col0\" class=\"data row8 col0\" >0.122131</td>\n",
              "                        <td id=\"T_138e3_row8_col1\" class=\"data row8 col1\" >0.297401</td>\n",
              "                        <td id=\"T_138e3_row8_col2\" class=\"data row8 col2\" >0.109855</td>\n",
              "                        <td id=\"T_138e3_row8_col3\" class=\"data row8 col3\" >0.273135</td>\n",
              "                        <td id=\"T_138e3_row8_col4\" class=\"data row8 col4\" >0.103717</td>\n",
              "                        <td id=\"T_138e3_row8_col5\" class=\"data row8 col5\" >0.390737</td>\n",
              "                        <td id=\"T_138e3_row8_col6\" class=\"data row8 col6\" >0.097064</td>\n",
              "                        <td id=\"T_138e3_row8_col7\" class=\"data row8 col7\" >0.178031</td>\n",
              "                        <td id=\"T_138e3_row8_col8\" class=\"data row8 col8\" >1.000000</td>\n",
              "                        <td id=\"T_138e3_row8_col9\" class=\"data row8 col9\" >0.241206</td>\n",
              "                        <td id=\"T_138e3_row8_col10\" class=\"data row8 col10\" >0.232257</td>\n",
              "                        <td id=\"T_138e3_row8_col11\" class=\"data row8 col11\" >0.050685</td>\n",
              "            </tr>\n",
              "            <tr>\n",
              "                        <th id=\"T_138e3_level0_row9\" class=\"row_heading level0 row9\" >brand</th>\n",
              "                        <td id=\"T_138e3_row9_col0\" class=\"data row9 col0\" >0.363523</td>\n",
              "                        <td id=\"T_138e3_row9_col1\" class=\"data row9 col1\" >0.587211</td>\n",
              "                        <td id=\"T_138e3_row9_col2\" class=\"data row9 col2\" >0.381730</td>\n",
              "                        <td id=\"T_138e3_row9_col3\" class=\"data row9 col3\" >0.513979</td>\n",
              "                        <td id=\"T_138e3_row9_col4\" class=\"data row9 col4\" >0.495467</td>\n",
              "                        <td id=\"T_138e3_row9_col5\" class=\"data row9 col5\" >0.997862</td>\n",
              "                        <td id=\"T_138e3_row9_col6\" class=\"data row9 col6\" >0.282415</td>\n",
              "                        <td id=\"T_138e3_row9_col7\" class=\"data row9 col7\" >0.092155</td>\n",
              "                        <td id=\"T_138e3_row9_col8\" class=\"data row9 col8\" >0.241206</td>\n",
              "                        <td id=\"T_138e3_row9_col9\" class=\"data row9 col9\" >1.000000</td>\n",
              "                        <td id=\"T_138e3_row9_col10\" class=\"data row9 col10\" >0.144993</td>\n",
              "                        <td id=\"T_138e3_row9_col11\" class=\"data row9 col11\" >0.178289</td>\n",
              "            </tr>\n",
              "            <tr>\n",
              "                        <th id=\"T_138e3_level0_row10\" class=\"row_heading level0 row10\" >repaired</th>\n",
              "                        <td id=\"T_138e3_row10_col0\" class=\"data row10 col0\" >0.350971</td>\n",
              "                        <td id=\"T_138e3_row10_col1\" class=\"data row10 col1\" >0.412119</td>\n",
              "                        <td id=\"T_138e3_row10_col2\" class=\"data row10 col2\" >0.211096</td>\n",
              "                        <td id=\"T_138e3_row10_col3\" class=\"data row10 col3\" >0.430890</td>\n",
              "                        <td id=\"T_138e3_row10_col4\" class=\"data row10 col4\" >0.162508</td>\n",
              "                        <td id=\"T_138e3_row10_col5\" class=\"data row10 col5\" >0.301079</td>\n",
              "                        <td id=\"T_138e3_row10_col6\" class=\"data row10 col6\" >0.248258</td>\n",
              "                        <td id=\"T_138e3_row10_col7\" class=\"data row10 col7\" >0.269930</td>\n",
              "                        <td id=\"T_138e3_row10_col8\" class=\"data row10 col8\" >0.232257</td>\n",
              "                        <td id=\"T_138e3_row10_col9\" class=\"data row10 col9\" >0.144993</td>\n",
              "                        <td id=\"T_138e3_row10_col10\" class=\"data row10 col10\" >1.000000</td>\n",
              "                        <td id=\"T_138e3_row10_col11\" class=\"data row10 col11\" >0.062538</td>\n",
              "            </tr>\n",
              "            <tr>\n",
              "                        <th id=\"T_138e3_level0_row11\" class=\"row_heading level0 row11\" >postal_code</th>\n",
              "                        <td id=\"T_138e3_row11_col0\" class=\"data row11 col0\" >0.091680</td>\n",
              "                        <td id=\"T_138e3_row11_col1\" class=\"data row11 col1\" >0.067185</td>\n",
              "                        <td id=\"T_138e3_row11_col2\" class=\"data row11 col2\" >0.072178</td>\n",
              "                        <td id=\"T_138e3_row11_col3\" class=\"data row11 col3\" >0.087420</td>\n",
              "                        <td id=\"T_138e3_row11_col4\" class=\"data row11 col4\" >0.084928</td>\n",
              "                        <td id=\"T_138e3_row11_col5\" class=\"data row11 col5\" >0.213369</td>\n",
              "                        <td id=\"T_138e3_row11_col6\" class=\"data row11 col6\" >0.041870</td>\n",
              "                        <td id=\"T_138e3_row11_col7\" class=\"data row11 col7\" >0.045571</td>\n",
              "                        <td id=\"T_138e3_row11_col8\" class=\"data row11 col8\" >0.050685</td>\n",
              "                        <td id=\"T_138e3_row11_col9\" class=\"data row11 col9\" >0.178289</td>\n",
              "                        <td id=\"T_138e3_row11_col10\" class=\"data row11 col10\" >0.062538</td>\n",
              "                        <td id=\"T_138e3_row11_col11\" class=\"data row11 col11\" >1.000000</td>\n",
              "            </tr>\n",
              "    </tbody></table>"
            ],
            "text/plain": [
              "<pandas.io.formats.style.Styler at 0x7ff1c4d8dbb0>"
            ]
          },
          "execution_count": 37,
          "metadata": {},
          "output_type": "execute_result"
        }
      ],
      "source": [
        "phik_matrix(df.fillna('unknown'), interval_cols=['price',\n",
        "                                                 'registration_year',\n",
        "                                                 'power',\n",
        "                                                 'kilometer',\n",
        "                                                 'registration_month',\n",
        "                                                 'postal_code']).style.background_gradient(cmap ='coolwarm')"
      ]
    },
    {
      "cell_type": "markdown",
      "metadata": {
        "id": "MdIQBzhWFACo"
      },
      "source": [
        "Наиболее тесная линейная связь наблюдается между ценой и годом регистрации автомобиля (0,65), моделью автомобиля (0,57) и мощностью двигателя (0,48), при этом наблюдается очень тесная зависимость между брэндом и моделью автомобиля (0,998), один из них необходимо удалить. Целесообразно исключить признак `brand`, поскольку коэффициент корреляциии между `price` и `model` (0,57) выше, чем между `price` и `brand` (0,36). Также, удалим признаки `postal_code` и `registration_month` поскольку для этих переменных связь с целевым признаком слабая."
      ]
    },
    {
      "cell_type": "code",
      "execution_count": null,
      "metadata": {
        "id": "RsAO5aNMFACo"
      },
      "outputs": [],
      "source": [
        "df = df.drop(columns=['postal_code', 'registration_month', 'brand'])"
      ]
    },
    {
      "cell_type": "code",
      "execution_count": null,
      "metadata": {
        "id": "rtbC5yhpFACo",
        "outputId": "01008cce-9257-4b30-defd-0c4bef641701"
      },
      "outputs": [
        {
          "name": "stdout",
          "output_type": "stream",
          "text": [
            "<class 'pandas.core.frame.DataFrame'>\n",
            "Int64Index: 326050 entries, 0 to 340019\n",
            "Data columns (total 9 columns):\n",
            " #   Column             Non-Null Count   Dtype  \n",
            "---  ------             --------------   -----  \n",
            " 0   price              326050 non-null  int64  \n",
            " 1   vehicle_type       307518 non-null  object \n",
            " 2   registration_year  326050 non-null  int64  \n",
            " 3   gearbox            311738 non-null  object \n",
            " 4   power              326050 non-null  float64\n",
            " 5   model              311123 non-null  object \n",
            " 6   kilometer          326050 non-null  int64  \n",
            " 7   fuel_type          303323 non-null  object \n",
            " 8   repaired           268200 non-null  object \n",
            "dtypes: float64(1), int64(3), object(5)\n",
            "memory usage: 24.9+ MB\n"
          ]
        }
      ],
      "source": [
        "df.info()"
      ]
    },
    {
      "cell_type": "markdown",
      "metadata": {
        "id": "KPOFzwkYFACo"
      },
      "source": [
        "Выведем отношение количества наблюдений до подготовки данных к количеству наблюдений после обработки"
      ]
    },
    {
      "cell_type": "code",
      "execution_count": null,
      "metadata": {
        "id": "CMad-Dv9FACo",
        "outputId": "9c05d5b9-c3a6-44ef-9166-e1ef139c3c58"
      },
      "outputs": [
        {
          "name": "stdout",
          "output_type": "stream",
          "text": [
            "Доля сохранившихся наблюдений: 0.92\n"
          ]
        }
      ],
      "source": [
        "print(f'Доля сохранившихся наблюдений: {round(len(df) / len(df_old), 2)}')"
      ]
    },
    {
      "cell_type": "markdown",
      "metadata": {
        "id": "6lT76EawFACo"
      },
      "source": [
        "### Промежуточные выводы"
      ]
    },
    {
      "cell_type": "markdown",
      "metadata": {
        "id": "82DwsUUiFACo"
      },
      "source": [
        "В ходе подготовки данных были приведены к нижнему регистру названия признаков, обнаружены и обработаны явные дубликаты, устранены аномальные значения (удалены или заменены на медианные значения), исключены неинформативые признаки и устранена мультиколлинеарность. Также, были выявлены пропущенные значения, далее обработаем их в пайплайне."
      ]
    },
    {
      "cell_type": "markdown",
      "metadata": {
        "id": "pGwSIULoFACo"
      },
      "source": [
        "## Обучение моделей"
      ]
    },
    {
      "cell_type": "markdown",
      "metadata": {
        "id": "MvG1hF7PFACo"
      },
      "source": [
        "### Подготовка данных к обучению"
      ]
    },
    {
      "cell_type": "markdown",
      "metadata": {
        "id": "ScNMw2_zFACo"
      },
      "source": [
        "Разделим данные на обучающую и тестовую выборки"
      ]
    },
    {
      "cell_type": "code",
      "execution_count": null,
      "metadata": {
        "id": "bSsQqjQbFACo"
      },
      "outputs": [],
      "source": [
        "X = df.drop(columns='price')\n",
        "y = df['price']\n",
        "\n",
        "X_train, X_test, y_train, y_test = train_test_split(\n",
        "        X,\n",
        "        y,\n",
        "        random_state=RANDOM_STATE\n",
        ")"
      ]
    },
    {
      "cell_type": "markdown",
      "metadata": {
        "id": "RO1l7rDRFACp"
      },
      "source": [
        "Сформуруем списки с количественными признаками для масштабирования и категориальными для кодирования. Так как среди признаков нет упорядоченных, применим OneHotEncoder, предварительно заполнив пропуски наиболее часто встречающимися значениями."
      ]
    },
    {
      "cell_type": "code",
      "execution_count": null,
      "metadata": {
        "id": "3au9geRMFACp"
      },
      "outputs": [],
      "source": [
        "ohe_cols = ['vehicle_type', 'gearbox', 'model', 'fuel_type', 'repaired']\n",
        "num_cols = ['registration_year', 'power', 'kilometer']"
      ]
    },
    {
      "cell_type": "code",
      "execution_count": null,
      "metadata": {
        "id": "QvUiPt3JFACp"
      },
      "outputs": [],
      "source": [
        "ohe_pipe = Pipeline(\n",
        "    [\n",
        "        (\n",
        "            'simple_imputer_ohe',\n",
        "            SimpleImputer(missing_values=np.nan, strategy='most_frequent')\n",
        "         ),\n",
        "\n",
        "        (\n",
        "            'ohe',\n",
        "            OneHotEncoder(drop='first', handle_unknown='ignore', sparse_output=False)\n",
        "        )\n",
        "    ]\n",
        ")"
      ]
    },
    {
      "cell_type": "code",
      "execution_count": null,
      "metadata": {
        "id": "3zC0qbu1FACp"
      },
      "outputs": [],
      "source": [
        "data_preprocessor = ColumnTransformer(\n",
        "    [\n",
        "        ('ohe', ohe_pipe, ohe_cols),\n",
        "        ('num', StandardScaler(), num_cols)\n",
        "    ],\n",
        "    remainder='passthrough'\n",
        ")"
      ]
    },
    {
      "cell_type": "markdown",
      "metadata": {
        "id": "D_JLd5P3FACp"
      },
      "source": [
        "### Линейная регрессия"
      ]
    },
    {
      "cell_type": "markdown",
      "metadata": {
        "id": "Q8O1IksuFACp"
      },
      "source": [
        "Обучим модель линейной регрессии, выведем время обучения и предсказания, а также качество модели на кросс-валидации и на тестовой выборке."
      ]
    },
    {
      "cell_type": "code",
      "execution_count": null,
      "metadata": {
        "id": "MbtMa175FACp"
      },
      "outputs": [],
      "source": [
        "lr = Pipeline(\n",
        "    [\n",
        "        ('preprocessor', data_preprocessor),\n",
        "        ('models', LinearRegression())\n",
        "    ]\n",
        ")"
      ]
    },
    {
      "cell_type": "code",
      "execution_count": null,
      "metadata": {
        "id": "gFBo8PLaFACp"
      },
      "outputs": [],
      "source": [
        "start = time()\n",
        "\n",
        "lr.fit(X_train, y_train)\n",
        "\n",
        "end = time()\n",
        "lr_fit_time = (end - start)"
      ]
    },
    {
      "cell_type": "code",
      "execution_count": null,
      "metadata": {
        "id": "mrMMJQ1OFACp",
        "outputId": "95f7d912-6b31-40e9-d3f4-58aad6e8a5e7"
      },
      "outputs": [
        {
          "name": "stdout",
          "output_type": "stream",
          "text": [
            "RMSE на кросс-валидации : 2782.1108897925787\n"
          ]
        }
      ],
      "source": [
        "scores = cross_val_score(\n",
        "    lr,\n",
        "    X_train,\n",
        "    y_train,\n",
        "    cv=5,\n",
        "    n_jobs=-1,\n",
        "    scoring='neg_root_mean_squared_error'\n",
        ")\n",
        "\n",
        "lr_cv_rmse = (-1) * sum(scores) / len(scores)\n",
        "print('RMSE на кросс-валидации :', lr_cv_rmse)"
      ]
    },
    {
      "cell_type": "code",
      "execution_count": null,
      "metadata": {
        "id": "iLs8g6MGFACq"
      },
      "outputs": [],
      "source": [
        "start = time()\n",
        "\n",
        "y_pred_lr = lr.predict(X_train) # Заменила X_test на X_train\n",
        "\n",
        "end = time()\n",
        "lr_pred_time = (end - start)"
      ]
    },
    {
      "cell_type": "code",
      "execution_count": null,
      "metadata": {
        "id": "KHeu9JqeFACq",
        "outputId": "7057ad67-1d1d-4474-91f6-2b1fd5d6c932"
      },
      "outputs": [
        {
          "name": "stdout",
          "output_type": "stream",
          "text": [
            "Время обучения: 21.86 s.\n",
            "Время предсказания: 1.46 s.\n"
          ]
        }
      ],
      "source": [
        "print(f'Время обучения: {round(lr_fit_time, 2)} s.')\n",
        "print(f'Время предсказания: {round(lr_pred_time, 2)} s.')"
      ]
    },
    {
      "cell_type": "markdown",
      "metadata": {
        "id": "A05W9me9FACq"
      },
      "source": [
        "- Время: обучение составило 21.86 секунд, а предсказание 1.46 секунды.  \n",
        "- Качество: на обучающей выборке модель не достигает необходимого уровня качества, RMSE = 2782.11 при необходимом уровне: RMSE < 2500."
      ]
    },
    {
      "cell_type": "markdown",
      "metadata": {
        "id": "RrDXddpRFACq"
      },
      "source": [
        "### LGBMRegressor"
      ]
    },
    {
      "cell_type": "code",
      "execution_count": null,
      "metadata": {
        "id": "WrBtzqttFACq"
      },
      "outputs": [],
      "source": [
        "lgbm = Pipeline(\n",
        "    [\n",
        "        ('preprocessor', data_preprocessor),\n",
        "        ('models', LGBMRegressor(random_state=RANDOM_STATE))\n",
        "])"
      ]
    },
    {
      "cell_type": "code",
      "execution_count": null,
      "metadata": {
        "id": "YuEbhvk4FACr"
      },
      "outputs": [],
      "source": [
        "param_distribution = [\n",
        "    {\n",
        "        'models': [LGBMRegressor(random_state=RANDOM_STATE)],\n",
        "        'models__n_estimators': [100, 250, 500],\n",
        "        'models__max_depth': range(2, 12, 2)\n",
        "    }\n",
        "]"
      ]
    },
    {
      "cell_type": "markdown",
      "metadata": {
        "id": "Pl9ZG-mTFACr"
      },
      "source": [
        "Для обучения модели LGBMRegressor необходимо привести категориальные признаки к типу `category`"
      ]
    },
    {
      "cell_type": "code",
      "execution_count": null,
      "metadata": {
        "id": "kV9XVcZCFACr"
      },
      "outputs": [],
      "source": [
        "X_train[ohe_cols] = X_train[ohe_cols].astype('category')\n",
        "X_test[ohe_cols] = X_test[ohe_cols].astype('category')"
      ]
    },
    {
      "cell_type": "markdown",
      "metadata": {
        "id": "huAgQXT9FACr"
      },
      "source": [
        "Подберём оптимальные гиперпараметры:"
      ]
    },
    {
      "cell_type": "code",
      "execution_count": null,
      "metadata": {
        "scrolled": true,
        "id": "6wmavEk0FACr",
        "outputId": "3d803d1a-0d97-48d1-f535-0b44cac3f2ba"
      },
      "outputs": [
        {
          "data": {
            "text/html": [
              "<style>#sk-container-id-1 {\n",
              "  /* Definition of color scheme common for light and dark mode */\n",
              "  --sklearn-color-text: black;\n",
              "  --sklearn-color-line: gray;\n",
              "  /* Definition of color scheme for unfitted estimators */\n",
              "  --sklearn-color-unfitted-level-0: #fff5e6;\n",
              "  --sklearn-color-unfitted-level-1: #f6e4d2;\n",
              "  --sklearn-color-unfitted-level-2: #ffe0b3;\n",
              "  --sklearn-color-unfitted-level-3: chocolate;\n",
              "  /* Definition of color scheme for fitted estimators */\n",
              "  --sklearn-color-fitted-level-0: #f0f8ff;\n",
              "  --sklearn-color-fitted-level-1: #d4ebff;\n",
              "  --sklearn-color-fitted-level-2: #b3dbfd;\n",
              "  --sklearn-color-fitted-level-3: cornflowerblue;\n",
              "\n",
              "  /* Specific color for light theme */\n",
              "  --sklearn-color-text-on-default-background: var(--sg-text-color, var(--theme-code-foreground, var(--jp-content-font-color1, black)));\n",
              "  --sklearn-color-background: var(--sg-background-color, var(--theme-background, var(--jp-layout-color0, white)));\n",
              "  --sklearn-color-border-box: var(--sg-text-color, var(--theme-code-foreground, var(--jp-content-font-color1, black)));\n",
              "  --sklearn-color-icon: #696969;\n",
              "\n",
              "  @media (prefers-color-scheme: dark) {\n",
              "    /* Redefinition of color scheme for dark theme */\n",
              "    --sklearn-color-text-on-default-background: var(--sg-text-color, var(--theme-code-foreground, var(--jp-content-font-color1, white)));\n",
              "    --sklearn-color-background: var(--sg-background-color, var(--theme-background, var(--jp-layout-color0, #111)));\n",
              "    --sklearn-color-border-box: var(--sg-text-color, var(--theme-code-foreground, var(--jp-content-font-color1, white)));\n",
              "    --sklearn-color-icon: #878787;\n",
              "  }\n",
              "}\n",
              "\n",
              "#sk-container-id-1 {\n",
              "  color: var(--sklearn-color-text);\n",
              "}\n",
              "\n",
              "#sk-container-id-1 pre {\n",
              "  padding: 0;\n",
              "}\n",
              "\n",
              "#sk-container-id-1 input.sk-hidden--visually {\n",
              "  border: 0;\n",
              "  clip: rect(1px 1px 1px 1px);\n",
              "  clip: rect(1px, 1px, 1px, 1px);\n",
              "  height: 1px;\n",
              "  margin: -1px;\n",
              "  overflow: hidden;\n",
              "  padding: 0;\n",
              "  position: absolute;\n",
              "  width: 1px;\n",
              "}\n",
              "\n",
              "#sk-container-id-1 div.sk-dashed-wrapped {\n",
              "  border: 1px dashed var(--sklearn-color-line);\n",
              "  margin: 0 0.4em 0.5em 0.4em;\n",
              "  box-sizing: border-box;\n",
              "  padding-bottom: 0.4em;\n",
              "  background-color: var(--sklearn-color-background);\n",
              "}\n",
              "\n",
              "#sk-container-id-1 div.sk-container {\n",
              "  /* jupyter's `normalize.less` sets `[hidden] { display: none; }`\n",
              "     but bootstrap.min.css set `[hidden] { display: none !important; }`\n",
              "     so we also need the `!important` here to be able to override the\n",
              "     default hidden behavior on the sphinx rendered scikit-learn.org.\n",
              "     See: https://github.com/scikit-learn/scikit-learn/issues/21755 */\n",
              "  display: inline-block !important;\n",
              "  position: relative;\n",
              "}\n",
              "\n",
              "#sk-container-id-1 div.sk-text-repr-fallback {\n",
              "  display: none;\n",
              "}\n",
              "\n",
              "div.sk-parallel-item,\n",
              "div.sk-serial,\n",
              "div.sk-item {\n",
              "  /* draw centered vertical line to link estimators */\n",
              "  background-image: linear-gradient(var(--sklearn-color-text-on-default-background), var(--sklearn-color-text-on-default-background));\n",
              "  background-size: 2px 100%;\n",
              "  background-repeat: no-repeat;\n",
              "  background-position: center center;\n",
              "}\n",
              "\n",
              "/* Parallel-specific style estimator block */\n",
              "\n",
              "#sk-container-id-1 div.sk-parallel-item::after {\n",
              "  content: \"\";\n",
              "  width: 100%;\n",
              "  border-bottom: 2px solid var(--sklearn-color-text-on-default-background);\n",
              "  flex-grow: 1;\n",
              "}\n",
              "\n",
              "#sk-container-id-1 div.sk-parallel {\n",
              "  display: flex;\n",
              "  align-items: stretch;\n",
              "  justify-content: center;\n",
              "  background-color: var(--sklearn-color-background);\n",
              "  position: relative;\n",
              "}\n",
              "\n",
              "#sk-container-id-1 div.sk-parallel-item {\n",
              "  display: flex;\n",
              "  flex-direction: column;\n",
              "}\n",
              "\n",
              "#sk-container-id-1 div.sk-parallel-item:first-child::after {\n",
              "  align-self: flex-end;\n",
              "  width: 50%;\n",
              "}\n",
              "\n",
              "#sk-container-id-1 div.sk-parallel-item:last-child::after {\n",
              "  align-self: flex-start;\n",
              "  width: 50%;\n",
              "}\n",
              "\n",
              "#sk-container-id-1 div.sk-parallel-item:only-child::after {\n",
              "  width: 0;\n",
              "}\n",
              "\n",
              "/* Serial-specific style estimator block */\n",
              "\n",
              "#sk-container-id-1 div.sk-serial {\n",
              "  display: flex;\n",
              "  flex-direction: column;\n",
              "  align-items: center;\n",
              "  background-color: var(--sklearn-color-background);\n",
              "  padding-right: 1em;\n",
              "  padding-left: 1em;\n",
              "}\n",
              "\n",
              "\n",
              "/* Toggleable style: style used for estimator/Pipeline/ColumnTransformer box that is\n",
              "clickable and can be expanded/collapsed.\n",
              "- Pipeline and ColumnTransformer use this feature and define the default style\n",
              "- Estimators will overwrite some part of the style using the `sk-estimator` class\n",
              "*/\n",
              "\n",
              "/* Pipeline and ColumnTransformer style (default) */\n",
              "\n",
              "#sk-container-id-1 div.sk-toggleable {\n",
              "  /* Default theme specific background. It is overwritten whether we have a\n",
              "  specific estimator or a Pipeline/ColumnTransformer */\n",
              "  background-color: var(--sklearn-color-background);\n",
              "}\n",
              "\n",
              "/* Toggleable label */\n",
              "#sk-container-id-1 label.sk-toggleable__label {\n",
              "  cursor: pointer;\n",
              "  display: block;\n",
              "  width: 100%;\n",
              "  margin-bottom: 0;\n",
              "  padding: 0.5em;\n",
              "  box-sizing: border-box;\n",
              "  text-align: center;\n",
              "}\n",
              "\n",
              "#sk-container-id-1 label.sk-toggleable__label-arrow:before {\n",
              "  /* Arrow on the left of the label */\n",
              "  content: \"▸\";\n",
              "  float: left;\n",
              "  margin-right: 0.25em;\n",
              "  color: var(--sklearn-color-icon);\n",
              "}\n",
              "\n",
              "#sk-container-id-1 label.sk-toggleable__label-arrow:hover:before {\n",
              "  color: var(--sklearn-color-text);\n",
              "}\n",
              "\n",
              "/* Toggleable content - dropdown */\n",
              "\n",
              "#sk-container-id-1 div.sk-toggleable__content {\n",
              "  max-height: 0;\n",
              "  max-width: 0;\n",
              "  overflow: hidden;\n",
              "  text-align: left;\n",
              "  /* unfitted */\n",
              "  background-color: var(--sklearn-color-unfitted-level-0);\n",
              "}\n",
              "\n",
              "#sk-container-id-1 div.sk-toggleable__content.fitted {\n",
              "  /* fitted */\n",
              "  background-color: var(--sklearn-color-fitted-level-0);\n",
              "}\n",
              "\n",
              "#sk-container-id-1 div.sk-toggleable__content pre {\n",
              "  margin: 0.2em;\n",
              "  border-radius: 0.25em;\n",
              "  color: var(--sklearn-color-text);\n",
              "  /* unfitted */\n",
              "  background-color: var(--sklearn-color-unfitted-level-0);\n",
              "}\n",
              "\n",
              "#sk-container-id-1 div.sk-toggleable__content.fitted pre {\n",
              "  /* unfitted */\n",
              "  background-color: var(--sklearn-color-fitted-level-0);\n",
              "}\n",
              "\n",
              "#sk-container-id-1 input.sk-toggleable__control:checked~div.sk-toggleable__content {\n",
              "  /* Expand drop-down */\n",
              "  max-height: 200px;\n",
              "  max-width: 100%;\n",
              "  overflow: auto;\n",
              "}\n",
              "\n",
              "#sk-container-id-1 input.sk-toggleable__control:checked~label.sk-toggleable__label-arrow:before {\n",
              "  content: \"▾\";\n",
              "}\n",
              "\n",
              "/* Pipeline/ColumnTransformer-specific style */\n",
              "\n",
              "#sk-container-id-1 div.sk-label input.sk-toggleable__control:checked~label.sk-toggleable__label {\n",
              "  color: var(--sklearn-color-text);\n",
              "  background-color: var(--sklearn-color-unfitted-level-2);\n",
              "}\n",
              "\n",
              "#sk-container-id-1 div.sk-label.fitted input.sk-toggleable__control:checked~label.sk-toggleable__label {\n",
              "  background-color: var(--sklearn-color-fitted-level-2);\n",
              "}\n",
              "\n",
              "/* Estimator-specific style */\n",
              "\n",
              "/* Colorize estimator box */\n",
              "#sk-container-id-1 div.sk-estimator input.sk-toggleable__control:checked~label.sk-toggleable__label {\n",
              "  /* unfitted */\n",
              "  background-color: var(--sklearn-color-unfitted-level-2);\n",
              "}\n",
              "\n",
              "#sk-container-id-1 div.sk-estimator.fitted input.sk-toggleable__control:checked~label.sk-toggleable__label {\n",
              "  /* fitted */\n",
              "  background-color: var(--sklearn-color-fitted-level-2);\n",
              "}\n",
              "\n",
              "#sk-container-id-1 div.sk-label label.sk-toggleable__label,\n",
              "#sk-container-id-1 div.sk-label label {\n",
              "  /* The background is the default theme color */\n",
              "  color: var(--sklearn-color-text-on-default-background);\n",
              "}\n",
              "\n",
              "/* On hover, darken the color of the background */\n",
              "#sk-container-id-1 div.sk-label:hover label.sk-toggleable__label {\n",
              "  color: var(--sklearn-color-text);\n",
              "  background-color: var(--sklearn-color-unfitted-level-2);\n",
              "}\n",
              "\n",
              "/* Label box, darken color on hover, fitted */\n",
              "#sk-container-id-1 div.sk-label.fitted:hover label.sk-toggleable__label.fitted {\n",
              "  color: var(--sklearn-color-text);\n",
              "  background-color: var(--sklearn-color-fitted-level-2);\n",
              "}\n",
              "\n",
              "/* Estimator label */\n",
              "\n",
              "#sk-container-id-1 div.sk-label label {\n",
              "  font-family: monospace;\n",
              "  font-weight: bold;\n",
              "  display: inline-block;\n",
              "  line-height: 1.2em;\n",
              "}\n",
              "\n",
              "#sk-container-id-1 div.sk-label-container {\n",
              "  text-align: center;\n",
              "}\n",
              "\n",
              "/* Estimator-specific */\n",
              "#sk-container-id-1 div.sk-estimator {\n",
              "  font-family: monospace;\n",
              "  border: 1px dotted var(--sklearn-color-border-box);\n",
              "  border-radius: 0.25em;\n",
              "  box-sizing: border-box;\n",
              "  margin-bottom: 0.5em;\n",
              "  /* unfitted */\n",
              "  background-color: var(--sklearn-color-unfitted-level-0);\n",
              "}\n",
              "\n",
              "#sk-container-id-1 div.sk-estimator.fitted {\n",
              "  /* fitted */\n",
              "  background-color: var(--sklearn-color-fitted-level-0);\n",
              "}\n",
              "\n",
              "/* on hover */\n",
              "#sk-container-id-1 div.sk-estimator:hover {\n",
              "  /* unfitted */\n",
              "  background-color: var(--sklearn-color-unfitted-level-2);\n",
              "}\n",
              "\n",
              "#sk-container-id-1 div.sk-estimator.fitted:hover {\n",
              "  /* fitted */\n",
              "  background-color: var(--sklearn-color-fitted-level-2);\n",
              "}\n",
              "\n",
              "/* Specification for estimator info (e.g. \"i\" and \"?\") */\n",
              "\n",
              "/* Common style for \"i\" and \"?\" */\n",
              "\n",
              ".sk-estimator-doc-link,\n",
              "a:link.sk-estimator-doc-link,\n",
              "a:visited.sk-estimator-doc-link {\n",
              "  float: right;\n",
              "  font-size: smaller;\n",
              "  line-height: 1em;\n",
              "  font-family: monospace;\n",
              "  background-color: var(--sklearn-color-background);\n",
              "  border-radius: 1em;\n",
              "  height: 1em;\n",
              "  width: 1em;\n",
              "  text-decoration: none !important;\n",
              "  margin-left: 1ex;\n",
              "  /* unfitted */\n",
              "  border: var(--sklearn-color-unfitted-level-1) 1pt solid;\n",
              "  color: var(--sklearn-color-unfitted-level-1);\n",
              "}\n",
              "\n",
              ".sk-estimator-doc-link.fitted,\n",
              "a:link.sk-estimator-doc-link.fitted,\n",
              "a:visited.sk-estimator-doc-link.fitted {\n",
              "  /* fitted */\n",
              "  border: var(--sklearn-color-fitted-level-1) 1pt solid;\n",
              "  color: var(--sklearn-color-fitted-level-1);\n",
              "}\n",
              "\n",
              "/* On hover */\n",
              "div.sk-estimator:hover .sk-estimator-doc-link:hover,\n",
              ".sk-estimator-doc-link:hover,\n",
              "div.sk-label-container:hover .sk-estimator-doc-link:hover,\n",
              ".sk-estimator-doc-link:hover {\n",
              "  /* unfitted */\n",
              "  background-color: var(--sklearn-color-unfitted-level-3);\n",
              "  color: var(--sklearn-color-background);\n",
              "  text-decoration: none;\n",
              "}\n",
              "\n",
              "div.sk-estimator.fitted:hover .sk-estimator-doc-link.fitted:hover,\n",
              ".sk-estimator-doc-link.fitted:hover,\n",
              "div.sk-label-container:hover .sk-estimator-doc-link.fitted:hover,\n",
              ".sk-estimator-doc-link.fitted:hover {\n",
              "  /* fitted */\n",
              "  background-color: var(--sklearn-color-fitted-level-3);\n",
              "  color: var(--sklearn-color-background);\n",
              "  text-decoration: none;\n",
              "}\n",
              "\n",
              "/* Span, style for the box shown on hovering the info icon */\n",
              ".sk-estimator-doc-link span {\n",
              "  display: none;\n",
              "  z-index: 9999;\n",
              "  position: relative;\n",
              "  font-weight: normal;\n",
              "  right: .2ex;\n",
              "  padding: .5ex;\n",
              "  margin: .5ex;\n",
              "  width: min-content;\n",
              "  min-width: 20ex;\n",
              "  max-width: 50ex;\n",
              "  color: var(--sklearn-color-text);\n",
              "  box-shadow: 2pt 2pt 4pt #999;\n",
              "  /* unfitted */\n",
              "  background: var(--sklearn-color-unfitted-level-0);\n",
              "  border: .5pt solid var(--sklearn-color-unfitted-level-3);\n",
              "}\n",
              "\n",
              ".sk-estimator-doc-link.fitted span {\n",
              "  /* fitted */\n",
              "  background: var(--sklearn-color-fitted-level-0);\n",
              "  border: var(--sklearn-color-fitted-level-3);\n",
              "}\n",
              "\n",
              ".sk-estimator-doc-link:hover span {\n",
              "  display: block;\n",
              "}\n",
              "\n",
              "/* \"?\"-specific style due to the `<a>` HTML tag */\n",
              "\n",
              "#sk-container-id-1 a.estimator_doc_link {\n",
              "  float: right;\n",
              "  font-size: 1rem;\n",
              "  line-height: 1em;\n",
              "  font-family: monospace;\n",
              "  background-color: var(--sklearn-color-background);\n",
              "  border-radius: 1rem;\n",
              "  height: 1rem;\n",
              "  width: 1rem;\n",
              "  text-decoration: none;\n",
              "  /* unfitted */\n",
              "  color: var(--sklearn-color-unfitted-level-1);\n",
              "  border: var(--sklearn-color-unfitted-level-1) 1pt solid;\n",
              "}\n",
              "\n",
              "#sk-container-id-1 a.estimator_doc_link.fitted {\n",
              "  /* fitted */\n",
              "  border: var(--sklearn-color-fitted-level-1) 1pt solid;\n",
              "  color: var(--sklearn-color-fitted-level-1);\n",
              "}\n",
              "\n",
              "/* On hover */\n",
              "#sk-container-id-1 a.estimator_doc_link:hover {\n",
              "  /* unfitted */\n",
              "  background-color: var(--sklearn-color-unfitted-level-3);\n",
              "  color: var(--sklearn-color-background);\n",
              "  text-decoration: none;\n",
              "}\n",
              "\n",
              "#sk-container-id-1 a.estimator_doc_link.fitted:hover {\n",
              "  /* fitted */\n",
              "  background-color: var(--sklearn-color-fitted-level-3);\n",
              "}\n",
              "</style><div id=\"sk-container-id-1\" class=\"sk-top-container\"><div class=\"sk-text-repr-fallback\"><pre>RandomizedSearchCV(estimator=Pipeline(steps=[(&#x27;preprocessor&#x27;,\n",
              "                                              ColumnTransformer(remainder=&#x27;passthrough&#x27;,\n",
              "                                                                transformers=[(&#x27;ohe&#x27;,\n",
              "                                                                               Pipeline(steps=[(&#x27;simple_imputer_ohe&#x27;,\n",
              "                                                                                                SimpleImputer(strategy=&#x27;most_frequent&#x27;)),\n",
              "                                                                                               (&#x27;ohe&#x27;,\n",
              "                                                                                                OneHotEncoder(drop=&#x27;first&#x27;,\n",
              "                                                                                                              handle_unknown=&#x27;ignore&#x27;,\n",
              "                                                                                                              sparse_output=False))]),\n",
              "                                                                               [&#x27;vehicle_type&#x27;,\n",
              "                                                                                &#x27;gearbox&#x27;,\n",
              "                                                                                &#x27;model&#x27;,\n",
              "                                                                                &#x27;fuel_type&#x27;,\n",
              "                                                                                &#x27;repaired&#x27;]),\n",
              "                                                                              (&#x27;num&#x27;,\n",
              "                                                                               StandardScaler(),\n",
              "                                                                               [&#x27;registration_year&#x27;,\n",
              "                                                                                &#x27;power&#x27;,\n",
              "                                                                                &#x27;kilometer&#x27;])])),\n",
              "                                             (&#x27;models&#x27;,\n",
              "                                              LGBMRegressor(random_state=42))]),\n",
              "                   n_jobs=-1,\n",
              "                   param_distributions=[{&#x27;models&#x27;: [LGBMRegressor(random_state=42)],\n",
              "                                         &#x27;models__max_depth&#x27;: range(2, 12, 2),\n",
              "                                         &#x27;models__n_estimators&#x27;: [100, 250,\n",
              "                                                                  500]}],\n",
              "                   random_state=42, scoring=&#x27;neg_root_mean_squared_error&#x27;)</pre><b>In a Jupyter environment, please rerun this cell to show the HTML representation or trust the notebook. <br />On GitHub, the HTML representation is unable to render, please try loading this page with nbviewer.org.</b></div><div class=\"sk-container\" hidden><div class=\"sk-item sk-dashed-wrapped\"><div class=\"sk-label-container\"><div class=\"sk-label fitted sk-toggleable\"><input class=\"sk-toggleable__control sk-hidden--visually\" id=\"sk-estimator-id-1\" type=\"checkbox\" ><label for=\"sk-estimator-id-1\" class=\"sk-toggleable__label fitted sk-toggleable__label-arrow fitted\">&nbsp;&nbsp;RandomizedSearchCV<a class=\"sk-estimator-doc-link fitted\" rel=\"noreferrer\" target=\"_blank\" href=\"https://scikit-learn.org/1.5/modules/generated/sklearn.model_selection.RandomizedSearchCV.html\">?<span>Documentation for RandomizedSearchCV</span></a><span class=\"sk-estimator-doc-link fitted\">i<span>Fitted</span></span></label><div class=\"sk-toggleable__content fitted\"><pre>RandomizedSearchCV(estimator=Pipeline(steps=[(&#x27;preprocessor&#x27;,\n",
              "                                              ColumnTransformer(remainder=&#x27;passthrough&#x27;,\n",
              "                                                                transformers=[(&#x27;ohe&#x27;,\n",
              "                                                                               Pipeline(steps=[(&#x27;simple_imputer_ohe&#x27;,\n",
              "                                                                                                SimpleImputer(strategy=&#x27;most_frequent&#x27;)),\n",
              "                                                                                               (&#x27;ohe&#x27;,\n",
              "                                                                                                OneHotEncoder(drop=&#x27;first&#x27;,\n",
              "                                                                                                              handle_unknown=&#x27;ignore&#x27;,\n",
              "                                                                                                              sparse_output=False))]),\n",
              "                                                                               [&#x27;vehicle_type&#x27;,\n",
              "                                                                                &#x27;gearbox&#x27;,\n",
              "                                                                                &#x27;model&#x27;,\n",
              "                                                                                &#x27;fuel_type&#x27;,\n",
              "                                                                                &#x27;repaired&#x27;]),\n",
              "                                                                              (&#x27;num&#x27;,\n",
              "                                                                               StandardScaler(),\n",
              "                                                                               [&#x27;registration_year&#x27;,\n",
              "                                                                                &#x27;power&#x27;,\n",
              "                                                                                &#x27;kilometer&#x27;])])),\n",
              "                                             (&#x27;models&#x27;,\n",
              "                                              LGBMRegressor(random_state=42))]),\n",
              "                   n_jobs=-1,\n",
              "                   param_distributions=[{&#x27;models&#x27;: [LGBMRegressor(random_state=42)],\n",
              "                                         &#x27;models__max_depth&#x27;: range(2, 12, 2),\n",
              "                                         &#x27;models__n_estimators&#x27;: [100, 250,\n",
              "                                                                  500]}],\n",
              "                   random_state=42, scoring=&#x27;neg_root_mean_squared_error&#x27;)</pre></div> </div></div><div class=\"sk-parallel\"><div class=\"sk-parallel-item\"><div class=\"sk-item\"><div class=\"sk-label-container\"><div class=\"sk-label fitted sk-toggleable\"><input class=\"sk-toggleable__control sk-hidden--visually\" id=\"sk-estimator-id-2\" type=\"checkbox\" ><label for=\"sk-estimator-id-2\" class=\"sk-toggleable__label fitted sk-toggleable__label-arrow fitted\">best_estimator_: Pipeline</label><div class=\"sk-toggleable__content fitted\"><pre>Pipeline(steps=[(&#x27;preprocessor&#x27;,\n",
              "                 ColumnTransformer(remainder=&#x27;passthrough&#x27;,\n",
              "                                   transformers=[(&#x27;ohe&#x27;,\n",
              "                                                  Pipeline(steps=[(&#x27;simple_imputer_ohe&#x27;,\n",
              "                                                                   SimpleImputer(strategy=&#x27;most_frequent&#x27;)),\n",
              "                                                                  (&#x27;ohe&#x27;,\n",
              "                                                                   OneHotEncoder(drop=&#x27;first&#x27;,\n",
              "                                                                                 handle_unknown=&#x27;ignore&#x27;,\n",
              "                                                                                 sparse_output=False))]),\n",
              "                                                  [&#x27;vehicle_type&#x27;, &#x27;gearbox&#x27;,\n",
              "                                                   &#x27;model&#x27;, &#x27;fuel_type&#x27;,\n",
              "                                                   &#x27;repaired&#x27;]),\n",
              "                                                 (&#x27;num&#x27;, StandardScaler(),\n",
              "                                                  [&#x27;registration_year&#x27;, &#x27;power&#x27;,\n",
              "                                                   &#x27;kilometer&#x27;])])),\n",
              "                (&#x27;models&#x27;,\n",
              "                 LGBMRegressor(max_depth=10, n_estimators=500,\n",
              "                               random_state=42))])</pre></div> </div></div><div class=\"sk-serial\"><div class=\"sk-item\"><div class=\"sk-serial\"><div class=\"sk-item sk-dashed-wrapped\"><div class=\"sk-label-container\"><div class=\"sk-label fitted sk-toggleable\"><input class=\"sk-toggleable__control sk-hidden--visually\" id=\"sk-estimator-id-3\" type=\"checkbox\" ><label for=\"sk-estimator-id-3\" class=\"sk-toggleable__label fitted sk-toggleable__label-arrow fitted\">&nbsp;preprocessor: ColumnTransformer<a class=\"sk-estimator-doc-link fitted\" rel=\"noreferrer\" target=\"_blank\" href=\"https://scikit-learn.org/1.5/modules/generated/sklearn.compose.ColumnTransformer.html\">?<span>Documentation for preprocessor: ColumnTransformer</span></a></label><div class=\"sk-toggleable__content fitted\"><pre>ColumnTransformer(remainder=&#x27;passthrough&#x27;,\n",
              "                  transformers=[(&#x27;ohe&#x27;,\n",
              "                                 Pipeline(steps=[(&#x27;simple_imputer_ohe&#x27;,\n",
              "                                                  SimpleImputer(strategy=&#x27;most_frequent&#x27;)),\n",
              "                                                 (&#x27;ohe&#x27;,\n",
              "                                                  OneHotEncoder(drop=&#x27;first&#x27;,\n",
              "                                                                handle_unknown=&#x27;ignore&#x27;,\n",
              "                                                                sparse_output=False))]),\n",
              "                                 [&#x27;vehicle_type&#x27;, &#x27;gearbox&#x27;, &#x27;model&#x27;,\n",
              "                                  &#x27;fuel_type&#x27;, &#x27;repaired&#x27;]),\n",
              "                                (&#x27;num&#x27;, StandardScaler(),\n",
              "                                 [&#x27;registration_year&#x27;, &#x27;power&#x27;, &#x27;kilometer&#x27;])])</pre></div> </div></div><div class=\"sk-parallel\"><div class=\"sk-parallel-item\"><div class=\"sk-item\"><div class=\"sk-label-container\"><div class=\"sk-label fitted sk-toggleable\"><input class=\"sk-toggleable__control sk-hidden--visually\" id=\"sk-estimator-id-4\" type=\"checkbox\" ><label for=\"sk-estimator-id-4\" class=\"sk-toggleable__label fitted sk-toggleable__label-arrow fitted\">ohe</label><div class=\"sk-toggleable__content fitted\"><pre>[&#x27;vehicle_type&#x27;, &#x27;gearbox&#x27;, &#x27;model&#x27;, &#x27;fuel_type&#x27;, &#x27;repaired&#x27;]</pre></div> </div></div><div class=\"sk-serial\"><div class=\"sk-item\"><div class=\"sk-serial\"><div class=\"sk-item\"><div class=\"sk-estimator fitted sk-toggleable\"><input class=\"sk-toggleable__control sk-hidden--visually\" id=\"sk-estimator-id-5\" type=\"checkbox\" ><label for=\"sk-estimator-id-5\" class=\"sk-toggleable__label fitted sk-toggleable__label-arrow fitted\">&nbsp;SimpleImputer<a class=\"sk-estimator-doc-link fitted\" rel=\"noreferrer\" target=\"_blank\" href=\"https://scikit-learn.org/1.5/modules/generated/sklearn.impute.SimpleImputer.html\">?<span>Documentation for SimpleImputer</span></a></label><div class=\"sk-toggleable__content fitted\"><pre>SimpleImputer(strategy=&#x27;most_frequent&#x27;)</pre></div> </div></div><div class=\"sk-item\"><div class=\"sk-estimator fitted sk-toggleable\"><input class=\"sk-toggleable__control sk-hidden--visually\" id=\"sk-estimator-id-6\" type=\"checkbox\" ><label for=\"sk-estimator-id-6\" class=\"sk-toggleable__label fitted sk-toggleable__label-arrow fitted\">&nbsp;OneHotEncoder<a class=\"sk-estimator-doc-link fitted\" rel=\"noreferrer\" target=\"_blank\" href=\"https://scikit-learn.org/1.5/modules/generated/sklearn.preprocessing.OneHotEncoder.html\">?<span>Documentation for OneHotEncoder</span></a></label><div class=\"sk-toggleable__content fitted\"><pre>OneHotEncoder(drop=&#x27;first&#x27;, handle_unknown=&#x27;ignore&#x27;, sparse_output=False)</pre></div> </div></div></div></div></div></div></div><div class=\"sk-parallel-item\"><div class=\"sk-item\"><div class=\"sk-label-container\"><div class=\"sk-label fitted sk-toggleable\"><input class=\"sk-toggleable__control sk-hidden--visually\" id=\"sk-estimator-id-7\" type=\"checkbox\" ><label for=\"sk-estimator-id-7\" class=\"sk-toggleable__label fitted sk-toggleable__label-arrow fitted\">num</label><div class=\"sk-toggleable__content fitted\"><pre>[&#x27;registration_year&#x27;, &#x27;power&#x27;, &#x27;kilometer&#x27;]</pre></div> </div></div><div class=\"sk-serial\"><div class=\"sk-item\"><div class=\"sk-estimator fitted sk-toggleable\"><input class=\"sk-toggleable__control sk-hidden--visually\" id=\"sk-estimator-id-8\" type=\"checkbox\" ><label for=\"sk-estimator-id-8\" class=\"sk-toggleable__label fitted sk-toggleable__label-arrow fitted\">&nbsp;StandardScaler<a class=\"sk-estimator-doc-link fitted\" rel=\"noreferrer\" target=\"_blank\" href=\"https://scikit-learn.org/1.5/modules/generated/sklearn.preprocessing.StandardScaler.html\">?<span>Documentation for StandardScaler</span></a></label><div class=\"sk-toggleable__content fitted\"><pre>StandardScaler()</pre></div> </div></div></div></div></div><div class=\"sk-parallel-item\"><div class=\"sk-item\"><div class=\"sk-label-container\"><div class=\"sk-label fitted sk-toggleable\"><input class=\"sk-toggleable__control sk-hidden--visually\" id=\"sk-estimator-id-9\" type=\"checkbox\" ><label for=\"sk-estimator-id-9\" class=\"sk-toggleable__label fitted sk-toggleable__label-arrow fitted\">remainder</label><div class=\"sk-toggleable__content fitted\"><pre>[]</pre></div> </div></div><div class=\"sk-serial\"><div class=\"sk-item\"><div class=\"sk-estimator fitted sk-toggleable\"><input class=\"sk-toggleable__control sk-hidden--visually\" id=\"sk-estimator-id-10\" type=\"checkbox\" ><label for=\"sk-estimator-id-10\" class=\"sk-toggleable__label fitted sk-toggleable__label-arrow fitted\">passthrough</label><div class=\"sk-toggleable__content fitted\"><pre>passthrough</pre></div> </div></div></div></div></div></div></div><div class=\"sk-item\"><div class=\"sk-estimator fitted sk-toggleable\"><input class=\"sk-toggleable__control sk-hidden--visually\" id=\"sk-estimator-id-11\" type=\"checkbox\" ><label for=\"sk-estimator-id-11\" class=\"sk-toggleable__label fitted sk-toggleable__label-arrow fitted\">LGBMRegressor</label><div class=\"sk-toggleable__content fitted\"><pre>LGBMRegressor(max_depth=10, n_estimators=500, random_state=42)</pre></div> </div></div></div></div></div></div></div></div></div></div></div>"
            ],
            "text/plain": [
              "RandomizedSearchCV(estimator=Pipeline(steps=[('preprocessor',\n",
              "                                              ColumnTransformer(remainder='passthrough',\n",
              "                                                                transformers=[('ohe',\n",
              "                                                                               Pipeline(steps=[('simple_imputer_ohe',\n",
              "                                                                                                SimpleImputer(strategy='most_frequent')),\n",
              "                                                                                               ('ohe',\n",
              "                                                                                                OneHotEncoder(drop='first',\n",
              "                                                                                                              handle_unknown='ignore',\n",
              "                                                                                                              sparse_output=False))]),\n",
              "                                                                               ['vehicle_type',\n",
              "                                                                                'gearbox',\n",
              "                                                                                'model',\n",
              "                                                                                'fuel_type',\n",
              "                                                                                'repaired']),\n",
              "                                                                              ('num',\n",
              "                                                                               StandardScaler(),\n",
              "                                                                               ['registration_year',\n",
              "                                                                                'power',\n",
              "                                                                                'kilometer'])])),\n",
              "                                             ('models',\n",
              "                                              LGBMRegressor(random_state=42))]),\n",
              "                   n_jobs=-1,\n",
              "                   param_distributions=[{'models': [LGBMRegressor(random_state=42)],\n",
              "                                         'models__max_depth': range(2, 12, 2),\n",
              "                                         'models__n_estimators': [100, 250,\n",
              "                                                                  500]}],\n",
              "                   random_state=42, scoring='neg_root_mean_squared_error')"
            ]
          },
          "execution_count": 55,
          "metadata": {},
          "output_type": "execute_result"
        }
      ],
      "source": [
        "randomized_search_lgbm = RandomizedSearchCV(\n",
        "    lgbm,\n",
        "    param_distribution,\n",
        "    scoring='neg_root_mean_squared_error',\n",
        "    random_state=RANDOM_STATE,\n",
        "    n_jobs=-1\n",
        ")\n",
        "randomized_search_lgbm.fit(X_train, y_train)"
      ]
    },
    {
      "cell_type": "markdown",
      "metadata": {
        "id": "05klotXvFACs"
      },
      "source": [
        "Сохраним время обучения и время предсказания в отдельные переменные"
      ]
    },
    {
      "cell_type": "code",
      "execution_count": null,
      "metadata": {
        "id": "0CNK1rHFFACs"
      },
      "outputs": [],
      "source": [
        "lgbm_res = pd.DataFrame(randomized_search_lgbm.cv_results_)\n",
        "lgbm_fit_time = lgbm_res.loc[(lgbm_res['param_models__n_estimators'] == 500) &\n",
        "       (lgbm_res['param_models__max_depth'] == 10), 'mean_fit_time'].values[0]\n",
        "lgbm_pred_time = lgbm_res.loc[(lgbm_res['param_models__n_estimators'] == 500) &\n",
        "       (lgbm_res['param_models__max_depth'] == 10), 'mean_score_time'].values[0]"
      ]
    },
    {
      "cell_type": "markdown",
      "metadata": {
        "id": "ZLbUC31fFACs"
      },
      "source": [
        "Выведем время обучения полученной модели и её качество на обучающей выборке"
      ]
    },
    {
      "cell_type": "code",
      "execution_count": null,
      "metadata": {
        "id": "GhvwtlGEFACs",
        "outputId": "999ab9be-8b13-40e4-f2de-2b17e322971a"
      },
      "outputs": [
        {
          "name": "stdout",
          "output_type": "stream",
          "text": [
            "Время обучения: 15.11 с.\n",
            "Время предсказания: 1.95 с.\n",
            "RMSE на кросс-валидации 1674.9\n"
          ]
        }
      ],
      "source": [
        "print(f'Время обучения: {round(lgbm_fit_time, 2)} с.')\n",
        "print(f'Время предсказания: {round(lgbm_pred_time, 2)} с.')\n",
        "print('RMSE на кросс-валидации', round((-1) * randomized_search_lgbm.best_score_, 2))"
      ]
    },
    {
      "cell_type": "markdown",
      "metadata": {
        "id": "qyBy-mD-FACs"
      },
      "source": [
        "- Время: обучение составило 15.11 секунды, а предсказание 1.95 секунды.  \n",
        "- Качество: достигнут необходимый уровень качества модели, RMSE = 1674.9 (RMSE < 2500)"
      ]
    },
    {
      "cell_type": "markdown",
      "metadata": {
        "id": "wuUe-3uUFACt"
      },
      "source": [
        "### CatBoostRegressor"
      ]
    },
    {
      "cell_type": "code",
      "execution_count": null,
      "metadata": {
        "id": "JL2AaRn1FACt"
      },
      "outputs": [],
      "source": [
        "X_train[ohe_cols] = X_train[ohe_cols].astype('object')\n",
        "X_test[ohe_cols] = X_test[ohe_cols].astype('object')"
      ]
    },
    {
      "cell_type": "markdown",
      "metadata": {
        "id": "mdj_FVmqFACt"
      },
      "source": [
        "Так как CatBoost может работать с немасштабированными количественными признаками и категориальными характеристиками, можем обучить модель, не используя пайплайн, но предварительно заполним пропуски:"
      ]
    },
    {
      "cell_type": "code",
      "execution_count": null,
      "metadata": {
        "id": "2Av6i5Q_FACt"
      },
      "outputs": [],
      "source": [
        "imputer = SimpleImputer(strategy='most_frequent')\n",
        "X_train[ohe_cols] = imputer.fit_transform(X_train[ohe_cols])\n",
        "X_test[ohe_cols] = imputer.fit_transform(X_test[ohe_cols])"
      ]
    },
    {
      "cell_type": "markdown",
      "metadata": {
        "id": "lduzkJ64FACt"
      },
      "source": [
        "Инициализируем модель"
      ]
    },
    {
      "cell_type": "code",
      "execution_count": null,
      "metadata": {
        "id": "vQZa8AgAFACt"
      },
      "outputs": [],
      "source": [
        "cb = CatBoostRegressor(cat_features=ohe_cols, random_state=RANDOM_STATE, verbose=False)"
      ]
    },
    {
      "cell_type": "code",
      "execution_count": null,
      "metadata": {
        "id": "zFrKFUWDFACt"
      },
      "outputs": [],
      "source": [
        "param_grid_cb = {\n",
        "    'depth': [4, 8],\n",
        "    'iterations': [250, 500]\n",
        "}"
      ]
    },
    {
      "cell_type": "markdown",
      "metadata": {
        "id": "tl5qB-x-FACx"
      },
      "source": [
        "Подбираем оптимальную модель"
      ]
    },
    {
      "cell_type": "code",
      "execution_count": null,
      "metadata": {
        "id": "4n0w2qkNFACy",
        "outputId": "42cfb26f-6143-4302-da5f-f37d00d8529d"
      },
      "outputs": [
        {
          "data": {
            "text/html": [
              "<style>#sk-container-id-2 {\n",
              "  /* Definition of color scheme common for light and dark mode */\n",
              "  --sklearn-color-text: black;\n",
              "  --sklearn-color-line: gray;\n",
              "  /* Definition of color scheme for unfitted estimators */\n",
              "  --sklearn-color-unfitted-level-0: #fff5e6;\n",
              "  --sklearn-color-unfitted-level-1: #f6e4d2;\n",
              "  --sklearn-color-unfitted-level-2: #ffe0b3;\n",
              "  --sklearn-color-unfitted-level-3: chocolate;\n",
              "  /* Definition of color scheme for fitted estimators */\n",
              "  --sklearn-color-fitted-level-0: #f0f8ff;\n",
              "  --sklearn-color-fitted-level-1: #d4ebff;\n",
              "  --sklearn-color-fitted-level-2: #b3dbfd;\n",
              "  --sklearn-color-fitted-level-3: cornflowerblue;\n",
              "\n",
              "  /* Specific color for light theme */\n",
              "  --sklearn-color-text-on-default-background: var(--sg-text-color, var(--theme-code-foreground, var(--jp-content-font-color1, black)));\n",
              "  --sklearn-color-background: var(--sg-background-color, var(--theme-background, var(--jp-layout-color0, white)));\n",
              "  --sklearn-color-border-box: var(--sg-text-color, var(--theme-code-foreground, var(--jp-content-font-color1, black)));\n",
              "  --sklearn-color-icon: #696969;\n",
              "\n",
              "  @media (prefers-color-scheme: dark) {\n",
              "    /* Redefinition of color scheme for dark theme */\n",
              "    --sklearn-color-text-on-default-background: var(--sg-text-color, var(--theme-code-foreground, var(--jp-content-font-color1, white)));\n",
              "    --sklearn-color-background: var(--sg-background-color, var(--theme-background, var(--jp-layout-color0, #111)));\n",
              "    --sklearn-color-border-box: var(--sg-text-color, var(--theme-code-foreground, var(--jp-content-font-color1, white)));\n",
              "    --sklearn-color-icon: #878787;\n",
              "  }\n",
              "}\n",
              "\n",
              "#sk-container-id-2 {\n",
              "  color: var(--sklearn-color-text);\n",
              "}\n",
              "\n",
              "#sk-container-id-2 pre {\n",
              "  padding: 0;\n",
              "}\n",
              "\n",
              "#sk-container-id-2 input.sk-hidden--visually {\n",
              "  border: 0;\n",
              "  clip: rect(1px 1px 1px 1px);\n",
              "  clip: rect(1px, 1px, 1px, 1px);\n",
              "  height: 1px;\n",
              "  margin: -1px;\n",
              "  overflow: hidden;\n",
              "  padding: 0;\n",
              "  position: absolute;\n",
              "  width: 1px;\n",
              "}\n",
              "\n",
              "#sk-container-id-2 div.sk-dashed-wrapped {\n",
              "  border: 1px dashed var(--sklearn-color-line);\n",
              "  margin: 0 0.4em 0.5em 0.4em;\n",
              "  box-sizing: border-box;\n",
              "  padding-bottom: 0.4em;\n",
              "  background-color: var(--sklearn-color-background);\n",
              "}\n",
              "\n",
              "#sk-container-id-2 div.sk-container {\n",
              "  /* jupyter's `normalize.less` sets `[hidden] { display: none; }`\n",
              "     but bootstrap.min.css set `[hidden] { display: none !important; }`\n",
              "     so we also need the `!important` here to be able to override the\n",
              "     default hidden behavior on the sphinx rendered scikit-learn.org.\n",
              "     See: https://github.com/scikit-learn/scikit-learn/issues/21755 */\n",
              "  display: inline-block !important;\n",
              "  position: relative;\n",
              "}\n",
              "\n",
              "#sk-container-id-2 div.sk-text-repr-fallback {\n",
              "  display: none;\n",
              "}\n",
              "\n",
              "div.sk-parallel-item,\n",
              "div.sk-serial,\n",
              "div.sk-item {\n",
              "  /* draw centered vertical line to link estimators */\n",
              "  background-image: linear-gradient(var(--sklearn-color-text-on-default-background), var(--sklearn-color-text-on-default-background));\n",
              "  background-size: 2px 100%;\n",
              "  background-repeat: no-repeat;\n",
              "  background-position: center center;\n",
              "}\n",
              "\n",
              "/* Parallel-specific style estimator block */\n",
              "\n",
              "#sk-container-id-2 div.sk-parallel-item::after {\n",
              "  content: \"\";\n",
              "  width: 100%;\n",
              "  border-bottom: 2px solid var(--sklearn-color-text-on-default-background);\n",
              "  flex-grow: 1;\n",
              "}\n",
              "\n",
              "#sk-container-id-2 div.sk-parallel {\n",
              "  display: flex;\n",
              "  align-items: stretch;\n",
              "  justify-content: center;\n",
              "  background-color: var(--sklearn-color-background);\n",
              "  position: relative;\n",
              "}\n",
              "\n",
              "#sk-container-id-2 div.sk-parallel-item {\n",
              "  display: flex;\n",
              "  flex-direction: column;\n",
              "}\n",
              "\n",
              "#sk-container-id-2 div.sk-parallel-item:first-child::after {\n",
              "  align-self: flex-end;\n",
              "  width: 50%;\n",
              "}\n",
              "\n",
              "#sk-container-id-2 div.sk-parallel-item:last-child::after {\n",
              "  align-self: flex-start;\n",
              "  width: 50%;\n",
              "}\n",
              "\n",
              "#sk-container-id-2 div.sk-parallel-item:only-child::after {\n",
              "  width: 0;\n",
              "}\n",
              "\n",
              "/* Serial-specific style estimator block */\n",
              "\n",
              "#sk-container-id-2 div.sk-serial {\n",
              "  display: flex;\n",
              "  flex-direction: column;\n",
              "  align-items: center;\n",
              "  background-color: var(--sklearn-color-background);\n",
              "  padding-right: 1em;\n",
              "  padding-left: 1em;\n",
              "}\n",
              "\n",
              "\n",
              "/* Toggleable style: style used for estimator/Pipeline/ColumnTransformer box that is\n",
              "clickable and can be expanded/collapsed.\n",
              "- Pipeline and ColumnTransformer use this feature and define the default style\n",
              "- Estimators will overwrite some part of the style using the `sk-estimator` class\n",
              "*/\n",
              "\n",
              "/* Pipeline and ColumnTransformer style (default) */\n",
              "\n",
              "#sk-container-id-2 div.sk-toggleable {\n",
              "  /* Default theme specific background. It is overwritten whether we have a\n",
              "  specific estimator or a Pipeline/ColumnTransformer */\n",
              "  background-color: var(--sklearn-color-background);\n",
              "}\n",
              "\n",
              "/* Toggleable label */\n",
              "#sk-container-id-2 label.sk-toggleable__label {\n",
              "  cursor: pointer;\n",
              "  display: block;\n",
              "  width: 100%;\n",
              "  margin-bottom: 0;\n",
              "  padding: 0.5em;\n",
              "  box-sizing: border-box;\n",
              "  text-align: center;\n",
              "}\n",
              "\n",
              "#sk-container-id-2 label.sk-toggleable__label-arrow:before {\n",
              "  /* Arrow on the left of the label */\n",
              "  content: \"▸\";\n",
              "  float: left;\n",
              "  margin-right: 0.25em;\n",
              "  color: var(--sklearn-color-icon);\n",
              "}\n",
              "\n",
              "#sk-container-id-2 label.sk-toggleable__label-arrow:hover:before {\n",
              "  color: var(--sklearn-color-text);\n",
              "}\n",
              "\n",
              "/* Toggleable content - dropdown */\n",
              "\n",
              "#sk-container-id-2 div.sk-toggleable__content {\n",
              "  max-height: 0;\n",
              "  max-width: 0;\n",
              "  overflow: hidden;\n",
              "  text-align: left;\n",
              "  /* unfitted */\n",
              "  background-color: var(--sklearn-color-unfitted-level-0);\n",
              "}\n",
              "\n",
              "#sk-container-id-2 div.sk-toggleable__content.fitted {\n",
              "  /* fitted */\n",
              "  background-color: var(--sklearn-color-fitted-level-0);\n",
              "}\n",
              "\n",
              "#sk-container-id-2 div.sk-toggleable__content pre {\n",
              "  margin: 0.2em;\n",
              "  border-radius: 0.25em;\n",
              "  color: var(--sklearn-color-text);\n",
              "  /* unfitted */\n",
              "  background-color: var(--sklearn-color-unfitted-level-0);\n",
              "}\n",
              "\n",
              "#sk-container-id-2 div.sk-toggleable__content.fitted pre {\n",
              "  /* unfitted */\n",
              "  background-color: var(--sklearn-color-fitted-level-0);\n",
              "}\n",
              "\n",
              "#sk-container-id-2 input.sk-toggleable__control:checked~div.sk-toggleable__content {\n",
              "  /* Expand drop-down */\n",
              "  max-height: 200px;\n",
              "  max-width: 100%;\n",
              "  overflow: auto;\n",
              "}\n",
              "\n",
              "#sk-container-id-2 input.sk-toggleable__control:checked~label.sk-toggleable__label-arrow:before {\n",
              "  content: \"▾\";\n",
              "}\n",
              "\n",
              "/* Pipeline/ColumnTransformer-specific style */\n",
              "\n",
              "#sk-container-id-2 div.sk-label input.sk-toggleable__control:checked~label.sk-toggleable__label {\n",
              "  color: var(--sklearn-color-text);\n",
              "  background-color: var(--sklearn-color-unfitted-level-2);\n",
              "}\n",
              "\n",
              "#sk-container-id-2 div.sk-label.fitted input.sk-toggleable__control:checked~label.sk-toggleable__label {\n",
              "  background-color: var(--sklearn-color-fitted-level-2);\n",
              "}\n",
              "\n",
              "/* Estimator-specific style */\n",
              "\n",
              "/* Colorize estimator box */\n",
              "#sk-container-id-2 div.sk-estimator input.sk-toggleable__control:checked~label.sk-toggleable__label {\n",
              "  /* unfitted */\n",
              "  background-color: var(--sklearn-color-unfitted-level-2);\n",
              "}\n",
              "\n",
              "#sk-container-id-2 div.sk-estimator.fitted input.sk-toggleable__control:checked~label.sk-toggleable__label {\n",
              "  /* fitted */\n",
              "  background-color: var(--sklearn-color-fitted-level-2);\n",
              "}\n",
              "\n",
              "#sk-container-id-2 div.sk-label label.sk-toggleable__label,\n",
              "#sk-container-id-2 div.sk-label label {\n",
              "  /* The background is the default theme color */\n",
              "  color: var(--sklearn-color-text-on-default-background);\n",
              "}\n",
              "\n",
              "/* On hover, darken the color of the background */\n",
              "#sk-container-id-2 div.sk-label:hover label.sk-toggleable__label {\n",
              "  color: var(--sklearn-color-text);\n",
              "  background-color: var(--sklearn-color-unfitted-level-2);\n",
              "}\n",
              "\n",
              "/* Label box, darken color on hover, fitted */\n",
              "#sk-container-id-2 div.sk-label.fitted:hover label.sk-toggleable__label.fitted {\n",
              "  color: var(--sklearn-color-text);\n",
              "  background-color: var(--sklearn-color-fitted-level-2);\n",
              "}\n",
              "\n",
              "/* Estimator label */\n",
              "\n",
              "#sk-container-id-2 div.sk-label label {\n",
              "  font-family: monospace;\n",
              "  font-weight: bold;\n",
              "  display: inline-block;\n",
              "  line-height: 1.2em;\n",
              "}\n",
              "\n",
              "#sk-container-id-2 div.sk-label-container {\n",
              "  text-align: center;\n",
              "}\n",
              "\n",
              "/* Estimator-specific */\n",
              "#sk-container-id-2 div.sk-estimator {\n",
              "  font-family: monospace;\n",
              "  border: 1px dotted var(--sklearn-color-border-box);\n",
              "  border-radius: 0.25em;\n",
              "  box-sizing: border-box;\n",
              "  margin-bottom: 0.5em;\n",
              "  /* unfitted */\n",
              "  background-color: var(--sklearn-color-unfitted-level-0);\n",
              "}\n",
              "\n",
              "#sk-container-id-2 div.sk-estimator.fitted {\n",
              "  /* fitted */\n",
              "  background-color: var(--sklearn-color-fitted-level-0);\n",
              "}\n",
              "\n",
              "/* on hover */\n",
              "#sk-container-id-2 div.sk-estimator:hover {\n",
              "  /* unfitted */\n",
              "  background-color: var(--sklearn-color-unfitted-level-2);\n",
              "}\n",
              "\n",
              "#sk-container-id-2 div.sk-estimator.fitted:hover {\n",
              "  /* fitted */\n",
              "  background-color: var(--sklearn-color-fitted-level-2);\n",
              "}\n",
              "\n",
              "/* Specification for estimator info (e.g. \"i\" and \"?\") */\n",
              "\n",
              "/* Common style for \"i\" and \"?\" */\n",
              "\n",
              ".sk-estimator-doc-link,\n",
              "a:link.sk-estimator-doc-link,\n",
              "a:visited.sk-estimator-doc-link {\n",
              "  float: right;\n",
              "  font-size: smaller;\n",
              "  line-height: 1em;\n",
              "  font-family: monospace;\n",
              "  background-color: var(--sklearn-color-background);\n",
              "  border-radius: 1em;\n",
              "  height: 1em;\n",
              "  width: 1em;\n",
              "  text-decoration: none !important;\n",
              "  margin-left: 1ex;\n",
              "  /* unfitted */\n",
              "  border: var(--sklearn-color-unfitted-level-1) 1pt solid;\n",
              "  color: var(--sklearn-color-unfitted-level-1);\n",
              "}\n",
              "\n",
              ".sk-estimator-doc-link.fitted,\n",
              "a:link.sk-estimator-doc-link.fitted,\n",
              "a:visited.sk-estimator-doc-link.fitted {\n",
              "  /* fitted */\n",
              "  border: var(--sklearn-color-fitted-level-1) 1pt solid;\n",
              "  color: var(--sklearn-color-fitted-level-1);\n",
              "}\n",
              "\n",
              "/* On hover */\n",
              "div.sk-estimator:hover .sk-estimator-doc-link:hover,\n",
              ".sk-estimator-doc-link:hover,\n",
              "div.sk-label-container:hover .sk-estimator-doc-link:hover,\n",
              ".sk-estimator-doc-link:hover {\n",
              "  /* unfitted */\n",
              "  background-color: var(--sklearn-color-unfitted-level-3);\n",
              "  color: var(--sklearn-color-background);\n",
              "  text-decoration: none;\n",
              "}\n",
              "\n",
              "div.sk-estimator.fitted:hover .sk-estimator-doc-link.fitted:hover,\n",
              ".sk-estimator-doc-link.fitted:hover,\n",
              "div.sk-label-container:hover .sk-estimator-doc-link.fitted:hover,\n",
              ".sk-estimator-doc-link.fitted:hover {\n",
              "  /* fitted */\n",
              "  background-color: var(--sklearn-color-fitted-level-3);\n",
              "  color: var(--sklearn-color-background);\n",
              "  text-decoration: none;\n",
              "}\n",
              "\n",
              "/* Span, style for the box shown on hovering the info icon */\n",
              ".sk-estimator-doc-link span {\n",
              "  display: none;\n",
              "  z-index: 9999;\n",
              "  position: relative;\n",
              "  font-weight: normal;\n",
              "  right: .2ex;\n",
              "  padding: .5ex;\n",
              "  margin: .5ex;\n",
              "  width: min-content;\n",
              "  min-width: 20ex;\n",
              "  max-width: 50ex;\n",
              "  color: var(--sklearn-color-text);\n",
              "  box-shadow: 2pt 2pt 4pt #999;\n",
              "  /* unfitted */\n",
              "  background: var(--sklearn-color-unfitted-level-0);\n",
              "  border: .5pt solid var(--sklearn-color-unfitted-level-3);\n",
              "}\n",
              "\n",
              ".sk-estimator-doc-link.fitted span {\n",
              "  /* fitted */\n",
              "  background: var(--sklearn-color-fitted-level-0);\n",
              "  border: var(--sklearn-color-fitted-level-3);\n",
              "}\n",
              "\n",
              ".sk-estimator-doc-link:hover span {\n",
              "  display: block;\n",
              "}\n",
              "\n",
              "/* \"?\"-specific style due to the `<a>` HTML tag */\n",
              "\n",
              "#sk-container-id-2 a.estimator_doc_link {\n",
              "  float: right;\n",
              "  font-size: 1rem;\n",
              "  line-height: 1em;\n",
              "  font-family: monospace;\n",
              "  background-color: var(--sklearn-color-background);\n",
              "  border-radius: 1rem;\n",
              "  height: 1rem;\n",
              "  width: 1rem;\n",
              "  text-decoration: none;\n",
              "  /* unfitted */\n",
              "  color: var(--sklearn-color-unfitted-level-1);\n",
              "  border: var(--sklearn-color-unfitted-level-1) 1pt solid;\n",
              "}\n",
              "\n",
              "#sk-container-id-2 a.estimator_doc_link.fitted {\n",
              "  /* fitted */\n",
              "  border: var(--sklearn-color-fitted-level-1) 1pt solid;\n",
              "  color: var(--sklearn-color-fitted-level-1);\n",
              "}\n",
              "\n",
              "/* On hover */\n",
              "#sk-container-id-2 a.estimator_doc_link:hover {\n",
              "  /* unfitted */\n",
              "  background-color: var(--sklearn-color-unfitted-level-3);\n",
              "  color: var(--sklearn-color-background);\n",
              "  text-decoration: none;\n",
              "}\n",
              "\n",
              "#sk-container-id-2 a.estimator_doc_link.fitted:hover {\n",
              "  /* fitted */\n",
              "  background-color: var(--sklearn-color-fitted-level-3);\n",
              "}\n",
              "</style><div id=\"sk-container-id-2\" class=\"sk-top-container\"><div class=\"sk-text-repr-fallback\"><pre>GridSearchCV(cv=5,\n",
              "             estimator=&lt;catboost.core.CatBoostRegressor object at 0x7ff1c46cfc40&gt;,\n",
              "             n_jobs=-1, param_grid={&#x27;depth&#x27;: [4, 8], &#x27;iterations&#x27;: [250, 500]},\n",
              "             scoring=&#x27;neg_root_mean_squared_error&#x27;)</pre><b>In a Jupyter environment, please rerun this cell to show the HTML representation or trust the notebook. <br />On GitHub, the HTML representation is unable to render, please try loading this page with nbviewer.org.</b></div><div class=\"sk-container\" hidden><div class=\"sk-item sk-dashed-wrapped\"><div class=\"sk-label-container\"><div class=\"sk-label fitted sk-toggleable\"><input class=\"sk-toggleable__control sk-hidden--visually\" id=\"sk-estimator-id-12\" type=\"checkbox\" ><label for=\"sk-estimator-id-12\" class=\"sk-toggleable__label fitted sk-toggleable__label-arrow fitted\">&nbsp;&nbsp;GridSearchCV<a class=\"sk-estimator-doc-link fitted\" rel=\"noreferrer\" target=\"_blank\" href=\"https://scikit-learn.org/1.5/modules/generated/sklearn.model_selection.GridSearchCV.html\">?<span>Documentation for GridSearchCV</span></a><span class=\"sk-estimator-doc-link fitted\">i<span>Fitted</span></span></label><div class=\"sk-toggleable__content fitted\"><pre>GridSearchCV(cv=5,\n",
              "             estimator=&lt;catboost.core.CatBoostRegressor object at 0x7ff1c46cfc40&gt;,\n",
              "             n_jobs=-1, param_grid={&#x27;depth&#x27;: [4, 8], &#x27;iterations&#x27;: [250, 500]},\n",
              "             scoring=&#x27;neg_root_mean_squared_error&#x27;)</pre></div> </div></div><div class=\"sk-parallel\"><div class=\"sk-parallel-item\"><div class=\"sk-item\"><div class=\"sk-label-container\"><div class=\"sk-label fitted sk-toggleable\"><input class=\"sk-toggleable__control sk-hidden--visually\" id=\"sk-estimator-id-13\" type=\"checkbox\" ><label for=\"sk-estimator-id-13\" class=\"sk-toggleable__label fitted sk-toggleable__label-arrow fitted\">best_estimator_: CatBoostRegressor</label><div class=\"sk-toggleable__content fitted\"><pre>&lt;catboost.core.CatBoostRegressor object at 0x7ff258044550&gt;</pre></div> </div></div><div class=\"sk-serial\"><div class=\"sk-item\"><div class=\"sk-estimator fitted sk-toggleable\"><input class=\"sk-toggleable__control sk-hidden--visually\" id=\"sk-estimator-id-14\" type=\"checkbox\" ><label for=\"sk-estimator-id-14\" class=\"sk-toggleable__label fitted sk-toggleable__label-arrow fitted\">CatBoostRegressor</label><div class=\"sk-toggleable__content fitted\"><pre>&lt;catboost.core.CatBoostRegressor object at 0x7ff258044550&gt;</pre></div> </div></div></div></div></div></div></div></div></div>"
            ],
            "text/plain": [
              "GridSearchCV(cv=5,\n",
              "             estimator=<catboost.core.CatBoostRegressor object at 0x7ff1c46cfc40>,\n",
              "             n_jobs=-1, param_grid={'depth': [4, 8], 'iterations': [250, 500]},\n",
              "             scoring='neg_root_mean_squared_error')"
            ]
          },
          "execution_count": 63,
          "metadata": {},
          "output_type": "execute_result"
        }
      ],
      "source": [
        "grid_search = GridSearchCV(cb,\n",
        "                           param_grid=param_grid_cb,\n",
        "                           scoring='neg_root_mean_squared_error',\n",
        "                           n_jobs=-1,\n",
        "                           cv=5,\n",
        "                           verbose=0)\n",
        "grid_search.fit(X_train, y_train)"
      ]
    },
    {
      "cell_type": "code",
      "execution_count": null,
      "metadata": {
        "id": "bRqI0_1jFACy",
        "outputId": "c2878766-6f8e-4974-c9be-d8e88af29392"
      },
      "outputs": [
        {
          "data": {
            "text/plain": [
              "{'depth': 8, 'iterations': 500}"
            ]
          },
          "execution_count": 64,
          "metadata": {},
          "output_type": "execute_result"
        }
      ],
      "source": [
        "grid_search.best_params_"
      ]
    },
    {
      "cell_type": "code",
      "execution_count": null,
      "metadata": {
        "id": "Q8GeBHl6FACy"
      },
      "outputs": [],
      "source": [
        "cb_res = pd.DataFrame(grid_search.cv_results_)\n",
        "cb_fit_time = cb_res.loc[(cb_res['param_depth'] == 8) &\n",
        "           (cb_res['param_iterations'] == 500), 'mean_fit_time'].values[0]\n",
        "cb_pred_time = cb_res.loc[(cb_res['param_depth'] == 8) &\n",
        "           (cb_res['param_iterations'] == 500), 'mean_score_time'].values[0]"
      ]
    },
    {
      "cell_type": "code",
      "execution_count": null,
      "metadata": {
        "id": "YjGkoESfFACy",
        "outputId": "7d03b99f-f4df-4794-e5b4-6f014dbf9ad8"
      },
      "outputs": [
        {
          "name": "stdout",
          "output_type": "stream",
          "text": [
            "Время обучения: 73.74 с.\n",
            "Время предсказания: 0.27\n",
            "RMSE на тренировочной выборке 1684.12\n"
          ]
        }
      ],
      "source": [
        "print(f'Время обучения: {round(cb_fit_time, 2)} с.')\n",
        "print(f'Время предсказания: {round(cb_pred_time, 2)}')\n",
        "print('RMSE на тренировочной выборке', round((-1) * grid_search.best_score_, 2))"
      ]
    },
    {
      "cell_type": "markdown",
      "metadata": {
        "id": "LUu1snNoFACz"
      },
      "source": [
        "- Время: обучение заняло 1 минуту 13.74 секунд, предсказание 0.27 секунд.  \n",
        "- Качество: на кросс-валидации был достигнут необходимый уровень качества модели RMSE = 1684.12"
      ]
    },
    {
      "cell_type": "markdown",
      "metadata": {
        "id": "WLCRnUqIFACz"
      },
      "source": [
        "## Анализ моделей"
      ]
    },
    {
      "cell_type": "code",
      "execution_count": null,
      "metadata": {
        "id": "Hqnx4U0ZFACz"
      },
      "outputs": [],
      "source": [
        "res = {\n",
        "    'model': ['LinearRegression', 'LGBMRegressor', 'CatBoostRegressor'],\n",
        "    'fit_time': [lr_fit_time, lgbm_fit_time, cb_fit_time],\n",
        "    'predict_time': [lr_pred_time, lgbm_pred_time, cb_pred_time],\n",
        "    'RMSE_train_cv': [lr_cv_rmse,\n",
        "                      (-1) * randomized_search_lgbm.best_score_,\n",
        "                      (-1) * grid_search.best_score_]\n",
        "}\n",
        "\n",
        "res_df = pd.DataFrame(res)"
      ]
    },
    {
      "cell_type": "code",
      "execution_count": null,
      "metadata": {
        "id": "DYEqiWw3FACz",
        "outputId": "cd3961d0-8eda-465c-f370-0b2525a880a7"
      },
      "outputs": [
        {
          "data": {
            "text/html": [
              "<div>\n",
              "<style scoped>\n",
              "    .dataframe tbody tr th:only-of-type {\n",
              "        vertical-align: middle;\n",
              "    }\n",
              "\n",
              "    .dataframe tbody tr th {\n",
              "        vertical-align: top;\n",
              "    }\n",
              "\n",
              "    .dataframe thead th {\n",
              "        text-align: right;\n",
              "    }\n",
              "</style>\n",
              "<table border=\"1\" class=\"dataframe\">\n",
              "  <thead>\n",
              "    <tr style=\"text-align: right;\">\n",
              "      <th></th>\n",
              "      <th>model</th>\n",
              "      <th>fit_time</th>\n",
              "      <th>predict_time</th>\n",
              "      <th>RMSE_train_cv</th>\n",
              "    </tr>\n",
              "  </thead>\n",
              "  <tbody>\n",
              "    <tr>\n",
              "      <th>0</th>\n",
              "      <td>LinearRegression</td>\n",
              "      <td>21.864102</td>\n",
              "      <td>1.455838</td>\n",
              "      <td>2782.110890</td>\n",
              "    </tr>\n",
              "    <tr>\n",
              "      <th>1</th>\n",
              "      <td>LGBMRegressor</td>\n",
              "      <td>15.114669</td>\n",
              "      <td>1.949385</td>\n",
              "      <td>1674.896075</td>\n",
              "    </tr>\n",
              "    <tr>\n",
              "      <th>2</th>\n",
              "      <td>CatBoostRegressor</td>\n",
              "      <td>73.736496</td>\n",
              "      <td>0.270512</td>\n",
              "      <td>1684.124335</td>\n",
              "    </tr>\n",
              "  </tbody>\n",
              "</table>\n",
              "</div>"
            ],
            "text/plain": [
              "               model   fit_time  predict_time  RMSE_train_cv\n",
              "0   LinearRegression  21.864102      1.455838    2782.110890\n",
              "1      LGBMRegressor  15.114669      1.949385    1674.896075\n",
              "2  CatBoostRegressor  73.736496      0.270512    1684.124335"
            ]
          },
          "execution_count": 69,
          "metadata": {},
          "output_type": "execute_result"
        }
      ],
      "source": [
        "res_df"
      ]
    },
    {
      "cell_type": "markdown",
      "metadata": {
        "id": "jf9P-cY8FACz"
      },
      "source": [
        "- Модель линейной регрессии показала недостаточный уровень точности прогноза (метрика RMSE = 2782.11 при критерии RMSE < 2500),   также, по скорости обучения она уступает LGBM.    \n",
        "- Качество прогноза CatBoost существенно лучше и удовлетворяет критерию (RMSE = 1684.12) Эта модель отличается и самым коротким   временем предсказания (0.27 с.), однако CatBoostRegressor обладает самым продолжительным временем обучения (1 мин. 13.74 с.)  \n",
        "- Лучшее качество (RMSE = 1674.9) и самое быстрое обучение (15.11 с.) показала модель LightGBM, она является оптимальной по       рассматриваемым критериям. Проверим её качество на тестовой выборке:"
      ]
    },
    {
      "cell_type": "code",
      "execution_count": null,
      "metadata": {
        "id": "Kxx9atEzFACz",
        "outputId": "45a7141f-23e7-46ce-af63-65d3b56d681c"
      },
      "outputs": [
        {
          "name": "stdout",
          "output_type": "stream",
          "text": [
            "RMSE модели LightGBM на тестовой выборке: 1668.2\n"
          ]
        }
      ],
      "source": [
        "print('RMSE модели LightGBM на тестовой выборке:',\n",
        "      round(root_mean_squared_error(y_test,\n",
        "                                    randomized_search_lgbm.best_estimator_.predict(X_test)), 2))"
      ]
    },
    {
      "cell_type": "markdown",
      "metadata": {
        "id": "-aRxDHssFACz"
      },
      "source": [
        "Модель LightGBM показала высокое качество прогноза и на тестовой выборке."
      ]
    },
    {
      "cell_type": "markdown",
      "metadata": {
        "id": "ytA7034rFAC0"
      },
      "source": [
        "# Вывод"
      ]
    },
    {
      "cell_type": "markdown",
      "metadata": {
        "id": "vEPSpXA1FAC0"
      },
      "source": [
        "**Целью исследования** являлось построение модели для определения стоимости автомобиля по данным о комплектации и технических характеристиках.  \n",
        "\n",
        "В качестве **критериев качества модели** выступали:  \n",
        "- качество предсказания;\n",
        "- скорость предсказания;\n",
        "- время обучения.\n",
        "\n",
        "В ходе предобработки данных были выполнены следующие шаги:  \n",
        "- обнаружены и устранены явные и скрытые дубликаты,  \n",
        "- выявлены признаки, содержащие пропущенные значения,  \n",
        "- обработаны аномальные значения,  \n",
        "- проведён корреляционный анализ,\n",
        "- исключены неинформативные признаки,  \n",
        "- устранена мультиколлинеарность входных признаков.\n",
        "\n",
        "На этапе подготовки данных к обучению моделей в пайплайне были:  \n",
        "- заполнены пропуски наиболее встречающимися значениями,  \n",
        "- закодированы категориальные признаки,  \n",
        "- масштабированы количественные.\n",
        "\n",
        "Были обучены модели линейной регрессии, LightGBM и CatBoost, подобраны оптимальные параметры, проведена проверка их качесва на кросс-валидации, а также зафиксировано время обучения и скорость предсказания.  \n",
        "- Линейная регрессия показала низкую точность (RMSE = 2782.11) прогноза, а также уступила по скорости обучения (21.86 с.).  \n",
        "- Прогноз CatBoost достиг высокого качества на обучающей выборке (1684.12), однако обучение модели шло более чем в три раза дольше (1 мин. 13 с.), чем у других алгоритмов.  \n",
        "- Лучшую точность показала модель LightGBM (RMSE = 1674.9), помимо этого - LGBM обучается быстрее остальных (15.11 с.), на тестовой выборке модель также продемонстрировала высокое качество предсказания - RMSE = 1668.2.  \n",
        "\n",
        "В результате проведённого исследования в качестве оптимальной модели была выбрана LGBMRegressor(max_depth=10, n_estimators=500, random_state=42)."
      ]
    }
  ],
  "metadata": {
    "ExecuteTimeLog": [
      {
        "duration": 5609,
        "start_time": "2024-12-15T00:52:51.837Z"
      },
      {
        "duration": 1699,
        "start_time": "2024-12-15T00:53:05.773Z"
      },
      {
        "duration": 5632,
        "start_time": "2024-12-15T00:55:15.322Z"
      },
      {
        "duration": 14354,
        "start_time": "2024-12-15T00:55:41.327Z"
      },
      {
        "duration": 13508,
        "start_time": "2024-12-15T00:55:56.517Z"
      },
      {
        "duration": 18,
        "start_time": "2024-12-15T00:56:11.285Z"
      },
      {
        "duration": 10,
        "start_time": "2024-12-15T00:56:14.957Z"
      },
      {
        "duration": 9569,
        "start_time": "2024-12-15T00:56:32.360Z"
      },
      {
        "duration": 1696,
        "start_time": "2024-12-15T00:56:41.931Z"
      },
      {
        "duration": 2997,
        "start_time": "2024-12-15T00:58:04.732Z"
      },
      {
        "duration": 162,
        "start_time": "2024-12-15T00:58:28.854Z"
      },
      {
        "duration": 3,
        "start_time": "2024-12-15T00:58:44.558Z"
      },
      {
        "duration": 303,
        "start_time": "2024-12-15T00:58:55.518Z"
      },
      {
        "duration": 311,
        "start_time": "2024-12-15T00:59:03.077Z"
      },
      {
        "duration": 320,
        "start_time": "2024-12-15T00:59:09.884Z"
      },
      {
        "duration": 329,
        "start_time": "2024-12-15T00:59:20.118Z"
      },
      {
        "duration": 1568,
        "start_time": "2024-12-15T00:59:28.180Z"
      },
      {
        "duration": 93,
        "start_time": "2024-12-15T00:59:40.757Z"
      },
      {
        "duration": 92,
        "start_time": "2024-12-15T00:59:49.037Z"
      },
      {
        "duration": 12,
        "start_time": "2024-12-15T01:00:37.168Z"
      },
      {
        "duration": 79,
        "start_time": "2024-12-15T01:00:47.334Z"
      },
      {
        "duration": 11,
        "start_time": "2024-12-15T01:01:03.552Z"
      },
      {
        "duration": 84,
        "start_time": "2024-12-15T01:01:20.118Z"
      },
      {
        "duration": 73,
        "start_time": "2024-12-15T01:01:31.046Z"
      },
      {
        "duration": 1757,
        "start_time": "2024-12-15T01:01:39.281Z"
      },
      {
        "duration": 1882,
        "start_time": "2024-12-15T01:01:48.414Z"
      },
      {
        "duration": 6,
        "start_time": "2024-12-15T01:02:13.081Z"
      },
      {
        "duration": 35,
        "start_time": "2024-12-15T01:02:34.372Z"
      },
      {
        "duration": 14052,
        "start_time": "2024-12-15T01:03:04.043Z"
      },
      {
        "duration": 15,
        "start_time": "2024-12-15T01:03:31.964Z"
      },
      {
        "duration": 19,
        "start_time": "2024-12-15T01:04:15.333Z"
      },
      {
        "duration": 2838,
        "start_time": "2024-12-15T01:04:25.799Z"
      },
      {
        "duration": 2273,
        "start_time": "2024-12-15T01:04:33.294Z"
      },
      {
        "duration": 2209,
        "start_time": "2024-12-15T01:05:46.014Z"
      },
      {
        "duration": 16,
        "start_time": "2024-12-15T01:06:10.213Z"
      },
      {
        "duration": 29,
        "start_time": "2024-12-15T01:06:45.960Z"
      },
      {
        "duration": 1792,
        "start_time": "2024-12-15T01:07:00.038Z"
      },
      {
        "duration": 21,
        "start_time": "2024-12-15T01:07:16.531Z"
      },
      {
        "duration": 6415,
        "start_time": "2024-12-15T01:07:28.435Z"
      },
      {
        "duration": 6501,
        "start_time": "2024-12-15T01:08:04.515Z"
      },
      {
        "duration": 16,
        "start_time": "2024-12-15T01:08:30.355Z"
      },
      {
        "duration": 73,
        "start_time": "2024-12-15T01:08:37.074Z"
      },
      {
        "duration": 4,
        "start_time": "2024-12-15T01:08:47.892Z"
      },
      {
        "duration": 67,
        "start_time": "2024-12-15T01:09:55.911Z"
      },
      {
        "duration": 3,
        "start_time": "2024-12-15T01:10:10.875Z"
      },
      {
        "duration": 3,
        "start_time": "2024-12-15T01:10:19.054Z"
      },
      {
        "duration": 3,
        "start_time": "2024-12-15T01:10:27.204Z"
      },
      {
        "duration": 2,
        "start_time": "2024-12-15T01:10:35.380Z"
      },
      {
        "duration": 19228,
        "start_time": "2024-12-15T01:10:43.016Z"
      },
      {
        "duration": 79576,
        "start_time": "2024-12-15T01:12:08.045Z"
      },
      {
        "duration": 543,
        "start_time": "2024-12-15T01:14:00.973Z"
      },
      {
        "duration": 4,
        "start_time": "2024-12-15T01:14:34.176Z"
      },
      {
        "duration": 2,
        "start_time": "2024-12-15T01:14:45.854Z"
      },
      {
        "duration": 3,
        "start_time": "2024-12-15T01:14:53.444Z"
      },
      {
        "duration": 144,
        "start_time": "2024-12-15T01:15:01.688Z"
      },
      {
        "duration": 623277,
        "start_time": "2024-12-15T01:15:28.111Z"
      },
      {
        "duration": 21794,
        "start_time": "2024-12-15T01:40:13.435Z"
      },
      {
        "duration": 3552,
        "start_time": "2024-12-15T01:40:52.683Z"
      },
      {
        "duration": 3,
        "start_time": "2024-12-15T01:41:01.614Z"
      },
      {
        "duration": 4,
        "start_time": "2024-12-15T01:41:04.598Z"
      },
      {
        "duration": 8857,
        "start_time": "2024-12-15T01:41:06.473Z"
      },
      {
        "duration": 3,
        "start_time": "2024-12-15T01:42:02.453Z"
      },
      {
        "duration": 42783,
        "start_time": "2024-12-15T01:42:03.924Z"
      },
      {
        "duration": 3,
        "start_time": "2024-12-15T01:49:00.093Z"
      },
      {
        "duration": 1918,
        "start_time": "2024-12-15T01:49:02.054Z"
      },
      {
        "duration": 14,
        "start_time": "2024-12-15T01:49:27.766Z"
      },
      {
        "duration": 18,
        "start_time": "2024-12-15T01:49:30.288Z"
      },
      {
        "duration": 18,
        "start_time": "2024-12-15T01:49:57.998Z"
      },
      {
        "duration": 2,
        "start_time": "2024-12-15T01:50:01.038Z"
      },
      {
        "duration": 2863,
        "start_time": "2024-12-15T01:50:03.446Z"
      },
      {
        "duration": 59,
        "start_time": "2024-12-15T01:51:10.632Z"
      },
      {
        "duration": 67,
        "start_time": "2024-12-15T01:52:41.639Z"
      },
      {
        "duration": 3,
        "start_time": "2024-12-15T01:52:43.037Z"
      },
      {
        "duration": 205736,
        "start_time": "2024-12-15T01:52:43.758Z"
      },
      {
        "duration": 459220,
        "start_time": "2024-12-15T01:59:54.279Z"
      },
      {
        "duration": 3,
        "start_time": "2024-12-15T02:08:01.075Z"
      },
      {
        "duration": 10,
        "start_time": "2024-12-15T02:09:10.837Z"
      },
      {
        "duration": 12105,
        "start_time": "2024-12-15T02:09:28.491Z"
      },
      {
        "duration": 2,
        "start_time": "2024-12-15T02:12:04.454Z"
      },
      {
        "duration": 11359,
        "start_time": "2024-12-15T02:12:06.294Z"
      },
      {
        "duration": 4,
        "start_time": "2024-12-15T02:13:04.199Z"
      },
      {
        "duration": 3,
        "start_time": "2024-12-15T02:14:20.275Z"
      },
      {
        "duration": 3,
        "start_time": "2024-12-15T02:14:46.094Z"
      },
      {
        "duration": 3,
        "start_time": "2024-12-15T02:14:48.564Z"
      },
      {
        "duration": 3,
        "start_time": "2024-12-15T02:14:49.793Z"
      },
      {
        "duration": 35649,
        "start_time": "2024-12-15T02:15:06.798Z"
      },
      {
        "duration": 4,
        "start_time": "2024-12-15T02:15:46.833Z"
      },
      {
        "duration": 5,
        "start_time": "2024-12-15T02:15:51.293Z"
      },
      {
        "duration": 11473,
        "start_time": "2024-12-15T02:15:53.192Z"
      },
      {
        "duration": 3,
        "start_time": "2024-12-15T02:16:16.512Z"
      },
      {
        "duration": 2,
        "start_time": "2024-12-15T02:16:18.165Z"
      },
      {
        "duration": 3,
        "start_time": "2024-12-15T02:16:18.472Z"
      },
      {
        "duration": 37818,
        "start_time": "2024-12-15T02:16:19.156Z"
      },
      {
        "duration": 2,
        "start_time": "2024-12-15T02:17:03.839Z"
      },
      {
        "duration": 3,
        "start_time": "2024-12-15T02:17:04.494Z"
      },
      {
        "duration": 7625,
        "start_time": "2024-12-15T02:17:05.000Z"
      },
      {
        "duration": 3,
        "start_time": "2024-12-15T02:17:15.336Z"
      },
      {
        "duration": 3,
        "start_time": "2024-12-15T02:17:15.924Z"
      },
      {
        "duration": 209381,
        "start_time": "2024-12-15T02:17:16.174Z"
      },
      {
        "duration": 391028,
        "start_time": "2024-12-15T02:20:48.774Z"
      },
      {
        "duration": 3,
        "start_time": "2024-12-15T02:27:32.645Z"
      },
      {
        "duration": 3,
        "start_time": "2024-12-15T02:27:34.565Z"
      },
      {
        "duration": 740694,
        "start_time": "2024-12-15T02:27:35.959Z"
      },
      {
        "duration": 3,
        "start_time": "2024-12-15T02:40:14.752Z"
      },
      {
        "duration": 2,
        "start_time": "2024-12-15T02:40:16.403Z"
      },
      {
        "duration": 401746,
        "start_time": "2024-12-15T02:40:17.872Z"
      },
      {
        "duration": 2,
        "start_time": "2024-12-15T02:47:01.334Z"
      },
      {
        "duration": 487385,
        "start_time": "2024-12-15T02:47:02.407Z"
      },
      {
        "duration": 3,
        "start_time": "2024-12-15T02:55:12.796Z"
      },
      {
        "duration": 3,
        "start_time": "2024-12-15T02:55:16.843Z"
      },
      {
        "duration": 3,
        "start_time": "2024-12-15T02:55:17.214Z"
      },
      {
        "duration": 26,
        "start_time": "2024-12-15T02:55:18.124Z"
      },
      {
        "duration": 25,
        "start_time": "2024-12-15T03:01:19.046Z"
      },
      {
        "duration": 3,
        "start_time": "2024-12-15T03:01:21.407Z"
      },
      {
        "duration": 3,
        "start_time": "2024-12-15T03:01:22.002Z"
      },
      {
        "duration": 2,
        "start_time": "2024-12-15T03:01:23.001Z"
      },
      {
        "duration": 3,
        "start_time": "2024-12-15T03:01:24.207Z"
      },
      {
        "duration": 3,
        "start_time": "2024-12-15T03:01:24.487Z"
      },
      {
        "duration": 6550,
        "start_time": "2024-12-15T03:01:26.047Z"
      },
      {
        "duration": 9772,
        "start_time": "2024-12-15T03:02:35.516Z"
      },
      {
        "duration": 1747,
        "start_time": "2024-12-15T03:02:45.291Z"
      },
      {
        "duration": 913,
        "start_time": "2024-12-15T03:02:47.040Z"
      },
      {
        "duration": 169,
        "start_time": "2024-12-15T03:02:47.955Z"
      },
      {
        "duration": 3,
        "start_time": "2024-12-15T03:02:48.126Z"
      },
      {
        "duration": 318,
        "start_time": "2024-12-15T03:02:48.130Z"
      },
      {
        "duration": 321,
        "start_time": "2024-12-15T03:02:48.450Z"
      },
      {
        "duration": 342,
        "start_time": "2024-12-15T03:02:48.773Z"
      },
      {
        "duration": 355,
        "start_time": "2024-12-15T03:02:49.118Z"
      },
      {
        "duration": 1575,
        "start_time": "2024-12-15T03:02:49.477Z"
      },
      {
        "duration": 99,
        "start_time": "2024-12-15T03:02:51.054Z"
      },
      {
        "duration": 96,
        "start_time": "2024-12-15T03:02:51.155Z"
      },
      {
        "duration": 8,
        "start_time": "2024-12-15T03:02:51.253Z"
      },
      {
        "duration": 25,
        "start_time": "2024-12-15T03:02:51.262Z"
      },
      {
        "duration": 94,
        "start_time": "2024-12-15T03:02:51.289Z"
      },
      {
        "duration": 1930,
        "start_time": "2024-12-15T03:02:51.385Z"
      },
      {
        "duration": 6,
        "start_time": "2024-12-15T03:02:53.316Z"
      },
      {
        "duration": 36,
        "start_time": "2024-12-15T03:02:53.323Z"
      },
      {
        "duration": 13965,
        "start_time": "2024-12-15T03:02:53.360Z"
      },
      {
        "duration": 17,
        "start_time": "2024-12-15T03:03:07.327Z"
      },
      {
        "duration": 35,
        "start_time": "2024-12-15T03:03:07.346Z"
      },
      {
        "duration": 2273,
        "start_time": "2024-12-15T03:03:07.383Z"
      },
      {
        "duration": 2708,
        "start_time": "2024-12-15T03:03:09.658Z"
      },
      {
        "duration": 16,
        "start_time": "2024-12-15T03:03:12.368Z"
      },
      {
        "duration": 50,
        "start_time": "2024-12-15T03:03:12.385Z"
      },
      {
        "duration": 1809,
        "start_time": "2024-12-15T03:03:12.437Z"
      },
      {
        "duration": 18,
        "start_time": "2024-12-15T03:03:14.247Z"
      },
      {
        "duration": 6818,
        "start_time": "2024-12-15T03:03:14.269Z"
      },
      {
        "duration": 30,
        "start_time": "2024-12-15T03:03:21.089Z"
      },
      {
        "duration": 78,
        "start_time": "2024-12-15T03:03:21.121Z"
      },
      {
        "duration": 4,
        "start_time": "2024-12-15T03:03:21.215Z"
      },
      {
        "duration": 73,
        "start_time": "2024-12-15T03:03:21.220Z"
      },
      {
        "duration": 3,
        "start_time": "2024-12-15T03:03:21.295Z"
      },
      {
        "duration": 17,
        "start_time": "2024-12-15T03:03:21.299Z"
      },
      {
        "duration": 52,
        "start_time": "2024-12-15T03:03:21.318Z"
      },
      {
        "duration": 5,
        "start_time": "2024-12-15T03:03:21.372Z"
      },
      {
        "duration": 20175,
        "start_time": "2024-12-15T03:03:21.378Z"
      },
      {
        "duration": 82270,
        "start_time": "2024-12-15T03:03:41.554Z"
      },
      {
        "duration": 503,
        "start_time": "2024-12-15T03:05:03.916Z"
      },
      {
        "duration": 95,
        "start_time": "2024-12-15T03:05:04.424Z"
      },
      {
        "duration": 95,
        "start_time": "2024-12-15T03:05:04.521Z"
      },
      {
        "duration": 16,
        "start_time": "2024-12-15T03:05:04.617Z"
      },
      {
        "duration": 165,
        "start_time": "2024-12-15T03:05:04.635Z"
      },
      {
        "duration": 85216,
        "start_time": "2024-12-15T03:05:04.801Z"
      },
      {
        "duration": 0,
        "start_time": "2024-12-15T03:06:30.018Z"
      },
      {
        "duration": 0,
        "start_time": "2024-12-15T03:06:30.019Z"
      },
      {
        "duration": 0,
        "start_time": "2024-12-15T03:06:30.020Z"
      },
      {
        "duration": 0,
        "start_time": "2024-12-15T03:06:30.022Z"
      },
      {
        "duration": 0,
        "start_time": "2024-12-15T03:06:30.023Z"
      },
      {
        "duration": 0,
        "start_time": "2024-12-15T03:06:30.025Z"
      },
      {
        "duration": 0,
        "start_time": "2024-12-15T03:06:30.026Z"
      },
      {
        "duration": 0,
        "start_time": "2024-12-15T03:06:30.027Z"
      },
      {
        "duration": 0,
        "start_time": "2024-12-15T03:06:30.028Z"
      },
      {
        "duration": 0,
        "start_time": "2024-12-15T03:06:30.029Z"
      },
      {
        "duration": 0,
        "start_time": "2024-12-15T03:06:30.030Z"
      },
      {
        "duration": 571297,
        "start_time": "2024-12-15T03:06:39.432Z"
      },
      {
        "duration": 19460,
        "start_time": "2024-12-15T03:16:47.963Z"
      },
      {
        "duration": 3242,
        "start_time": "2024-12-15T03:17:31.474Z"
      },
      {
        "duration": 19,
        "start_time": "2024-12-15T03:17:40.334Z"
      },
      {
        "duration": 3,
        "start_time": "2024-12-15T03:17:42.564Z"
      },
      {
        "duration": 3,
        "start_time": "2024-12-15T03:17:43.291Z"
      },
      {
        "duration": 3,
        "start_time": "2024-12-15T03:17:43.854Z"
      },
      {
        "duration": 3,
        "start_time": "2024-12-15T03:17:44.518Z"
      },
      {
        "duration": 3745,
        "start_time": "2024-12-15T03:17:45.494Z"
      },
      {
        "duration": 57,
        "start_time": "2024-12-15T03:18:12.854Z"
      },
      {
        "duration": 3,
        "start_time": "2024-12-15T03:18:13.955Z"
      },
      {
        "duration": 4,
        "start_time": "2024-12-15T03:18:15.013Z"
      },
      {
        "duration": 3,
        "start_time": "2024-12-15T03:18:15.567Z"
      },
      {
        "duration": 2,
        "start_time": "2024-12-15T03:18:15.895Z"
      },
      {
        "duration": 10040,
        "start_time": "2024-12-15T03:18:16.400Z"
      },
      {
        "duration": 82,
        "start_time": "2024-12-15T03:18:36.311Z"
      },
      {
        "duration": 57,
        "start_time": "2024-12-15T03:18:54.118Z"
      },
      {
        "duration": 53,
        "start_time": "2024-12-15T03:19:05.256Z"
      },
      {
        "duration": 23,
        "start_time": "2024-12-15T03:19:26.620Z"
      },
      {
        "duration": 66,
        "start_time": "2024-12-15T03:19:36.735Z"
      },
      {
        "duration": 237,
        "start_time": "2024-12-15T03:21:09.439Z"
      },
      {
        "duration": 244,
        "start_time": "2024-12-15T03:21:33.792Z"
      },
      {
        "duration": 3,
        "start_time": "2024-12-15T03:21:38.364Z"
      },
      {
        "duration": 3,
        "start_time": "2024-12-15T03:21:39.877Z"
      },
      {
        "duration": 3,
        "start_time": "2024-12-15T03:21:40.413Z"
      },
      {
        "duration": 2,
        "start_time": "2024-12-15T03:21:40.758Z"
      },
      {
        "duration": 514429,
        "start_time": "2024-12-15T03:21:42.335Z"
      },
      {
        "duration": 100,
        "start_time": "2024-12-15T03:31:22.687Z"
      },
      {
        "duration": 91537,
        "start_time": "2024-12-15T03:32:06.284Z"
      },
      {
        "duration": 2450,
        "start_time": "2024-12-15T03:35:46.163Z"
      },
      {
        "duration": 264,
        "start_time": "2024-12-15T03:37:34.493Z"
      },
      {
        "duration": 472,
        "start_time": "2024-12-15T03:37:41.648Z"
      },
      {
        "duration": 10098,
        "start_time": "2024-12-15T03:38:53.056Z"
      },
      {
        "duration": 1697,
        "start_time": "2024-12-15T03:39:03.157Z"
      },
      {
        "duration": 968,
        "start_time": "2024-12-15T03:39:04.855Z"
      },
      {
        "duration": 185,
        "start_time": "2024-12-15T03:39:05.826Z"
      },
      {
        "duration": 6,
        "start_time": "2024-12-15T03:39:06.013Z"
      },
      {
        "duration": 331,
        "start_time": "2024-12-15T03:39:06.021Z"
      },
      {
        "duration": 354,
        "start_time": "2024-12-15T03:39:06.354Z"
      },
      {
        "duration": 359,
        "start_time": "2024-12-15T03:39:06.714Z"
      },
      {
        "duration": 377,
        "start_time": "2024-12-15T03:39:07.075Z"
      },
      {
        "duration": 1717,
        "start_time": "2024-12-15T03:39:07.455Z"
      },
      {
        "duration": 108,
        "start_time": "2024-12-15T03:39:09.173Z"
      },
      {
        "duration": 102,
        "start_time": "2024-12-15T03:39:09.283Z"
      },
      {
        "duration": 9,
        "start_time": "2024-12-15T03:39:09.387Z"
      },
      {
        "duration": 58,
        "start_time": "2024-12-15T03:39:09.397Z"
      },
      {
        "duration": 153,
        "start_time": "2024-12-15T03:39:09.457Z"
      },
      {
        "duration": 2012,
        "start_time": "2024-12-15T03:39:09.611Z"
      },
      {
        "duration": 5,
        "start_time": "2024-12-15T03:39:11.624Z"
      },
      {
        "duration": 39,
        "start_time": "2024-12-15T03:39:11.631Z"
      },
      {
        "duration": 15043,
        "start_time": "2024-12-15T03:39:11.672Z"
      },
      {
        "duration": 24,
        "start_time": "2024-12-15T03:39:26.717Z"
      },
      {
        "duration": 19,
        "start_time": "2024-12-15T03:39:26.742Z"
      },
      {
        "duration": 2492,
        "start_time": "2024-12-15T03:39:26.762Z"
      },
      {
        "duration": 2779,
        "start_time": "2024-12-15T03:39:29.255Z"
      },
      {
        "duration": 17,
        "start_time": "2024-12-15T03:39:32.036Z"
      },
      {
        "duration": 45,
        "start_time": "2024-12-15T03:39:32.055Z"
      },
      {
        "duration": 1885,
        "start_time": "2024-12-15T03:39:32.101Z"
      },
      {
        "duration": 35,
        "start_time": "2024-12-15T03:39:33.988Z"
      },
      {
        "duration": 6996,
        "start_time": "2024-12-15T03:39:34.027Z"
      },
      {
        "duration": 17,
        "start_time": "2024-12-15T03:39:41.029Z"
      },
      {
        "duration": 92,
        "start_time": "2024-12-15T03:39:41.048Z"
      },
      {
        "duration": 40,
        "start_time": "2024-12-15T03:39:41.141Z"
      },
      {
        "duration": 126,
        "start_time": "2024-12-15T03:39:41.183Z"
      },
      {
        "duration": 3,
        "start_time": "2024-12-15T03:39:41.311Z"
      },
      {
        "duration": 5,
        "start_time": "2024-12-15T03:39:41.316Z"
      },
      {
        "duration": 4,
        "start_time": "2024-12-15T03:39:41.323Z"
      },
      {
        "duration": 4,
        "start_time": "2024-12-15T03:39:41.329Z"
      },
      {
        "duration": 23400,
        "start_time": "2024-12-15T03:39:41.334Z"
      },
      {
        "duration": 97693,
        "start_time": "2024-12-15T03:40:04.736Z"
      },
      {
        "duration": 688,
        "start_time": "2024-12-15T03:41:42.431Z"
      },
      {
        "duration": 102,
        "start_time": "2024-12-15T03:41:43.122Z"
      },
      {
        "duration": 15,
        "start_time": "2024-12-15T03:41:43.226Z"
      },
      {
        "duration": 5,
        "start_time": "2024-12-15T03:41:43.323Z"
      },
      {
        "duration": 161,
        "start_time": "2024-12-15T03:41:43.330Z"
      },
      {
        "duration": 981145,
        "start_time": "2024-12-15T03:41:43.492Z"
      },
      {
        "duration": 22993,
        "start_time": "2024-12-15T03:58:04.639Z"
      },
      {
        "duration": 3583,
        "start_time": "2024-12-15T03:58:27.634Z"
      },
      {
        "duration": 18,
        "start_time": "2024-12-15T03:58:31.219Z"
      },
      {
        "duration": 304,
        "start_time": "2024-12-15T03:58:31.239Z"
      },
      {
        "duration": 3,
        "start_time": "2024-12-15T03:58:31.544Z"
      },
      {
        "duration": 62,
        "start_time": "2024-12-15T03:58:31.549Z"
      },
      {
        "duration": 30,
        "start_time": "2024-12-15T03:58:31.613Z"
      },
      {
        "duration": 20,
        "start_time": "2024-12-15T03:58:31.644Z"
      },
      {
        "duration": 523898,
        "start_time": "2024-12-15T03:58:31.666Z"
      },
      {
        "duration": 93164,
        "start_time": "2024-12-15T04:07:15.566Z"
      },
      {
        "duration": 496,
        "start_time": "2024-12-15T04:08:48.732Z"
      },
      {
        "duration": 3,
        "start_time": "2024-12-15T04:14:05.013Z"
      },
      {
        "duration": 2,
        "start_time": "2024-12-15T04:14:05.995Z"
      },
      {
        "duration": 125,
        "start_time": "2024-12-15T04:14:09.677Z"
      },
      {
        "duration": 1139820,
        "start_time": "2024-12-15T04:14:11.413Z"
      },
      {
        "duration": 3,
        "start_time": "2024-12-15T04:34:21.724Z"
      },
      {
        "duration": 10,
        "start_time": "2024-12-15T04:34:24.879Z"
      },
      {
        "duration": 1603720,
        "start_time": "2024-12-15T04:34:25.431Z"
      },
      {
        "duration": 3,
        "start_time": "2024-12-15T05:02:01.089Z"
      },
      {
        "duration": 4,
        "start_time": "2024-12-15T05:02:01.485Z"
      },
      {
        "duration": 10,
        "start_time": "2024-12-15T05:02:06.199Z"
      },
      {
        "duration": 4,
        "start_time": "2024-12-15T05:02:09.575Z"
      },
      {
        "duration": 13,
        "start_time": "2024-12-15T05:02:10.278Z"
      },
      {
        "duration": 69,
        "start_time": "2024-12-15T05:02:43.480Z"
      },
      {
        "duration": 396435,
        "start_time": "2024-12-15T05:04:06.199Z"
      },
      {
        "duration": 9835,
        "start_time": "2024-12-15T05:10:56.501Z"
      },
      {
        "duration": 1676,
        "start_time": "2024-12-15T05:11:06.338Z"
      },
      {
        "duration": 907,
        "start_time": "2024-12-15T05:11:08.016Z"
      },
      {
        "duration": 167,
        "start_time": "2024-12-15T05:11:08.925Z"
      },
      {
        "duration": 4,
        "start_time": "2024-12-15T05:11:09.094Z"
      },
      {
        "duration": 315,
        "start_time": "2024-12-15T05:11:09.100Z"
      },
      {
        "duration": 312,
        "start_time": "2024-12-15T05:11:09.417Z"
      },
      {
        "duration": 334,
        "start_time": "2024-12-15T05:11:09.730Z"
      },
      {
        "duration": 345,
        "start_time": "2024-12-15T05:11:10.066Z"
      },
      {
        "duration": 1576,
        "start_time": "2024-12-15T05:11:10.415Z"
      },
      {
        "duration": 101,
        "start_time": "2024-12-15T05:11:11.993Z"
      },
      {
        "duration": 102,
        "start_time": "2024-12-15T05:11:12.096Z"
      },
      {
        "duration": 16,
        "start_time": "2024-12-15T05:11:12.200Z"
      },
      {
        "duration": 20,
        "start_time": "2024-12-15T05:11:12.218Z"
      },
      {
        "duration": 54,
        "start_time": "2024-12-15T05:11:12.240Z"
      },
      {
        "duration": 1998,
        "start_time": "2024-12-15T05:11:12.296Z"
      },
      {
        "duration": 20,
        "start_time": "2024-12-15T05:11:14.296Z"
      },
      {
        "duration": 36,
        "start_time": "2024-12-15T05:11:14.318Z"
      },
      {
        "duration": 14398,
        "start_time": "2024-12-15T05:11:14.356Z"
      },
      {
        "duration": 16,
        "start_time": "2024-12-15T05:11:28.756Z"
      },
      {
        "duration": 18,
        "start_time": "2024-12-15T05:11:28.774Z"
      },
      {
        "duration": 2340,
        "start_time": "2024-12-15T05:11:28.794Z"
      },
      {
        "duration": 2680,
        "start_time": "2024-12-15T05:11:31.135Z"
      },
      {
        "duration": 15,
        "start_time": "2024-12-15T05:11:33.817Z"
      },
      {
        "duration": 57,
        "start_time": "2024-12-15T05:11:33.834Z"
      },
      {
        "duration": 1939,
        "start_time": "2024-12-15T05:11:33.892Z"
      },
      {
        "duration": 19,
        "start_time": "2024-12-15T05:11:35.832Z"
      },
      {
        "duration": 6645,
        "start_time": "2024-12-15T05:11:35.855Z"
      },
      {
        "duration": 29,
        "start_time": "2024-12-15T05:11:42.501Z"
      },
      {
        "duration": 87,
        "start_time": "2024-12-15T05:11:42.531Z"
      },
      {
        "duration": 3,
        "start_time": "2024-12-15T05:11:42.620Z"
      },
      {
        "duration": 75,
        "start_time": "2024-12-15T05:11:42.625Z"
      },
      {
        "duration": 2,
        "start_time": "2024-12-15T05:11:42.702Z"
      },
      {
        "duration": 20,
        "start_time": "2024-12-15T05:11:42.706Z"
      },
      {
        "duration": 30,
        "start_time": "2024-12-15T05:11:42.728Z"
      },
      {
        "duration": 6,
        "start_time": "2024-12-15T05:11:42.760Z"
      },
      {
        "duration": 19781,
        "start_time": "2024-12-15T05:11:42.768Z"
      },
      {
        "duration": 94266,
        "start_time": "2024-12-15T05:12:02.551Z"
      },
      {
        "duration": 597,
        "start_time": "2024-12-15T05:13:36.820Z"
      },
      {
        "duration": 95,
        "start_time": "2024-12-15T05:13:37.421Z"
      },
      {
        "duration": 4,
        "start_time": "2024-12-15T05:13:37.517Z"
      },
      {
        "duration": 4,
        "start_time": "2024-12-15T05:13:37.522Z"
      },
      {
        "duration": 156,
        "start_time": "2024-12-15T05:13:37.528Z"
      },
      {
        "duration": 2,
        "start_time": "2024-12-15T05:13:37.686Z"
      },
      {
        "duration": 469294,
        "start_time": "2024-12-15T05:13:37.690Z"
      },
      {
        "duration": 102,
        "start_time": "2024-12-15T05:21:26.986Z"
      },
      {
        "duration": 89,
        "start_time": "2024-12-15T05:21:27.089Z"
      },
      {
        "duration": 19,
        "start_time": "2024-12-15T05:21:27.179Z"
      },
      {
        "duration": 302,
        "start_time": "2024-12-15T05:21:27.199Z"
      },
      {
        "duration": 3,
        "start_time": "2024-12-15T05:21:27.502Z"
      },
      {
        "duration": 21,
        "start_time": "2024-12-15T05:21:27.507Z"
      },
      {
        "duration": 3,
        "start_time": "2024-12-15T05:21:27.530Z"
      },
      {
        "duration": 3,
        "start_time": "2024-12-15T05:21:27.535Z"
      },
      {
        "duration": 56961,
        "start_time": "2024-12-15T05:21:27.540Z"
      },
      {
        "duration": 97,
        "start_time": "2024-12-15T05:22:24.503Z"
      },
      {
        "duration": 94,
        "start_time": "2024-12-15T05:22:24.602Z"
      },
      {
        "duration": 13115,
        "start_time": "2024-12-15T05:22:24.701Z"
      },
      {
        "duration": 3,
        "start_time": "2024-12-15T05:22:55.297Z"
      },
      {
        "duration": 136,
        "start_time": "2024-12-15T05:22:57.176Z"
      },
      {
        "duration": 12,
        "start_time": "2024-12-15T05:22:58.115Z"
      },
      {
        "duration": 35592,
        "start_time": "2024-12-15T05:22:59.314Z"
      },
      {
        "duration": 659077,
        "start_time": "2024-12-15T05:24:04.279Z"
      },
      {
        "duration": 3,
        "start_time": "2024-12-15T05:35:19.176Z"
      },
      {
        "duration": 15865,
        "start_time": "2024-12-15T05:35:22.559Z"
      },
      {
        "duration": 4,
        "start_time": "2024-12-15T05:35:49.519Z"
      },
      {
        "duration": 303269,
        "start_time": "2024-12-15T05:35:52.168Z"
      },
      {
        "duration": 10297,
        "start_time": "2024-12-15T05:41:44.362Z"
      },
      {
        "duration": 1782,
        "start_time": "2024-12-15T05:41:54.662Z"
      },
      {
        "duration": 963,
        "start_time": "2024-12-15T05:41:56.446Z"
      },
      {
        "duration": 180,
        "start_time": "2024-12-15T05:41:57.414Z"
      },
      {
        "duration": 4,
        "start_time": "2024-12-15T05:41:57.596Z"
      },
      {
        "duration": 341,
        "start_time": "2024-12-15T05:41:57.602Z"
      },
      {
        "duration": 374,
        "start_time": "2024-12-15T05:41:57.944Z"
      },
      {
        "duration": 347,
        "start_time": "2024-12-15T05:41:58.319Z"
      },
      {
        "duration": 368,
        "start_time": "2024-12-15T05:41:58.667Z"
      },
      {
        "duration": 1705,
        "start_time": "2024-12-15T05:41:59.038Z"
      },
      {
        "duration": 106,
        "start_time": "2024-12-15T05:42:00.745Z"
      },
      {
        "duration": 102,
        "start_time": "2024-12-15T05:42:00.853Z"
      },
      {
        "duration": 8,
        "start_time": "2024-12-15T05:42:00.957Z"
      },
      {
        "duration": 22,
        "start_time": "2024-12-15T05:42:00.967Z"
      },
      {
        "duration": 85,
        "start_time": "2024-12-15T05:42:00.991Z"
      },
      {
        "duration": 1957,
        "start_time": "2024-12-15T05:42:01.078Z"
      },
      {
        "duration": 7,
        "start_time": "2024-12-15T05:42:03.036Z"
      },
      {
        "duration": 62,
        "start_time": "2024-12-15T05:42:03.044Z"
      },
      {
        "duration": 15550,
        "start_time": "2024-12-15T05:42:03.107Z"
      },
      {
        "duration": 17,
        "start_time": "2024-12-15T05:42:18.659Z"
      },
      {
        "duration": 45,
        "start_time": "2024-12-15T05:42:18.677Z"
      },
      {
        "duration": 2510,
        "start_time": "2024-12-15T05:42:18.724Z"
      },
      {
        "duration": 2723,
        "start_time": "2024-12-15T05:42:21.236Z"
      },
      {
        "duration": 16,
        "start_time": "2024-12-15T05:42:23.960Z"
      },
      {
        "duration": 82,
        "start_time": "2024-12-15T05:42:23.977Z"
      },
      {
        "duration": 1905,
        "start_time": "2024-12-15T05:42:24.060Z"
      },
      {
        "duration": 19,
        "start_time": "2024-12-15T05:42:25.967Z"
      },
      {
        "duration": 6929,
        "start_time": "2024-12-15T05:42:25.991Z"
      },
      {
        "duration": 17,
        "start_time": "2024-12-15T05:42:32.922Z"
      },
      {
        "duration": 95,
        "start_time": "2024-12-15T05:42:32.940Z"
      },
      {
        "duration": 4,
        "start_time": "2024-12-15T05:42:33.037Z"
      },
      {
        "duration": 96,
        "start_time": "2024-12-15T05:42:33.043Z"
      },
      {
        "duration": 3,
        "start_time": "2024-12-15T05:42:33.140Z"
      },
      {
        "duration": 20,
        "start_time": "2024-12-15T05:42:33.145Z"
      },
      {
        "duration": 5,
        "start_time": "2024-12-15T05:42:33.167Z"
      },
      {
        "duration": 11,
        "start_time": "2024-12-15T05:42:33.173Z"
      },
      {
        "duration": 25668,
        "start_time": "2024-12-15T05:42:33.186Z"
      },
      {
        "duration": 117776,
        "start_time": "2024-12-15T05:42:58.856Z"
      },
      {
        "duration": 683,
        "start_time": "2024-12-15T05:44:56.635Z"
      },
      {
        "duration": 7,
        "start_time": "2024-12-15T05:44:57.321Z"
      },
      {
        "duration": 90,
        "start_time": "2024-12-15T05:44:57.330Z"
      },
      {
        "duration": 3,
        "start_time": "2024-12-15T05:44:57.422Z"
      },
      {
        "duration": 197,
        "start_time": "2024-12-15T05:44:57.427Z"
      },
      {
        "duration": 3,
        "start_time": "2024-12-15T05:44:57.626Z"
      },
      {
        "duration": 260311,
        "start_time": "2024-12-15T05:44:57.630Z"
      },
      {
        "duration": 94,
        "start_time": "2024-12-15T05:49:17.943Z"
      },
      {
        "duration": 104,
        "start_time": "2024-12-15T05:49:18.039Z"
      },
      {
        "duration": 22,
        "start_time": "2024-12-15T05:49:18.144Z"
      },
      {
        "duration": 287,
        "start_time": "2024-12-15T05:49:18.168Z"
      },
      {
        "duration": 2,
        "start_time": "2024-12-15T05:49:18.457Z"
      },
      {
        "duration": 11,
        "start_time": "2024-12-15T05:49:18.461Z"
      },
      {
        "duration": 18,
        "start_time": "2024-12-15T05:49:18.473Z"
      },
      {
        "duration": 3,
        "start_time": "2024-12-15T05:49:18.493Z"
      },
      {
        "duration": 35530,
        "start_time": "2024-12-15T05:49:18.498Z"
      },
      {
        "duration": 86,
        "start_time": "2024-12-15T05:49:54.030Z"
      },
      {
        "duration": 80,
        "start_time": "2024-12-15T05:49:54.118Z"
      },
      {
        "duration": 3,
        "start_time": "2024-12-15T05:49:54.203Z"
      },
      {
        "duration": 2,
        "start_time": "2024-12-15T05:49:59.558Z"
      },
      {
        "duration": 20641,
        "start_time": "2024-12-15T05:50:28.484Z"
      },
      {
        "duration": 1795,
        "start_time": "2024-12-15T05:51:20.374Z"
      },
      {
        "duration": 958,
        "start_time": "2024-12-15T05:51:22.172Z"
      },
      {
        "duration": 172,
        "start_time": "2024-12-15T05:51:23.132Z"
      },
      {
        "duration": 9,
        "start_time": "2024-12-15T05:51:23.305Z"
      },
      {
        "duration": 336,
        "start_time": "2024-12-15T05:51:23.316Z"
      },
      {
        "duration": 325,
        "start_time": "2024-12-15T05:51:23.653Z"
      },
      {
        "duration": 378,
        "start_time": "2024-12-15T05:51:23.980Z"
      },
      {
        "duration": 361,
        "start_time": "2024-12-15T05:51:24.359Z"
      },
      {
        "duration": 1757,
        "start_time": "2024-12-15T05:51:24.722Z"
      },
      {
        "duration": 111,
        "start_time": "2024-12-15T05:51:26.482Z"
      },
      {
        "duration": 117,
        "start_time": "2024-12-15T05:51:26.595Z"
      },
      {
        "duration": 9,
        "start_time": "2024-12-15T05:51:26.714Z"
      },
      {
        "duration": 23,
        "start_time": "2024-12-15T05:51:26.724Z"
      },
      {
        "duration": 50,
        "start_time": "2024-12-15T05:51:26.748Z"
      },
      {
        "duration": 2197,
        "start_time": "2024-12-15T05:51:26.800Z"
      },
      {
        "duration": 17,
        "start_time": "2024-12-15T05:51:28.999Z"
      },
      {
        "duration": 35,
        "start_time": "2024-12-15T05:51:29.018Z"
      },
      {
        "duration": 15290,
        "start_time": "2024-12-15T05:51:29.055Z"
      },
      {
        "duration": 18,
        "start_time": "2024-12-15T05:51:44.347Z"
      },
      {
        "duration": 22,
        "start_time": "2024-12-15T05:51:44.367Z"
      },
      {
        "duration": 2481,
        "start_time": "2024-12-15T05:51:44.391Z"
      },
      {
        "duration": 2896,
        "start_time": "2024-12-15T05:51:46.875Z"
      },
      {
        "duration": 15,
        "start_time": "2024-12-15T05:51:49.772Z"
      },
      {
        "duration": 42,
        "start_time": "2024-12-15T05:51:49.789Z"
      },
      {
        "duration": 1931,
        "start_time": "2024-12-15T05:51:49.833Z"
      },
      {
        "duration": 18,
        "start_time": "2024-12-15T05:51:51.765Z"
      },
      {
        "duration": 6920,
        "start_time": "2024-12-15T05:51:51.784Z"
      },
      {
        "duration": 25,
        "start_time": "2024-12-15T05:51:58.706Z"
      },
      {
        "duration": 83,
        "start_time": "2024-12-15T05:51:58.733Z"
      },
      {
        "duration": 4,
        "start_time": "2024-12-15T05:51:58.817Z"
      },
      {
        "duration": 71,
        "start_time": "2024-12-15T05:51:58.823Z"
      },
      {
        "duration": 3,
        "start_time": "2024-12-15T05:51:58.895Z"
      },
      {
        "duration": 4,
        "start_time": "2024-12-15T05:51:58.915Z"
      },
      {
        "duration": 18,
        "start_time": "2024-12-15T05:51:58.921Z"
      },
      {
        "duration": 3,
        "start_time": "2024-12-15T05:51:58.941Z"
      },
      {
        "duration": 22814,
        "start_time": "2024-12-15T05:51:58.945Z"
      },
      {
        "duration": 99455,
        "start_time": "2024-12-15T05:52:21.761Z"
      },
      {
        "duration": 606,
        "start_time": "2024-12-15T05:54:01.218Z"
      },
      {
        "duration": 88,
        "start_time": "2024-12-15T05:54:01.827Z"
      },
      {
        "duration": 16,
        "start_time": "2024-12-15T05:54:01.917Z"
      },
      {
        "duration": 39,
        "start_time": "2024-12-15T05:54:01.935Z"
      },
      {
        "duration": 243,
        "start_time": "2024-12-15T05:54:01.975Z"
      },
      {
        "duration": 682876,
        "start_time": "2024-12-15T05:54:30.038Z"
      },
      {
        "duration": 6,
        "start_time": "2024-12-15T06:08:11.916Z"
      },
      {
        "duration": 11,
        "start_time": "2024-12-15T06:08:23.174Z"
      },
      {
        "duration": 71870,
        "start_time": "2024-12-15T06:08:34.278Z"
      },
      {
        "duration": 1678,
        "start_time": "2024-12-15T06:13:10.734Z"
      },
      {
        "duration": 885,
        "start_time": "2024-12-15T06:13:12.414Z"
      },
      {
        "duration": 164,
        "start_time": "2024-12-15T06:13:13.301Z"
      },
      {
        "duration": 3,
        "start_time": "2024-12-15T06:13:13.467Z"
      },
      {
        "duration": 304,
        "start_time": "2024-12-15T06:13:13.472Z"
      },
      {
        "duration": 305,
        "start_time": "2024-12-15T06:13:13.778Z"
      },
      {
        "duration": 331,
        "start_time": "2024-12-15T06:13:14.084Z"
      },
      {
        "duration": 344,
        "start_time": "2024-12-15T06:13:14.417Z"
      },
      {
        "duration": 1677,
        "start_time": "2024-12-15T06:13:14.763Z"
      },
      {
        "duration": 102,
        "start_time": "2024-12-15T06:13:16.443Z"
      },
      {
        "duration": 123,
        "start_time": "2024-12-15T06:13:16.548Z"
      },
      {
        "duration": 8,
        "start_time": "2024-12-15T06:13:16.673Z"
      },
      {
        "duration": 24,
        "start_time": "2024-12-15T06:13:16.683Z"
      },
      {
        "duration": 49,
        "start_time": "2024-12-15T06:13:16.715Z"
      },
      {
        "duration": 1931,
        "start_time": "2024-12-15T06:13:16.766Z"
      },
      {
        "duration": 17,
        "start_time": "2024-12-15T06:13:18.699Z"
      },
      {
        "duration": 35,
        "start_time": "2024-12-15T06:13:18.717Z"
      },
      {
        "duration": 15139,
        "start_time": "2024-12-15T06:13:18.754Z"
      },
      {
        "duration": 27,
        "start_time": "2024-12-15T06:13:33.895Z"
      },
      {
        "duration": 20,
        "start_time": "2024-12-15T06:13:33.927Z"
      },
      {
        "duration": 2487,
        "start_time": "2024-12-15T06:13:33.948Z"
      },
      {
        "duration": 2721,
        "start_time": "2024-12-15T06:13:36.437Z"
      },
      {
        "duration": 14,
        "start_time": "2024-12-15T06:13:39.160Z"
      },
      {
        "duration": 54,
        "start_time": "2024-12-15T06:13:39.176Z"
      },
      {
        "duration": 1947,
        "start_time": "2024-12-15T06:13:39.232Z"
      },
      {
        "duration": 18,
        "start_time": "2024-12-15T06:13:41.181Z"
      },
      {
        "duration": 6985,
        "start_time": "2024-12-15T06:13:41.200Z"
      },
      {
        "duration": 33,
        "start_time": "2024-12-15T06:13:48.187Z"
      },
      {
        "duration": 77,
        "start_time": "2024-12-15T06:13:48.223Z"
      },
      {
        "duration": 22,
        "start_time": "2024-12-15T06:13:48.301Z"
      },
      {
        "duration": 68,
        "start_time": "2024-12-15T06:13:48.325Z"
      },
      {
        "duration": 2,
        "start_time": "2024-12-15T06:13:48.395Z"
      },
      {
        "duration": 6,
        "start_time": "2024-12-15T06:13:48.414Z"
      },
      {
        "duration": 4,
        "start_time": "2024-12-15T06:13:48.422Z"
      },
      {
        "duration": 4,
        "start_time": "2024-12-15T06:13:48.428Z"
      },
      {
        "duration": 22706,
        "start_time": "2024-12-15T06:13:48.434Z"
      },
      {
        "duration": 102478,
        "start_time": "2024-12-15T06:14:11.142Z"
      },
      {
        "duration": 593,
        "start_time": "2024-12-15T06:15:53.623Z"
      },
      {
        "duration": 7,
        "start_time": "2024-12-15T06:15:54.218Z"
      },
      {
        "duration": 89,
        "start_time": "2024-12-15T06:15:54.227Z"
      },
      {
        "duration": 9,
        "start_time": "2024-12-15T06:15:54.318Z"
      },
      {
        "duration": 156,
        "start_time": "2024-12-15T06:15:54.330Z"
      },
      {
        "duration": 298187,
        "start_time": "2024-12-15T06:15:54.487Z"
      },
      {
        "duration": 10299,
        "start_time": "2024-12-15T06:23:25.803Z"
      },
      {
        "duration": 1792,
        "start_time": "2024-12-15T06:23:36.105Z"
      },
      {
        "duration": 924,
        "start_time": "2024-12-15T06:23:37.899Z"
      },
      {
        "duration": 177,
        "start_time": "2024-12-15T06:23:38.825Z"
      },
      {
        "duration": 3,
        "start_time": "2024-12-15T06:23:39.004Z"
      },
      {
        "duration": 323,
        "start_time": "2024-12-15T06:23:39.014Z"
      },
      {
        "duration": 329,
        "start_time": "2024-12-15T06:23:39.339Z"
      },
      {
        "duration": 337,
        "start_time": "2024-12-15T06:23:39.670Z"
      },
      {
        "duration": 347,
        "start_time": "2024-12-15T06:23:40.016Z"
      },
      {
        "duration": 1638,
        "start_time": "2024-12-15T06:23:40.365Z"
      },
      {
        "duration": 90,
        "start_time": "2024-12-15T06:23:42.005Z"
      },
      {
        "duration": 102,
        "start_time": "2024-12-15T06:23:42.097Z"
      },
      {
        "duration": 17,
        "start_time": "2024-12-15T06:23:42.200Z"
      },
      {
        "duration": 15,
        "start_time": "2024-12-15T06:23:42.218Z"
      },
      {
        "duration": 92,
        "start_time": "2024-12-15T06:23:42.234Z"
      },
      {
        "duration": 1950,
        "start_time": "2024-12-15T06:23:42.328Z"
      },
      {
        "duration": 6,
        "start_time": "2024-12-15T06:23:44.280Z"
      },
      {
        "duration": 54,
        "start_time": "2024-12-15T06:23:44.288Z"
      },
      {
        "duration": 14393,
        "start_time": "2024-12-15T06:23:44.344Z"
      },
      {
        "duration": 17,
        "start_time": "2024-12-15T06:23:58.739Z"
      },
      {
        "duration": 19,
        "start_time": "2024-12-15T06:23:58.758Z"
      },
      {
        "duration": 2371,
        "start_time": "2024-12-15T06:23:58.778Z"
      },
      {
        "duration": 2716,
        "start_time": "2024-12-15T06:24:01.151Z"
      },
      {
        "duration": 18,
        "start_time": "2024-12-15T06:24:03.869Z"
      },
      {
        "duration": 67,
        "start_time": "2024-12-15T06:24:03.889Z"
      },
      {
        "duration": 2001,
        "start_time": "2024-12-15T06:24:03.957Z"
      },
      {
        "duration": 18,
        "start_time": "2024-12-15T06:24:05.960Z"
      },
      {
        "duration": 6957,
        "start_time": "2024-12-15T06:24:05.981Z"
      },
      {
        "duration": 15,
        "start_time": "2024-12-15T06:24:12.940Z"
      },
      {
        "duration": 97,
        "start_time": "2024-12-15T06:24:12.956Z"
      },
      {
        "duration": 4,
        "start_time": "2024-12-15T06:24:13.055Z"
      },
      {
        "duration": 76,
        "start_time": "2024-12-15T06:24:29.384Z"
      },
      {
        "duration": 4,
        "start_time": "2024-12-15T06:24:29.715Z"
      },
      {
        "duration": 8,
        "start_time": "2024-12-15T06:24:30.320Z"
      },
      {
        "duration": 3,
        "start_time": "2024-12-15T06:24:31.356Z"
      },
      {
        "duration": 2,
        "start_time": "2024-12-15T06:24:32.456Z"
      },
      {
        "duration": 22640,
        "start_time": "2024-12-15T06:24:33.524Z"
      },
      {
        "duration": 106807,
        "start_time": "2024-12-15T06:25:00.208Z"
      },
      {
        "duration": 444,
        "start_time": "2024-12-15T06:26:58.778Z"
      },
      {
        "duration": 6,
        "start_time": "2024-12-15T06:27:01.407Z"
      },
      {
        "duration": 3,
        "start_time": "2024-12-15T06:27:03.003Z"
      },
      {
        "duration": 4,
        "start_time": "2024-12-15T06:27:03.756Z"
      },
      {
        "duration": 159,
        "start_time": "2024-12-15T06:27:05.368Z"
      },
      {
        "duration": 445005,
        "start_time": "2024-12-15T06:27:06.447Z"
      },
      {
        "duration": 0,
        "start_time": "2024-12-15T06:34:31.454Z"
      },
      {
        "duration": 0,
        "start_time": "2024-12-15T06:34:31.455Z"
      },
      {
        "duration": 0,
        "start_time": "2024-12-15T06:34:31.456Z"
      },
      {
        "duration": 0,
        "start_time": "2024-12-15T06:34:31.457Z"
      },
      {
        "duration": 0,
        "start_time": "2024-12-15T06:34:31.459Z"
      },
      {
        "duration": 0,
        "start_time": "2024-12-15T06:34:31.460Z"
      },
      {
        "duration": 0,
        "start_time": "2024-12-15T06:34:31.461Z"
      },
      {
        "duration": 0,
        "start_time": "2024-12-15T06:34:31.461Z"
      },
      {
        "duration": 0,
        "start_time": "2024-12-15T06:34:31.463Z"
      },
      {
        "duration": 0,
        "start_time": "2024-12-15T06:34:31.464Z"
      },
      {
        "duration": 1793,
        "start_time": "2024-12-15T06:35:30.973Z"
      },
      {
        "duration": 973,
        "start_time": "2024-12-15T06:35:35.735Z"
      },
      {
        "duration": 181,
        "start_time": "2024-12-15T06:35:36.721Z"
      },
      {
        "duration": 4,
        "start_time": "2024-12-15T06:35:37.758Z"
      },
      {
        "duration": 301,
        "start_time": "2024-12-15T06:35:37.953Z"
      },
      {
        "duration": 318,
        "start_time": "2024-12-15T06:35:38.256Z"
      },
      {
        "duration": 354,
        "start_time": "2024-12-15T06:35:38.576Z"
      },
      {
        "duration": 369,
        "start_time": "2024-12-15T06:35:38.933Z"
      },
      {
        "duration": 1781,
        "start_time": "2024-12-15T06:35:39.304Z"
      },
      {
        "duration": 10651,
        "start_time": "2024-12-15T06:37:30.239Z"
      },
      {
        "duration": 11,
        "start_time": "2024-12-15T06:37:44.111Z"
      },
      {
        "duration": 938,
        "start_time": "2024-12-15T06:37:45.101Z"
      },
      {
        "duration": 174,
        "start_time": "2024-12-15T06:37:46.041Z"
      },
      {
        "duration": 8,
        "start_time": "2024-12-15T06:37:46.217Z"
      },
      {
        "duration": 278,
        "start_time": "2024-12-15T06:37:46.227Z"
      },
      {
        "duration": 309,
        "start_time": "2024-12-15T06:37:46.507Z"
      },
      {
        "duration": 306,
        "start_time": "2024-12-15T06:37:46.823Z"
      },
      {
        "duration": 298,
        "start_time": "2024-12-15T06:37:47.135Z"
      },
      {
        "duration": 1813,
        "start_time": "2024-12-15T06:37:47.435Z"
      },
      {
        "duration": 112,
        "start_time": "2024-12-15T06:37:49.250Z"
      },
      {
        "duration": 103,
        "start_time": "2024-12-15T06:37:49.364Z"
      },
      {
        "duration": 9,
        "start_time": "2024-12-15T06:37:49.469Z"
      },
      {
        "duration": 15,
        "start_time": "2024-12-15T06:37:49.480Z"
      },
      {
        "duration": 84,
        "start_time": "2024-12-15T06:37:49.497Z"
      },
      {
        "duration": 2162,
        "start_time": "2024-12-15T06:37:49.582Z"
      },
      {
        "duration": 7,
        "start_time": "2024-12-15T06:37:51.746Z"
      },
      {
        "duration": 38,
        "start_time": "2024-12-15T06:37:51.754Z"
      },
      {
        "duration": 15789,
        "start_time": "2024-12-15T06:37:53.261Z"
      },
      {
        "duration": 16,
        "start_time": "2024-12-15T06:38:09.051Z"
      },
      {
        "duration": 18,
        "start_time": "2024-12-15T06:38:09.068Z"
      },
      {
        "duration": 2527,
        "start_time": "2024-12-15T06:38:09.088Z"
      },
      {
        "duration": 2942,
        "start_time": "2024-12-15T06:38:11.617Z"
      },
      {
        "duration": 15,
        "start_time": "2024-12-15T06:38:14.561Z"
      },
      {
        "duration": 46,
        "start_time": "2024-12-15T06:38:14.578Z"
      },
      {
        "duration": 2097,
        "start_time": "2024-12-15T06:38:14.627Z"
      },
      {
        "duration": 24,
        "start_time": "2024-12-15T06:38:16.726Z"
      },
      {
        "duration": 7530,
        "start_time": "2024-12-15T06:38:16.752Z"
      },
      {
        "duration": 19,
        "start_time": "2024-12-15T06:38:24.284Z"
      },
      {
        "duration": 99,
        "start_time": "2024-12-15T06:38:24.305Z"
      },
      {
        "duration": 13,
        "start_time": "2024-12-15T06:38:24.417Z"
      },
      {
        "duration": 68,
        "start_time": "2024-12-15T06:38:59.321Z"
      },
      {
        "duration": 3,
        "start_time": "2024-12-15T06:39:00.959Z"
      },
      {
        "duration": 4,
        "start_time": "2024-12-15T06:39:01.538Z"
      },
      {
        "duration": 3,
        "start_time": "2024-12-15T06:39:02.429Z"
      },
      {
        "duration": 3,
        "start_time": "2024-12-15T06:39:03.578Z"
      },
      {
        "duration": 32727,
        "start_time": "2024-12-15T06:39:04.840Z"
      },
      {
        "duration": 144475,
        "start_time": "2024-12-15T06:40:06.864Z"
      },
      {
        "duration": 460,
        "start_time": "2024-12-15T06:42:36.278Z"
      },
      {
        "duration": 10,
        "start_time": "2024-12-15T06:42:38.719Z"
      },
      {
        "duration": 3,
        "start_time": "2024-12-15T06:42:41.721Z"
      },
      {
        "duration": 3,
        "start_time": "2024-12-15T06:42:44.628Z"
      },
      {
        "duration": 149,
        "start_time": "2024-12-15T06:42:46.123Z"
      },
      {
        "duration": 852841,
        "start_time": "2024-12-15T06:42:47.521Z"
      },
      {
        "duration": 22140,
        "start_time": "2024-12-15T19:07:15.179Z"
      },
      {
        "duration": 1880,
        "start_time": "2024-12-15T19:08:00.758Z"
      },
      {
        "duration": 1032,
        "start_time": "2024-12-15T19:08:02.640Z"
      },
      {
        "duration": 131,
        "start_time": "2024-12-15T19:08:03.673Z"
      },
      {
        "duration": 3,
        "start_time": "2024-12-15T19:08:03.806Z"
      },
      {
        "duration": 305,
        "start_time": "2024-12-15T19:08:03.810Z"
      },
      {
        "duration": 267,
        "start_time": "2024-12-15T19:08:04.116Z"
      },
      {
        "duration": 275,
        "start_time": "2024-12-15T19:08:04.387Z"
      },
      {
        "duration": 297,
        "start_time": "2024-12-15T19:08:04.663Z"
      },
      {
        "duration": 1412,
        "start_time": "2024-12-15T19:08:04.961Z"
      },
      {
        "duration": 83,
        "start_time": "2024-12-15T19:08:06.376Z"
      },
      {
        "duration": 94,
        "start_time": "2024-12-15T19:08:06.461Z"
      },
      {
        "duration": 8,
        "start_time": "2024-12-15T19:08:06.556Z"
      },
      {
        "duration": 30,
        "start_time": "2024-12-15T19:08:06.565Z"
      },
      {
        "duration": 163,
        "start_time": "2024-12-15T19:08:06.596Z"
      },
      {
        "duration": 1907,
        "start_time": "2024-12-15T19:08:06.761Z"
      },
      {
        "duration": 18,
        "start_time": "2024-12-15T19:08:08.669Z"
      },
      {
        "duration": 34,
        "start_time": "2024-12-15T19:08:08.689Z"
      },
      {
        "duration": 12275,
        "start_time": "2024-12-15T19:08:08.726Z"
      },
      {
        "duration": 13,
        "start_time": "2024-12-15T19:08:21.003Z"
      },
      {
        "duration": 45,
        "start_time": "2024-12-15T19:08:21.018Z"
      },
      {
        "duration": 2121,
        "start_time": "2024-12-15T19:08:21.065Z"
      },
      {
        "duration": 2371,
        "start_time": "2024-12-15T19:08:23.189Z"
      },
      {
        "duration": 12,
        "start_time": "2024-12-15T19:08:25.562Z"
      },
      {
        "duration": 42,
        "start_time": "2024-12-15T19:08:25.576Z"
      },
      {
        "duration": 1782,
        "start_time": "2024-12-15T19:08:25.620Z"
      },
      {
        "duration": 19,
        "start_time": "2024-12-15T19:08:27.404Z"
      },
      {
        "duration": 6030,
        "start_time": "2024-12-15T19:08:27.425Z"
      },
      {
        "duration": 16,
        "start_time": "2024-12-15T19:08:33.457Z"
      },
      {
        "duration": 69,
        "start_time": "2024-12-15T19:08:33.475Z"
      },
      {
        "duration": 3,
        "start_time": "2024-12-15T19:08:33.546Z"
      },
      {
        "duration": 50,
        "start_time": "2024-12-15T19:08:56.035Z"
      },
      {
        "duration": 3,
        "start_time": "2024-12-15T19:08:56.656Z"
      },
      {
        "duration": 3,
        "start_time": "2024-12-15T19:08:56.741Z"
      },
      {
        "duration": 2,
        "start_time": "2024-12-15T19:08:57.187Z"
      },
      {
        "duration": 3,
        "start_time": "2024-12-15T19:08:57.898Z"
      },
      {
        "duration": 16516,
        "start_time": "2024-12-15T19:08:58.711Z"
      },
      {
        "duration": 64492,
        "start_time": "2024-12-15T19:09:19.894Z"
      },
      {
        "duration": 458,
        "start_time": "2024-12-15T19:10:30.238Z"
      },
      {
        "duration": 4,
        "start_time": "2024-12-15T19:10:39.542Z"
      },
      {
        "duration": 3,
        "start_time": "2024-12-15T19:10:41.635Z"
      },
      {
        "duration": 3,
        "start_time": "2024-12-15T19:10:42.748Z"
      },
      {
        "duration": 128,
        "start_time": "2024-12-15T19:10:44.158Z"
      },
      {
        "duration": 592746,
        "start_time": "2024-12-15T19:10:48.866Z"
      },
      {
        "duration": 21604,
        "start_time": "2024-12-15T23:00:54.591Z"
      },
      {
        "duration": 1935,
        "start_time": "2024-12-15T23:01:16.198Z"
      },
      {
        "duration": 2911,
        "start_time": "2024-12-15T23:01:53.610Z"
      },
      {
        "duration": 10544,
        "start_time": "2024-12-15T23:28:24.186Z"
      },
      {
        "duration": 5,
        "start_time": "2024-12-15T23:28:38.832Z"
      },
      {
        "duration": 1013,
        "start_time": "2024-12-15T23:28:39.496Z"
      },
      {
        "duration": 182,
        "start_time": "2024-12-15T23:28:40.511Z"
      },
      {
        "duration": 4,
        "start_time": "2024-12-15T23:28:40.695Z"
      },
      {
        "duration": 325,
        "start_time": "2024-12-15T23:28:40.715Z"
      },
      {
        "duration": 336,
        "start_time": "2024-12-15T23:28:41.042Z"
      },
      {
        "duration": 347,
        "start_time": "2024-12-15T23:28:41.379Z"
      },
      {
        "duration": 373,
        "start_time": "2024-12-15T23:28:41.728Z"
      },
      {
        "duration": 1727,
        "start_time": "2024-12-15T23:28:42.103Z"
      },
      {
        "duration": 107,
        "start_time": "2024-12-15T23:28:43.832Z"
      },
      {
        "duration": 103,
        "start_time": "2024-12-15T23:28:43.940Z"
      },
      {
        "duration": 9,
        "start_time": "2024-12-15T23:28:44.045Z"
      },
      {
        "duration": 65,
        "start_time": "2024-12-15T23:28:44.056Z"
      },
      {
        "duration": 80,
        "start_time": "2024-12-15T23:28:44.123Z"
      },
      {
        "duration": 2114,
        "start_time": "2024-12-15T23:28:44.216Z"
      },
      {
        "duration": 6,
        "start_time": "2024-12-15T23:28:46.333Z"
      },
      {
        "duration": 181,
        "start_time": "2024-12-15T23:28:46.341Z"
      },
      {
        "duration": 15842,
        "start_time": "2024-12-15T23:28:46.524Z"
      },
      {
        "duration": 19,
        "start_time": "2024-12-15T23:29:02.368Z"
      },
      {
        "duration": 42,
        "start_time": "2024-12-15T23:29:02.388Z"
      },
      {
        "duration": 2619,
        "start_time": "2024-12-15T23:29:02.432Z"
      },
      {
        "duration": 2871,
        "start_time": "2024-12-15T23:29:05.055Z"
      },
      {
        "duration": 18,
        "start_time": "2024-12-15T23:29:07.928Z"
      },
      {
        "duration": 48,
        "start_time": "2024-12-15T23:29:07.947Z"
      },
      {
        "duration": 2035,
        "start_time": "2024-12-15T23:29:07.997Z"
      },
      {
        "duration": 19,
        "start_time": "2024-12-15T23:29:10.034Z"
      },
      {
        "duration": 6857,
        "start_time": "2024-12-15T23:30:57.301Z"
      },
      {
        "duration": 15,
        "start_time": "2024-12-15T23:42:41.238Z"
      },
      {
        "duration": 76,
        "start_time": "2024-12-15T23:42:43.062Z"
      },
      {
        "duration": 5,
        "start_time": "2024-12-15T23:44:19.928Z"
      },
      {
        "duration": 67,
        "start_time": "2024-12-16T00:00:03.889Z"
      },
      {
        "duration": 3,
        "start_time": "2024-12-16T00:02:35.735Z"
      },
      {
        "duration": 3,
        "start_time": "2024-12-16T00:02:36.055Z"
      },
      {
        "duration": 3,
        "start_time": "2024-12-16T00:02:38.815Z"
      },
      {
        "duration": 3,
        "start_time": "2024-12-16T00:03:09.257Z"
      },
      {
        "duration": 19735,
        "start_time": "2024-12-16T00:03:12.115Z"
      },
      {
        "duration": 5,
        "start_time": "2024-12-16T00:05:49.895Z"
      },
      {
        "duration": 80305,
        "start_time": "2024-12-16T00:06:02.912Z"
      },
      {
        "duration": 573,
        "start_time": "2024-12-16T00:09:53.143Z"
      },
      {
        "duration": 9,
        "start_time": "2024-12-16T00:09:56.628Z"
      },
      {
        "duration": 3,
        "start_time": "2024-12-16T00:20:00.670Z"
      },
      {
        "duration": 3,
        "start_time": "2024-12-16T00:20:02.740Z"
      },
      {
        "duration": 149,
        "start_time": "2024-12-16T00:21:20.715Z"
      },
      {
        "duration": 580313,
        "start_time": "2024-12-16T00:22:00.815Z"
      },
      {
        "duration": 2,
        "start_time": "2024-12-16T00:33:42.251Z"
      },
      {
        "duration": 2,
        "start_time": "2024-12-16T00:33:42.978Z"
      },
      {
        "duration": 2,
        "start_time": "2024-12-16T00:33:44.214Z"
      },
      {
        "duration": 2,
        "start_time": "2024-12-16T00:33:45.271Z"
      },
      {
        "duration": 21022,
        "start_time": "2024-12-16T00:33:50.501Z"
      },
      {
        "duration": 3704,
        "start_time": "2024-12-16T00:34:46.534Z"
      },
      {
        "duration": 25,
        "start_time": "2024-12-16T00:38:59.741Z"
      },
      {
        "duration": 253,
        "start_time": "2024-12-16T00:44:00.055Z"
      },
      {
        "duration": 3,
        "start_time": "2024-12-16T00:44:22.910Z"
      },
      {
        "duration": 2,
        "start_time": "2024-12-16T00:44:27.540Z"
      },
      {
        "duration": 84,
        "start_time": "2024-12-16T00:44:41.501Z"
      },
      {
        "duration": 3,
        "start_time": "2024-12-16T00:44:56.741Z"
      },
      {
        "duration": 919136,
        "start_time": "2024-12-16T00:45:28.270Z"
      },
      {
        "duration": 91973,
        "start_time": "2024-12-16T01:01:00.541Z"
      },
      {
        "duration": 461,
        "start_time": "2024-12-16T01:02:39.575Z"
      },
      {
        "duration": 7,
        "start_time": "2024-12-16T01:13:16.351Z"
      },
      {
        "duration": 9,
        "start_time": "2024-12-16T01:13:24.070Z"
      },
      {
        "duration": 1354,
        "start_time": "2024-12-16T22:03:19.801Z"
      },
      {
        "duration": 0,
        "start_time": "2024-12-16T22:03:21.157Z"
      },
      {
        "duration": 19758,
        "start_time": "2024-12-16T22:03:25.240Z"
      },
      {
        "duration": 190,
        "start_time": "2024-12-16T22:03:48.251Z"
      },
      {
        "duration": 3,
        "start_time": "2024-12-16T22:03:51.400Z"
      },
      {
        "duration": 2924,
        "start_time": "2024-12-16T22:15:50.777Z"
      },
      {
        "duration": 822,
        "start_time": "2024-12-16T22:16:26.509Z"
      },
      {
        "duration": 145,
        "start_time": "2024-12-16T22:16:30.030Z"
      },
      {
        "duration": 810,
        "start_time": "2024-12-16T22:16:42.155Z"
      },
      {
        "duration": 142,
        "start_time": "2024-12-16T22:16:46.509Z"
      },
      {
        "duration": 804,
        "start_time": "2024-12-16T22:17:16.884Z"
      },
      {
        "duration": 144,
        "start_time": "2024-12-16T22:17:19.156Z"
      },
      {
        "duration": 915,
        "start_time": "2024-12-16T22:18:43.908Z"
      },
      {
        "duration": 107,
        "start_time": "2024-12-16T22:18:47.365Z"
      },
      {
        "duration": 112,
        "start_time": "2024-12-16T22:20:59.756Z"
      },
      {
        "duration": 115,
        "start_time": "2024-12-16T22:21:03.750Z"
      },
      {
        "duration": 3,
        "start_time": "2024-12-16T22:24:28.852Z"
      },
      {
        "duration": 3,
        "start_time": "2024-12-16T22:24:43.509Z"
      },
      {
        "duration": 93,
        "start_time": "2024-12-16T22:25:01.035Z"
      },
      {
        "duration": 4,
        "start_time": "2024-12-16T22:25:19.084Z"
      },
      {
        "duration": 2,
        "start_time": "2024-12-16T22:25:47.081Z"
      },
      {
        "duration": 267,
        "start_time": "2024-12-16T22:26:53.680Z"
      },
      {
        "duration": 281,
        "start_time": "2024-12-16T22:26:54.001Z"
      },
      {
        "duration": 294,
        "start_time": "2024-12-16T22:26:56.072Z"
      },
      {
        "duration": 1493,
        "start_time": "2024-12-16T22:26:57.921Z"
      },
      {
        "duration": 13,
        "start_time": "2024-12-16T23:02:10.469Z"
      },
      {
        "duration": 20,
        "start_time": "2024-12-16T23:02:30.560Z"
      },
      {
        "duration": 259,
        "start_time": "2024-12-16T23:02:49.640Z"
      },
      {
        "duration": 85,
        "start_time": "2024-12-16T23:03:00.724Z"
      },
      {
        "duration": 29,
        "start_time": "2024-12-16T23:05:05.480Z"
      },
      {
        "duration": 12535,
        "start_time": "2024-12-16T23:06:48.959Z"
      },
      {
        "duration": 11735,
        "start_time": "2024-12-16T23:07:05.600Z"
      },
      {
        "duration": 9,
        "start_time": "2024-12-16T23:07:46.250Z"
      },
      {
        "duration": 3,
        "start_time": "2024-12-16T23:07:48.410Z"
      },
      {
        "duration": 947,
        "start_time": "2024-12-16T23:07:50.028Z"
      },
      {
        "duration": 109,
        "start_time": "2024-12-16T23:07:51.121Z"
      },
      {
        "duration": 3,
        "start_time": "2024-12-16T23:07:51.951Z"
      },
      {
        "duration": 4,
        "start_time": "2024-12-16T23:07:52.072Z"
      },
      {
        "duration": 4,
        "start_time": "2024-12-16T23:07:52.250Z"
      },
      {
        "duration": 2,
        "start_time": "2024-12-16T23:07:52.589Z"
      },
      {
        "duration": 230,
        "start_time": "2024-12-16T23:07:53.490Z"
      },
      {
        "duration": 256,
        "start_time": "2024-12-16T23:07:53.722Z"
      },
      {
        "duration": 260,
        "start_time": "2024-12-16T23:07:54.049Z"
      },
      {
        "duration": 1507,
        "start_time": "2024-12-16T23:07:54.445Z"
      },
      {
        "duration": 12,
        "start_time": "2024-12-16T23:07:55.954Z"
      },
      {
        "duration": 245,
        "start_time": "2024-12-16T23:07:58.315Z"
      },
      {
        "duration": 87,
        "start_time": "2024-12-16T23:07:58.913Z"
      },
      {
        "duration": 86,
        "start_time": "2024-12-16T23:07:59.528Z"
      },
      {
        "duration": 8,
        "start_time": "2024-12-16T23:08:00.115Z"
      },
      {
        "duration": 10,
        "start_time": "2024-12-16T23:08:00.428Z"
      },
      {
        "duration": 73,
        "start_time": "2024-12-16T23:08:00.748Z"
      },
      {
        "duration": 1642,
        "start_time": "2024-12-16T23:08:00.894Z"
      },
      {
        "duration": 17,
        "start_time": "2024-12-16T23:08:02.538Z"
      },
      {
        "duration": 48,
        "start_time": "2024-12-16T23:08:02.556Z"
      },
      {
        "duration": 13456,
        "start_time": "2024-12-16T23:08:02.606Z"
      },
      {
        "duration": 16,
        "start_time": "2024-12-16T23:08:16.063Z"
      },
      {
        "duration": 18,
        "start_time": "2024-12-16T23:08:16.080Z"
      },
      {
        "duration": 1232,
        "start_time": "2024-12-16T23:08:39.827Z"
      },
      {
        "duration": 1612,
        "start_time": "2024-12-16T23:12:00.668Z"
      },
      {
        "duration": 1593,
        "start_time": "2024-12-16T23:13:12.387Z"
      },
      {
        "duration": 1554,
        "start_time": "2024-12-16T23:13:18.000Z"
      },
      {
        "duration": 587,
        "start_time": "2024-12-16T23:13:32.170Z"
      },
      {
        "duration": 560,
        "start_time": "2024-12-16T23:13:38.090Z"
      },
      {
        "duration": 78,
        "start_time": "2024-12-16T23:18:13.671Z"
      },
      {
        "duration": 964,
        "start_time": "2024-12-16T23:18:20.800Z"
      },
      {
        "duration": 5,
        "start_time": "2024-12-16T23:18:39.160Z"
      },
      {
        "duration": 5,
        "start_time": "2024-12-16T23:18:40.723Z"
      },
      {
        "duration": 4,
        "start_time": "2024-12-16T23:19:10.331Z"
      },
      {
        "duration": 2,
        "start_time": "2024-12-16T23:19:10.525Z"
      },
      {
        "duration": 906,
        "start_time": "2024-12-16T23:19:11.730Z"
      },
      {
        "duration": 112,
        "start_time": "2024-12-16T23:19:12.827Z"
      },
      {
        "duration": 3,
        "start_time": "2024-12-16T23:19:13.920Z"
      },
      {
        "duration": 3,
        "start_time": "2024-12-16T23:19:14.067Z"
      },
      {
        "duration": 4,
        "start_time": "2024-12-16T23:19:14.275Z"
      },
      {
        "duration": 3,
        "start_time": "2024-12-16T23:19:14.519Z"
      },
      {
        "duration": 259,
        "start_time": "2024-12-16T23:19:15.370Z"
      },
      {
        "duration": 255,
        "start_time": "2024-12-16T23:19:15.631Z"
      },
      {
        "duration": 256,
        "start_time": "2024-12-16T23:19:15.934Z"
      },
      {
        "duration": 1612,
        "start_time": "2024-12-16T23:19:16.307Z"
      },
      {
        "duration": 14,
        "start_time": "2024-12-16T23:19:17.920Z"
      },
      {
        "duration": 267,
        "start_time": "2024-12-16T23:19:17.936Z"
      },
      {
        "duration": 90,
        "start_time": "2024-12-16T23:19:19.090Z"
      },
      {
        "duration": 1566,
        "start_time": "2024-12-16T23:19:19.908Z"
      },
      {
        "duration": 79,
        "start_time": "2024-12-16T23:19:23.600Z"
      },
      {
        "duration": 4,
        "start_time": "2024-12-16T23:19:27.991Z"
      },
      {
        "duration": 10,
        "start_time": "2024-12-16T23:19:29.529Z"
      },
      {
        "duration": 41,
        "start_time": "2024-12-16T23:19:31.879Z"
      },
      {
        "duration": 1654,
        "start_time": "2024-12-16T23:19:32.274Z"
      },
      {
        "duration": 5,
        "start_time": "2024-12-16T23:19:33.930Z"
      },
      {
        "duration": 43,
        "start_time": "2024-12-16T23:19:33.937Z"
      },
      {
        "duration": 13555,
        "start_time": "2024-12-16T23:19:35.914Z"
      },
      {
        "duration": 16,
        "start_time": "2024-12-16T23:19:49.471Z"
      },
      {
        "duration": 120,
        "start_time": "2024-12-16T23:25:57.067Z"
      },
      {
        "duration": 2002,
        "start_time": "2024-12-16T23:26:09.330Z"
      },
      {
        "duration": 3047,
        "start_time": "2024-12-16T23:39:38.014Z"
      },
      {
        "duration": 15,
        "start_time": "2024-12-16T23:39:45.496Z"
      },
      {
        "duration": 28,
        "start_time": "2024-12-16T23:39:47.334Z"
      },
      {
        "duration": 1638,
        "start_time": "2024-12-16T23:39:50.488Z"
      },
      {
        "duration": 18,
        "start_time": "2024-12-16T23:41:36.603Z"
      },
      {
        "duration": 6693,
        "start_time": "2024-12-16T23:41:38.888Z"
      },
      {
        "duration": 18,
        "start_time": "2024-12-16T23:41:45.582Z"
      },
      {
        "duration": 76,
        "start_time": "2024-12-16T23:41:47.693Z"
      },
      {
        "duration": 72,
        "start_time": "2024-12-16T23:44:24.017Z"
      },
      {
        "duration": 3,
        "start_time": "2024-12-16T23:44:29.054Z"
      },
      {
        "duration": 3,
        "start_time": "2024-12-16T23:44:47.922Z"
      },
      {
        "duration": 62,
        "start_time": "2024-12-16T23:45:11.648Z"
      },
      {
        "duration": 71,
        "start_time": "2024-12-16T23:45:15.646Z"
      },
      {
        "duration": 3,
        "start_time": "2024-12-16T23:45:18.383Z"
      },
      {
        "duration": 3,
        "start_time": "2024-12-16T23:45:19.989Z"
      },
      {
        "duration": 3,
        "start_time": "2024-12-16T23:45:20.285Z"
      },
      {
        "duration": 4,
        "start_time": "2024-12-16T23:47:04.129Z"
      },
      {
        "duration": 5,
        "start_time": "2024-12-16T23:47:49.014Z"
      },
      {
        "duration": 13,
        "start_time": "2024-12-16T23:50:05.054Z"
      },
      {
        "duration": 4,
        "start_time": "2024-12-16T23:50:32.689Z"
      },
      {
        "duration": 24262,
        "start_time": "2024-12-16T23:50:44.097Z"
      },
      {
        "duration": 95409,
        "start_time": "2024-12-16T23:51:18.948Z"
      },
      {
        "duration": 1295,
        "start_time": "2024-12-16T23:55:38.768Z"
      },
      {
        "duration": 6,
        "start_time": "2024-12-16T23:56:01.144Z"
      },
      {
        "duration": 2,
        "start_time": "2024-12-16T23:56:37.818Z"
      },
      {
        "duration": 3,
        "start_time": "2024-12-16T23:58:30.135Z"
      },
      {
        "duration": 3,
        "start_time": "2024-12-16T23:59:36.334Z"
      },
      {
        "duration": 3,
        "start_time": "2024-12-16T23:59:42.335Z"
      },
      {
        "duration": 77,
        "start_time": "2024-12-17T00:00:22.008Z"
      },
      {
        "duration": 89,
        "start_time": "2024-12-17T00:00:27.211Z"
      },
      {
        "duration": 118,
        "start_time": "2024-12-17T00:00:30.054Z"
      },
      {
        "duration": 3,
        "start_time": "2024-12-17T00:00:35.504Z"
      },
      {
        "duration": 4,
        "start_time": "2024-12-17T00:00:44.324Z"
      },
      {
        "duration": 22706,
        "start_time": "2024-12-17T00:01:40.866Z"
      },
      {
        "duration": 1417,
        "start_time": "2024-12-17T00:02:11.744Z"
      },
      {
        "duration": 3,
        "start_time": "2024-12-17T00:02:16.024Z"
      },
      {
        "duration": 21360,
        "start_time": "2024-12-17T00:02:32.809Z"
      },
      {
        "duration": 1395,
        "start_time": "2024-12-17T00:03:02.363Z"
      },
      {
        "duration": 5,
        "start_time": "2024-12-17T00:03:05.055Z"
      },
      {
        "duration": 3,
        "start_time": "2024-12-17T00:04:17.654Z"
      },
      {
        "duration": 3,
        "start_time": "2024-12-17T00:09:33.494Z"
      },
      {
        "duration": 3,
        "start_time": "2024-12-17T00:09:34.306Z"
      },
      {
        "duration": 134,
        "start_time": "2024-12-17T00:09:37.135Z"
      },
      {
        "duration": 1029685,
        "start_time": "2024-12-17T00:09:40.489Z"
      },
      {
        "duration": 11935,
        "start_time": "2024-12-17T00:30:56.523Z"
      },
      {
        "duration": 5,
        "start_time": "2024-12-17T00:31:10.305Z"
      },
      {
        "duration": 3,
        "start_time": "2024-12-17T00:31:10.547Z"
      },
      {
        "duration": 967,
        "start_time": "2024-12-17T00:31:11.211Z"
      },
      {
        "duration": 121,
        "start_time": "2024-12-17T00:31:12.179Z"
      },
      {
        "duration": 3,
        "start_time": "2024-12-17T00:31:12.685Z"
      },
      {
        "duration": 4,
        "start_time": "2024-12-17T00:31:12.815Z"
      },
      {
        "duration": 4,
        "start_time": "2024-12-17T00:31:13.013Z"
      },
      {
        "duration": 3,
        "start_time": "2024-12-17T00:31:13.305Z"
      },
      {
        "duration": 267,
        "start_time": "2024-12-17T00:31:14.067Z"
      },
      {
        "duration": 305,
        "start_time": "2024-12-17T00:31:14.336Z"
      },
      {
        "duration": 282,
        "start_time": "2024-12-17T00:31:14.643Z"
      },
      {
        "duration": 1572,
        "start_time": "2024-12-17T00:31:14.927Z"
      },
      {
        "duration": 13,
        "start_time": "2024-12-17T00:31:16.501Z"
      },
      {
        "duration": 270,
        "start_time": "2024-12-17T00:31:16.516Z"
      },
      {
        "duration": 115,
        "start_time": "2024-12-17T00:31:16.788Z"
      },
      {
        "duration": 1656,
        "start_time": "2024-12-17T00:31:16.904Z"
      },
      {
        "duration": 77,
        "start_time": "2024-12-17T00:31:18.562Z"
      },
      {
        "duration": 13,
        "start_time": "2024-12-17T00:31:18.641Z"
      },
      {
        "duration": 10,
        "start_time": "2024-12-17T00:31:18.656Z"
      },
      {
        "duration": 39,
        "start_time": "2024-12-17T00:31:18.820Z"
      },
      {
        "duration": 1721,
        "start_time": "2024-12-17T00:31:18.977Z"
      },
      {
        "duration": 6,
        "start_time": "2024-12-17T00:31:20.700Z"
      },
      {
        "duration": 52,
        "start_time": "2024-12-17T00:31:20.708Z"
      },
      {
        "duration": 14298,
        "start_time": "2024-12-17T00:31:20.762Z"
      },
      {
        "duration": 17,
        "start_time": "2024-12-17T00:31:35.061Z"
      },
      {
        "duration": 153,
        "start_time": "2024-12-17T00:31:35.079Z"
      },
      {
        "duration": 2165,
        "start_time": "2024-12-17T00:31:35.234Z"
      },
      {
        "duration": 3105,
        "start_time": "2024-12-17T00:31:37.401Z"
      },
      {
        "duration": 15,
        "start_time": "2024-12-17T00:31:40.507Z"
      },
      {
        "duration": 44,
        "start_time": "2024-12-17T00:31:40.524Z"
      },
      {
        "duration": 1774,
        "start_time": "2024-12-17T00:31:40.569Z"
      },
      {
        "duration": 20,
        "start_time": "2024-12-17T00:31:42.345Z"
      },
      {
        "duration": 6588,
        "start_time": "2024-12-17T00:31:42.367Z"
      },
      {
        "duration": 15,
        "start_time": "2024-12-17T00:31:48.956Z"
      },
      {
        "duration": 84,
        "start_time": "2024-12-17T00:31:48.973Z"
      },
      {
        "duration": 4,
        "start_time": "2024-12-17T00:31:49.058Z"
      },
      {
        "duration": 67,
        "start_time": "2024-12-17T00:31:49.063Z"
      },
      {
        "duration": 23,
        "start_time": "2024-12-17T00:31:49.132Z"
      },
      {
        "duration": 4,
        "start_time": "2024-12-17T00:31:49.156Z"
      },
      {
        "duration": 6,
        "start_time": "2024-12-17T00:31:49.161Z"
      },
      {
        "duration": 10,
        "start_time": "2024-12-17T00:31:49.169Z"
      },
      {
        "duration": 23874,
        "start_time": "2024-12-17T00:31:49.181Z"
      },
      {
        "duration": 99198,
        "start_time": "2024-12-17T00:32:13.056Z"
      },
      {
        "duration": 1500,
        "start_time": "2024-12-17T00:33:52.259Z"
      },
      {
        "duration": 92,
        "start_time": "2024-12-17T00:33:53.765Z"
      },
      {
        "duration": 7,
        "start_time": "2024-12-17T00:33:53.859Z"
      },
      {
        "duration": 3,
        "start_time": "2024-12-17T00:35:24.364Z"
      },
      {
        "duration": 3,
        "start_time": "2024-12-17T00:35:25.016Z"
      },
      {
        "duration": 138,
        "start_time": "2024-12-17T00:35:28.106Z"
      },
      {
        "duration": 710298,
        "start_time": "2024-12-17T00:35:30.884Z"
      },
      {
        "duration": 11926,
        "start_time": "2024-12-17T01:10:00.048Z"
      },
      {
        "duration": 6,
        "start_time": "2024-12-17T01:10:13.466Z"
      },
      {
        "duration": 2,
        "start_time": "2024-12-17T01:10:13.654Z"
      },
      {
        "duration": 942,
        "start_time": "2024-12-17T01:10:14.416Z"
      },
      {
        "duration": 126,
        "start_time": "2024-12-17T01:10:15.360Z"
      },
      {
        "duration": 3,
        "start_time": "2024-12-17T01:10:15.790Z"
      },
      {
        "duration": 4,
        "start_time": "2024-12-17T01:10:15.935Z"
      },
      {
        "duration": 4,
        "start_time": "2024-12-17T01:10:16.091Z"
      },
      {
        "duration": 2,
        "start_time": "2024-12-17T01:10:16.496Z"
      },
      {
        "duration": 259,
        "start_time": "2024-12-17T01:10:17.330Z"
      },
      {
        "duration": 275,
        "start_time": "2024-12-17T01:10:17.591Z"
      },
      {
        "duration": 265,
        "start_time": "2024-12-17T01:10:17.935Z"
      },
      {
        "duration": 1566,
        "start_time": "2024-12-17T01:10:18.464Z"
      },
      {
        "duration": 24,
        "start_time": "2024-12-17T01:10:20.032Z"
      },
      {
        "duration": 265,
        "start_time": "2024-12-17T01:10:20.057Z"
      },
      {
        "duration": 101,
        "start_time": "2024-12-17T01:10:20.324Z"
      },
      {
        "duration": 1655,
        "start_time": "2024-12-17T01:10:20.427Z"
      },
      {
        "duration": 92,
        "start_time": "2024-12-17T01:10:22.084Z"
      },
      {
        "duration": 5,
        "start_time": "2024-12-17T01:10:22.268Z"
      },
      {
        "duration": 9,
        "start_time": "2024-12-17T01:10:22.724Z"
      },
      {
        "duration": 43,
        "start_time": "2024-12-17T01:10:23.096Z"
      },
      {
        "duration": 1666,
        "start_time": "2024-12-17T01:10:23.290Z"
      },
      {
        "duration": 5,
        "start_time": "2024-12-17T01:10:24.958Z"
      },
      {
        "duration": 43,
        "start_time": "2024-12-17T01:10:24.965Z"
      },
      {
        "duration": 14262,
        "start_time": "2024-12-17T01:10:25.011Z"
      },
      {
        "duration": 15,
        "start_time": "2024-12-17T01:10:39.274Z"
      },
      {
        "duration": 152,
        "start_time": "2024-12-17T01:10:39.291Z"
      },
      {
        "duration": 2154,
        "start_time": "2024-12-17T01:10:39.445Z"
      },
      {
        "duration": 2997,
        "start_time": "2024-12-17T01:10:41.601Z"
      },
      {
        "duration": 14,
        "start_time": "2024-12-17T01:10:44.600Z"
      },
      {
        "duration": 44,
        "start_time": "2024-12-17T01:10:44.615Z"
      },
      {
        "duration": 1710,
        "start_time": "2024-12-17T01:10:44.661Z"
      },
      {
        "duration": 16,
        "start_time": "2024-12-17T01:10:46.372Z"
      },
      {
        "duration": 6489,
        "start_time": "2024-12-17T01:10:46.390Z"
      },
      {
        "duration": 14,
        "start_time": "2024-12-17T01:10:52.880Z"
      },
      {
        "duration": 83,
        "start_time": "2024-12-17T01:10:52.896Z"
      },
      {
        "duration": 3,
        "start_time": "2024-12-17T01:10:52.981Z"
      },
      {
        "duration": 86,
        "start_time": "2024-12-17T01:10:52.986Z"
      },
      {
        "duration": 3,
        "start_time": "2024-12-17T01:10:59.644Z"
      },
      {
        "duration": 3,
        "start_time": "2024-12-17T01:11:00.507Z"
      },
      {
        "duration": 3,
        "start_time": "2024-12-17T01:11:01.026Z"
      },
      {
        "duration": 3,
        "start_time": "2024-12-17T01:11:02.245Z"
      },
      {
        "duration": 23183,
        "start_time": "2024-12-17T01:11:03.382Z"
      },
      {
        "duration": 96359,
        "start_time": "2024-12-17T01:11:33.507Z"
      },
      {
        "duration": 1397,
        "start_time": "2024-12-17T01:13:35.466Z"
      },
      {
        "duration": 3,
        "start_time": "2024-12-17T01:13:37.824Z"
      },
      {
        "duration": 2,
        "start_time": "2024-12-17T01:13:41.764Z"
      },
      {
        "duration": 3,
        "start_time": "2024-12-17T01:13:46.816Z"
      },
      {
        "duration": 3,
        "start_time": "2024-12-17T01:13:47.535Z"
      },
      {
        "duration": 138,
        "start_time": "2024-12-17T01:13:49.456Z"
      },
      {
        "duration": 11627,
        "start_time": "2024-12-17T02:19:48.632Z"
      },
      {
        "duration": 6,
        "start_time": "2024-12-17T02:20:02.825Z"
      },
      {
        "duration": 3,
        "start_time": "2024-12-17T02:20:02.966Z"
      },
      {
        "duration": 916,
        "start_time": "2024-12-17T02:20:03.578Z"
      },
      {
        "duration": 129,
        "start_time": "2024-12-17T02:20:04.496Z"
      },
      {
        "duration": 2,
        "start_time": "2024-12-17T02:20:04.766Z"
      },
      {
        "duration": 3,
        "start_time": "2024-12-17T02:20:04.996Z"
      },
      {
        "duration": 4,
        "start_time": "2024-12-17T02:20:05.166Z"
      },
      {
        "duration": 2,
        "start_time": "2024-12-17T02:20:05.686Z"
      },
      {
        "duration": 243,
        "start_time": "2024-12-17T02:20:06.516Z"
      },
      {
        "duration": 284,
        "start_time": "2024-12-17T02:20:06.761Z"
      },
      {
        "duration": 255,
        "start_time": "2024-12-17T02:20:07.054Z"
      },
      {
        "duration": 1471,
        "start_time": "2024-12-17T02:20:07.366Z"
      },
      {
        "duration": 16,
        "start_time": "2024-12-17T02:20:08.839Z"
      },
      {
        "duration": 256,
        "start_time": "2024-12-17T02:20:08.857Z"
      },
      {
        "duration": 97,
        "start_time": "2024-12-17T02:20:09.115Z"
      },
      {
        "duration": 1579,
        "start_time": "2024-12-17T02:20:09.214Z"
      },
      {
        "duration": 86,
        "start_time": "2024-12-17T02:20:10.794Z"
      },
      {
        "duration": 5,
        "start_time": "2024-12-17T02:20:10.882Z"
      },
      {
        "duration": 8,
        "start_time": "2024-12-17T02:20:11.061Z"
      },
      {
        "duration": 42,
        "start_time": "2024-12-17T02:20:11.470Z"
      },
      {
        "duration": 1723,
        "start_time": "2024-12-17T02:20:11.638Z"
      },
      {
        "duration": 5,
        "start_time": "2024-12-17T02:20:13.363Z"
      },
      {
        "duration": 25,
        "start_time": "2024-12-17T02:20:13.370Z"
      },
      {
        "duration": 13680,
        "start_time": "2024-12-17T02:20:13.397Z"
      },
      {
        "duration": 15,
        "start_time": "2024-12-17T02:20:27.079Z"
      },
      {
        "duration": 152,
        "start_time": "2024-12-17T02:20:27.096Z"
      },
      {
        "duration": 2129,
        "start_time": "2024-12-17T02:20:27.250Z"
      },
      {
        "duration": 2952,
        "start_time": "2024-12-17T02:20:29.381Z"
      },
      {
        "duration": 26,
        "start_time": "2024-12-17T02:20:32.335Z"
      },
      {
        "duration": 25,
        "start_time": "2024-12-17T02:20:32.362Z"
      },
      {
        "duration": 1637,
        "start_time": "2024-12-17T02:20:32.390Z"
      },
      {
        "duration": 29,
        "start_time": "2024-12-17T02:20:34.029Z"
      },
      {
        "duration": 6318,
        "start_time": "2024-12-17T02:20:34.059Z"
      },
      {
        "duration": 13,
        "start_time": "2024-12-17T02:20:40.378Z"
      },
      {
        "duration": 81,
        "start_time": "2024-12-17T02:20:40.393Z"
      },
      {
        "duration": 2,
        "start_time": "2024-12-17T02:20:40.476Z"
      },
      {
        "duration": 86,
        "start_time": "2024-12-17T02:20:40.480Z"
      },
      {
        "duration": 3,
        "start_time": "2024-12-17T02:20:40.567Z"
      },
      {
        "duration": 26,
        "start_time": "2024-12-17T02:20:40.571Z"
      },
      {
        "duration": 16,
        "start_time": "2024-12-17T02:20:40.599Z"
      },
      {
        "duration": 20,
        "start_time": "2024-12-17T02:20:40.616Z"
      },
      {
        "duration": 19068,
        "start_time": "2024-12-17T02:20:44.086Z"
      },
      {
        "duration": 78129,
        "start_time": "2024-12-17T02:21:05.634Z"
      },
      {
        "duration": 1371,
        "start_time": "2024-12-17T02:22:35.783Z"
      },
      {
        "duration": 3,
        "start_time": "2024-12-17T02:22:38.059Z"
      },
      {
        "duration": 2,
        "start_time": "2024-12-17T02:22:40.535Z"
      },
      {
        "duration": 3,
        "start_time": "2024-12-17T02:22:42.559Z"
      },
      {
        "duration": 3,
        "start_time": "2024-12-17T02:22:43.290Z"
      },
      {
        "duration": 132,
        "start_time": "2024-12-17T02:22:44.785Z"
      },
      {
        "duration": 529877,
        "start_time": "2024-12-17T02:22:45.639Z"
      },
      {
        "duration": 11,
        "start_time": "2024-12-17T02:42:36.668Z"
      },
      {
        "duration": 27,
        "start_time": "2024-12-17T02:43:49.674Z"
      },
      {
        "duration": 4,
        "start_time": "2024-12-17T02:44:52.544Z"
      },
      {
        "duration": 3,
        "start_time": "2024-12-17T02:44:53.774Z"
      },
      {
        "duration": 875,
        "start_time": "2024-12-17T02:44:54.423Z"
      },
      {
        "duration": 116,
        "start_time": "2024-12-17T02:44:55.300Z"
      },
      {
        "duration": 2,
        "start_time": "2024-12-17T02:44:55.715Z"
      },
      {
        "duration": 3,
        "start_time": "2024-12-17T02:44:55.875Z"
      },
      {
        "duration": 3,
        "start_time": "2024-12-17T02:44:56.051Z"
      },
      {
        "duration": 2,
        "start_time": "2024-12-17T02:44:56.412Z"
      },
      {
        "duration": 227,
        "start_time": "2024-12-17T02:44:57.232Z"
      },
      {
        "duration": 253,
        "start_time": "2024-12-17T02:44:57.460Z"
      },
      {
        "duration": 263,
        "start_time": "2024-12-17T02:44:57.738Z"
      },
      {
        "duration": 1538,
        "start_time": "2024-12-17T02:44:58.148Z"
      },
      {
        "duration": 13,
        "start_time": "2024-12-17T02:44:59.687Z"
      },
      {
        "duration": 261,
        "start_time": "2024-12-17T02:44:59.701Z"
      },
      {
        "duration": 98,
        "start_time": "2024-12-17T02:44:59.963Z"
      },
      {
        "duration": 1534,
        "start_time": "2024-12-17T02:45:00.062Z"
      },
      {
        "duration": 90,
        "start_time": "2024-12-17T02:45:01.598Z"
      },
      {
        "duration": 5,
        "start_time": "2024-12-17T02:45:01.689Z"
      },
      {
        "duration": 72,
        "start_time": "2024-12-17T02:45:01.695Z"
      },
      {
        "duration": 38,
        "start_time": "2024-12-17T02:45:01.768Z"
      },
      {
        "duration": 1708,
        "start_time": "2024-12-17T02:45:01.808Z"
      },
      {
        "duration": 5,
        "start_time": "2024-12-17T02:45:03.518Z"
      },
      {
        "duration": 40,
        "start_time": "2024-12-17T02:45:03.525Z"
      },
      {
        "duration": 13732,
        "start_time": "2024-12-17T02:45:03.567Z"
      },
      {
        "duration": 14,
        "start_time": "2024-12-17T02:45:17.301Z"
      },
      {
        "duration": 140,
        "start_time": "2024-12-17T02:45:17.316Z"
      },
      {
        "duration": 2081,
        "start_time": "2024-12-17T02:45:17.458Z"
      },
      {
        "duration": 2988,
        "start_time": "2024-12-17T02:45:19.541Z"
      },
      {
        "duration": 23,
        "start_time": "2024-12-17T02:45:22.531Z"
      },
      {
        "duration": 29,
        "start_time": "2024-12-17T02:45:22.556Z"
      },
      {
        "duration": 1646,
        "start_time": "2024-12-17T02:45:22.587Z"
      },
      {
        "duration": 27,
        "start_time": "2024-12-17T02:45:24.235Z"
      },
      {
        "duration": 6312,
        "start_time": "2024-12-17T02:45:24.264Z"
      },
      {
        "duration": 15,
        "start_time": "2024-12-17T02:45:30.578Z"
      },
      {
        "duration": 95,
        "start_time": "2024-12-17T02:45:30.596Z"
      },
      {
        "duration": 9,
        "start_time": "2024-12-17T02:45:30.692Z"
      },
      {
        "duration": 79,
        "start_time": "2024-12-17T02:45:30.703Z"
      },
      {
        "duration": 3,
        "start_time": "2024-12-17T02:45:30.784Z"
      },
      {
        "duration": 30,
        "start_time": "2024-12-17T02:45:30.788Z"
      },
      {
        "duration": 29,
        "start_time": "2024-12-17T02:45:30.820Z"
      },
      {
        "duration": 2,
        "start_time": "2024-12-17T02:48:32.955Z"
      },
      {
        "duration": 19320,
        "start_time": "2024-12-17T02:48:33.235Z"
      },
      {
        "duration": 85689,
        "start_time": "2024-12-17T02:48:54.267Z"
      },
      {
        "duration": 1408,
        "start_time": "2024-12-17T02:51:58.354Z"
      },
      {
        "duration": 3,
        "start_time": "2024-12-17T02:52:08.418Z"
      },
      {
        "duration": 2,
        "start_time": "2024-12-17T02:52:10.535Z"
      },
      {
        "duration": 3,
        "start_time": "2024-12-17T02:52:12.164Z"
      },
      {
        "duration": 3,
        "start_time": "2024-12-17T02:52:12.497Z"
      },
      {
        "duration": 168,
        "start_time": "2024-12-17T02:52:14.379Z"
      },
      {
        "duration": 11636,
        "start_time": "2024-12-17T04:03:45.389Z"
      },
      {
        "duration": 6,
        "start_time": "2024-12-17T04:04:04.852Z"
      },
      {
        "duration": 3,
        "start_time": "2024-12-17T04:04:05.991Z"
      },
      {
        "duration": 893,
        "start_time": "2024-12-17T04:04:07.290Z"
      },
      {
        "duration": 122,
        "start_time": "2024-12-17T04:04:08.185Z"
      },
      {
        "duration": 2,
        "start_time": "2024-12-17T04:04:08.760Z"
      },
      {
        "duration": 3,
        "start_time": "2024-12-17T04:04:09.062Z"
      },
      {
        "duration": 5,
        "start_time": "2024-12-17T04:04:09.211Z"
      },
      {
        "duration": 3,
        "start_time": "2024-12-17T04:04:09.679Z"
      },
      {
        "duration": 238,
        "start_time": "2024-12-17T04:04:10.758Z"
      },
      {
        "duration": 271,
        "start_time": "2024-12-17T04:04:11.344Z"
      },
      {
        "duration": 275,
        "start_time": "2024-12-17T04:04:11.616Z"
      },
      {
        "duration": 1561,
        "start_time": "2024-12-17T04:04:11.893Z"
      },
      {
        "duration": 14,
        "start_time": "2024-12-17T04:04:13.456Z"
      },
      {
        "duration": 274,
        "start_time": "2024-12-17T04:04:13.471Z"
      },
      {
        "duration": 92,
        "start_time": "2024-12-17T04:04:13.753Z"
      },
      {
        "duration": 1623,
        "start_time": "2024-12-17T04:04:13.853Z"
      },
      {
        "duration": 96,
        "start_time": "2024-12-17T04:04:15.477Z"
      },
      {
        "duration": 5,
        "start_time": "2024-12-17T04:04:15.574Z"
      },
      {
        "duration": 11,
        "start_time": "2024-12-17T04:04:15.582Z"
      },
      {
        "duration": 66,
        "start_time": "2024-12-17T04:04:15.595Z"
      },
      {
        "duration": 1713,
        "start_time": "2024-12-17T04:04:15.662Z"
      },
      {
        "duration": 5,
        "start_time": "2024-12-17T04:04:17.377Z"
      },
      {
        "duration": 42,
        "start_time": "2024-12-17T04:04:17.383Z"
      },
      {
        "duration": 14239,
        "start_time": "2024-12-17T04:04:17.426Z"
      },
      {
        "duration": 15,
        "start_time": "2024-12-17T04:04:31.667Z"
      },
      {
        "duration": 147,
        "start_time": "2024-12-17T04:04:31.683Z"
      },
      {
        "duration": 2153,
        "start_time": "2024-12-17T04:04:31.831Z"
      },
      {
        "duration": 3170,
        "start_time": "2024-12-17T04:04:33.985Z"
      },
      {
        "duration": 17,
        "start_time": "2024-12-17T04:04:37.157Z"
      },
      {
        "duration": 30,
        "start_time": "2024-12-17T04:04:37.176Z"
      },
      {
        "duration": 1750,
        "start_time": "2024-12-17T04:04:37.208Z"
      },
      {
        "duration": 17,
        "start_time": "2024-12-17T04:04:38.961Z"
      },
      {
        "duration": 6520,
        "start_time": "2024-12-17T04:04:38.979Z"
      },
      {
        "duration": 14,
        "start_time": "2024-12-17T04:04:45.501Z"
      },
      {
        "duration": 89,
        "start_time": "2024-12-17T04:04:45.517Z"
      },
      {
        "duration": 3,
        "start_time": "2024-12-17T04:04:45.608Z"
      },
      {
        "duration": 81,
        "start_time": "2024-12-17T04:04:45.613Z"
      },
      {
        "duration": 4,
        "start_time": "2024-12-17T04:04:45.696Z"
      },
      {
        "duration": 25,
        "start_time": "2024-12-17T04:04:45.701Z"
      },
      {
        "duration": 13,
        "start_time": "2024-12-17T04:04:45.728Z"
      },
      {
        "duration": 8,
        "start_time": "2024-12-17T04:04:45.742Z"
      },
      {
        "duration": 23011,
        "start_time": "2024-12-17T04:04:45.752Z"
      },
      {
        "duration": 80409,
        "start_time": "2024-12-17T04:05:08.765Z"
      },
      {
        "duration": 1485,
        "start_time": "2024-12-17T04:06:29.175Z"
      },
      {
        "duration": 92,
        "start_time": "2024-12-17T04:06:30.663Z"
      },
      {
        "duration": 97,
        "start_time": "2024-12-17T04:06:30.757Z"
      },
      {
        "duration": 3,
        "start_time": "2024-12-17T04:08:13.648Z"
      },
      {
        "duration": 3,
        "start_time": "2024-12-17T04:08:14.929Z"
      },
      {
        "duration": 140,
        "start_time": "2024-12-17T04:08:16.553Z"
      },
      {
        "duration": 1032190,
        "start_time": "2024-12-17T04:08:17.689Z"
      },
      {
        "duration": 12571,
        "start_time": "2024-12-17T04:26:00.321Z"
      },
      {
        "duration": 1706,
        "start_time": "2024-12-17T04:32:18.442Z"
      },
      {
        "duration": 3,
        "start_time": "2024-12-17T04:32:31.266Z"
      },
      {
        "duration": 1012,
        "start_time": "2024-12-17T04:32:33.003Z"
      },
      {
        "duration": 132,
        "start_time": "2024-12-17T04:32:36.289Z"
      },
      {
        "duration": 2,
        "start_time": "2024-12-17T04:32:36.955Z"
      },
      {
        "duration": 3,
        "start_time": "2024-12-17T04:32:37.120Z"
      },
      {
        "duration": 4,
        "start_time": "2024-12-17T04:32:37.321Z"
      },
      {
        "duration": 2,
        "start_time": "2024-12-17T04:32:37.620Z"
      },
      {
        "duration": 308,
        "start_time": "2024-12-17T04:32:38.421Z"
      },
      {
        "duration": 337,
        "start_time": "2024-12-17T04:32:38.731Z"
      },
      {
        "duration": 333,
        "start_time": "2024-12-17T04:32:39.069Z"
      },
      {
        "duration": 1603,
        "start_time": "2024-12-17T04:32:39.403Z"
      },
      {
        "duration": 14,
        "start_time": "2024-12-17T04:32:41.008Z"
      },
      {
        "duration": 279,
        "start_time": "2024-12-17T04:32:41.024Z"
      },
      {
        "duration": 98,
        "start_time": "2024-12-17T04:32:41.306Z"
      },
      {
        "duration": 1695,
        "start_time": "2024-12-17T04:32:41.405Z"
      },
      {
        "duration": 97,
        "start_time": "2024-12-17T04:32:43.103Z"
      },
      {
        "duration": 6,
        "start_time": "2024-12-17T04:32:43.202Z"
      },
      {
        "duration": 40,
        "start_time": "2024-12-17T04:32:43.209Z"
      },
      {
        "duration": 79,
        "start_time": "2024-12-17T04:32:43.251Z"
      },
      {
        "duration": 1924,
        "start_time": "2024-12-17T04:32:43.332Z"
      },
      {
        "duration": 7,
        "start_time": "2024-12-17T04:32:45.259Z"
      },
      {
        "duration": 51,
        "start_time": "2024-12-17T04:32:45.267Z"
      },
      {
        "duration": 13804,
        "start_time": "2024-12-17T04:32:46.742Z"
      },
      {
        "duration": 16,
        "start_time": "2024-12-17T04:33:00.554Z"
      },
      {
        "duration": 174,
        "start_time": "2024-12-17T04:33:00.572Z"
      },
      {
        "duration": 2842,
        "start_time": "2024-12-17T04:33:00.749Z"
      },
      {
        "duration": 2187,
        "start_time": "2024-12-17T04:33:03.593Z"
      },
      {
        "duration": 15,
        "start_time": "2024-12-17T04:33:05.782Z"
      },
      {
        "duration": 46,
        "start_time": "2024-12-17T04:33:05.799Z"
      },
      {
        "duration": 1847,
        "start_time": "2024-12-17T04:33:05.846Z"
      },
      {
        "duration": 22,
        "start_time": "2024-12-17T04:33:07.695Z"
      },
      {
        "duration": 6273,
        "start_time": "2024-12-17T04:33:07.720Z"
      },
      {
        "duration": 19,
        "start_time": "2024-12-17T04:33:13.994Z"
      },
      {
        "duration": 97,
        "start_time": "2024-12-17T04:33:14.014Z"
      },
      {
        "duration": 3,
        "start_time": "2024-12-17T04:33:14.113Z"
      },
      {
        "duration": 78,
        "start_time": "2024-12-17T04:33:14.117Z"
      },
      {
        "duration": 2,
        "start_time": "2024-12-17T04:33:14.197Z"
      },
      {
        "duration": 39,
        "start_time": "2024-12-17T04:33:14.200Z"
      },
      {
        "duration": 3,
        "start_time": "2024-12-17T04:33:14.240Z"
      },
      {
        "duration": 3,
        "start_time": "2024-12-17T04:33:14.245Z"
      },
      {
        "duration": 20781,
        "start_time": "2024-12-17T04:33:21.273Z"
      },
      {
        "duration": 91718,
        "start_time": "2024-12-17T04:33:44.854Z"
      },
      {
        "duration": 1443,
        "start_time": "2024-12-17T04:35:33.712Z"
      },
      {
        "duration": 4,
        "start_time": "2024-12-17T04:35:35.158Z"
      },
      {
        "duration": 3,
        "start_time": "2024-12-17T04:35:38.239Z"
      },
      {
        "duration": 3,
        "start_time": "2024-12-17T04:35:40.250Z"
      },
      {
        "duration": 3,
        "start_time": "2024-12-17T04:35:41.834Z"
      },
      {
        "duration": 133,
        "start_time": "2024-12-17T04:35:43.293Z"
      },
      {
        "duration": 760759,
        "start_time": "2024-12-17T04:35:44.964Z"
      },
      {
        "duration": 1645,
        "start_time": "2024-12-17T04:48:56.782Z"
      },
      {
        "duration": 3,
        "start_time": "2024-12-17T04:49:01.942Z"
      },
      {
        "duration": 1013,
        "start_time": "2024-12-17T04:49:03.289Z"
      },
      {
        "duration": 174,
        "start_time": "2024-12-17T04:49:04.304Z"
      },
      {
        "duration": 2,
        "start_time": "2024-12-17T04:49:04.963Z"
      },
      {
        "duration": 4,
        "start_time": "2024-12-17T04:49:05.559Z"
      },
      {
        "duration": 4,
        "start_time": "2024-12-17T04:49:05.589Z"
      },
      {
        "duration": 2,
        "start_time": "2024-12-17T04:49:05.659Z"
      },
      {
        "duration": 300,
        "start_time": "2024-12-17T04:49:05.808Z"
      },
      {
        "duration": 324,
        "start_time": "2024-12-17T04:49:06.110Z"
      },
      {
        "duration": 379,
        "start_time": "2024-12-17T04:49:06.435Z"
      },
      {
        "duration": 1580,
        "start_time": "2024-12-17T04:49:06.817Z"
      },
      {
        "duration": 14,
        "start_time": "2024-12-17T04:49:08.398Z"
      },
      {
        "duration": 268,
        "start_time": "2024-12-17T04:49:08.414Z"
      },
      {
        "duration": 99,
        "start_time": "2024-12-17T04:49:08.683Z"
      },
      {
        "duration": 1704,
        "start_time": "2024-12-17T04:49:08.783Z"
      },
      {
        "duration": 93,
        "start_time": "2024-12-17T04:49:10.488Z"
      },
      {
        "duration": 4,
        "start_time": "2024-12-17T04:49:10.584Z"
      },
      {
        "duration": 84,
        "start_time": "2024-12-17T04:49:10.589Z"
      },
      {
        "duration": 78,
        "start_time": "2024-12-17T04:49:10.675Z"
      },
      {
        "duration": 1922,
        "start_time": "2024-12-17T04:49:10.754Z"
      },
      {
        "duration": 6,
        "start_time": "2024-12-17T04:49:12.678Z"
      },
      {
        "duration": 35,
        "start_time": "2024-12-17T04:49:12.685Z"
      },
      {
        "duration": 13626,
        "start_time": "2024-12-17T04:49:12.722Z"
      },
      {
        "duration": 15,
        "start_time": "2024-12-17T04:49:26.350Z"
      },
      {
        "duration": 162,
        "start_time": "2024-12-17T04:49:26.367Z"
      },
      {
        "duration": 2928,
        "start_time": "2024-12-17T04:49:26.530Z"
      },
      {
        "duration": 2123,
        "start_time": "2024-12-17T04:49:29.460Z"
      },
      {
        "duration": 14,
        "start_time": "2024-12-17T04:49:31.585Z"
      },
      {
        "duration": 41,
        "start_time": "2024-12-17T04:49:31.601Z"
      },
      {
        "duration": 1824,
        "start_time": "2024-12-17T04:49:31.644Z"
      },
      {
        "duration": 20,
        "start_time": "2024-12-17T04:49:33.469Z"
      },
      {
        "duration": 6420,
        "start_time": "2024-12-17T04:49:33.490Z"
      },
      {
        "duration": 17,
        "start_time": "2024-12-17T04:49:39.912Z"
      },
      {
        "duration": 86,
        "start_time": "2024-12-17T04:49:39.931Z"
      },
      {
        "duration": 15,
        "start_time": "2024-12-17T04:49:40.020Z"
      },
      {
        "duration": 79,
        "start_time": "2024-12-17T04:49:40.037Z"
      },
      {
        "duration": 3,
        "start_time": "2024-12-17T04:49:40.117Z"
      },
      {
        "duration": 7,
        "start_time": "2024-12-17T04:49:40.122Z"
      },
      {
        "duration": 5,
        "start_time": "2024-12-17T04:49:40.130Z"
      },
      {
        "duration": 3,
        "start_time": "2024-12-17T04:49:40.137Z"
      },
      {
        "duration": 19215,
        "start_time": "2024-12-17T04:49:51.540Z"
      },
      {
        "duration": 79743,
        "start_time": "2024-12-17T04:50:38.419Z"
      },
      {
        "duration": 1396,
        "start_time": "2024-12-17T04:52:33.559Z"
      },
      {
        "duration": 4,
        "start_time": "2024-12-17T04:52:35.521Z"
      },
      {
        "duration": 3,
        "start_time": "2024-12-17T04:52:37.659Z"
      },
      {
        "duration": 3,
        "start_time": "2024-12-17T04:52:39.540Z"
      },
      {
        "duration": 3,
        "start_time": "2024-12-17T04:52:39.930Z"
      },
      {
        "duration": 133,
        "start_time": "2024-12-17T04:52:40.992Z"
      },
      {
        "duration": 4,
        "start_time": "2024-12-17T06:04:09.954Z"
      },
      {
        "duration": 3,
        "start_time": "2024-12-17T06:04:15.173Z"
      },
      {
        "duration": 997,
        "start_time": "2024-12-17T06:04:15.997Z"
      },
      {
        "duration": 130,
        "start_time": "2024-12-17T06:04:16.996Z"
      },
      {
        "duration": 2,
        "start_time": "2024-12-17T06:04:17.735Z"
      },
      {
        "duration": 5,
        "start_time": "2024-12-17T06:04:17.743Z"
      },
      {
        "duration": 5,
        "start_time": "2024-12-17T06:04:17.772Z"
      },
      {
        "duration": 2,
        "start_time": "2024-12-17T06:04:17.841Z"
      },
      {
        "duration": 259,
        "start_time": "2024-12-17T06:04:17.995Z"
      },
      {
        "duration": 290,
        "start_time": "2024-12-17T06:04:18.255Z"
      },
      {
        "duration": 292,
        "start_time": "2024-12-17T06:04:18.547Z"
      },
      {
        "duration": 1661,
        "start_time": "2024-12-17T06:04:18.841Z"
      },
      {
        "duration": 13,
        "start_time": "2024-12-17T06:04:20.504Z"
      },
      {
        "duration": 280,
        "start_time": "2024-12-17T06:04:20.518Z"
      },
      {
        "duration": 105,
        "start_time": "2024-12-17T06:04:20.799Z"
      },
      {
        "duration": 1654,
        "start_time": "2024-12-17T06:04:20.905Z"
      },
      {
        "duration": 79,
        "start_time": "2024-12-17T06:04:22.561Z"
      },
      {
        "duration": 17,
        "start_time": "2024-12-17T06:04:22.643Z"
      },
      {
        "duration": 13,
        "start_time": "2024-12-17T06:04:22.662Z"
      },
      {
        "duration": 38,
        "start_time": "2024-12-17T06:04:22.676Z"
      },
      {
        "duration": 1946,
        "start_time": "2024-12-17T06:04:22.715Z"
      },
      {
        "duration": 8,
        "start_time": "2024-12-17T06:04:24.663Z"
      },
      {
        "duration": 33,
        "start_time": "2024-12-17T06:04:24.674Z"
      },
      {
        "duration": 14661,
        "start_time": "2024-12-17T06:04:24.708Z"
      },
      {
        "duration": 16,
        "start_time": "2024-12-17T06:04:39.371Z"
      },
      {
        "duration": 150,
        "start_time": "2024-12-17T06:04:39.389Z"
      },
      {
        "duration": 2482,
        "start_time": "2024-12-17T06:04:39.541Z"
      },
      {
        "duration": 2192,
        "start_time": "2024-12-17T06:04:42.024Z"
      },
      {
        "duration": 15,
        "start_time": "2024-12-17T06:04:44.217Z"
      },
      {
        "duration": 47,
        "start_time": "2024-12-17T06:04:44.233Z"
      },
      {
        "duration": 1910,
        "start_time": "2024-12-17T06:04:44.282Z"
      },
      {
        "duration": 17,
        "start_time": "2024-12-17T06:04:46.194Z"
      },
      {
        "duration": 6912,
        "start_time": "2024-12-17T06:04:46.212Z"
      },
      {
        "duration": 15,
        "start_time": "2024-12-17T06:04:53.125Z"
      },
      {
        "duration": 86,
        "start_time": "2024-12-17T06:04:53.141Z"
      },
      {
        "duration": 5,
        "start_time": "2024-12-17T06:04:53.230Z"
      },
      {
        "duration": 86,
        "start_time": "2024-12-17T06:04:53.237Z"
      },
      {
        "duration": 2,
        "start_time": "2024-12-17T06:04:53.325Z"
      },
      {
        "duration": 15,
        "start_time": "2024-12-17T06:04:53.328Z"
      },
      {
        "duration": 8,
        "start_time": "2024-12-17T06:04:53.345Z"
      },
      {
        "duration": 36,
        "start_time": "2024-12-17T06:04:53.356Z"
      },
      {
        "duration": 22771,
        "start_time": "2024-12-17T06:04:53.393Z"
      },
      {
        "duration": 88995,
        "start_time": "2024-12-17T06:05:16.166Z"
      },
      {
        "duration": 1598,
        "start_time": "2024-12-17T06:06:45.163Z"
      },
      {
        "duration": 85,
        "start_time": "2024-12-17T06:06:46.769Z"
      },
      {
        "duration": 2,
        "start_time": "2024-12-17T06:06:57.402Z"
      },
      {
        "duration": 2,
        "start_time": "2024-12-17T06:06:58.955Z"
      },
      {
        "duration": 4,
        "start_time": "2024-12-17T06:06:59.263Z"
      },
      {
        "duration": 160,
        "start_time": "2024-12-17T06:07:00.294Z"
      },
      {
        "duration": 767597,
        "start_time": "2024-12-17T06:07:01.324Z"
      },
      {
        "duration": 10,
        "start_time": "2024-12-17T06:22:56.786Z"
      },
      {
        "duration": 90,
        "start_time": "2024-12-17T06:23:07.766Z"
      },
      {
        "duration": 10,
        "start_time": "2024-12-17T06:23:30.855Z"
      },
      {
        "duration": 10,
        "start_time": "2024-12-17T06:23:35.284Z"
      },
      {
        "duration": 27,
        "start_time": "2024-12-17T06:23:42.134Z"
      },
      {
        "duration": 23,
        "start_time": "2024-12-17T06:24:50.172Z"
      },
      {
        "duration": 19,
        "start_time": "2024-12-17T06:25:31.791Z"
      },
      {
        "duration": 7,
        "start_time": "2024-12-17T06:26:38.042Z"
      },
      {
        "duration": 9,
        "start_time": "2024-12-17T06:27:36.374Z"
      },
      {
        "duration": 9,
        "start_time": "2024-12-17T06:28:44.285Z"
      },
      {
        "duration": 11,
        "start_time": "2024-12-17T06:36:52.567Z"
      },
      {
        "duration": 6,
        "start_time": "2024-12-17T06:38:07.972Z"
      },
      {
        "duration": 4,
        "start_time": "2024-12-17T06:38:20.601Z"
      },
      {
        "duration": 7,
        "start_time": "2024-12-17T06:39:54.788Z"
      },
      {
        "duration": 7,
        "start_time": "2024-12-17T06:40:18.210Z"
      },
      {
        "duration": 5,
        "start_time": "2024-12-17T06:40:43.834Z"
      },
      {
        "duration": 5,
        "start_time": "2024-12-17T06:40:47.353Z"
      },
      {
        "duration": 4,
        "start_time": "2024-12-17T06:40:53.811Z"
      },
      {
        "duration": 8,
        "start_time": "2024-12-17T06:41:18.036Z"
      },
      {
        "duration": 7,
        "start_time": "2024-12-17T06:43:20.503Z"
      },
      {
        "duration": 7,
        "start_time": "2024-12-17T06:43:24.857Z"
      },
      {
        "duration": 6,
        "start_time": "2024-12-17T06:43:36.655Z"
      },
      {
        "duration": 3,
        "start_time": "2024-12-17T06:43:39.336Z"
      },
      {
        "duration": 7,
        "start_time": "2024-12-17T06:44:10.061Z"
      },
      {
        "duration": 3,
        "start_time": "2024-12-17T06:45:25.421Z"
      },
      {
        "duration": 4,
        "start_time": "2024-12-17T06:45:47.808Z"
      },
      {
        "duration": 4,
        "start_time": "2024-12-17T06:45:54.255Z"
      },
      {
        "duration": 4,
        "start_time": "2024-12-17T06:46:27.111Z"
      },
      {
        "duration": 4,
        "start_time": "2024-12-17T06:46:49.354Z"
      },
      {
        "duration": 2,
        "start_time": "2024-12-17T06:48:33.376Z"
      },
      {
        "duration": 23141,
        "start_time": "2024-12-17T06:49:42.513Z"
      },
      {
        "duration": 1469,
        "start_time": "2024-12-17T06:50:09.985Z"
      },
      {
        "duration": 4,
        "start_time": "2024-12-17T06:50:12.146Z"
      },
      {
        "duration": 24,
        "start_time": "2024-12-17T06:51:02.392Z"
      },
      {
        "duration": 244,
        "start_time": "2024-12-17T06:51:04.623Z"
      },
      {
        "duration": 3,
        "start_time": "2024-12-17T06:51:06.342Z"
      },
      {
        "duration": 3,
        "start_time": "2024-12-17T06:51:08.815Z"
      },
      {
        "duration": 907522,
        "start_time": "2024-12-17T06:51:11.255Z"
      },
      {
        "duration": 7,
        "start_time": "2024-12-17T07:07:19.031Z"
      },
      {
        "duration": 3,
        "start_time": "2024-12-17T07:07:43.975Z"
      },
      {
        "duration": 16,
        "start_time": "2024-12-17T07:08:08.430Z"
      },
      {
        "duration": 3,
        "start_time": "2024-12-17T07:08:23.295Z"
      },
      {
        "duration": 10,
        "start_time": "2024-12-17T07:09:24.574Z"
      },
      {
        "duration": 9,
        "start_time": "2024-12-17T07:10:24.010Z"
      },
      {
        "duration": 16,
        "start_time": "2024-12-17T07:10:52.062Z"
      },
      {
        "duration": 7,
        "start_time": "2024-12-17T07:12:12.336Z"
      },
      {
        "duration": 7,
        "start_time": "2024-12-17T07:13:54.570Z"
      },
      {
        "duration": 4,
        "start_time": "2024-12-17T07:14:17.821Z"
      },
      {
        "duration": 4,
        "start_time": "2024-12-17T07:14:32.191Z"
      },
      {
        "duration": 2,
        "start_time": "2024-12-17T07:15:29.300Z"
      },
      {
        "duration": 28666,
        "start_time": "2024-12-17T07:15:29.911Z"
      },
      {
        "duration": 1341,
        "start_time": "2024-12-17T07:16:02.616Z"
      },
      {
        "duration": 4,
        "start_time": "2024-12-17T07:16:05.969Z"
      },
      {
        "duration": 3,
        "start_time": "2024-12-17T07:16:13.230Z"
      },
      {
        "duration": 26679,
        "start_time": "2024-12-17T07:16:13.902Z"
      },
      {
        "duration": 1317,
        "start_time": "2024-12-17T07:16:47.950Z"
      },
      {
        "duration": 7,
        "start_time": "2024-12-17T07:16:49.952Z"
      },
      {
        "duration": 3,
        "start_time": "2024-12-17T07:17:07.575Z"
      },
      {
        "duration": 27535,
        "start_time": "2024-12-17T07:17:08.135Z"
      },
      {
        "duration": 3,
        "start_time": "2024-12-17T07:17:41.812Z"
      },
      {
        "duration": 2,
        "start_time": "2024-12-17T07:18:03.328Z"
      },
      {
        "duration": 4,
        "start_time": "2024-12-17T07:19:51.495Z"
      },
      {
        "duration": 3,
        "start_time": "2024-12-17T07:19:51.822Z"
      },
      {
        "duration": 3,
        "start_time": "2024-12-17T07:19:52.231Z"
      },
      {
        "duration": 3,
        "start_time": "2024-12-17T07:19:53.511Z"
      },
      {
        "duration": 34426,
        "start_time": "2024-12-17T07:19:55.231Z"
      },
      {
        "duration": 1369,
        "start_time": "2024-12-17T07:20:33.695Z"
      },
      {
        "duration": 4,
        "start_time": "2024-12-17T07:20:36.769Z"
      },
      {
        "duration": 26630,
        "start_time": "2024-12-17T07:20:57.140Z"
      },
      {
        "duration": 3,
        "start_time": "2024-12-17T07:21:30.631Z"
      },
      {
        "duration": 28011,
        "start_time": "2024-12-17T07:22:13.666Z"
      },
      {
        "duration": 3,
        "start_time": "2024-12-17T07:22:48.901Z"
      },
      {
        "duration": 12,
        "start_time": "2024-12-17T07:24:44.862Z"
      },
      {
        "duration": 27527,
        "start_time": "2024-12-17T07:24:56.344Z"
      },
      {
        "duration": 1335,
        "start_time": "2024-12-17T07:25:30.942Z"
      },
      {
        "duration": 4,
        "start_time": "2024-12-17T07:25:33.470Z"
      },
      {
        "duration": 10,
        "start_time": "2024-12-17T07:26:02.130Z"
      },
      {
        "duration": 5,
        "start_time": "2024-12-17T07:26:09.991Z"
      },
      {
        "duration": 7,
        "start_time": "2024-12-17T07:26:43.176Z"
      },
      {
        "duration": 5,
        "start_time": "2024-12-17T07:27:03.030Z"
      },
      {
        "duration": 8,
        "start_time": "2024-12-17T07:27:03.781Z"
      },
      {
        "duration": 2,
        "start_time": "2024-12-17T07:30:22.015Z"
      },
      {
        "duration": 26926,
        "start_time": "2024-12-17T07:30:22.229Z"
      },
      {
        "duration": 1348,
        "start_time": "2024-12-17T07:30:54.706Z"
      },
      {
        "duration": 14,
        "start_time": "2024-12-17T07:30:56.057Z"
      },
      {
        "duration": 4,
        "start_time": "2024-12-17T07:31:21.744Z"
      },
      {
        "duration": 10,
        "start_time": "2024-12-17T07:31:22.272Z"
      },
      {
        "duration": 45,
        "start_time": "2024-12-17T07:44:11.969Z"
      },
      {
        "duration": 6,
        "start_time": "2024-12-17T07:44:52.401Z"
      },
      {
        "duration": 1747,
        "start_time": "2024-12-17T07:45:05.127Z"
      },
      {
        "duration": 83,
        "start_time": "2024-12-17T07:45:21.141Z"
      },
      {
        "duration": 5,
        "start_time": "2024-12-17T07:45:40.894Z"
      },
      {
        "duration": 3,
        "start_time": "2024-12-17T07:45:41.664Z"
      },
      {
        "duration": 1064,
        "start_time": "2024-12-17T07:45:42.575Z"
      },
      {
        "duration": 148,
        "start_time": "2024-12-17T07:45:43.641Z"
      },
      {
        "duration": 2,
        "start_time": "2024-12-17T07:45:43.791Z"
      },
      {
        "duration": 7,
        "start_time": "2024-12-17T07:45:43.794Z"
      },
      {
        "duration": 6,
        "start_time": "2024-12-17T07:45:43.803Z"
      },
      {
        "duration": 2,
        "start_time": "2024-12-17T07:45:43.828Z"
      },
      {
        "duration": 331,
        "start_time": "2024-12-17T07:45:43.988Z"
      },
      {
        "duration": 371,
        "start_time": "2024-12-17T07:45:44.321Z"
      },
      {
        "duration": 381,
        "start_time": "2024-12-17T07:45:44.694Z"
      },
      {
        "duration": 1758,
        "start_time": "2024-12-17T07:45:45.077Z"
      },
      {
        "duration": 22,
        "start_time": "2024-12-17T07:45:46.836Z"
      },
      {
        "duration": 291,
        "start_time": "2024-12-17T07:45:46.867Z"
      },
      {
        "duration": 95,
        "start_time": "2024-12-17T07:45:47.160Z"
      },
      {
        "duration": 1757,
        "start_time": "2024-12-17T07:45:47.257Z"
      },
      {
        "duration": 106,
        "start_time": "2024-12-17T07:45:49.016Z"
      },
      {
        "duration": 4,
        "start_time": "2024-12-17T07:45:49.125Z"
      },
      {
        "duration": 24,
        "start_time": "2024-12-17T07:45:49.131Z"
      },
      {
        "duration": 79,
        "start_time": "2024-12-17T07:45:49.157Z"
      },
      {
        "duration": 2037,
        "start_time": "2024-12-17T07:45:49.238Z"
      },
      {
        "duration": 5,
        "start_time": "2024-12-17T07:45:51.277Z"
      },
      {
        "duration": 42,
        "start_time": "2024-12-17T07:45:51.284Z"
      },
      {
        "duration": 15080,
        "start_time": "2024-12-17T07:45:51.328Z"
      },
      {
        "duration": 14,
        "start_time": "2024-12-17T07:46:06.410Z"
      },
      {
        "duration": 195,
        "start_time": "2024-12-17T07:46:06.426Z"
      },
      {
        "duration": 2982,
        "start_time": "2024-12-17T07:46:06.623Z"
      },
      {
        "duration": 2221,
        "start_time": "2024-12-17T07:46:09.607Z"
      },
      {
        "duration": 26,
        "start_time": "2024-12-17T07:46:11.829Z"
      },
      {
        "duration": 33,
        "start_time": "2024-12-17T07:46:11.857Z"
      },
      {
        "duration": 1915,
        "start_time": "2024-12-17T07:46:11.891Z"
      },
      {
        "duration": 17,
        "start_time": "2024-12-17T07:46:13.808Z"
      },
      {
        "duration": 6939,
        "start_time": "2024-12-17T07:46:13.826Z"
      },
      {
        "duration": 17,
        "start_time": "2024-12-17T07:46:20.770Z"
      },
      {
        "duration": 91,
        "start_time": "2024-12-17T07:46:20.789Z"
      },
      {
        "duration": 34,
        "start_time": "2024-12-17T07:46:20.882Z"
      },
      {
        "duration": 75,
        "start_time": "2024-12-17T07:46:20.918Z"
      },
      {
        "duration": 11,
        "start_time": "2024-12-17T07:46:20.995Z"
      },
      {
        "duration": 3,
        "start_time": "2024-12-17T07:46:32.614Z"
      },
      {
        "duration": 3,
        "start_time": "2024-12-17T07:46:33.121Z"
      },
      {
        "duration": 3,
        "start_time": "2024-12-17T07:46:33.807Z"
      },
      {
        "duration": 4,
        "start_time": "2024-12-17T07:46:34.863Z"
      },
      {
        "duration": 21868,
        "start_time": "2024-12-17T07:46:35.294Z"
      },
      {
        "duration": 89819,
        "start_time": "2024-12-17T07:46:59.736Z"
      },
      {
        "duration": 1458,
        "start_time": "2024-12-17T07:48:33.504Z"
      },
      {
        "duration": 12,
        "start_time": "2024-12-17T07:48:35.543Z"
      },
      {
        "duration": 3,
        "start_time": "2024-12-17T07:48:46.349Z"
      },
      {
        "duration": 3,
        "start_time": "2024-12-17T07:49:03.822Z"
      },
      {
        "duration": 3,
        "start_time": "2024-12-17T07:49:04.186Z"
      },
      {
        "duration": 133,
        "start_time": "2024-12-17T07:49:05.289Z"
      },
      {
        "duration": 959112,
        "start_time": "2024-12-17T07:49:06.362Z"
      },
      {
        "duration": 8,
        "start_time": "2024-12-17T08:05:22.562Z"
      },
      {
        "duration": 5,
        "start_time": "2024-12-17T08:05:35.625Z"
      },
      {
        "duration": 2,
        "start_time": "2024-12-17T08:05:36.759Z"
      },
      {
        "duration": 25,
        "start_time": "2024-12-17T08:05:39.880Z"
      },
      {
        "duration": 250,
        "start_time": "2024-12-17T08:05:41.109Z"
      },
      {
        "duration": 2,
        "start_time": "2024-12-17T08:05:41.943Z"
      },
      {
        "duration": 2,
        "start_time": "2024-12-17T08:05:43.188Z"
      },
      {
        "duration": 918888,
        "start_time": "2024-12-17T08:05:44.979Z"
      },
      {
        "duration": 4,
        "start_time": "2024-12-17T08:25:49.792Z"
      },
      {
        "duration": 7,
        "start_time": "2024-12-17T08:25:51.236Z"
      },
      {
        "duration": 4,
        "start_time": "2024-12-17T08:25:52.839Z"
      },
      {
        "duration": 2,
        "start_time": "2024-12-17T08:25:53.059Z"
      },
      {
        "duration": 4,
        "start_time": "2024-12-17T08:26:32.587Z"
      },
      {
        "duration": 8,
        "start_time": "2024-12-17T08:26:33.282Z"
      },
      {
        "duration": 9,
        "start_time": "2024-12-17T08:27:28.516Z"
      },
      {
        "duration": 3378,
        "start_time": "2024-12-17T08:28:20.311Z"
      },
      {
        "duration": 105,
        "start_time": "2024-12-17T08:29:07.471Z"
      },
      {
        "duration": 3394,
        "start_time": "2024-12-17T08:29:43.906Z"
      },
      {
        "duration": 3420,
        "start_time": "2024-12-17T08:30:00.152Z"
      }
    ],
    "kernelspec": {
      "display_name": "Python 3 (ipykernel)",
      "language": "python",
      "name": "python3"
    },
    "language_info": {
      "codemirror_mode": {
        "name": "ipython",
        "version": 3
      },
      "file_extension": ".py",
      "mimetype": "text/x-python",
      "name": "python",
      "nbconvert_exporter": "python",
      "pygments_lexer": "ipython3",
      "version": "3.9.5"
    },
    "toc": {
      "base_numbering": 1,
      "nav_menu": {},
      "number_sections": true,
      "sideBar": true,
      "skip_h1_title": true,
      "title_cell": "Table of Contents",
      "title_sidebar": "Contents",
      "toc_cell": false,
      "toc_position": {},
      "toc_section_display": true,
      "toc_window_display": false
    },
    "colab": {
      "provenance": []
    }
  },
  "nbformat": 4,
  "nbformat_minor": 0
}